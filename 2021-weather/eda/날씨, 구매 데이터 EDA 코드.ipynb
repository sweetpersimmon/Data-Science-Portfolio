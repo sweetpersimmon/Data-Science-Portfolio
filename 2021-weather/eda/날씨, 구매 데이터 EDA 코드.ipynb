{
 "cells": [
  {
   "cell_type": "code",
   "execution_count": 1,
   "metadata": {
    "ExecuteTime": {
     "end_time": "2021-06-27T14:26:27.002787Z",
     "start_time": "2021-06-27T14:26:24.535312Z"
    }
   },
   "outputs": [],
   "source": [
    "import pandas as pd\n",
    "import numpy as np\n",
    "import seaborn as sns\n",
    "import matplotlib.pyplot as plt\n",
    "import matplotlib\n",
    "import glob\n",
    "import os\n",
    "\n",
    "from scipy.stats import trim_mean\n",
    "from statsmodels import robust\n",
    "from matplotlib import font_manager, rc\n",
    "%matplotlib inline\n",
    "from matplotlib import cm \n",
    "\n",
    "%matplotlib inline\n",
    "\n",
    "# 한글 폰트 설정\n",
    "import platform\n",
    "your_os = platform.system()\n",
    "if your_os == 'Linux':\n",
    "    rc('font', family='NanumGothic')\n",
    "elif your_os == 'Windows':\n",
    "    ttf = \"c:/Windows/Fonts/malgun.ttf\"\n",
    "    font_name = font_manager.FontProperties(fname=ttf).get_name()\n",
    "    rc('font', family=font_name)\n",
    "elif your_os == 'Darwin':\n",
    "    rc('font', family='AppleGothic')\n",
    "rc('axes', unicode_minus=False)"
   ]
  },
  {
   "cell_type": "code",
   "execution_count": 2,
   "metadata": {
    "ExecuteTime": {
     "end_time": "2021-06-27T14:26:29.985818Z",
     "start_time": "2021-06-27T14:26:27.008767Z"
    }
   },
   "outputs": [],
   "source": [
    "input_file = r'C:\\Users\\ghdwl\\OneDrive\\바탕 화면\\날씨 콘테스트\\data' \n",
    "\n",
    "all_file_list = glob.glob(os.path.join(input_file, 'buy*'))\n",
    "all_data = [] \n",
    "\n",
    "for file in all_file_list:\n",
    "    df = pd.read_csv(file) \n",
    "    df.columns = ['num','data','sex','age','big_cat','sm_cat','qty']\n",
    "    all_data.append(df)\n",
    "    \n",
    "buy_data = pd.concat(all_data, axis=0, ignore_index=True)\n"
   ]
  },
  {
   "cell_type": "code",
   "execution_count": 3,
   "metadata": {
    "ExecuteTime": {
     "end_time": "2021-06-27T14:26:48.457455Z",
     "start_time": "2021-06-27T14:26:29.985818Z"
    },
    "scrolled": true
   },
   "outputs": [
    {
     "data": {
      "text/html": [
       "<div>\n",
       "<style scoped>\n",
       "    .dataframe tbody tr th:only-of-type {\n",
       "        vertical-align: middle;\n",
       "    }\n",
       "\n",
       "    .dataframe tbody tr th {\n",
       "        vertical-align: top;\n",
       "    }\n",
       "\n",
       "    .dataframe thead th {\n",
       "        text-align: right;\n",
       "    }\n",
       "</style>\n",
       "<table border=\"1\" class=\"dataframe\">\n",
       "  <thead>\n",
       "    <tr style=\"text-align: right;\">\n",
       "      <th></th>\n",
       "      <th>num</th>\n",
       "      <th>data</th>\n",
       "      <th>sex</th>\n",
       "      <th>age</th>\n",
       "      <th>big_cat</th>\n",
       "      <th>sm_cat</th>\n",
       "      <th>qty</th>\n",
       "      <th>year</th>\n",
       "      <th>month</th>\n",
       "      <th>day</th>\n",
       "      <th>Day_of_week</th>\n",
       "    </tr>\n",
       "  </thead>\n",
       "  <tbody>\n",
       "    <tr>\n",
       "      <th>0</th>\n",
       "      <td>1</td>\n",
       "      <td>20180101</td>\n",
       "      <td>F</td>\n",
       "      <td>20</td>\n",
       "      <td>식품</td>\n",
       "      <td>가공란</td>\n",
       "      <td>37.0</td>\n",
       "      <td>2018</td>\n",
       "      <td>1</td>\n",
       "      <td>1</td>\n",
       "      <td>월</td>\n",
       "    </tr>\n",
       "    <tr>\n",
       "      <th>1</th>\n",
       "      <td>2</td>\n",
       "      <td>20180101</td>\n",
       "      <td>F</td>\n",
       "      <td>30</td>\n",
       "      <td>식품</td>\n",
       "      <td>가공란</td>\n",
       "      <td>16.0</td>\n",
       "      <td>2018</td>\n",
       "      <td>1</td>\n",
       "      <td>1</td>\n",
       "      <td>월</td>\n",
       "    </tr>\n",
       "    <tr>\n",
       "      <th>2</th>\n",
       "      <td>3</td>\n",
       "      <td>20180101</td>\n",
       "      <td>F</td>\n",
       "      <td>40</td>\n",
       "      <td>식품</td>\n",
       "      <td>가공란</td>\n",
       "      <td>9.0</td>\n",
       "      <td>2018</td>\n",
       "      <td>1</td>\n",
       "      <td>1</td>\n",
       "      <td>월</td>\n",
       "    </tr>\n",
       "    <tr>\n",
       "      <th>3</th>\n",
       "      <td>4</td>\n",
       "      <td>20180101</td>\n",
       "      <td>F</td>\n",
       "      <td>50</td>\n",
       "      <td>식품</td>\n",
       "      <td>가공란</td>\n",
       "      <td>3.0</td>\n",
       "      <td>2018</td>\n",
       "      <td>1</td>\n",
       "      <td>1</td>\n",
       "      <td>월</td>\n",
       "    </tr>\n",
       "    <tr>\n",
       "      <th>4</th>\n",
       "      <td>5</td>\n",
       "      <td>20180101</td>\n",
       "      <td>M</td>\n",
       "      <td>20</td>\n",
       "      <td>식품</td>\n",
       "      <td>가공란</td>\n",
       "      <td>13.0</td>\n",
       "      <td>2018</td>\n",
       "      <td>1</td>\n",
       "      <td>1</td>\n",
       "      <td>월</td>\n",
       "    </tr>\n",
       "  </tbody>\n",
       "</table>\n",
       "</div>"
      ],
      "text/plain": [
       "   num      data sex  age big_cat sm_cat   qty  year  month  day Day_of_week\n",
       "0    1  20180101   F   20      식품    가공란  37.0  2018      1    1           월\n",
       "1    2  20180101   F   30      식품    가공란  16.0  2018      1    1           월\n",
       "2    3  20180101   F   40      식품    가공란   9.0  2018      1    1           월\n",
       "3    4  20180101   F   50      식품    가공란   3.0  2018      1    1           월\n",
       "4    5  20180101   M   20      식품    가공란  13.0  2018      1    1           월"
      ]
     },
     "execution_count": 3,
     "metadata": {},
     "output_type": "execute_result"
    }
   ],
   "source": [
    "buy_data['year'] = buy_data['data'].astype('str').astype('datetime64').dt.year\n",
    "buy_data['month'] = buy_data['data'].astype('str').astype('datetime64').dt.month\n",
    "buy_data['day'] = buy_data['data'].astype('str').astype('datetime64').dt.day\n",
    "buy_data['Day_of_week'] = (buy_data['data'].astype('str').astype('datetime64').\n",
    "                           apply(lambda x: ('월','화','수','목','금','토','일')[x.weekday()]))\n",
    "buy_data.head()"
   ]
  },
  {
   "cell_type": "markdown",
   "metadata": {},
   "source": [
    "# 대분류 상품 구매비율"
   ]
  },
  {
   "cell_type": "code",
   "execution_count": 7,
   "metadata": {
    "ExecuteTime": {
     "end_time": "2021-06-27T14:27:42.395405Z",
     "start_time": "2021-06-27T14:27:42.105734Z"
    }
   },
   "outputs": [
    {
     "data": {
      "image/png": "[encoded data removed]",
      "text/plain": [
       "<Figure size 360x360 with 1 Axes>"
      ]
     },
     "metadata": {},
     "output_type": "display_data"
    }
   ],
   "source": [
    "colors1 = matplotlib.cm.get_cmap('tab20c')(np.arange(3))\n",
    "plt.figure(figsize = (5,5))\n",
    "(buy_data.groupby(['big_cat'])['qty'].sum()/1e7).plot.pie(autopct = \"%.1f%%\",  startangle = 45, colors = colors1, explode = (0.5,0, 0))\n",
    "plt.title(\"대분류 구매비율\")\n",
    "plt.show()"
   ]
  },
  {
   "cell_type": "markdown",
   "metadata": {},
   "source": [
    "# 대분류 구매성별 구매량/비율"
   ]
  },
  {
   "cell_type": "code",
   "execution_count": 43,
   "metadata": {
    "ExecuteTime": {
     "end_time": "2021-06-27T15:08:42.599842Z",
     "start_time": "2021-06-27T15:08:40.788839Z"
    }
   },
   "outputs": [
    {
     "data": {
      "text/plain": [
       "Text(0, 0.5, '구매건수')"
      ]
     },
     "execution_count": 43,
     "metadata": {},
     "output_type": "execute_result"
    },
    {
     "data": {
      "image/png": "[encoded data removed]",
      "text/plain": [
       "<Figure size 576x432 with 1 Axes>"
      ]
     },
     "metadata": {
      "needs_background": "light"
     },
     "output_type": "display_data"
    }
   ],
   "source": [
    "big_sex_pivot = buy_data.pivot_table(index='big_cat',columns='sex',values='qty', aggfunc='sum',margins=True)\n",
    "\n",
    "plt.figure(figsize = (8,6))\n",
    "colors1 = sns.color_palette(\"Blues\", n_colors=2)\n",
    "(big_sex_pivot.iloc[-1,:-1]/ 1e7).plot.bar(color = colors1, rot = 0)\n",
    "plt.title(\"성별 구매건수(단위: 천만 건)\")\n",
    "plt.xlabel('성별')\n",
    "plt.ylabel('구매건수')"
   ]
  },
  {
   "cell_type": "code",
   "execution_count": 28,
   "metadata": {
    "ExecuteTime": {
     "end_time": "2021-06-27T14:53:06.485720Z",
     "start_time": "2021-06-27T14:53:04.465065Z"
    }
   },
   "outputs": [
    {
     "name": "stderr",
     "output_type": "stream",
     "text": [
      "C:\\Users\\ghdwl\\anaconda3\\lib\\site-packages\\pandas\\plotting\\_matplotlib\\tools.py:331: MatplotlibDeprecationWarning: \n",
      "The is_first_col function was deprecated in Matplotlib 3.4 and will be removed two minor releases later. Use ax.get_subplotspec().is_first_col() instead.\n",
      "  if ax.is_first_col():\n"
     ]
    },
    {
     "data": {
      "image/png": "[encoded data removed]",
      "text/plain": [
       "<Figure size 720x504 with 3 Axes>"
      ]
     },
     "metadata": {},
     "output_type": "display_data"
    }
   ],
   "source": [
    "fig, axes = plt.subplots(3,1, figsize = (10,7))\n",
    "colors1 = sns.color_palette(\"Blues\", n_colors=2)\n",
    "big_sex_pivot = buy_data.pivot_table(index='big_cat',columns='sex',values='qty', aggfunc='sum',margins=True)\n",
    "big_sex_pivot.iloc[0,:-1].plot.pie(autopct = \"%.1f%%\",  startangle = 45, colors = colors1, ax=axes[0])\n",
    "big_sex_pivot.iloc[1,:-1].plot.pie(autopct = \"%.1f%%\",  startangle = 45, colors = colors1, ax=axes[1])\n",
    "big_sex_pivot.iloc[2,:-1].plot.pie(autopct = \"%.1f%%\",  startangle = 45, colors = colors1, ax=axes[2])\n",
    "\n",
    "plt.tight_layout()\n",
    "\n",
    "axes[0].set_title(\"냉난방가전 구매 성별 비율(구매건수)\")\n",
    "axes[1].set_title(\"뷰티 구매 성별 비율(구매건수)\")\n",
    "axes[2].set_title(\"식품 구매 성별 비율(구매건수)\")\n",
    "\n",
    "plt.show()"
   ]
  },
  {
   "cell_type": "markdown",
   "metadata": {},
   "source": [
    "# 나이별 대분류 구매비율"
   ]
  },
  {
   "cell_type": "code",
   "execution_count": 13,
   "metadata": {
    "ExecuteTime": {
     "end_time": "2021-06-27T14:40:32.586533Z",
     "start_time": "2021-06-27T14:40:31.327515Z"
    }
   },
   "outputs": [],
   "source": [
    "big_age_pivot = buy_data.pivot_table(index='big_cat',columns='age',values='qty', aggfunc='sum',margins=True)"
   ]
  },
  {
   "cell_type": "code",
   "execution_count": 26,
   "metadata": {
    "ExecuteTime": {
     "end_time": "2021-06-27T14:51:41.398733Z",
     "start_time": "2021-06-27T14:51:41.382776Z"
    }
   },
   "outputs": [],
   "source": [
    "colors = sns.color_palette(\"Blues\", n_colors=3)"
   ]
  },
  {
   "cell_type": "code",
   "execution_count": 39,
   "metadata": {
    "ExecuteTime": {
     "end_time": "2021-06-27T15:05:46.940804Z",
     "start_time": "2021-06-27T15:05:46.787326Z"
    }
   },
   "outputs": [
    {
     "data": {
      "text/plain": [
       "<Figure size 864x864 with 0 Axes>"
      ]
     },
     "metadata": {},
     "output_type": "display_data"
    },
    {
     "data": {
      "image/png": "[encoded data removed]",
      "text/plain": [
       "<Figure size 432x288 with 1 Axes>"
      ]
     },
     "metadata": {
      "needs_background": "light"
     },
     "output_type": "display_data"
    }
   ],
   "source": [
    "plt.figure(figsize = (12,12))\n",
    "big_ratio = big_age_pivot.divide(big_age_pivot.loc['All', :], axis = 1).iloc[:-1, :-1]\n",
    "big_ratio.T.plot.bar(stacked = True, rot = 0,color=colors)\n",
    "#plt.title('나이별 대분류 구매비율')\n",
    "plt.show()"
   ]
  },
  {
   "cell_type": "markdown",
   "metadata": {},
   "source": [
    "# 나이별 (대분류) 구매건수"
   ]
  },
  {
   "cell_type": "code",
   "execution_count": 30,
   "metadata": {
    "ExecuteTime": {
     "end_time": "2021-06-27T14:55:03.822612Z",
     "start_time": "2021-06-27T14:55:02.535233Z"
    }
   },
   "outputs": [
    {
     "data": {
      "image/png": "[encoded data removed]",
      "text/plain": [
       "<Figure size 432x288 with 1 Axes>"
      ]
     },
     "metadata": {
      "needs_background": "light"
     },
     "output_type": "display_data"
    }
   ],
   "source": [
    "sex_age_pivot = pd.pivot_table(buy_data, index= 'age', columns = 'sex', values = 'qty', aggfunc = 'sum', margins = True)\n",
    "\n",
    "colors = sns.color_palette(\"Blues\", n_colors=5)\n",
    "(sex_age_pivot.iloc[:-1,-1]/ 1e7).plot.bar(color = colors, rot = 0)\n",
    "plt.title(\"나이대 구매건수(단위: 천만 건)\")\n",
    "plt.xlabel('나이대')\n",
    "plt.ylabel('구매건수')\n",
    "plt.show()"
   ]
  },
  {
   "cell_type": "code",
   "execution_count": 45,
   "metadata": {
    "ExecuteTime": {
     "end_time": "2021-06-27T15:12:50.800865Z",
     "start_time": "2021-06-27T15:12:49.194690Z"
    }
   },
   "outputs": [
    {
     "data": {
      "image/png": "[encoded data removed]",
      "text/plain": [
       "<Figure size 1296x432 with 3 Axes>"
      ]
     },
     "metadata": {
      "needs_background": "light"
     },
     "output_type": "display_data"
    }
   ],
   "source": [
    "big_cat_by_age = pd.pivot_table(buy_data, index= 'age', columns = 'big_cat', values = 'qty', aggfunc = 'sum',margins = True)\n",
    "colors = sns.color_palette(\"Blues\", n_colors=5)\n",
    "\n",
    "fig, axes = plt.subplots(1,3, figsize = (18,6))\n",
    "\n",
    "for i in range(3):\n",
    "    big_cat_by_age.iloc[:-1,i].plot.bar(ax = axes[i], color = colors,rot = 0)\n",
    "    axes[i].set_title('나이대별 {} 구매건수'.format(big_cat_by_age.iloc[:-1,i].name))\n",
    "    axes[i].set_xlabel('나이대')\n",
    "    axes[i].set_ylabel('구매건수')\n",
    "    #axes[i].set_ylim(0, 8500000)"
   ]
  },
  {
   "cell_type": "code",
   "execution_count": null,
   "metadata": {},
   "outputs": [],
   "source": []
  }
 ],
 "metadata": {
  "kernelspec": {
   "display_name": "Python 3",
   "language": "python",
   "name": "python3"
  },
  "language_info": {
   "codemirror_mode": {
    "name": "ipython",
    "version": 3
   },
   "file_extension": ".py",
   "mimetype": "text/x-python",
   "name": "python",
   "nbconvert_exporter": "python",
   "pygments_lexer": "ipython3",
   "version": "3.7.7"
  },
  "toc": {
   "base_numbering": 1,
   "nav_menu": {},
   "number_sections": true,
   "sideBar": true,
   "skip_h1_title": false,
   "title_cell": "Table of Contents",
   "title_sidebar": "Contents",
   "toc_cell": false,
   "toc_position": {},
   "toc_section_display": true,
   "toc_window_display": false
  }
 },
 "nbformat": 4,
 "nbformat_minor": 4
}
