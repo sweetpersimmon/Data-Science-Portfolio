{
 "cells": [
  {
   "cell_type": "code",
   "execution_count": 1,
   "metadata": {
    "ExecuteTime": {
     "end_time": "2021-07-19T01:24:49.941368Z",
     "start_time": "2021-07-19T01:24:48.584622Z"
    }
   },
   "outputs": [],
   "source": [
    "import pandas as pd\n",
    "import re\n",
    "import os\n",
    "import time\n",
    "from bs4 import BeautifulSoup\n",
    "import requests\n",
    "from tqdm import tqdm"
   ]
  },
  {
   "cell_type": "code",
   "execution_count": 6,
   "metadata": {
    "ExecuteTime": {
     "end_time": "2021-07-19T01:25:42.204167Z",
     "start_time": "2021-07-19T01:25:42.009324Z"
    }
   },
   "outputs": [],
   "source": [
    "from selenium.webdriver import Chrome\n",
    "#browser = Chrome() "
   ]
  },
  {
   "cell_type": "code",
   "execution_count": 10,
   "metadata": {
    "ExecuteTime": {
     "end_time": "2021-07-19T07:09:29.228320Z",
     "start_time": "2021-07-19T07:09:29.205912Z"
    }
   },
   "outputs": [],
   "source": [
    "def preprocessing_articles(data):\n",
    "    contents = []\n",
    "    contents_new = []\n",
    "\n",
    "    for content in tqdm(data['content']):\n",
    "\n",
    "        content = content.split('\\n')\n",
    "        content = list(filter(lambda s: len(s) > 3, content))\n",
    "        \n",
    "        # 글 마지막에 항상 기자의 메일 주소가 추가되어 있다. 그 이후로 나오는 글은 불필요하므로 삭제함\n",
    "        for i in range(1, len(content)):\n",
    "            if '@' in content[-i]:\n",
    "                break\n",
    "        if i == len(content)-1:\n",
    "            i = 1\n",
    "        content_prep = content[:-i]\n",
    "\n",
    "        # 너무 짧거나, 광고, copyright, 사진설명, 메일 등 불필요한 단어가 포함되어 있을 경우 불필요한 문장으로 판단하고 삭제 처리\n",
    "        content_prep = list(filter(lambda s: len(s) > 30 and \\\n",
    "            '▶' not in s and \\\n",
    "                '©' not in s and \\\n",
    "                    '▲' not in s and \\\n",
    "                        '사진' not in s and \\\n",
    "                            '@' not in s and \\\n",
    "                                not re.findall(\"기자 *$\", s) and \\\n",
    "                                    not re.findall(\"제공 *$\", s) and \\\n",
    "                                        not re.findall(\"기자 *= *\", s) , content_prep))\n",
    "        \n",
    "        # 언론사명이 들어간 prefix 삭제\n",
    "        content_prep = list(map(lambda s: re.sub(\"^\\[.*\\]\", \"\", s), content_prep)) #[스포츠서울]\n",
    "        content_prep = list(map(lambda s: re.sub(\"^\\(.*\\)\", \"\", s), content_prep)) #(서울=뉴시스1)\n",
    "        \n",
    "        contents.append('\\n'.join(content))\n",
    "        contents_new.append('\\n'.join(content_prep))\n",
    "\n",
    "    data['content'] = contents\n",
    "    data['content_prep'] = contents_new\n",
    "\n",
    "    return data"
   ]
  },
  {
   "cell_type": "markdown",
   "metadata": {},
   "source": [
    "# train data"
   ]
  },
  {
   "cell_type": "code",
   "execution_count": 22,
   "metadata": {
    "ExecuteTime": {
     "end_time": "2021-07-17T14:28:58.423792Z",
     "start_time": "2021-07-17T14:28:58.413518Z"
    }
   },
   "outputs": [
    {
     "data": {
      "text/plain": [
       "'靑 6자회담 틀 완전히 무시하는게 아니다'"
      ]
     },
     "execution_count": 22,
     "metadata": {},
     "output_type": "execute_result"
    }
   ],
   "source": [
    "df = pd.read_csv('train_data.csv',index_col=0)\n",
    "\n",
    "df['title'] = df['title'].apply(lambda x: x.replace(\"종합\",\" \").strip())\n",
    "\n",
    "df.title[61]"
   ]
  },
  {
   "cell_type": "code",
   "execution_count": 43,
   "metadata": {
    "ExecuteTime": {
     "end_time": "2021-07-18T04:47:18.107291Z",
     "start_time": "2021-07-17T14:48:06.594363Z"
    },
    "scrolled": true
   },
   "outputs": [
    {
     "name": "stderr",
     "output_type": "stream",
     "text": [
      "100%|█████████████████████████████████████████████████████████████████████████| 45654/45654 [13:59:08<00:00,  1.10s/it]\n"
     ]
    }
   ],
   "source": [
    "browser = Chrome() \n",
    "url = 'https://daum.net/'\n",
    "browser.get(url)\n",
    "content=[]\n",
    "init =pd.DataFrame({'title':[],'content':[]})\n",
    "\n",
    "for title in tqdm(df.title): # 확인을 위해 5개씩만 진행\n",
    "    search = browser.find_element_by_css_selector(\"#q.tf_keyword\")\n",
    "    try:\n",
    "        search.clear()\n",
    "    except:\n",
    "        pass\n",
    "    search.send_keys(title)\n",
    "    search.submit()\n",
    "    try:\n",
    "        browser.find_elements_by_css_selector('.tab.tab_news')[0].click()\n",
    "        links = browser.find_elements_by_css_selector(\"a.f_nb\")\n",
    "        link_list = []\n",
    "        for a in links:\n",
    "            link_list.append(a.get_attribute('href'))\n",
    "        daum_link = [ x for x in link_list if 'daum' in x ]\n",
    "        daum_link = daum_link[0]\n",
    "        article=[]\n",
    "\n",
    "        webpage = requests.get(daum_link,headers={'User-Agent':'Mozilla/5.0'})\n",
    "        soup = BeautifulSoup(webpage.content,'html.parser',from_encoding='utf-8')\n",
    "        try:\n",
    "            body = soup.select_one('section') \n",
    "        except:\n",
    "            pass\n",
    "        try:\n",
    "            article.append(body.text)\n",
    "        except:\n",
    "            pass\n",
    "        d = pd.DataFrame({'title':title,'content':article})\n",
    "        init=pd.concat([d,init])\n",
    "    except:\n",
    "        pass\n",
    "        # 열었다 닫았다 해야할 듯."
   ]
  },
  {
   "cell_type": "code",
   "execution_count": 8,
   "metadata": {
    "scrolled": true
   },
   "outputs": [
    {
     "data": {
      "text/html": [
       "<div>\n",
       "<style scoped>\n",
       "    .dataframe tbody tr th:only-of-type {\n",
       "        vertical-align: middle;\n",
       "    }\n",
       "\n",
       "    .dataframe tbody tr th {\n",
       "        vertical-align: top;\n",
       "    }\n",
       "\n",
       "    .dataframe thead th {\n",
       "        text-align: right;\n",
       "    }\n",
       "</style>\n",
       "<table border=\"1\" class=\"dataframe\">\n",
       "  <thead>\n",
       "    <tr style=\"text-align: right;\">\n",
       "      <th></th>\n",
       "      <th>title</th>\n",
       "      <th>content</th>\n",
       "    </tr>\n",
       "  </thead>\n",
       "  <tbody>\n",
       "    <tr>\n",
       "      <th>0</th>\n",
       "      <td>시진핑 트럼프에 중미 무역협상 조속 타결 희망</td>\n",
       "      <td>\\n\\n\\n\\n            트럼프-시진핑 정상회담 (PG) [최자윤 제작]...</td>\n",
       "    </tr>\n",
       "    <tr>\n",
       "      <th>1</th>\n",
       "      <td>시진핑 트럼프에 중미 무역협상 조속 타결 희망</td>\n",
       "      <td>\\n\\n\\n\\n            트럼프-시진핑 정상회담 (PG) [최자윤 제작]...</td>\n",
       "    </tr>\n",
       "    <tr>\n",
       "      <th>2</th>\n",
       "      <td>시진핑 트럼프에 중미 무역협상 조속 타결 희망</td>\n",
       "      <td>\\n\\n\\n\\n미중 무역전쟁을 종식하기 위한 미중 무역협상이 진행 중인 가운데 시진...</td>\n",
       "    </tr>\n",
       "    <tr>\n",
       "      <th>3</th>\n",
       "      <td>시진핑 트럼프에 중미 무역협상 조속 타결 희망</td>\n",
       "      <td>\\n[서울신문]\\n\\n\\n\\n            시진핑(習近平) 중국 국가 주석....</td>\n",
       "    </tr>\n",
       "    <tr>\n",
       "      <th>4</th>\n",
       "      <td>시진핑 트럼프에 중미 무역협상 조속 타결 희망</td>\n",
       "      <td>\\n\\n\\n\\n            (사진=연합뉴스)\\n           \\n\\n...</td>\n",
       "    </tr>\n",
       "    <tr>\n",
       "      <th>5</th>\n",
       "      <td>시진핑 트럼프에 중미 무역협상 조속 타결 희망</td>\n",
       "      <td>\\n\\n\\n\\n미중 무역전쟁을 종식하기 위한 미중 무역협상이 진행 중인 가운데 시진...</td>\n",
       "    </tr>\n",
       "    <tr>\n",
       "      <th>6</th>\n",
       "      <td>시진핑 트럼프에 중미 무역협상 조속 타결 희망</td>\n",
       "      <td>\\n미국과 중국이 워싱턴에서 막바지 무역협상을 벌이고 있는 가운데 시진핑 중국 국가...</td>\n",
       "    </tr>\n",
       "    <tr>\n",
       "      <th>7</th>\n",
       "      <td>시진핑 트럼프에 중미 무역협상 조속 타결 희망</td>\n",
       "      <td>\\n-트럼프 29일 시진핑과 통화 “ 무역협상 잘 진행되고 있다”\\n-시진핑, “양...</td>\n",
       "    </tr>\n",
       "    <tr>\n",
       "      <th>8</th>\n",
       "      <td>시진핑 트럼프에 중미 무역협상 조속 타결 희망</td>\n",
       "      <td>\\n트럼프 “협상에 큰 진전”\\n시진핑 “조속한 합의 기대”\\n中, 지적재산권법원 ...</td>\n",
       "    </tr>\n",
       "    <tr>\n",
       "      <th>9</th>\n",
       "      <td>시진핑 트럼프에 중미 무역협상 조속 타결 희망</td>\n",
       "      <td>\\n\\n\\n\\n            도널드 트럼프(오른쪽) 미국 대통령이 4일(현지...</td>\n",
       "    </tr>\n",
       "    <tr>\n",
       "      <th>10</th>\n",
       "      <td>시진핑 트럼프에 중미 무역협상 조속 타결 희망</td>\n",
       "      <td>\\n\\n\\n\\n            도널드 트럼프(오른쪽) 미국 대통령이 4일(현지...</td>\n",
       "    </tr>\n",
       "    <tr>\n",
       "      <th>11</th>\n",
       "      <td>시진핑 트럼프에 중미 무역협상 조속 타결 희망</td>\n",
       "      <td>\\n\\n\\n\\n[박종철 경상대학교 교수]\\n\\n            \\n      ...</td>\n",
       "    </tr>\n",
       "    <tr>\n",
       "      <th>0</th>\n",
       "      <td>NYT 클린턴 측근韓기업 특수관계 조명…공과 사 맞물려종합</td>\n",
       "      <td>\\n(서울=연합뉴스) 김남권 기자 = 미국 민주당 대선후보인 힐러리 클린턴의 최측근...</td>\n",
       "    </tr>\n",
       "    <tr>\n",
       "      <th>0</th>\n",
       "      <td>이란 외무 긴장완화 해결책은 미국이 경제전쟁 멈추는 것</td>\n",
       "      <td>\\n(카이로=연합뉴스) 노재현 특파원 = 모하마드 자바드 자리프 이란 외무장관은 1...</td>\n",
       "    </tr>\n",
       "    <tr>\n",
       "      <th>1</th>\n",
       "      <td>이란 외무 긴장완화 해결책은 미국이 경제전쟁 멈추는 것</td>\n",
       "      <td>\\n\\n\\n\\n모하마드 자바드 자리프 이란 외무장관은 미국을 향해 '경제전쟁'을 중...</td>\n",
       "    </tr>\n",
       "    <tr>\n",
       "      <th>2</th>\n",
       "      <td>이란 외무 긴장완화 해결책은 미국이 경제전쟁 멈추는 것</td>\n",
       "      <td>\\n\\n\\n\\n (테헤란 AFP=뉴스1) 우동명 기자 = 모하마드 자바드 자리프 이...</td>\n",
       "    </tr>\n",
       "    <tr>\n",
       "      <th>3</th>\n",
       "      <td>이란 외무 긴장완화 해결책은 미국이 경제전쟁 멈추는 것</td>\n",
       "      <td>\\n\\n\\n\\n\\n\\n\\n\\n■ 경제와이드 모닝벨 '외신 브리핑' - 정다인 \\n6...</td>\n",
       "    </tr>\n",
       "    <tr>\n",
       "      <th>0</th>\n",
       "      <td>실리콘밸리 넘어서겠다…구글 15조원 들여 美전역 거점화</td>\n",
       "      <td>\\n\\n\\n\\n            구글 뉴욕사무소 [AP=연합뉴스]\\n      ...</td>\n",
       "    </tr>\n",
       "    <tr>\n",
       "      <th>0</th>\n",
       "      <td>인천→핀란드 항공기 결항…휴가철 여행객 분통</td>\n",
       "      <td>\\n\\n\\n\\n            휴가철 여행객으로 북적이는 인천국제공항 [연합뉴...</td>\n",
       "    </tr>\n",
       "    <tr>\n",
       "      <th>1</th>\n",
       "      <td>인천→핀란드 항공기 결항…휴가철 여행객 분통</td>\n",
       "      <td>\\n\\n\\n\\n\\n\\n\\n\\n인천공항을 출발해 핀란드로 향하는 여객기가 갑자기 결항...</td>\n",
       "    </tr>\n",
       "    <tr>\n",
       "      <th>2</th>\n",
       "      <td>인천→핀란드 항공기 결항…휴가철 여행객 분통</td>\n",
       "      <td>\\n인천국제공항을 출발해 핀란드로 향할 여객기가 결항이 되면서, 승객들이 하루가 넘...</td>\n",
       "    </tr>\n",
       "    <tr>\n",
       "      <th>3</th>\n",
       "      <td>인천→핀란드 항공기 결항…휴가철 여행객 분통</td>\n",
       "      <td>\\n인천국제공항을 출발해 핀란드로 향할 여객기가 결항이 되면서, 승객들이 하루가 넘...</td>\n",
       "    </tr>\n",
       "  </tbody>\n",
       "</table>\n",
       "</div>"
      ],
      "text/plain": [
       "                               title  \\\n",
       "0          시진핑 트럼프에 중미 무역협상 조속 타결 희망   \n",
       "1          시진핑 트럼프에 중미 무역협상 조속 타결 희망   \n",
       "2          시진핑 트럼프에 중미 무역협상 조속 타결 희망   \n",
       "3          시진핑 트럼프에 중미 무역협상 조속 타결 희망   \n",
       "4          시진핑 트럼프에 중미 무역협상 조속 타결 희망   \n",
       "5          시진핑 트럼프에 중미 무역협상 조속 타결 희망   \n",
       "6          시진핑 트럼프에 중미 무역협상 조속 타결 희망   \n",
       "7          시진핑 트럼프에 중미 무역협상 조속 타결 희망   \n",
       "8          시진핑 트럼프에 중미 무역협상 조속 타결 희망   \n",
       "9          시진핑 트럼프에 중미 무역협상 조속 타결 희망   \n",
       "10         시진핑 트럼프에 중미 무역협상 조속 타결 희망   \n",
       "11         시진핑 트럼프에 중미 무역협상 조속 타결 희망   \n",
       "0   NYT 클린턴 측근韓기업 특수관계 조명…공과 사 맞물려종합   \n",
       "0     이란 외무 긴장완화 해결책은 미국이 경제전쟁 멈추는 것   \n",
       "1     이란 외무 긴장완화 해결책은 미국이 경제전쟁 멈추는 것   \n",
       "2     이란 외무 긴장완화 해결책은 미국이 경제전쟁 멈추는 것   \n",
       "3     이란 외무 긴장완화 해결책은 미국이 경제전쟁 멈추는 것   \n",
       "0     실리콘밸리 넘어서겠다…구글 15조원 들여 美전역 거점화   \n",
       "0           인천→핀란드 항공기 결항…휴가철 여행객 분통   \n",
       "1           인천→핀란드 항공기 결항…휴가철 여행객 분통   \n",
       "2           인천→핀란드 항공기 결항…휴가철 여행객 분통   \n",
       "3           인천→핀란드 항공기 결항…휴가철 여행객 분통   \n",
       "\n",
       "                                              content  \n",
       "0   \\n\\n\\n\\n            트럼프-시진핑 정상회담 (PG) [최자윤 제작]...  \n",
       "1   \\n\\n\\n\\n            트럼프-시진핑 정상회담 (PG) [최자윤 제작]...  \n",
       "2   \\n\\n\\n\\n미중 무역전쟁을 종식하기 위한 미중 무역협상이 진행 중인 가운데 시진...  \n",
       "3   \\n[서울신문]\\n\\n\\n\\n            시진핑(習近平) 중국 국가 주석....  \n",
       "4   \\n\\n\\n\\n            (사진=연합뉴스)\\n           \\n\\n...  \n",
       "5   \\n\\n\\n\\n미중 무역전쟁을 종식하기 위한 미중 무역협상이 진행 중인 가운데 시진...  \n",
       "6   \\n미국과 중국이 워싱턴에서 막바지 무역협상을 벌이고 있는 가운데 시진핑 중국 국가...  \n",
       "7   \\n-트럼프 29일 시진핑과 통화 “ 무역협상 잘 진행되고 있다”\\n-시진핑, “양...  \n",
       "8   \\n트럼프 “협상에 큰 진전”\\n시진핑 “조속한 합의 기대”\\n中, 지적재산권법원 ...  \n",
       "9   \\n\\n\\n\\n            도널드 트럼프(오른쪽) 미국 대통령이 4일(현지...  \n",
       "10  \\n\\n\\n\\n            도널드 트럼프(오른쪽) 미국 대통령이 4일(현지...  \n",
       "11  \\n\\n\\n\\n[박종철 경상대학교 교수]\\n\\n            \\n      ...  \n",
       "0   \\n(서울=연합뉴스) 김남권 기자 = 미국 민주당 대선후보인 힐러리 클린턴의 최측근...  \n",
       "0   \\n(카이로=연합뉴스) 노재현 특파원 = 모하마드 자바드 자리프 이란 외무장관은 1...  \n",
       "1   \\n\\n\\n\\n모하마드 자바드 자리프 이란 외무장관은 미국을 향해 '경제전쟁'을 중...  \n",
       "2   \\n\\n\\n\\n (테헤란 AFP=뉴스1) 우동명 기자 = 모하마드 자바드 자리프 이...  \n",
       "3   \\n\\n\\n\\n\\n\\n\\n\\n■ 경제와이드 모닝벨 '외신 브리핑' - 정다인 \\n6...  \n",
       "0   \\n\\n\\n\\n            구글 뉴욕사무소 [AP=연합뉴스]\\n      ...  \n",
       "0   \\n\\n\\n\\n            휴가철 여행객으로 북적이는 인천국제공항 [연합뉴...  \n",
       "1   \\n\\n\\n\\n\\n\\n\\n\\n인천공항을 출발해 핀란드로 향하는 여객기가 갑자기 결항...  \n",
       "2   \\n인천국제공항을 출발해 핀란드로 향할 여객기가 결항이 되면서, 승객들이 하루가 넘...  \n",
       "3   \\n인천국제공항을 출발해 핀란드로 향할 여객기가 결항이 되면서, 승객들이 하루가 넘...  "
      ]
     },
     "execution_count": 8,
     "metadata": {},
     "output_type": "execute_result"
    }
   ],
   "source": [
    "init"
   ]
  },
  {
   "cell_type": "code",
   "execution_count": 10,
   "metadata": {
    "scrolled": true
   },
   "outputs": [
    {
     "data": {
      "text/plain": [
       "'            도널드 트럼프(오른쪽) 미국 대통령이 4일(현지시간) 백악관에서 류허 중국 부총리와 만난 뒤 미중 무역협상에 대한 기자들의 질문에 답변하고 있다. /워싱턴=UPI연합뉴스             [서울경제] 이르면 이달 말께 미중 무역협상이 타결될 가능성이 커졌다.  도널드 트럼프 미국 대통령이 4일(현지시간) “중국과의 무역협상이 4주 내에 마무리될 수 있다”고 밝혔다.  로이터통신에 따르면 트럼프 대통령은 이날 무역협상을 위해 방미 중인 류허 중국 부총리와 백악관에서 면담을 한 뒤 협상 전망을 묻는 기자들에게 “우리는 아마도 4주 안에 알 게 될 것이다. (전망이) 매우 좋다”며 이같이 말했다.  트럼프 대통령은 “미중 간 무역합의가 매우 근접하고 있으나 아직 합의가 이뤄진 건 아니다”라면서도 “협상이 타결되면 우리는 정상회담을 가질 것”이라고 설명했다. 정상회담 장소는 워싱턴인 것으로 알려졌다. 트럼프 대통령은 남은 협상 난제가 무엇이냐는 질문에는 관세와 지적재산권 탈취, 합의이행 문제를 꼽았다. 그는 “진전이 빠른 속도로 이뤄지고 있으며 갈 길이 남아있지만 그다지 먼 길이 남아있는 것은 아니다”라고 강조했다.  시진핑 중국 국가주석도 무역협상의 조속한 타결을 희망한다는 친서를 류허 부총리를 통해 트럼프 대통령에게 전달했다. 시 주석은 친서에서 “양국은 경제무역 협의문의 중요한 문제에 관해 실질적인 진전을 이뤘다”며 “조속히 중미 경제무역 협의문에 대한 본 담판이 타결되기를 바란다”고 강조했다. 트럼프 대통령과 만난 류 부총리도 “협상에서 엄청난 진전이 있었다”고 밝혔다. '"
      ]
     },
     "execution_count": 10,
     "metadata": {},
     "output_type": "execute_result"
    }
   ],
   "source": [
    "preprocessing_articles(init).content_prep.apply(lambda x: x.replace('\\n',' '))[10]"
   ]
  },
  {
   "cell_type": "code",
   "execution_count": 12,
   "metadata": {
    "scrolled": true
   },
   "outputs": [
    {
     "data": {
      "text/html": [
       "<div>\n",
       "<style scoped>\n",
       "    .dataframe tbody tr th:only-of-type {\n",
       "        vertical-align: middle;\n",
       "    }\n",
       "\n",
       "    .dataframe tbody tr th {\n",
       "        vertical-align: top;\n",
       "    }\n",
       "\n",
       "    .dataframe thead th {\n",
       "        text-align: right;\n",
       "    }\n",
       "</style>\n",
       "<table border=\"1\" class=\"dataframe\">\n",
       "  <thead>\n",
       "    <tr style=\"text-align: right;\">\n",
       "      <th></th>\n",
       "      <th>title</th>\n",
       "      <th>content</th>\n",
       "      <th>content_prep</th>\n",
       "    </tr>\n",
       "  </thead>\n",
       "  <tbody>\n",
       "    <tr>\n",
       "      <th>0</th>\n",
       "      <td>시진핑 트럼프에 중미 무역협상 조속 타결 희망</td>\n",
       "      <td>트럼프-시진핑 정상회담 (PG) [최자윤 제작] 일러스트\\n ...</td>\n",
       "      <td>트럼프-시진핑 정상회담 (PG) [최자윤 제작] 일러스트\\n ...</td>\n",
       "    </tr>\n",
       "    <tr>\n",
       "      <th>1</th>\n",
       "      <td>시진핑 트럼프에 중미 무역협상 조속 타결 희망</td>\n",
       "      <td>트럼프-시진핑 정상회담 (PG) [최자윤 제작] 일러스트\\n ...</td>\n",
       "      <td>트럼프-시진핑 정상회담 (PG) [최자윤 제작] 일러스트\\n ...</td>\n",
       "    </tr>\n",
       "    <tr>\n",
       "      <th>2</th>\n",
       "      <td>시진핑 트럼프에 중미 무역협상 조속 타결 희망</td>\n",
       "      <td>미중 무역전쟁을 종식하기 위한 미중 무역협상이 진행 중인 가운데 시진핑 중국 국가주...</td>\n",
       "      <td>미중 무역전쟁을 종식하기 위한 미중 무역협상이 진행 중인 가운데 시진핑 중국 국가주...</td>\n",
       "    </tr>\n",
       "    <tr>\n",
       "      <th>3</th>\n",
       "      <td>시진핑 트럼프에 중미 무역협상 조속 타결 희망</td>\n",
       "      <td>[서울신문]\\n            시진핑(習近平) 중국 국가 주석.AP 연합뉴스\\...</td>\n",
       "      <td>시진핑(習近平) 중국 국가 주석.AP 연합뉴스\\n미중 무역협상...</td>\n",
       "    </tr>\n",
       "    <tr>\n",
       "      <th>4</th>\n",
       "      <td>시진핑 트럼프에 중미 무역협상 조속 타결 희망</td>\n",
       "      <td>(사진=연합뉴스)\\n           \\n          ...</td>\n",
       "      <td>미중 고위급 무역협상이 워싱턴에서 이어지고 있는 가운데 시진핑 ...</td>\n",
       "    </tr>\n",
       "    <tr>\n",
       "      <th>5</th>\n",
       "      <td>시진핑 트럼프에 중미 무역협상 조속 타결 희망</td>\n",
       "      <td>미중 무역전쟁을 종식하기 위한 미중 무역협상이 진행 중인 가운데 시진핑 중국 국가주...</td>\n",
       "      <td>미중 무역전쟁을 종식하기 위한 미중 무역협상이 진행 중인 가운데 시진핑 중국 국가주...</td>\n",
       "    </tr>\n",
       "    <tr>\n",
       "      <th>6</th>\n",
       "      <td>시진핑 트럼프에 중미 무역협상 조속 타결 희망</td>\n",
       "      <td>미국과 중국이 워싱턴에서 막바지 무역협상을 벌이고 있는 가운데 시진핑 중국 국가주석...</td>\n",
       "      <td>미국과 중국이 워싱턴에서 막바지 무역협상을 벌이고 있는 가운데 시진핑 중국 국가주석...</td>\n",
       "    </tr>\n",
       "    <tr>\n",
       "      <th>7</th>\n",
       "      <td>시진핑 트럼프에 중미 무역협상 조속 타결 희망</td>\n",
       "      <td>-트럼프 29일 시진핑과 통화 “ 무역협상 잘 진행되고 있다”\\n-시진핑, “양국 ...</td>\n",
       "      <td>-트럼프 29일 시진핑과 통화 “ 무역협상 잘 진행되고 있다”\\n-시진핑, “양국 ...</td>\n",
       "    </tr>\n",
       "    <tr>\n",
       "      <th>8</th>\n",
       "      <td>시진핑 트럼프에 중미 무역협상 조속 타결 희망</td>\n",
       "      <td>트럼프 “협상에 큰 진전”\\n시진핑 “조속한 합의 기대”\\n中, 지적재산권법원 설립...</td>\n",
       "      <td>도널드 트럼프 미국 대통령과 시진핑(習近平) 중국 국가주석이 29일(현지시간) 전화...</td>\n",
       "    </tr>\n",
       "    <tr>\n",
       "      <th>9</th>\n",
       "      <td>시진핑 트럼프에 중미 무역협상 조속 타결 희망</td>\n",
       "      <td>도널드 트럼프(오른쪽) 미국 대통령이 4일(현지시간) 백악관에...</td>\n",
       "      <td>도널드 트럼프(오른쪽) 미국 대통령이 4일(현지시간) 백악관에...</td>\n",
       "    </tr>\n",
       "    <tr>\n",
       "      <th>10</th>\n",
       "      <td>시진핑 트럼프에 중미 무역협상 조속 타결 희망</td>\n",
       "      <td>도널드 트럼프(오른쪽) 미국 대통령이 4일(현지시간) 백악관에...</td>\n",
       "      <td>도널드 트럼프(오른쪽) 미국 대통령이 4일(현지시간) 백악관에...</td>\n",
       "    </tr>\n",
       "    <tr>\n",
       "      <th>11</th>\n",
       "      <td>시진핑 트럼프에 중미 무역협상 조속 타결 희망</td>\n",
       "      <td>[박종철 경상대학교 교수]\\n            \\n           \\n   ...</td>\n",
       "      <td>시진핑 중국 국가주석의 전격적인 평양 방문, 그리고 김정은 북...</td>\n",
       "    </tr>\n",
       "    <tr>\n",
       "      <th>0</th>\n",
       "      <td>NYT 클린턴 측근韓기업 특수관계 조명…공과 사 맞물려종합</td>\n",
       "      <td>(서울=연합뉴스) 김남권 기자 = 미국 민주당 대선후보인 힐러리 클린턴의 최측근 인...</td>\n",
       "      <td>보도에 따르면 클린턴의 국무장관 재임 시절 비서실장이었던 셰릴 밀스는 한국의 의류업...</td>\n",
       "    </tr>\n",
       "    <tr>\n",
       "      <th>0</th>\n",
       "      <td>이란 외무 긴장완화 해결책은 미국이 경제전쟁 멈추는 것</td>\n",
       "      <td>(카이로=연합뉴스) 노재현 특파원 = 모하마드 자바드 자리프 이란 외무장관은 10일...</td>\n",
       "      <td>미국을 향해 '경제전쟁'을 중단하라고 촉구했다.\\n자리프 장관은 이날 수도 테헤란...</td>\n",
       "    </tr>\n",
       "    <tr>\n",
       "      <th>1</th>\n",
       "      <td>이란 외무 긴장완화 해결책은 미국이 경제전쟁 멈추는 것</td>\n",
       "      <td>모하마드 자바드 자리프 이란 외무장관은 미국을 향해 '경제전쟁'을 중단하라고 촉구했...</td>\n",
       "      <td>모하마드 자바드 자리프 이란 외무장관은 미국을 향해 '경제전쟁'을 중단하라고 촉구했...</td>\n",
       "    </tr>\n",
       "    <tr>\n",
       "      <th>2</th>\n",
       "      <td>이란 외무 긴장완화 해결책은 미국이 경제전쟁 멈추는 것</td>\n",
       "      <td>(테헤란 AFP=뉴스1) 우동명 기자 = 모하마드 자바드 자리프 이란 외무장관이 ...</td>\n",
       "      <td></td>\n",
       "    </tr>\n",
       "    <tr>\n",
       "      <th>3</th>\n",
       "      <td>이란 외무 긴장완화 해결책은 미국이 경제전쟁 멈추는 것</td>\n",
       "      <td>■ 경제와이드 모닝벨 '외신 브리핑' - 정다인 \\n6월 11일 외신브리핑입니다.\\...</td>\n",
       "      <td>\"중국의 위안화 가치 연중 최저 기록하자, 트럼프 '공정한 경쟁 필요'\"라는 헤드라...</td>\n",
       "    </tr>\n",
       "    <tr>\n",
       "      <th>0</th>\n",
       "      <td>실리콘밸리 넘어서겠다…구글 15조원 들여 美전역 거점화</td>\n",
       "      <td>구글 뉴욕사무소 [AP=연합뉴스]\\n           \\n(...</td>\n",
       "      <td>전했다.\\n순다르 피차이 구글 최고경영자(CEO)는 블로그를 통해 \"올해 130억...</td>\n",
       "    </tr>\n",
       "    <tr>\n",
       "      <th>0</th>\n",
       "      <td>인천→핀란드 항공기 결항…휴가철 여행객 분통</td>\n",
       "      <td>휴가철 여행객으로 북적이는 인천국제공항 [연합뉴스 자료사진]\\...</td>\n",
       "      <td>7일 인천국제공항공사와 이용객 등에 따르면 전날 오전 10시20분 승객 297명을 ...</td>\n",
       "    </tr>\n",
       "    <tr>\n",
       "      <th>1</th>\n",
       "      <td>인천→핀란드 항공기 결항…휴가철 여행객 분통</td>\n",
       "      <td>인천공항을 출발해 핀란드로 향하는 여객기가 갑자기 결항해 승객들이 하루가 넘도록 공...</td>\n",
       "      <td>인천공항을 출발해 핀란드로 향하는 여객기가 갑자기 결항해 승객들이 하루가 넘도록 공...</td>\n",
       "    </tr>\n",
       "    <tr>\n",
       "      <th>2</th>\n",
       "      <td>인천→핀란드 항공기 결항…휴가철 여행객 분통</td>\n",
       "      <td>인천국제공항을 출발해 핀란드로 향할 여객기가 결항이 되면서, 승객들이 하루가 넘도록...</td>\n",
       "      <td>인천국제공항을 출발해 핀란드로 향할 여객기가 결항이 되면서, 승객들이 하루가 넘도록...</td>\n",
       "    </tr>\n",
       "    <tr>\n",
       "      <th>3</th>\n",
       "      <td>인천→핀란드 항공기 결항…휴가철 여행객 분통</td>\n",
       "      <td>인천국제공항을 출발해 핀란드로 향할 여객기가 결항이 되면서, 승객들이 하루가 넘도록...</td>\n",
       "      <td>인천국제공항을 출발해 핀란드로 향할 여객기가 결항이 되면서, 승객들이 하루가 넘도록...</td>\n",
       "    </tr>\n",
       "  </tbody>\n",
       "</table>\n",
       "</div>"
      ],
      "text/plain": [
       "                               title  \\\n",
       "0          시진핑 트럼프에 중미 무역협상 조속 타결 희망   \n",
       "1          시진핑 트럼프에 중미 무역협상 조속 타결 희망   \n",
       "2          시진핑 트럼프에 중미 무역협상 조속 타결 희망   \n",
       "3          시진핑 트럼프에 중미 무역협상 조속 타결 희망   \n",
       "4          시진핑 트럼프에 중미 무역협상 조속 타결 희망   \n",
       "5          시진핑 트럼프에 중미 무역협상 조속 타결 희망   \n",
       "6          시진핑 트럼프에 중미 무역협상 조속 타결 희망   \n",
       "7          시진핑 트럼프에 중미 무역협상 조속 타결 희망   \n",
       "8          시진핑 트럼프에 중미 무역협상 조속 타결 희망   \n",
       "9          시진핑 트럼프에 중미 무역협상 조속 타결 희망   \n",
       "10         시진핑 트럼프에 중미 무역협상 조속 타결 희망   \n",
       "11         시진핑 트럼프에 중미 무역협상 조속 타결 희망   \n",
       "0   NYT 클린턴 측근韓기업 특수관계 조명…공과 사 맞물려종합   \n",
       "0     이란 외무 긴장완화 해결책은 미국이 경제전쟁 멈추는 것   \n",
       "1     이란 외무 긴장완화 해결책은 미국이 경제전쟁 멈추는 것   \n",
       "2     이란 외무 긴장완화 해결책은 미국이 경제전쟁 멈추는 것   \n",
       "3     이란 외무 긴장완화 해결책은 미국이 경제전쟁 멈추는 것   \n",
       "0     실리콘밸리 넘어서겠다…구글 15조원 들여 美전역 거점화   \n",
       "0           인천→핀란드 항공기 결항…휴가철 여행객 분통   \n",
       "1           인천→핀란드 항공기 결항…휴가철 여행객 분통   \n",
       "2           인천→핀란드 항공기 결항…휴가철 여행객 분통   \n",
       "3           인천→핀란드 항공기 결항…휴가철 여행객 분통   \n",
       "\n",
       "                                              content  \\\n",
       "0               트럼프-시진핑 정상회담 (PG) [최자윤 제작] 일러스트\\n ...   \n",
       "1               트럼프-시진핑 정상회담 (PG) [최자윤 제작] 일러스트\\n ...   \n",
       "2   미중 무역전쟁을 종식하기 위한 미중 무역협상이 진행 중인 가운데 시진핑 중국 국가주...   \n",
       "3   [서울신문]\\n            시진핑(習近平) 중국 국가 주석.AP 연합뉴스\\...   \n",
       "4               (사진=연합뉴스)\\n           \\n          ...   \n",
       "5   미중 무역전쟁을 종식하기 위한 미중 무역협상이 진행 중인 가운데 시진핑 중국 국가주...   \n",
       "6   미국과 중국이 워싱턴에서 막바지 무역협상을 벌이고 있는 가운데 시진핑 중국 국가주석...   \n",
       "7   -트럼프 29일 시진핑과 통화 “ 무역협상 잘 진행되고 있다”\\n-시진핑, “양국 ...   \n",
       "8   트럼프 “협상에 큰 진전”\\n시진핑 “조속한 합의 기대”\\n中, 지적재산권법원 설립...   \n",
       "9               도널드 트럼프(오른쪽) 미국 대통령이 4일(현지시간) 백악관에...   \n",
       "10              도널드 트럼프(오른쪽) 미국 대통령이 4일(현지시간) 백악관에...   \n",
       "11  [박종철 경상대학교 교수]\\n            \\n           \\n   ...   \n",
       "0   (서울=연합뉴스) 김남권 기자 = 미국 민주당 대선후보인 힐러리 클린턴의 최측근 인...   \n",
       "0   (카이로=연합뉴스) 노재현 특파원 = 모하마드 자바드 자리프 이란 외무장관은 10일...   \n",
       "1   모하마드 자바드 자리프 이란 외무장관은 미국을 향해 '경제전쟁'을 중단하라고 촉구했...   \n",
       "2    (테헤란 AFP=뉴스1) 우동명 기자 = 모하마드 자바드 자리프 이란 외무장관이 ...   \n",
       "3   ■ 경제와이드 모닝벨 '외신 브리핑' - 정다인 \\n6월 11일 외신브리핑입니다.\\...   \n",
       "0               구글 뉴욕사무소 [AP=연합뉴스]\\n           \\n(...   \n",
       "0               휴가철 여행객으로 북적이는 인천국제공항 [연합뉴스 자료사진]\\...   \n",
       "1   인천공항을 출발해 핀란드로 향하는 여객기가 갑자기 결항해 승객들이 하루가 넘도록 공...   \n",
       "2   인천국제공항을 출발해 핀란드로 향할 여객기가 결항이 되면서, 승객들이 하루가 넘도록...   \n",
       "3   인천국제공항을 출발해 핀란드로 향할 여객기가 결항이 되면서, 승객들이 하루가 넘도록...   \n",
       "\n",
       "                                         content_prep  \n",
       "0               트럼프-시진핑 정상회담 (PG) [최자윤 제작] 일러스트\\n ...  \n",
       "1               트럼프-시진핑 정상회담 (PG) [최자윤 제작] 일러스트\\n ...  \n",
       "2   미중 무역전쟁을 종식하기 위한 미중 무역협상이 진행 중인 가운데 시진핑 중국 국가주...  \n",
       "3               시진핑(習近平) 중국 국가 주석.AP 연합뉴스\\n미중 무역협상...  \n",
       "4              미중 고위급 무역협상이 워싱턴에서 이어지고 있는 가운데 시진핑 ...  \n",
       "5   미중 무역전쟁을 종식하기 위한 미중 무역협상이 진행 중인 가운데 시진핑 중국 국가주...  \n",
       "6   미국과 중국이 워싱턴에서 막바지 무역협상을 벌이고 있는 가운데 시진핑 중국 국가주석...  \n",
       "7   -트럼프 29일 시진핑과 통화 “ 무역협상 잘 진행되고 있다”\\n-시진핑, “양국 ...  \n",
       "8   도널드 트럼프 미국 대통령과 시진핑(習近平) 중국 국가주석이 29일(현지시간) 전화...  \n",
       "9               도널드 트럼프(오른쪽) 미국 대통령이 4일(현지시간) 백악관에...  \n",
       "10              도널드 트럼프(오른쪽) 미국 대통령이 4일(현지시간) 백악관에...  \n",
       "11              시진핑 중국 국가주석의 전격적인 평양 방문, 그리고 김정은 북...  \n",
       "0   보도에 따르면 클린턴의 국무장관 재임 시절 비서실장이었던 셰릴 밀스는 한국의 의류업...  \n",
       "0    미국을 향해 '경제전쟁'을 중단하라고 촉구했다.\\n자리프 장관은 이날 수도 테헤란...  \n",
       "1   모하마드 자바드 자리프 이란 외무장관은 미국을 향해 '경제전쟁'을 중단하라고 촉구했...  \n",
       "2                                                      \n",
       "3   \"중국의 위안화 가치 연중 최저 기록하자, 트럼프 '공정한 경쟁 필요'\"라는 헤드라...  \n",
       "0    전했다.\\n순다르 피차이 구글 최고경영자(CEO)는 블로그를 통해 \"올해 130억...  \n",
       "0   7일 인천국제공항공사와 이용객 등에 따르면 전날 오전 10시20분 승객 297명을 ...  \n",
       "1   인천공항을 출발해 핀란드로 향하는 여객기가 갑자기 결항해 승객들이 하루가 넘도록 공...  \n",
       "2   인천국제공항을 출발해 핀란드로 향할 여객기가 결항이 되면서, 승객들이 하루가 넘도록...  \n",
       "3   인천국제공항을 출발해 핀란드로 향할 여객기가 결항이 되면서, 승객들이 하루가 넘도록...  "
      ]
     },
     "execution_count": 12,
     "metadata": {},
     "output_type": "execute_result"
    }
   ],
   "source": [
    "preprocessing_articles(init)"
   ]
  },
  {
   "cell_type": "code",
   "execution_count": 59,
   "metadata": {
    "ExecuteTime": {
     "end_time": "2021-07-18T04:57:42.299227Z",
     "start_time": "2021-07-18T04:57:38.306865Z"
    }
   },
   "outputs": [
    {
     "name": "stderr",
     "output_type": "stream",
     "text": [
      "100%|█████████████████████████████████████████████████████████████████████████| 44318/44318 [00:03<00:00, 11191.95it/s]\n"
     ]
    }
   ],
   "source": [
    "pp = preprocessing_articles(init).reset_index(drop=True)\n",
    "\n",
    "pp['content_prep'] = pp.content_prep.apply(lambda x: x.replace('\\n',' ').strip())\n",
    "\n",
    "# 대괄호 속 내용과 일러스트 단어 삭제\n",
    "pp['content_prep'] = pp['content_prep'].apply(lambda x: re.sub(r'\\[[^][]*\\]', \"\", x).replace('일러스트',''))"
   ]
  },
  {
   "cell_type": "code",
   "execution_count": 61,
   "metadata": {
    "ExecuteTime": {
     "end_time": "2021-07-18T04:58:00.038633Z",
     "start_time": "2021-07-18T04:57:59.552710Z"
    }
   },
   "outputs": [
    {
     "data": {
      "text/plain": [
       "40459"
      ]
     },
     "execution_count": 61,
     "metadata": {},
     "output_type": "execute_result"
    }
   ],
   "source": [
    "pp['content_prep'].nunique()"
   ]
  },
  {
   "cell_type": "code",
   "execution_count": 72,
   "metadata": {
    "ExecuteTime": {
     "end_time": "2021-07-18T05:14:41.025462Z",
     "start_time": "2021-07-18T05:14:39.466511Z"
    }
   },
   "outputs": [],
   "source": [
    "pp = pp[pp['content_prep'] != ''][['title','content_prep']] # 내용이 없는 행 제거\n",
    "\n",
    "pp.to_csv('train_news.csv')"
   ]
  },
  {
   "cell_type": "markdown",
   "metadata": {},
   "source": [
    "# test data"
   ]
  },
  {
   "cell_type": "code",
   "execution_count": 4,
   "metadata": {
    "ExecuteTime": {
     "end_time": "2021-07-19T01:25:25.333597Z",
     "start_time": "2021-07-19T01:25:25.301175Z"
    }
   },
   "outputs": [],
   "source": [
    "dft = pd.read_csv('test_data.csv')\n",
    "\n",
    "dft['title'] = dft['title'].apply(lambda x: x.replace(\"종합\",\" \").strip())"
   ]
  },
  {
   "cell_type": "code",
   "execution_count": 8,
   "metadata": {
    "ExecuteTime": {
     "end_time": "2021-07-19T07:02:56.542395Z",
     "start_time": "2021-07-19T01:25:48.048365Z"
    }
   },
   "outputs": [
    {
     "name": "stderr",
     "output_type": "stream",
     "text": [
      "100%|████████████████████████████████████████████████████████████████████████████| 9131/9131 [5:37:04<00:00,  2.21s/it]\n"
     ]
    }
   ],
   "source": [
    "browser = Chrome() \n",
    "url = 'https://daum.net/'\n",
    "browser.get(url)\n",
    "content=[]\n",
    "init =pd.DataFrame({'title':[],'content':[]})\n",
    "for title in tqdm(dft.title): # 확인을 위해 5개씩만 진행\n",
    "    try:\n",
    "        search = browser.find_element_by_css_selector(\"#q.tf_keyword\")\n",
    "        try:\n",
    "            search.clear()\n",
    "        except:\n",
    "            pass\n",
    "        search.send_keys(title)\n",
    "        search.submit()\n",
    "        browser.find_elements_by_css_selector('.tab.tab_news')[0].click()\n",
    "        links = browser.find_elements_by_css_selector(\"a.f_nb\")\n",
    "        link_list = []\n",
    "        for a in links:\n",
    "            link_list.append(a.get_attribute('href'))\n",
    "        daum_link = [ x for x in link_list if 'daum' in x ]\n",
    "        article=[]\n",
    "        for link in daum_link:\n",
    "            webpage = requests.get(link,headers={'User-Agent':'Mozilla/5.0'})\n",
    "            soup = BeautifulSoup(webpage.content,'html.parser',from_encoding='utf-8')\n",
    "            try:\n",
    "                body = soup.select_one('section') \n",
    "            except:\n",
    "                pass\n",
    "            try:\n",
    "                article.append(body.text)\n",
    "            except:\n",
    "                pass\n",
    "        d = pd.DataFrame({'title':title,'content':article})\n",
    "        init=pd.concat([d,init])\n",
    "            # 열었다 닫았다 해야할 듯.\n",
    "    except:\n",
    "        pass"
   ]
  },
  {
   "cell_type": "code",
   "execution_count": 11,
   "metadata": {
    "ExecuteTime": {
     "end_time": "2021-07-19T07:09:38.356141Z",
     "start_time": "2021-07-19T07:09:32.442453Z"
    }
   },
   "outputs": [
    {
     "name": "stderr",
     "output_type": "stream",
     "text": [
      "100%|██████████████████████████████████████████████████████████████████████████| 42459/42459 [00:05<00:00, 7389.22it/s]\n"
     ]
    }
   ],
   "source": [
    "dd = preprocessing_articles(init).reset_index(drop=True)\n",
    "dd['content_prep'] = dd.content_prep.apply(lambda x: x.replace('\\n',' ').strip())\n",
    "\n",
    "# 대괄호 속 내용과 일러스트 단어 삭제\n",
    "dd['content_prep'] = dd['content_prep'].apply(lambda x: re.sub(r'\\[[^][]*\\]', \"\", x).replace('일러스트',''))"
   ]
  },
  {
   "cell_type": "code",
   "execution_count": 12,
   "metadata": {
    "ExecuteTime": {
     "end_time": "2021-07-19T07:09:38.386284Z",
     "start_time": "2021-07-19T07:09:38.357139Z"
    }
   },
   "outputs": [
    {
     "data": {
      "text/plain": [
       "8797"
      ]
     },
     "execution_count": 12,
     "metadata": {},
     "output_type": "execute_result"
    }
   ],
   "source": [
    "dd['title'].nunique()"
   ]
  },
  {
   "cell_type": "code",
   "execution_count": 13,
   "metadata": {
    "ExecuteTime": {
     "end_time": "2021-07-19T07:09:43.321998Z",
     "start_time": "2021-07-19T07:09:38.388276Z"
    }
   },
   "outputs": [],
   "source": [
    "dd = dd[dd['content_prep'] != ''][['title','content_prep']] # 내용이 없는 행 제거\n",
    "\n",
    "dd.to_csv('test_news.csv')"
   ]
  }
 ],
 "metadata": {
  "kernelspec": {
   "display_name": "Python 3",
   "language": "python",
   "name": "python3"
  },
  "language_info": {
   "codemirror_mode": {
    "name": "ipython",
    "version": 3
   },
   "file_extension": ".py",
   "mimetype": "text/x-python",
   "name": "python",
   "nbconvert_exporter": "python",
   "pygments_lexer": "ipython3",
   "version": "3.8.11"
  },
  "toc": {
   "base_numbering": 1,
   "nav_menu": {},
   "number_sections": true,
   "sideBar": true,
   "skip_h1_title": false,
   "title_cell": "Table of Contents",
   "title_sidebar": "Contents",
   "toc_cell": false,
   "toc_position": {},
   "toc_section_display": true,
   "toc_window_display": false
  }
 },
 "nbformat": 4,
 "nbformat_minor": 4
}
