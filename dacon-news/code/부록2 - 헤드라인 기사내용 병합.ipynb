{
 "cells": [
  {
   "cell_type": "code",
   "execution_count": 1,
   "id": "8fa29f23",
   "metadata": {
    "ExecuteTime": {
     "end_time": "2021-07-21T11:23:06.340827Z",
     "start_time": "2021-07-21T11:23:01.795613Z"
    }
   },
   "outputs": [],
   "source": [
    "import pandas as pd\n",
    "import numpy as np\n",
    "import tensorflow as tf\n",
    "#from konlpy.tag import Mecab\n",
    "import re\n",
    "from tqdm import tqdm\n",
    "\n",
    "from sklearn.model_selection import train_test_split\n",
    "from transformers import ElectraTokenizer\n",
    "from transformers import TFElectraForSequenceClassification\n",
    "from tensorflow.keras.callbacks import EarlyStopping, ModelCheckpoint\n",
    "\n",
    "import hanja\n",
    "from hanja import hangul"
   ]
  },
  {
   "cell_type": "markdown",
   "id": "9670cbe1",
   "metadata": {
    "ExecuteTime": {
     "end_time": "2021-07-21T11:23:06.356709Z",
     "start_time": "2021-07-21T11:23:06.340827Z"
    }
   },
   "source": [
    "# 데이터셋 병합"
   ]
  },
  {
   "cell_type": "code",
   "execution_count": 3,
   "id": "b96f66c6",
   "metadata": {
    "ExecuteTime": {
     "end_time": "2021-07-21T11:23:06.372722Z",
     "start_time": "2021-07-21T11:23:06.358746Z"
    }
   },
   "outputs": [],
   "source": [
    "def prepare_text(data):\n",
    "    transfer = []\n",
    "    for index, row in data.iterrows():\n",
    "        result = hanja.translate(row['title'], 'substitution') # transfer hanja to korean\n",
    "        con = re.sub(r\"[^a-zA-Z0-9가-힣]\",\" \",result) # remove Special Characters\n",
    "        transfer.append(con)\n",
    "    return transfer"
   ]
  },
  {
   "cell_type": "code",
   "execution_count": 7,
   "id": "630dafea",
   "metadata": {
    "ExecuteTime": {
     "end_time": "2021-07-21T11:24:36.503005Z",
     "start_time": "2021-07-21T11:24:32.346195Z"
    }
   },
   "outputs": [],
   "source": [
    "train_data = pd.read_csv('train_data.csv',index_col=0)\n",
    "train_news = pd.read_csv('train_news.csv', index_col=0)\n",
    "\n",
    "test_data = pd.read_csv('test_data.csv', index_col=0)\n",
    "test_news = pd.read_csv('test_news.csv', index_col=0)"
   ]
  },
  {
   "cell_type": "code",
   "execution_count": 8,
   "id": "84c8e912",
   "metadata": {
    "ExecuteTime": {
     "end_time": "2021-07-21T11:24:43.544313Z",
     "start_time": "2021-07-21T11:24:36.505002Z"
    }
   },
   "outputs": [],
   "source": [
    "train_data['title'] = prepare_text(train_data)\n",
    "test_data['title'] = prepare_text(test_data)"
   ]
  },
  {
   "cell_type": "code",
   "execution_count": 11,
   "id": "496d5198",
   "metadata": {
    "ExecuteTime": {
     "end_time": "2021-07-21T11:26:15.360368Z",
     "start_time": "2021-07-21T11:26:05.220187Z"
    }
   },
   "outputs": [],
   "source": [
    "train_news['title'] = prepare_text(train_news)\n",
    "test_news['title'] = prepare_text(test_news)"
   ]
  },
  {
   "cell_type": "code",
   "execution_count": 35,
   "id": "fc281f02",
   "metadata": {
    "ExecuteTime": {
     "end_time": "2021-07-21T12:55:36.560317Z",
     "start_time": "2021-07-21T12:55:36.275258Z"
    }
   },
   "outputs": [],
   "source": [
    "merge_train = pd.merge(train_data,train_news, how='left', on='title')[['title','content_prep','topic_idx']]\n",
    "merge_test = pd.merge(test_data,test_news, how='left', on='title')[['title','content_prep']]"
   ]
  },
  {
   "cell_type": "code",
   "execution_count": 36,
   "id": "6888de3f",
   "metadata": {
    "ExecuteTime": {
     "end_time": "2021-07-21T12:55:40.137444Z",
     "start_time": "2021-07-21T12:55:40.105448Z"
    }
   },
   "outputs": [],
   "source": [
    "merge_test = merge_test.drop_duplicates('title')"
   ]
  },
  {
   "cell_type": "code",
   "execution_count": null,
   "id": "d01062f3",
   "metadata": {},
   "outputs": [],
   "source": [
    "data = [merge_train, merge_test]"
   ]
  },
  {
   "cell_type": "code",
   "execution_count": 37,
   "id": "a4d60a2d",
   "metadata": {
    "ExecuteTime": {
     "end_time": "2021-07-21T12:55:41.171396Z",
     "start_time": "2021-07-21T12:55:41.146045Z"
    }
   },
   "outputs": [],
   "source": [
    "for d in data:\n",
    "    d.fillna(' ', inplace=True)"
   ]
  },
  {
   "cell_type": "code",
   "execution_count": 38,
   "id": "2120fe79",
   "metadata": {
    "ExecuteTime": {
     "end_time": "2021-07-21T12:55:45.537358Z",
     "start_time": "2021-07-21T12:55:43.231802Z"
    }
   },
   "outputs": [],
   "source": [
    "for d in data\n",
    "    d['content'] = d[['title','content_prep']].agg(' '.join, axis=1)\n",
    "    d = d[['content','topic_idx']].reset_index(drop=True)"
   ]
  },
  {
   "cell_type": "code",
   "execution_count": 43,
   "id": "be9783f9",
   "metadata": {
    "ExecuteTime": {
     "end_time": "2021-07-21T12:57:28.473010Z",
     "start_time": "2021-07-21T12:57:26.834571Z"
    }
   },
   "outputs": [],
   "source": [
    "data[0].to_csv('train.csv')\n",
    "data[1].to_csv('test.csv')"
   ]
  },
  {
   "cell_type": "code",
   "execution_count": null,
   "id": "eadffcaa",
   "metadata": {},
   "outputs": [],
   "source": []
  }
 ],
 "metadata": {
  "kernelspec": {
   "display_name": "Python 3",
   "language": "python",
   "name": "python3"
  },
  "language_info": {
   "codemirror_mode": {
    "name": "ipython",
    "version": 3
   },
   "file_extension": ".py",
   "mimetype": "text/x-python",
   "name": "python",
   "nbconvert_exporter": "python",
   "pygments_lexer": "ipython3",
   "version": "3.8.11"
  },
  "toc": {
   "base_numbering": 1,
   "nav_menu": {},
   "number_sections": true,
   "sideBar": true,
   "skip_h1_title": false,
   "title_cell": "Table of Contents",
   "title_sidebar": "Contents",
   "toc_cell": false,
   "toc_position": {},
   "toc_section_display": true,
   "toc_window_display": false
  }
 },
 "nbformat": 4,
 "nbformat_minor": 5
}
