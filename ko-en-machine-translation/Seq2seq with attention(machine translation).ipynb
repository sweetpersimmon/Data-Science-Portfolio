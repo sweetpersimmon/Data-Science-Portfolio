{
 "cells": [
  {
   "cell_type": "markdown",
   "metadata": {
    "id": "G17ldCLEyn_S"
   },
   "source": [
    "# Seq2seq with attention 을 이용한 한영 기계번역 \n",
    "* google colab 환경에서 실행\n",
    "* 기존의 영어-스페인어 Seq2seq with attention 모델을 차용하여, 한글과 영어 사이에서도 attention을 이용한 기계번역모델 구현이 가능한지 탐색\n",
    "* 데이터 : 모델의 성능을 높이기 위해 AI Hub에서 제공하는 한글-영어 구어체 말뭉치 데이터 20만 개 중 5만개 사용\n",
    "* 참고 : https://www.tensorflow.org/tutorials/text/nmt_with_attention"
   ]
  },
  {
   "cell_type": "code",
   "execution_count": 1,
   "metadata": {
    "colab": {
     "base_uri": "https://localhost:8080/"
    },
    "id": "7aS88EXw8jIW",
    "outputId": "d6944e7d-5b6f-4d7a-a371-f90cf1ef625a"
   },
   "outputs": [
    {
     "name": "stdout",
     "output_type": "stream",
     "text": [
      "Mounted at /content/drive\n"
     ]
    }
   ],
   "source": [
    "from google.colab import drive\n",
    "drive.mount('/content/drive')"
   ]
  },
  {
   "cell_type": "code",
   "execution_count": 2,
   "metadata": {
    "colab": {
     "base_uri": "https://localhost:8080/"
    },
    "id": "ahMW3TJxvni5",
    "outputId": "d1bcea41-673f-440e-e9ae-89860be27aea"
   },
   "outputs": [
    {
     "name": "stdout",
     "output_type": "stream",
     "text": [
      "\n",
      "WARNING: apt does not have a stable CLI interface. Use with caution in scripts.\n",
      "\n"
     ]
    }
   ],
   "source": [
    "# 한글 글꼴 설정\n",
    "!apt -qq -y install fonts-nanum > /dev/null\n",
    " \n",
    "import matplotlib.pyplot as plt\n",
    "import matplotlib.font_manager as fm\n",
    " \n",
    "fontpath = '/usr/share/fonts/truetype/nanum/NanumBarunGothic.ttf'\n",
    "font = fm.FontProperties(fname=fontpath, size=10)\n",
    "fm._rebuild()\n",
    " \n",
    "# 그래프에 retina display 적용\n",
    "%config InlineBackend.figure_format = 'retina'\n",
    " \n",
    "# Colab 의 한글 폰트 설정\n",
    "plt.rc('font', family='NanumBarunGothic') "
   ]
  },
  {
   "cell_type": "code",
   "execution_count": 3,
   "metadata": {
    "ExecuteTime": {
     "end_time": "2020-12-11T15:42:04.182877Z",
     "start_time": "2020-12-11T15:41:58.887085Z"
    },
    "colab": {
     "base_uri": "https://localhost:8080/"
    },
    "id": "kfUC0mx5yn_S",
    "outputId": "36872d34-6aa5-4eb7-f4ec-24780e44d4cb"
   },
   "outputs": [
    {
     "name": "stdout",
     "output_type": "stream",
     "text": [
      "Collecting sentencepiece\n",
      "\u001b[?25l  Downloading https://files.pythonhosted.org/packages/e5/2d/6d4ca4bef9a67070fa1cac508606328329152b1df10bdf31fb6e4e727894/sentencepiece-0.1.94-cp36-cp36m-manylinux2014_x86_64.whl (1.1MB)\n",
      "\r",
      "\u001b[K     |▎                               | 10kB 23.8MB/s eta 0:00:01\r",
      "\u001b[K     |▋                               | 20kB 30.9MB/s eta 0:00:01\r",
      "\u001b[K     |▉                               | 30kB 23.6MB/s eta 0:00:01\r",
      "\u001b[K     |█▏                              | 40kB 21.5MB/s eta 0:00:01\r",
      "\u001b[K     |█▌                              | 51kB 21.6MB/s eta 0:00:01\r",
      "\u001b[K     |█▊                              | 61kB 16.4MB/s eta 0:00:01\r",
      "\u001b[K     |██                              | 71kB 16.2MB/s eta 0:00:01\r",
      "\u001b[K     |██▍                             | 81kB 15.7MB/s eta 0:00:01\r",
      "\u001b[K     |██▋                             | 92kB 15.8MB/s eta 0:00:01\r",
      "\u001b[K     |███                             | 102kB 16.3MB/s eta 0:00:01\r",
      "\u001b[K     |███▎                            | 112kB 16.3MB/s eta 0:00:01\r",
      "\u001b[K     |███▌                            | 122kB 16.3MB/s eta 0:00:01\r",
      "\u001b[K     |███▉                            | 133kB 16.3MB/s eta 0:00:01\r",
      "\u001b[K     |████▏                           | 143kB 16.3MB/s eta 0:00:01\r",
      "\u001b[K     |████▍                           | 153kB 16.3MB/s eta 0:00:01\r",
      "\u001b[K     |████▊                           | 163kB 16.3MB/s eta 0:00:01\r",
      "\u001b[K     |█████                           | 174kB 16.3MB/s eta 0:00:01\r",
      "\u001b[K     |█████▎                          | 184kB 16.3MB/s eta 0:00:01\r",
      "\u001b[K     |█████▋                          | 194kB 16.3MB/s eta 0:00:01\r",
      "\u001b[K     |█████▉                          | 204kB 16.3MB/s eta 0:00:01\r",
      "\u001b[K     |██████▏                         | 215kB 16.3MB/s eta 0:00:01\r",
      "\u001b[K     |██████▌                         | 225kB 16.3MB/s eta 0:00:01\r",
      "\u001b[K     |██████▊                         | 235kB 16.3MB/s eta 0:00:01\r",
      "\u001b[K     |███████                         | 245kB 16.3MB/s eta 0:00:01\r",
      "\u001b[K     |███████▍                        | 256kB 16.3MB/s eta 0:00:01\r",
      "\u001b[K     |███████▋                        | 266kB 16.3MB/s eta 0:00:01\r",
      "\u001b[K     |████████                        | 276kB 16.3MB/s eta 0:00:01\r",
      "\u001b[K     |████████▎                       | 286kB 16.3MB/s eta 0:00:01\r",
      "\u001b[K     |████████▌                       | 296kB 16.3MB/s eta 0:00:01\r",
      "\u001b[K     |████████▉                       | 307kB 16.3MB/s eta 0:00:01\r",
      "\u001b[K     |█████████                       | 317kB 16.3MB/s eta 0:00:01\r",
      "\u001b[K     |█████████▍                      | 327kB 16.3MB/s eta 0:00:01\r",
      "\u001b[K     |█████████▊                      | 337kB 16.3MB/s eta 0:00:01\r",
      "\u001b[K     |██████████                      | 348kB 16.3MB/s eta 0:00:01\r",
      "\u001b[K     |██████████▎                     | 358kB 16.3MB/s eta 0:00:01\r",
      "\u001b[K     |██████████▋                     | 368kB 16.3MB/s eta 0:00:01\r",
      "\u001b[K     |██████████▉                     | 378kB 16.3MB/s eta 0:00:01\r",
      "\u001b[K     |███████████▏                    | 389kB 16.3MB/s eta 0:00:01\r",
      "\u001b[K     |███████████▌                    | 399kB 16.3MB/s eta 0:00:01\r",
      "\u001b[K     |███████████▊                    | 409kB 16.3MB/s eta 0:00:01\r",
      "\u001b[K     |████████████                    | 419kB 16.3MB/s eta 0:00:01\r",
      "\u001b[K     |████████████▍                   | 430kB 16.3MB/s eta 0:00:01\r",
      "\u001b[K     |████████████▋                   | 440kB 16.3MB/s eta 0:00:01\r",
      "\u001b[K     |█████████████                   | 450kB 16.3MB/s eta 0:00:01\r",
      "\u001b[K     |█████████████▎                  | 460kB 16.3MB/s eta 0:00:01\r",
      "\u001b[K     |█████████████▌                  | 471kB 16.3MB/s eta 0:00:01\r",
      "\u001b[K     |█████████████▉                  | 481kB 16.3MB/s eta 0:00:01\r",
      "\u001b[K     |██████████████                  | 491kB 16.3MB/s eta 0:00:01\r",
      "\u001b[K     |██████████████▍                 | 501kB 16.3MB/s eta 0:00:01\r",
      "\u001b[K     |██████████████▊                 | 512kB 16.3MB/s eta 0:00:01\r",
      "\u001b[K     |███████████████                 | 522kB 16.3MB/s eta 0:00:01\r",
      "\u001b[K     |███████████████▎                | 532kB 16.3MB/s eta 0:00:01\r",
      "\u001b[K     |███████████████▋                | 542kB 16.3MB/s eta 0:00:01\r",
      "\u001b[K     |███████████████▉                | 552kB 16.3MB/s eta 0:00:01\r",
      "\u001b[K     |████████████████▏               | 563kB 16.3MB/s eta 0:00:01\r",
      "\u001b[K     |████████████████▌               | 573kB 16.3MB/s eta 0:00:01\r",
      "\u001b[K     |████████████████▊               | 583kB 16.3MB/s eta 0:00:01\r",
      "\u001b[K     |█████████████████               | 593kB 16.3MB/s eta 0:00:01\r",
      "\u001b[K     |█████████████████▍              | 604kB 16.3MB/s eta 0:00:01\r",
      "\u001b[K     |█████████████████▋              | 614kB 16.3MB/s eta 0:00:01\r",
      "\u001b[K     |██████████████████              | 624kB 16.3MB/s eta 0:00:01\r",
      "\u001b[K     |██████████████████▏             | 634kB 16.3MB/s eta 0:00:01\r",
      "\u001b[K     |██████████████████▌             | 645kB 16.3MB/s eta 0:00:01\r",
      "\u001b[K     |██████████████████▉             | 655kB 16.3MB/s eta 0:00:01\r",
      "\u001b[K     |███████████████████             | 665kB 16.3MB/s eta 0:00:01\r",
      "\u001b[K     |███████████████████▍            | 675kB 16.3MB/s eta 0:00:01\r",
      "\u001b[K     |███████████████████▊            | 686kB 16.3MB/s eta 0:00:01\r",
      "\u001b[K     |████████████████████            | 696kB 16.3MB/s eta 0:00:01\r",
      "\u001b[K     |████████████████████▎           | 706kB 16.3MB/s eta 0:00:01\r",
      "\u001b[K     |████████████████████▋           | 716kB 16.3MB/s eta 0:00:01\r",
      "\u001b[K     |████████████████████▉           | 727kB 16.3MB/s eta 0:00:01\r",
      "\u001b[K     |█████████████████████▏          | 737kB 16.3MB/s eta 0:00:01\r",
      "\u001b[K     |█████████████████████▌          | 747kB 16.3MB/s eta 0:00:01\r",
      "\u001b[K     |█████████████████████▊          | 757kB 16.3MB/s eta 0:00:01\r",
      "\u001b[K     |██████████████████████          | 768kB 16.3MB/s eta 0:00:01\r",
      "\u001b[K     |██████████████████████▎         | 778kB 16.3MB/s eta 0:00:01\r",
      "\u001b[K     |██████████████████████▋         | 788kB 16.3MB/s eta 0:00:01\r",
      "\u001b[K     |███████████████████████         | 798kB 16.3MB/s eta 0:00:01\r",
      "\u001b[K     |███████████████████████▏        | 808kB 16.3MB/s eta 0:00:01\r",
      "\u001b[K     |███████████████████████▌        | 819kB 16.3MB/s eta 0:00:01\r",
      "\u001b[K     |███████████████████████▉        | 829kB 16.3MB/s eta 0:00:01\r",
      "\u001b[K     |████████████████████████        | 839kB 16.3MB/s eta 0:00:01\r",
      "\u001b[K     |████████████████████████▍       | 849kB 16.3MB/s eta 0:00:01\r",
      "\u001b[K     |████████████████████████▊       | 860kB 16.3MB/s eta 0:00:01\r",
      "\u001b[K     |█████████████████████████       | 870kB 16.3MB/s eta 0:00:01\r",
      "\u001b[K     |█████████████████████████▎      | 880kB 16.3MB/s eta 0:00:01\r",
      "\u001b[K     |█████████████████████████▋      | 890kB 16.3MB/s eta 0:00:01\r",
      "\u001b[K     |█████████████████████████▉      | 901kB 16.3MB/s eta 0:00:01\r",
      "\u001b[K     |██████████████████████████▏     | 911kB 16.3MB/s eta 0:00:01\r",
      "\u001b[K     |██████████████████████████▌     | 921kB 16.3MB/s eta 0:00:01\r",
      "\u001b[K     |██████████████████████████▊     | 931kB 16.3MB/s eta 0:00:01\r",
      "\u001b[K     |███████████████████████████     | 942kB 16.3MB/s eta 0:00:01\r",
      "\u001b[K     |███████████████████████████▎    | 952kB 16.3MB/s eta 0:00:01\r",
      "\u001b[K     |███████████████████████████▋    | 962kB 16.3MB/s eta 0:00:01\r",
      "\u001b[K     |████████████████████████████    | 972kB 16.3MB/s eta 0:00:01\r",
      "\u001b[K     |████████████████████████████▏   | 983kB 16.3MB/s eta 0:00:01\r",
      "\u001b[K     |████████████████████████████▌   | 993kB 16.3MB/s eta 0:00:01\r",
      "\u001b[K     |████████████████████████████▉   | 1.0MB 16.3MB/s eta 0:00:01\r",
      "\u001b[K     |█████████████████████████████   | 1.0MB 16.3MB/s eta 0:00:01\r",
      "\u001b[K     |█████████████████████████████▍  | 1.0MB 16.3MB/s eta 0:00:01\r",
      "\u001b[K     |█████████████████████████████▊  | 1.0MB 16.3MB/s eta 0:00:01\r",
      "\u001b[K     |██████████████████████████████  | 1.0MB 16.3MB/s eta 0:00:01\r",
      "\u001b[K     |██████████████████████████████▎ | 1.1MB 16.3MB/s eta 0:00:01\r",
      "\u001b[K     |██████████████████████████████▋ | 1.1MB 16.3MB/s eta 0:00:01\r",
      "\u001b[K     |██████████████████████████████▉ | 1.1MB 16.3MB/s eta 0:00:01\r",
      "\u001b[K     |███████████████████████████████▏| 1.1MB 16.3MB/s eta 0:00:01\r",
      "\u001b[K     |███████████████████████████████▍| 1.1MB 16.3MB/s eta 0:00:01\r",
      "\u001b[K     |███████████████████████████████▊| 1.1MB 16.3MB/s eta 0:00:01\r",
      "\u001b[K     |████████████████████████████████| 1.1MB 16.3MB/s \n",
      "\u001b[?25hInstalling collected packages: sentencepiece\n",
      "Successfully installed sentencepiece-0.1.94\n"
     ]
    }
   ],
   "source": [
    "import tensorflow as tf\n",
    "\n",
    "import matplotlib.pyplot as plt\n",
    "import matplotlib.ticker as ticker\n",
    "from sklearn.model_selection import train_test_split\n",
    "!pip install sentencepiece\n",
    "from sentencepiece import *\n",
    "\n",
    "import unicodedata\n",
    "import re\n",
    "import numpy as np\n",
    "import pandas as pd\n",
    "import os\n",
    "import io\n",
    "import time\n",
    "from tqdm import tqdm\n",
    "\n",
    "import collections"
   ]
  },
  {
   "cell_type": "markdown",
   "metadata": {
    "id": "sdJ9dD2Vyn_T"
   },
   "source": [
    "# Prepare txt data"
   ]
  },
  {
   "cell_type": "code",
   "execution_count": 4,
   "metadata": {
    "ExecuteTime": {
     "end_time": "2020-12-11T15:42:27.073915Z",
     "start_time": "2020-12-11T15:42:27.059918Z"
    },
    "id": "AvyzDGogyn_U"
   },
   "outputs": [],
   "source": [
    "def preprocess_sentence(w):\n",
    "    # creating a space between a word and the punctuation following it\n",
    "    # eg: \"he is a boy.\" => \"he is a boy .\"\n",
    "    # Reference:- https://stackoverflow.com/questions/3645931/python-padding-punctuation-with-white-spaces-keeping-punctuation\n",
    "    try:\n",
    "      w = w.lower().strip()\n",
    "      w = re.sub(r\"([?.!,¿])\", r\" \\1 \", w)\n",
    "      w = re.sub(r'[\" \"]+', \" \", w)\n",
    "\n",
    "      # replacing everything with space except (a-z, A-Z, \".\", \"?\", \"!\", \",\")\n",
    "      w = re.sub(r\"[^a-zA-Z0-9가-힣?.!,¿]+\", \" \", w)\n",
    "\n",
    "      w = w.strip()\n",
    "\n",
    "      # adding a start and an end token to the sentence\n",
    "      # so that the model know when to start and stop predicting.\n",
    "      w = '<start> ' + w + ' <end>'\n",
    "    except:\n",
    "      w = re.sub(r\"([?.!,¿])\", r\" \\1 \", w)\n",
    "      w = re.sub(r'[\" \"]+', \" \", w)\n",
    "\n",
    "      # replacing everything with space except (a-z, A-Z, \".\", \"?\", \"!\", \",\")\n",
    "      w = re.sub(r\"[^a-zA-Z0-9가-힣?.!,¿]+\", \" \", w)\n",
    "\n",
    "      w = w.strip()\n",
    "\n",
    "      # adding a start and an end token to the sentence\n",
    "      # so that the model know when to start and stop predicting.\n",
    "      w = '<start> ' + w + ' <end>'\n",
    "    return w"
   ]
  },
  {
   "cell_type": "code",
   "execution_count": 5,
   "metadata": {
    "id": "YfWpfacJ5iPZ"
   },
   "outputs": [],
   "source": [
    "path = '/content/drive/MyDrive/딥러닝기말/1_구어체(1)_200226.xlsx'"
   ]
  },
  {
   "cell_type": "code",
   "execution_count": 6,
   "metadata": {
    "ExecuteTime": {
     "end_time": "2020-12-11T15:42:27.089922Z",
     "start_time": "2020-12-11T15:42:27.075920Z"
    },
    "id": "7zlVdUXI8ZXF"
   },
   "outputs": [],
   "source": [
    "def create_dataset(path, num_examples):\n",
    "  #en_ko.txt 열 때\n",
    "  #lines = io.open(path, encoding='cp949').read().strip().split('\\n')[1:-1]\n",
    "  # word_pairs = [[preprocess_sentence(re.sub('\\\"\\)\\,','',w)) for w in l.split('\\\", \"')]  for l in lines[:num_examples]]\n",
    "  data = pd.read_excel(path)\n",
    "  data = data.sample(frac=1).reset_index(drop=True)[:num_examples]\n",
    "  word_pairs = [[preprocess_sentence(e),preprocess_sentence(k)]  for index, (k,e) in enumerate(zip(data['원문'],data['번역문']))]\n",
    "\n",
    "  return zip(*word_pairs)"
   ]
  },
  {
   "cell_type": "code",
   "execution_count": 7,
   "metadata": {
    "id": "1P6IsiPOBY3E"
   },
   "outputs": [],
   "source": [
    "en, ko = create_dataset(path,50000)"
   ]
  },
  {
   "cell_type": "code",
   "execution_count": 8,
   "metadata": {
    "ExecuteTime": {
     "end_time": "2020-12-11T15:42:39.048643Z",
     "start_time": "2020-12-11T15:42:39.034008Z"
    },
    "colab": {
     "base_uri": "https://localhost:8080/"
    },
    "id": "G5-u2M9H8ZXK",
    "outputId": "ff2ac1de-7aa0-4fdb-c726-a5ca26d63f5a"
   },
   "outputs": [
    {
     "name": "stdout",
     "output_type": "stream",
     "text": [
      "<start> i m sorry , but i m busy . <end>\n",
      "<start> 미안하지만 난 지금 바빠요 . <end>\n"
     ]
    }
   ],
   "source": [
    "print(en[2999])\n",
    "print(ko[2999])"
   ]
  },
  {
   "cell_type": "markdown",
   "metadata": {
    "id": "N1Ei1_WIyn_U"
   },
   "source": [
    "# Tokenize & padding\n",
    "* tokenizer : SentencePiece tokenizer 사용"
   ]
  },
  {
   "cell_type": "code",
   "execution_count": 9,
   "metadata": {
    "ExecuteTime": {
     "end_time": "2020-12-11T15:42:40.092703Z",
     "start_time": "2020-12-11T15:42:39.511341Z"
    },
    "id": "g5SmWx2T8ZXR"
   },
   "outputs": [],
   "source": [
    "with open('target_sentences.txt', 'w', encoding='utf-8') as f:\n",
    "    for sent in ko:\n",
    "        f.write('{}\\n'.format(sent))"
   ]
  },
  {
   "cell_type": "code",
   "execution_count": 10,
   "metadata": {
    "ExecuteTime": {
     "end_time": "2020-12-11T15:42:39.506453Z",
     "start_time": "2020-12-11T15:42:39.051168Z"
    },
    "id": "ZpGVtkbK8ZXO"
   },
   "outputs": [],
   "source": [
    "with open('source_sentences.txt', 'w', encoding='utf-8') as f:\n",
    "    for sent in en:\n",
    "        f.write('{}\\n'.format(sent))"
   ]
  },
  {
   "cell_type": "code",
   "execution_count": 11,
   "metadata": {
    "ExecuteTime": {
     "end_time": "2020-12-11T15:43:27.903964Z",
     "start_time": "2020-12-11T15:43:27.889707Z"
    },
    "id": "e9CfgUA58ZXj"
   },
   "outputs": [],
   "source": [
    "input_arg = '--input=source_sentences.txt --model_prefix=source --pad_id=0 --pad_piece=<pad> --unk_id=1 --unk_piece=<unk> --bos_piece=<start> --bos_id=2 --eos_piece=<end> --eos_id=3 --user_defined_symbols=<start>,<end> --vocab_size=20000 --hard_vocab_limit=false'\n",
    "SentencePieceTrainer.train(input_arg)\n",
    "sp_s = SentencePieceProcessor()\n",
    "sp_s.Load('source.model')\n",
    "\n",
    "output_arg = '--input=target_sentences.txt --model_prefix=target --pad_id=0 --pad_piece=<pad> --unk_id=1 --unk_piece=<unk> --bos_piece=<start> --bos_id=2 --eos_piece=<end> --eos_id=3 --user_defined_symbols=<start>,<end> --vocab_size=20000 --hard_vocab_limit=false'\n",
    "SentencePieceTrainer.Train(output_arg)\n",
    "sp_t = SentencePieceProcessor()\n",
    "sp_t.Load('target.model')\n",
    "\n",
    "\n",
    "input_tensor = [sp_s.encode_as_ids(lg)[1:] for lg in en]\n",
    "input_tensor = tf.keras.preprocessing.sequence.pad_sequences(input_tensor,padding='post')\n",
    "\n",
    "target_tensor = [sp_t.encode_as_ids(lg)[1:] for lg in ko]\n",
    "target_tensor = tf.keras.preprocessing.sequence.pad_sequences(target_tensor,padding='post')"
   ]
  },
  {
   "cell_type": "code",
   "execution_count": 12,
   "metadata": {
    "colab": {
     "base_uri": "https://localhost:8080/"
    },
    "id": "W2WiYzzpRFJN",
    "outputId": "28dfd468-d9cf-4714-9f17-834129763dfd"
   },
   "outputs": [
    {
     "data": {
      "text/plain": [
       "array([[  2,  25,  34, ...,   0,   0,   0],\n",
       "       [  2,  83,  16, ...,   0,   0,   0],\n",
       "       [  2,  69,  10, ...,   0,   0,   0],\n",
       "       ...,\n",
       "       [  2,   6, 247, ...,   0,   0,   0],\n",
       "       [  2,   8,  50, ...,   0,   0,   0],\n",
       "       [  2,  18, 340, ...,   0,   0,   0]], dtype=int32)"
      ]
     },
     "execution_count": 12,
     "metadata": {
      "tags": []
     },
     "output_type": "execute_result"
    }
   ],
   "source": [
    "input_tensor"
   ]
  },
  {
   "cell_type": "code",
   "execution_count": 13,
   "metadata": {
    "ExecuteTime": {
     "end_time": "2020-12-11T15:43:27.887998Z",
     "start_time": "2020-12-11T15:43:27.698706Z"
    },
    "id": "UQam5jBj8ZXh"
   },
   "outputs": [],
   "source": [
    "with open('source.vocab', encoding='utf-8') as f:\n",
    "    Vi = [doc.strip().split(\"\\t\") for doc in f]\n",
    "    \n",
    "with open('target.vocab', encoding='utf-8') as f:\n",
    "    Vo = [doc.strip().split(\"\\t\") for doc in f]\n",
    "\n",
    "# w[0]: token name    \n",
    "# w[1]: token score\n",
    "word2idx_i = {w[0]: i for i, w in enumerate(Vi)}\n",
    "word2idx_o = {w[0]: i for i, w in enumerate(Vo)}\n",
    "\n",
    "idx2word_i = {i : w[0] for i, w in enumerate(Vi)}\n",
    "idx2word_o = {i : w[0] for i, w in enumerate(Vo)}"
   ]
  },
  {
   "cell_type": "code",
   "execution_count": 14,
   "metadata": {
    "ExecuteTime": {
     "end_time": "2020-12-11T15:44:27.586559Z",
     "start_time": "2020-12-11T15:44:27.573104Z"
    },
    "id": "piO1iQwByn_U"
   },
   "outputs": [],
   "source": [
    "max_length_targ, max_length_inp = target_tensor.shape[1], input_tensor.shape[1]"
   ]
  },
  {
   "cell_type": "code",
   "execution_count": 15,
   "metadata": {
    "ExecuteTime": {
     "end_time": "2020-12-11T15:44:27.756240Z",
     "start_time": "2020-12-11T15:44:27.588261Z"
    },
    "colab": {
     "base_uri": "https://localhost:8080/"
    },
    "id": "hQR4O7RLyn_U",
    "outputId": "f1205a46-b752-418b-a04a-3390c0e3937a"
   },
   "outputs": [
    {
     "name": "stdout",
     "output_type": "stream",
     "text": [
      "40000 40000 10000 10000\n"
     ]
    }
   ],
   "source": [
    "# Creating training and validation sets using an 80-20 split\n",
    "input_tensor_train, input_tensor_val, target_tensor_train, target_tensor_val = train_test_split(input_tensor, target_tensor, test_size=0.2)\n",
    "\n",
    "# Show length\n",
    "print(len(input_tensor_train), len(target_tensor_train), len(input_tensor_val), len(target_tensor_val))"
   ]
  },
  {
   "cell_type": "code",
   "execution_count": 16,
   "metadata": {
    "ExecuteTime": {
     "end_time": "2020-12-11T15:44:27.818990Z",
     "start_time": "2020-12-11T15:44:27.804989Z"
    },
    "id": "i_p2_C5w8ZXz"
   },
   "outputs": [],
   "source": [
    "def convert_source(tensor):\n",
    "    for t in tensor:\n",
    "        if t!=0:\n",
    "            print (\"%d ----> %s\" % (t, idx2word_i[t]))\n",
    "\n",
    "def convert_target(tensor):\n",
    "    for t in tensor:\n",
    "        if t!=0:\n",
    "            print (\"%d ----> %s\" % (t, idx2word_o[t]))"
   ]
  },
  {
   "cell_type": "code",
   "execution_count": 17,
   "metadata": {
    "ExecuteTime": {
     "end_time": "2020-12-11T15:44:27.833992Z",
     "start_time": "2020-12-11T15:44:27.820992Z"
    },
    "colab": {
     "base_uri": "https://localhost:8080/"
    },
    "id": "XjKtfYxSyn_U",
    "outputId": "1e4acca0-ce03-40c5-ffcc-2d36a8a4e4ad"
   },
   "outputs": [
    {
     "name": "stdout",
     "output_type": "stream",
     "text": [
      "Input Language; index to word mapping\n",
      "2 ----> <start>\n",
      "63 ----> ▁he\n",
      "315 ----> ▁came\n",
      "15 ----> ▁of\n",
      "888 ----> ▁age\n",
      "4 ----> ▁\n",
      "5 ----> .\n",
      "4 ----> ▁\n",
      "3 ----> <end>\n",
      "None\n",
      "\n",
      " Target Language; index to word mapping\n",
      "2 ----> <start>\n",
      "25 ----> ▁그\n",
      "8 ----> 는\n",
      "234 ----> ▁이제\n",
      "12208 ----> ▁성년\n",
      "13 ----> 이\n",
      "1029 ----> ▁되었어\n",
      "7 ----> 요\n",
      "4 ----> ▁\n",
      "5 ----> .\n",
      "4 ----> ▁\n",
      "3 ----> <end>\n",
      "None\n"
     ]
    }
   ],
   "source": [
    "print (\"Input Language; index to word mapping\")\n",
    "print(convert_source(input_tensor[1989]))\n",
    "print (\"\\n Target Language; index to word mapping\")\n",
    "print(convert_target(target_tensor[1989]))"
   ]
  },
  {
   "cell_type": "markdown",
   "metadata": {
    "id": "cjoRS1byyn_U"
   },
   "source": [
    "# Create a tf.data dataset"
   ]
  },
  {
   "cell_type": "code",
   "execution_count": 18,
   "metadata": {
    "ExecuteTime": {
     "end_time": "2020-12-11T15:45:39.341212Z",
     "start_time": "2020-12-11T15:45:39.298998Z"
    },
    "id": "0syuGP5hyn_V"
   },
   "outputs": [],
   "source": [
    "BUFFER_SIZE = len(input_tensor_train)\n",
    "BATCH_SIZE = 64\n",
    "steps_per_epoch = len(input_tensor_train)//BATCH_SIZE\n",
    "embedding_dim = 512\n",
    "units = 1024\n",
    "vocab_inp_size = len(word2idx_i)+1\n",
    "vocab_tar_size = len(word2idx_o)+1\n",
    "\n",
    "dataset = tf.data.Dataset.from_tensor_slices((input_tensor_train, target_tensor_train)).shuffle(BUFFER_SIZE)\n",
    "dataset = dataset.batch(BATCH_SIZE, drop_remainder=True)"
   ]
  },
  {
   "cell_type": "code",
   "execution_count": 19,
   "metadata": {
    "colab": {
     "base_uri": "https://localhost:8080/"
    },
    "id": "irmvzNaPzBNl",
    "outputId": "216eb143-52b3-4eeb-e881-59b86973278a"
   },
   "outputs": [
    {
     "data": {
      "text/plain": [
       "625"
      ]
     },
     "execution_count": 19,
     "metadata": {
      "tags": []
     },
     "output_type": "execute_result"
    }
   ],
   "source": [
    "steps_per_epoch"
   ]
  },
  {
   "cell_type": "code",
   "execution_count": 20,
   "metadata": {
    "ExecuteTime": {
     "end_time": "2020-12-11T15:45:41.696516Z",
     "start_time": "2020-12-11T15:45:41.052067Z"
    },
    "colab": {
     "base_uri": "https://localhost:8080/"
    },
    "id": "MhNhUk2qyn_V",
    "outputId": "f19ecce5-182e-4002-e9bd-de6ee463487e"
   },
   "outputs": [
    {
     "data": {
      "text/plain": [
       "(TensorShape([64, 62]), TensorShape([64, 53]))"
      ]
     },
     "execution_count": 20,
     "metadata": {
      "tags": []
     },
     "output_type": "execute_result"
    }
   ],
   "source": [
    "example_input_batch, example_target_batch = next(iter(dataset))\n",
    "example_input_batch.shape, example_target_batch.shape"
   ]
  },
  {
   "cell_type": "code",
   "execution_count": 21,
   "metadata": {
    "ExecuteTime": {
     "end_time": "2020-12-11T15:45:41.790684Z",
     "start_time": "2020-12-11T15:45:41.772684Z"
    },
    "id": "KDLfxz4Dyn_V"
   },
   "outputs": [],
   "source": [
    "class Encoder(tf.keras.Model):\n",
    "  def __init__(self, vocab_size, embedding_dim, enc_units, batch_sz):\n",
    "    super(Encoder, self).__init__()\n",
    "    self.batch_sz = batch_sz\n",
    "    self.enc_units = enc_units\n",
    "    self.embedding = tf.keras.layers.Embedding(vocab_size, embedding_dim)\n",
    "    self.gru = tf.keras.layers.GRU(self.enc_units,\n",
    "                                   return_sequences=True,\n",
    "                                   return_state=True,\n",
    "                                   recurrent_initializer='glorot_uniform') #Decoder의 initial state 사용\n",
    "\n",
    "  def call(self, x, hidden):\n",
    "    x = self.embedding(x)\n",
    "    output, state = self.gru(x, initial_state = hidden)\n",
    "    return output, state\n",
    "    \n",
    "    # encoder의 hidden state을 초기화\n",
    "  def initialize_hidden_state(self):\n",
    "    return tf.zeros((self.batch_sz, self.enc_units))"
   ]
  },
  {
   "cell_type": "code",
   "execution_count": 22,
   "metadata": {
    "ExecuteTime": {
     "end_time": "2020-12-11T15:45:48.645194Z",
     "start_time": "2020-12-11T15:45:47.156414Z"
    },
    "colab": {
     "base_uri": "https://localhost:8080/"
    },
    "id": "5-cvbqxLyn_V",
    "outputId": "27a1b6b2-f54b-4150-e21e-b9fa17c57e68"
   },
   "outputs": [
    {
     "name": "stdout",
     "output_type": "stream",
     "text": [
      "Encoder output shape: (batch size, sequence length, units) (64, 62, 1024)\n",
      "Encoder Hidden state shape: (batch size, units) (64, 1024)\n"
     ]
    }
   ],
   "source": [
    "encoder = Encoder(vocab_inp_size, embedding_dim, units, BATCH_SIZE)\n",
    "\n",
    "# sample input\n",
    "sample_hidden = encoder.initialize_hidden_state()\n",
    "sample_output, sample_hidden = encoder(example_input_batch, sample_hidden)\n",
    "print ('Encoder output shape: (batch size, sequence length, units) {}'.format(sample_output.shape))\n",
    "print ('Encoder Hidden state shape: (batch size, units) {}'.format(sample_hidden.shape))"
   ]
  },
  {
   "cell_type": "code",
   "execution_count": 23,
   "metadata": {
    "ExecuteTime": {
     "end_time": "2020-12-11T15:45:56.789634Z",
     "start_time": "2020-12-11T15:45:56.776649Z"
    },
    "id": "XxjKRCEJyn_V"
   },
   "outputs": [],
   "source": [
    "class BahdanauAttention(tf.keras.layers.Layer):\n",
    "  def __init__(self, units):\n",
    "    super(BahdanauAttention, self).__init__()\n",
    "    self.W1 = tf.keras.layers.Dense(units)\n",
    "    self.W2 = tf.keras.layers.Dense(units)\n",
    "    self.V = tf.keras.layers.Dense(1)\n",
    "\n",
    "  def call(self, query, values):\n",
    "    # values : hidden state(encoder의 output)\n",
    "    # query : decoder의 hidden state\n",
    "    # query hidden state shape == (batch_size, hidden size)\n",
    "    # query_with_time_axis shape == (batch_size, 1, hidden size)\n",
    "    # values shape == (batch_size, max_len, hidden size)\n",
    "    # we are doing this to broadcast addition along the time axis to calculate the score\n",
    "    hidden_with_time_axis = tf.expand_dims(query, 1)\n",
    "\n",
    "    # score shape == (batch_size, max_length, 1)\n",
    "    # we get 1 at the last axis because we are applying score to self.V\n",
    "    # the shape of the tensor before applying self.V is (batch_size, max_length, units)\n",
    "    score = self.V(tf.nn.tanh(\n",
    "        self.W1(hidden_with_time_axis) + self.W2(values)))\n",
    "\n",
    "    # attention_weights shape == (batch_size, max_length, 1)\n",
    "    attention_weights = tf.nn.softmax(score, axis=1)\n",
    "\n",
    "    # context_vector shape after sum == (batch_size, hidden_size)\n",
    "    context_vector = attention_weights * values\n",
    "    context_vector = tf.reduce_sum(context_vector, axis=1)\n",
    "\n",
    "    return context_vector, attention_weights"
   ]
  },
  {
   "cell_type": "code",
   "execution_count": 24,
   "metadata": {
    "ExecuteTime": {
     "end_time": "2020-12-11T15:45:57.274350Z",
     "start_time": "2020-12-11T15:45:57.206098Z"
    },
    "colab": {
     "base_uri": "https://localhost:8080/"
    },
    "id": "BA-XMq4Lyn_V",
    "outputId": "8472eeda-90c2-477a-d598-73ab35380052"
   },
   "outputs": [
    {
     "name": "stdout",
     "output_type": "stream",
     "text": [
      "Attention result shape: (batch size, units) (64, 1024)\n",
      "Attention weights shape: (batch_size, sequence_length, 1) (64, 62, 1)\n"
     ]
    }
   ],
   "source": [
    "attention_layer = BahdanauAttention(10)\n",
    "attention_result, attention_weights = attention_layer(sample_hidden, sample_output)\n",
    "\n",
    "print(\"Attention result shape: (batch size, units) {}\".format(attention_result.shape))\n",
    "print(\"Attention weights shape: (batch_size, sequence_length, 1) {}\".format(attention_weights.shape))"
   ]
  },
  {
   "cell_type": "code",
   "execution_count": 25,
   "metadata": {
    "ExecuteTime": {
     "end_time": "2020-12-11T15:46:13.026439Z",
     "start_time": "2020-12-11T15:46:13.014825Z"
    },
    "id": "7DO8W54Kyn_V"
   },
   "outputs": [],
   "source": [
    "class Decoder(tf.keras.Model):\n",
    "  def __init__(self, vocab_size, embedding_dim, dec_units, batch_sz):\n",
    "    super(Decoder, self).__init__()\n",
    "    self.batch_sz = batch_sz\n",
    "    self.dec_units = dec_units\n",
    "    self.embedding = tf.keras.layers.Embedding(vocab_size, embedding_dim)\n",
    "    self.gru = tf.keras.layers.GRU(self.dec_units,\n",
    "                                   return_sequences=True,\n",
    "                                   return_state=True,\n",
    "                                   recurrent_initializer='glorot_uniform')\n",
    "    self.fc = tf.keras.layers.Dense(vocab_size)\n",
    "    \n",
    "    # used for attention\n",
    "    self.attention = BahdanauAttention(self.dec_units)\n",
    "        \n",
    "  def call(self, x, hidden, enc_output): \n",
    "    #enc_output shape == (batch_size, max_length, hidden_size)\n",
    "    context_vector, attention_weights = self.attention(hidden, enc_output)\n",
    "\n",
    "    # x shape after passing through embedding == (batch_size, 1, embedding_dim)\n",
    "    x = self.embedding(x) # x : decoder에 input되는 word\n",
    "\n",
    "    # x shape after concatenation == (batch_size, 1, embedding_dim + hidden_size)\n",
    "    x = tf.concat([tf.expand_dims(context_vector, 1), x], axis=-1)\n",
    "\n",
    "    # passing the concatenated vector to the GRU\n",
    "    output, state = self.gru(x) #이전 step의 hidden state\n",
    "\n",
    "    # output shape == (batch_size * 1, hidden_size)\n",
    "    output = tf.reshape(output, (-1, output.shape[2]))\n",
    "\n",
    "    # output shape == (batch_size, vocab)\n",
    "    x = self.fc(output)\n",
    "\n",
    "    return x, state, attention_weights"
   ]
  },
  {
   "cell_type": "code",
   "execution_count": 26,
   "metadata": {
    "ExecuteTime": {
     "end_time": "2020-12-11T15:46:14.003216Z",
     "start_time": "2020-12-11T15:46:13.600887Z"
    },
    "colab": {
     "base_uri": "https://localhost:8080/"
    },
    "id": "DNivPwM1yn_V",
    "outputId": "8911c785-656c-4a14-9b7a-1d84880adc29"
   },
   "outputs": [
    {
     "name": "stdout",
     "output_type": "stream",
     "text": [
      "Decoder output shape: (batch_size, vocab size) (64, 20001)\n"
     ]
    }
   ],
   "source": [
    "decoder = Decoder(vocab_tar_size, embedding_dim, units, BATCH_SIZE)\n",
    "\n",
    "sample_decoder_output, _, _ = decoder(tf.random.uniform((BATCH_SIZE, 1)),\n",
    "                                      sample_hidden, sample_output)\n",
    "\n",
    "print ('Decoder output shape: (batch_size, vocab size) {}'.format(sample_decoder_output.shape))"
   ]
  },
  {
   "cell_type": "markdown",
   "metadata": {
    "id": "rkKmYcnFyn_V"
   },
   "source": [
    "# Define the optimizer and the loss function"
   ]
  },
  {
   "cell_type": "code",
   "execution_count": 27,
   "metadata": {
    "ExecuteTime": {
     "end_time": "2020-12-11T15:46:22.690811Z",
     "start_time": "2020-12-11T15:46:22.672575Z"
    },
    "id": "tJoIMZz-yn_V"
   },
   "outputs": [],
   "source": [
    "optimizer = tf.keras.optimizers.Adam()\n",
    "loss_object = tf.keras.losses.SparseCategoricalCrossentropy(\n",
    "    from_logits=True, reduction='none')\n",
    "\n",
    "def loss_function(real, pred):\n",
    "  mask = tf.math.logical_not(tf.math.equal(real, 0)) #padding 부분 없앰\n",
    "  loss_ = loss_object(real, pred)\n",
    "\n",
    "  mask = tf.cast(mask, dtype=loss_.dtype)\n",
    "  loss_ *= mask\n",
    "\n",
    "  return tf.reduce_mean(loss_)"
   ]
  },
  {
   "cell_type": "code",
   "execution_count": 28,
   "metadata": {
    "ExecuteTime": {
     "end_time": "2020-12-11T15:46:29.370295Z",
     "start_time": "2020-12-11T15:46:29.360297Z"
    },
    "id": "0BKp4oUQyn_V"
   },
   "outputs": [],
   "source": [
    "@tf.function\n",
    "def train_step(inp, targ, enc_hidden):\n",
    "  loss = 0\n",
    "\n",
    "  with tf.GradientTape() as tape:\n",
    "    enc_output, enc_hidden = encoder(inp, enc_hidden)\n",
    "\n",
    "    dec_hidden = enc_hidden\n",
    "\n",
    "    dec_input = tf.expand_dims([word2idx_o['<start>']] * BATCH_SIZE, 1)\n",
    "\n",
    "    # Teacher forcing - feeding the target as the next input\n",
    "    for t in range(1, targ.shape[1]):\n",
    "      # passing enc_output to the decoder\n",
    "      predictions, dec_hidden, _ = decoder(dec_input, dec_hidden, enc_output)\n",
    "\n",
    "      loss += loss_function(targ[:, t], predictions)\n",
    "\n",
    "      # using teacher forcing\n",
    "      dec_input = tf.expand_dims(targ[:, t], 1)\n",
    "\n",
    "  batch_loss = (loss / int(targ.shape[1]))\n",
    "\n",
    "  variables = encoder.trainable_variables + decoder.trainable_variables\n",
    "\n",
    "  gradients = tape.gradient(loss, variables)\n",
    "\n",
    "  optimizer.apply_gradients(zip(gradients, variables))\n",
    "\n",
    "  return batch_loss"
   ]
  },
  {
   "cell_type": "markdown",
   "metadata": {
    "id": "hERE-QVmyn_V"
   },
   "source": [
    "# Train"
   ]
  },
  {
   "cell_type": "code",
   "execution_count": 29,
   "metadata": {
    "ExecuteTime": {
     "end_time": "2020-12-11T15:46:30.827043Z",
     "start_time": "2020-12-11T15:46:30.807985Z"
    },
    "colab": {
     "base_uri": "https://localhost:8080/"
    },
    "id": "BWnyVIoSyn_V",
    "outputId": "bfa1e28c-f6b2-4be6-f9af-38b8585bb7e4"
   },
   "outputs": [
    {
     "data": {
      "text/plain": [
       "<BatchDataset shapes: ((64, 62), (64, 53)), types: (tf.int32, tf.int32)>"
      ]
     },
     "execution_count": 29,
     "metadata": {
      "tags": []
     },
     "output_type": "execute_result"
    }
   ],
   "source": [
    "dataset"
   ]
  },
  {
   "cell_type": "code",
   "execution_count": 30,
   "metadata": {
    "id": "wnMFeVQJOUKS"
   },
   "outputs": [],
   "source": [
    "checkpoint_dir = './training_checkpoints'\n",
    "checkpoint_prefix = os.path.join(checkpoint_dir, \"ckpt\")\n",
    "checkpoint = tf.train.Checkpoint(optimizer=optimizer,\n",
    "                                 encoder=encoder,\n",
    "                                 decoder=decoder)"
   ]
  },
  {
   "cell_type": "code",
   "execution_count": 31,
   "metadata": {
    "ExecuteTime": {
     "start_time": "2020-12-11T15:46:41.922Z"
    },
    "colab": {
     "base_uri": "https://localhost:8080/"
    },
    "id": "wfSVoR2Uyn_W",
    "outputId": "a6652b9c-aed2-4835-a759-56614bc5dbb3"
   },
   "outputs": [
    {
     "name": "stdout",
     "output_type": "stream",
     "text": [
      "Epoch 1 Batch 0 Loss 3.0541\n",
      "Epoch 1 Batch 100 Loss 1.7984\n",
      "Epoch 1 Batch 200 Loss 1.4862\n",
      "Epoch 1 Batch 300 Loss 1.4912\n",
      "Epoch 1 Batch 400 Loss 1.4210\n",
      "Epoch 1 Batch 500 Loss 1.4342\n",
      "Epoch 1 Batch 600 Loss 1.5240\n",
      "Epoch 1 Loss 1.6276\n",
      "Time taken for 1 epoch 590.8694491386414 sec\n",
      "\n",
      "Epoch 2 Batch 0 Loss 1.4317\n",
      "Epoch 2 Batch 100 Loss 1.5679\n",
      "Epoch 2 Batch 200 Loss 1.3128\n",
      "Epoch 2 Batch 300 Loss 1.3164\n",
      "Epoch 2 Batch 400 Loss 1.4041\n",
      "Epoch 2 Batch 500 Loss 1.2004\n",
      "Epoch 2 Batch 600 Loss 1.5608\n",
      "Epoch 2 Loss 1.3621\n",
      "Time taken for 1 epoch 545.9823062419891 sec\n",
      "\n",
      "Epoch 3 Batch 0 Loss 1.2687\n",
      "Epoch 3 Batch 100 Loss 1.3771\n",
      "Epoch 3 Batch 200 Loss 1.2265\n",
      "Epoch 3 Batch 300 Loss 1.3366\n",
      "Epoch 3 Batch 400 Loss 1.1338\n",
      "Epoch 3 Batch 500 Loss 1.2362\n",
      "Epoch 3 Batch 600 Loss 1.2727\n",
      "Epoch 3 Loss 1.2378\n",
      "Time taken for 1 epoch 547.6883497238159 sec\n",
      "\n",
      "Epoch 4 Batch 0 Loss 1.0548\n",
      "Epoch 4 Batch 100 Loss 1.2241\n",
      "Epoch 4 Batch 200 Loss 1.1942\n",
      "Epoch 4 Batch 300 Loss 1.0109\n",
      "Epoch 4 Batch 400 Loss 1.2600\n",
      "Epoch 4 Batch 500 Loss 1.1299\n",
      "Epoch 4 Batch 600 Loss 1.0905\n",
      "Epoch 4 Loss 1.1397\n",
      "Time taken for 1 epoch 547.0381202697754 sec\n",
      "\n",
      "Epoch 5 Batch 0 Loss 0.9824\n",
      "Epoch 5 Batch 100 Loss 0.9934\n",
      "Epoch 5 Batch 200 Loss 1.0297\n",
      "Epoch 5 Batch 300 Loss 1.0509\n",
      "Epoch 5 Batch 400 Loss 1.0359\n",
      "Epoch 5 Batch 500 Loss 0.9737\n",
      "Epoch 5 Batch 600 Loss 1.0084\n",
      "Epoch 5 Loss 1.0467\n",
      "Time taken for 1 epoch 546.6292669773102 sec\n",
      "\n",
      "Epoch 6 Batch 0 Loss 1.0406\n",
      "Epoch 6 Batch 100 Loss 0.8817\n",
      "Epoch 6 Batch 200 Loss 0.9419\n",
      "Epoch 6 Batch 300 Loss 0.9973\n",
      "Epoch 6 Batch 400 Loss 0.8226\n",
      "Epoch 6 Batch 500 Loss 0.9643\n",
      "Epoch 6 Batch 600 Loss 0.9938\n",
      "Epoch 6 Loss 0.9526\n",
      "Time taken for 1 epoch 546.9882326126099 sec\n",
      "\n",
      "Epoch 7 Batch 0 Loss 0.8499\n",
      "Epoch 7 Batch 100 Loss 0.8562\n",
      "Epoch 7 Batch 200 Loss 0.7188\n",
      "Epoch 7 Batch 300 Loss 0.8551\n",
      "Epoch 7 Batch 400 Loss 0.8165\n",
      "Epoch 7 Batch 500 Loss 0.8161\n",
      "Epoch 7 Batch 600 Loss 0.8512\n",
      "Epoch 7 Loss 0.8548\n",
      "Time taken for 1 epoch 543.506364107132 sec\n",
      "\n",
      "Epoch 8 Batch 0 Loss 0.7725\n",
      "Epoch 8 Batch 100 Loss 0.7868\n",
      "Epoch 8 Batch 200 Loss 0.7714\n",
      "Epoch 8 Batch 300 Loss 0.6427\n",
      "Epoch 8 Batch 400 Loss 0.7449\n",
      "Epoch 8 Batch 500 Loss 0.7934\n",
      "Epoch 8 Batch 600 Loss 0.8096\n",
      "Epoch 8 Loss 0.7548\n",
      "Time taken for 1 epoch 545.7629752159119 sec\n",
      "\n",
      "Epoch 9 Batch 0 Loss 0.7176\n",
      "Epoch 9 Batch 100 Loss 0.6680\n",
      "Epoch 9 Batch 200 Loss 0.5857\n",
      "Epoch 9 Batch 300 Loss 0.7518\n",
      "Epoch 9 Batch 400 Loss 0.6840\n",
      "Epoch 9 Batch 500 Loss 0.6033\n",
      "Epoch 9 Batch 600 Loss 0.6625\n",
      "Epoch 9 Loss 0.6552\n",
      "Time taken for 1 epoch 543.7930505275726 sec\n",
      "\n",
      "Epoch 10 Batch 0 Loss 0.6227\n",
      "Epoch 10 Batch 100 Loss 0.4815\n",
      "Epoch 10 Batch 200 Loss 0.5970\n",
      "Epoch 10 Batch 300 Loss 0.5845\n",
      "Epoch 10 Batch 400 Loss 0.5450\n",
      "Epoch 10 Batch 500 Loss 0.5622\n",
      "Epoch 10 Batch 600 Loss 0.6039\n",
      "Epoch 10 Loss 0.5593\n",
      "Time taken for 1 epoch 546.0261998176575 sec\n",
      "\n"
     ]
    }
   ],
   "source": [
    "EPOCHS = 10\n",
    "\n",
    "for epoch in range(EPOCHS):\n",
    "  start = time.time()\n",
    "\n",
    "  enc_hidden = encoder.initialize_hidden_state()\n",
    "  total_loss = 0\n",
    "\n",
    "  for (batch, (inp, targ)) in enumerate(dataset.take(steps_per_epoch)):\n",
    "    batch_loss = train_step(inp, targ, enc_hidden)\n",
    "    total_loss += batch_loss\n",
    "\n",
    "    if batch % 100 == 0:\n",
    "      print('Epoch {} Batch {} Loss {:.4f}'.format(epoch + 1,\n",
    "                                                   batch,\n",
    "                                                   batch_loss.numpy()))\n",
    "  # saving (checkpoint) the model every 2 epochs\n",
    "  if (epoch + 1) % 2 == 0:\n",
    "    checkpoint.save(file_prefix = checkpoint_prefix)\n",
    "\n",
    "  print('Epoch {} Loss {:.4f}'.format(epoch + 1,\n",
    "                                        total_loss / steps_per_epoch))\n",
    "  print('Time taken for 1 epoch {} sec\\n'.format(time.time() - start))"
   ]
  },
  {
   "cell_type": "markdown",
   "metadata": {
    "id": "4YNTJ5jayn_W"
   },
   "source": [
    "# Evaluate"
   ]
  },
  {
   "cell_type": "code",
   "execution_count": 32,
   "metadata": {
    "ExecuteTime": {
     "end_time": "2020-12-11T15:43:30.149330Z",
     "start_time": "2020-12-11T15:41:58.970Z"
    },
    "id": "j_n1d4Q_yn_W"
   },
   "outputs": [],
   "source": [
    "def evaluate(sentence):\n",
    "  attention_plot = np.zeros((max_length_targ, max_length_inp))\n",
    "\n",
    "  sentence = preprocess_sentence(sentence)\n",
    "\n",
    "  inputs = [sp_s.encode_as_ids(sentence)[1:]]\n",
    "  inputs = tf.keras.preprocessing.sequence.pad_sequences(inputs,\n",
    "                                                         maxlen=max_length_inp,\n",
    "                                                         padding='post')\n",
    "  inputs = tf.convert_to_tensor(inputs)\n",
    "\n",
    "  result = []\n",
    "\n",
    "  hidden = [tf.zeros((1, units))]\n",
    "  enc_out, enc_hidden = encoder(inputs, hidden)\n",
    "\n",
    "  dec_hidden = enc_hidden\n",
    "  dec_input = tf.expand_dims([word2idx_o['<start>']], 0)\n",
    "\n",
    "  for t in range(max_length_targ):\n",
    "    predictions, dec_hidden, attention_weights = decoder(dec_input,\n",
    "                                                         dec_hidden,\n",
    "                                                         enc_out)\n",
    "\n",
    "    # storing the attention weights to plot later on\n",
    "    attention_weights = tf.reshape(attention_weights, (-1, ))\n",
    "    attention_plot[t] = attention_weights.numpy()\n",
    "\n",
    "    predicted_id = tf.argmax(predictions[0]).numpy()\n",
    "\n",
    "    result.append(int(predicted_id))\n",
    "\n",
    "    if predicted_id == 3:\n",
    "      return result, sentence, attention_plot\n",
    "\n",
    "    # the predicted ID is fed back into the model\n",
    "    dec_input = tf.expand_dims([predicted_id], 0)\n",
    "\n",
    "  return result, sentence, attention_plot"
   ]
  },
  {
   "cell_type": "code",
   "execution_count": 33,
   "metadata": {
    "id": "zyiMBx6y8ZY0"
   },
   "outputs": [],
   "source": [
    "import matplotlib.pyplot as plt\n",
    "def plot_attention(attention, sentence, predicted_sentence):\n",
    "    fig = plt.figure(figsize=(10,10))\n",
    "    ax = fig.add_subplot(1, 1, 1)\n",
    "    ax.matshow(attention, cmap='viridis')\n",
    "\n",
    "    fontdict = {'fontsize': 14}\n",
    "\n",
    "    ax.set_xticklabels([''] + sentence, fontdict=fontdict, rotation=90)\n",
    "    ax.set_yticklabels([''] + predicted_sentence, fontdict=fontdict)\n",
    "\n",
    "    ax.xaxis.set_major_locator(ticker.MultipleLocator(1))\n",
    "    ax.yaxis.set_major_locator(ticker.MultipleLocator(1))\n",
    "\n",
    "    plt.show()"
   ]
  },
  {
   "cell_type": "code",
   "execution_count": 34,
   "metadata": {
    "id": "G35FJRNo8ZY1"
   },
   "outputs": [],
   "source": [
    "def translate(sentence):\n",
    "    result, sentence, attention_plot = evaluate(sentence)\n",
    "    result = sp_t.DecodeIds(result)\n",
    "\n",
    "    print('Input: %s' % (sentence))\n",
    "    print('Predicted translation: {}\\n'.format(result))\n",
    "\n",
    "    #attention_plot = attention_plot[:len(result.split(' ')), :len(sentence.split(' '))]\n",
    "    #plot_attention(attention_plot, sentence.split(' '), result.split(' '))"
   ]
  },
  {
   "cell_type": "code",
   "execution_count": 42,
   "metadata": {
    "id": "zTXVL4yY4HEJ"
   },
   "outputs": [],
   "source": [
    "def translate_plot(sentence):\n",
    "    result, sentence, attention_plot = evaluate(sentence)\n",
    "    result = sp_t.DecodeIds(result)\n",
    "\n",
    "    print('Input: %s' % (sentence))\n",
    "    print('Predicted translation: {}\\n'.format(result))\n",
    "\n",
    "    attention_plot = attention_plot[:len(result.split(' ')), :len(sentence.split(' '))]\n",
    "    plot_attention(attention_plot, sentence.split(' '), result.split(' '))"
   ]
  },
  {
   "cell_type": "code",
   "execution_count": 43,
   "metadata": {
    "colab": {
     "base_uri": "https://localhost:8080/"
    },
    "id": "6GzJS-_-4COe",
    "outputId": "8c536dfa-3eee-410b-a3b6-e983ff075be8"
   },
   "outputs": [
    {
     "name": "stdout",
     "output_type": "stream",
     "text": [
      "Input: <start> there are lots of benefits to a smartphone like this . <end>\n",
      "Predicted translation: 이는 이 세상에는 많은 종류의 특징이 있어요 . <end>\n",
      "\n",
      "Input: <start> can you have my haircut done by four o clock ? <end>\n",
      "Predicted translation: 내가 제가 브리즈번에 자전거를 잘라 주실 수 있어 ? <end>\n",
      "\n",
      "Input: <start> it isn t still proceeding even though i answered all the required questions in the press release form and paid for everything by using ethereum . <end>\n",
      "Predicted translation: 보도자료를 해결하기 때문에 확인해서는 해당 eac 사용한 문제를 할 수 없기 때문에 처음으로 진행되었는데 계속해서는 해당 eac 사용한 문제를 할 수 없기 때문에 처음으로 진행되었는데 계속해서는 해당 eac 사용한 문제를 할 수\n",
      "\n",
      "Input: <start> and now i can go in the water without being afraid and have fun <end>\n",
      "Predicted translation: 그리고 지금은 먹을 수 있어 . <end>\n",
      "\n",
      "Input: <start> this is very slimy . <end>\n",
      "Predicted translation: 이것은 정말 똑똑한 반지입니다 . <end>\n",
      "\n",
      "Input: <start> i practiced really hard but i couldn t pronounce it well . <end>\n",
      "Predicted translation: 나는 너무 아파서 탓할 수 없었습니다 . <end>\n",
      "\n",
      "Input: <start> doesn t the supervisor mind if we listen to the radio ? <end>\n",
      "Predicted translation: 우리가 라디오를 하지 않을까 ? <end>\n",
      "\n",
      "Input: <start> it is a line directed by romy park , ranging from illustration to product design and production . <end>\n",
      "Predicted translation: 이것은 일러스트레이션뿐만 아니라 , 이 제품은 일러스트레이션뿐만 아니라 , 이 제품은 일러스트레이션뿐만 아니라 , 이 제품은 일러스트레이션뿐만 아니라 , 이 제품은 일러스트레이션뿐만 아니라 , 이 제품은 일러스트\n",
      "\n",
      "Input: <start> i d like to ask if you can lower the price by 3 . <end>\n",
      "Predicted translation: 세 번째 제품을 주문하면 되는 것을 부탁드립니다 . <end>\n",
      "\n",
      "Input: <start> today korea is growing into a sports powerhouse . <end>\n",
      "Predicted translation: 오늘은 한국의 대표적인 인기를 좋아해요 . <end>\n",
      "\n",
      "Input: <start> i go to korea next month . <end>\n",
      "Predicted translation: 저는 다음 달에 한국으로 여행을 가요 . <end>\n",
      "\n",
      "Input: <start> if we listen to the most reasonable explanation in latex history , it goes like this . <end>\n",
      "Predicted translation: 이러한 이유로 이런 상황에서 이런 상황에서 이런 상황에서 이런 상황에서 이런 상황에서 이런 상황에서 이런 상황에서 이런 상황에서 이런 상황에서 이런 상황에서 이런 상황에서 이런 상황에서 이런 상황에서 이런 상황에서 이런 상황에서 이런 상황에서 이런 상황에서 이런 상황에서 이런 상황에서 이런 상황에서 이런 상황에서 이런 상황에서 이런 상황에서 이런 상황에서 이런 상황에서\n",
      "\n",
      "Input: <start> his life from his childhood to his death was written in order so that readers can easily understand . <end>\n",
      "Predicted translation: 그의 아들은 독자가 알기 전하게 들어왔으며 , 그의 아들은 무인도에게 살해당했다는 것을 옮길 정도로 한 번도로 쓰러져서를 구하지만 그의 아들은 무인도에게 살해당했다는 것을 옮길 정도\n",
      "\n",
      "Input: <start> as a music lover , i am eager to go there . <end>\n",
      "Predicted translation: 음악을 좋아하는 사람을 하고 싶어요 . <end>\n",
      "\n",
      "Input: <start> the strike zone is the space from the shoulder down until the knee . <end>\n",
      "Predicted translation: 스트라이크 존의 입장료는 휴가철에 위치한 뒷마당이 위치해요 . <end>\n",
      "\n",
      "Input: <start> i think living in dormitories is better than commuting to school everyday . <end>\n",
      "Predicted translation: 나는 매일 통학을 많이 즐깁니다 . <end>\n",
      "\n",
      "Input: <start> that is why i find it almost impossible to make sure that right comes before right . <end>\n",
      "Predicted translation: 그래서 내가 모르는 제가 제가 하면 그것을 할 때 누구에게나 넓은 책을 모르는 이유를 알 수 있습니다 . <end>\n",
      "\n",
      "Input: <start> i am looking forward to visiting your place . <end>\n",
      "Predicted translation: 나는 당신의 호텔에 묵고 있어 . <end>\n",
      "\n",
      "Input: <start> are you going to the station to meet him ? <end>\n",
      "Predicted translation: 그를 다시 돌아오나요 ? <end>\n",
      "\n",
      "Input: <start> i think i would die if i got that heart . <end>\n",
      "Predicted translation: 내가 제가 나를 믿는 것 같아 . <end>\n",
      "\n",
      "Input: <start> if i have something more to know . <end>\n",
      "Predicted translation: 내가 다른 사람을 할 수 있는 거야 . <end>\n",
      "\n",
      "Input: <start> sorry , would you turn it down a little ? <end>\n",
      "Predicted translation: 미안하지만 , , , , , , , , , , , , , , , , , , , , , , , , , \n",
      "\n",
      "Input: <start> this does not mean flaw . <end>\n",
      "Predicted translation: 이것이 결함이 아니에요 . <end>\n",
      "\n",
      "Input: <start> she is a warm hearted person . <end>\n",
      "Predicted translation: 그녀는 매우 게으르지 못해요 . <end>\n",
      "\n",
      "Input: <start> i have to work harder to understand and accept the cultural variety of existent in the u . s . <end>\n",
      "Predicted translation: 저는 앞으로도 꽃길만 , 저는 , 저는 앞으로도 꽃길만 , 저는 , 저는 앞으로도 꽃길만 , 저는 , 저는 앞으로도 꽃길만 , 저는 , 저는 앞으로도 꽃길\n",
      "\n",
      "Input: <start> i want my ticket for asiana airline , please . <end>\n",
      "Predicted translation: 저는  ⁇  항공으로 예약해 주세요 . <end>\n",
      "\n",
      "Input: <start> guess it with these words . <end>\n",
      "Predicted translation: 이것을 이를 하고 추론해 보세요 . <end>\n",
      "\n",
      "Input: <start> your profile photo is too sexy . <end>\n",
      "Predicted translation: 당신의 프로필 사진은 한 사진을 찍었습니다 . <end>\n",
      "\n",
      "Input: <start> i m trying to get to samchi street in dong incheon . <end>\n",
      "Predicted translation: 저는 부천에 있는 스시에 들러서 창문에 가는 중이에요 . <end>\n",
      "\n",
      "Input: <start> but please proceed with sony s products first . <end>\n",
      "Predicted translation: 아니면 더 많은 제품을 위한 내용을 요청합니다 . <end>\n",
      "\n",
      "Input: <start> it has been already 15 years since she passed away . <end>\n",
      "Predicted translation: 이미 그녀가 지 벌써 6개월이 되었습니다 . <end>\n",
      "\n",
      "Input: <start> for example , he makes sincere efforts to make time for family conversations . <end>\n",
      "Predicted translation: 예를 들어 , 그는 항상 가족들과 함께 , 그는 항상 가족들과 함께 , 그는 항상 가족들과 함께 , 그는 항상 가족들과 함께 , 그는 항상 가족들과 함께 , 그는 항상 가족들과 함께 , 그\n",
      "\n",
      "Input: <start> how was the good village shown in the movie ? <end>\n",
      "Predicted translation: 영화는 한 부패한 곡을 하던 거지 ? <end>\n",
      "\n",
      "Input: <start> the analysis of crisp sequences revealed the co evolution of host and virus genomes . <end>\n",
      "Predicted translation: crispdate 정치에 미치는 것입니다 . <end>\n",
      "\n",
      "Input: <start> this part is lean meat separated from beef to get marbled beef . <end>\n",
      "Predicted translation: 이 프로그램은 쇠고기에서  ⁇ 불을 나타내고 있습니다 . <end>\n",
      "\n",
      "Input: <start> can you please offer me a seat which i can straighten my legs on the airplane ? <end>\n",
      "Predicted translation: 비행기에서 제 핸드폰을 줄 수 있는 좌석을 줄 수 있는 좌석을 줄 수 있는 좌석을 줄 수 있는 좌석을 줄 수 있는 좌석을 줄 수 있는 좌석을 줄 수 있는 좌석을 줄 수 있는 좌석을 줄 수 있는 좌석을 줄 수 있는 좌석\n",
      "\n",
      "Input: <start> it is the most popular model in korea too . <end>\n",
      "Predicted translation: 한국의 가장 큰 명절이다는 것이 가장 유명한 한국의 가장 큰 할인점이에요 . <end>\n",
      "\n",
      "Input: <start> i m thinking of putting my house on sale . <end>\n",
      "Predicted translation: 우리 집을 팔려고 내놓을까 생각 중이에요 . <end>\n",
      "\n",
      "Input: <start> or can you make it so that it can be used ? <end>\n",
      "Predicted translation: 아니면 , 저희가 할 수 있는 게 좋을까 ? <end>\n",
      "\n",
      "Input: <start> i thought about something sexual . <end>\n",
      "Predicted translation: 나는 왠지 모르게 생각했습니다 . <end>\n",
      "\n",
      "Input: <start> please understand that time base service fee charge is unavoidable related to this service . <end>\n",
      "Predicted translation: 이 부분은 이 회사의 ok 및 중량이 필요합니다 . <end>\n",
      "\n",
      "Input: <start> my smartphone was broken , so i got your message late . <end>\n",
      "Predicted translation: 내 조카가 저에게 메시지가 틀리지만 제 메시지가 당신의 메시지가 당신의 메시지가 당신의 메시지가 당신의 메시지가 당신의 메시지가 당신의 메시지가 당신의 메시지가 당신의 메시지가 당신의 메시지가 당신의 메시지가 당신의\n",
      "\n",
      "Input: <start> could i get the materials related with xx which is described in page 20 of weight ? <end>\n",
      "Predicted translation: ac를 ipe와 함께 pms 수 있을까요 ? <end>\n",
      "\n",
      "Input: <start> the class starts at 2 o clock tomorrow . <end>\n",
      "Predicted translation: 내일은 오후 여섯 , 내일 오후 여섯 . <end>\n",
      "\n",
      "Input: <start> who ll win if a lion and a tiger fights ? <end>\n",
      "Predicted translation: 아시안 게임에서 행 경기장에 영유아에게 가벼운 분행 기차가 열리나요 ? <end>\n",
      "\n",
      "Input: <start> is there any one who knows its own skin type ? <end>\n",
      "Predicted translation: 이펙트에 동의하지 않은 방법이 있나요 ? <end>\n",
      "\n",
      "Input: <start> i want to choose a major related to law and the police force and work in the field related to law . <end>\n",
      "Predicted translation: 저는 법에 대한 연구의 법에 관한 분야에서 관한 연구를 하고 싶습니다 . <end>\n",
      "\n",
      "Input: <start> considering how people maintain relationships these days , the giftto has even more potential . <end>\n",
      "Predicted translation: 요즘은 빚이  ⁇ 지 말아야 할 때 , 이처럼 빚이  ⁇ 게  ⁇ 지 말아야 할 때 , 이처럼 빚이  ⁇ 게  ⁇ 지 말아야 할 때 , 이처럼\n",
      "\n",
      "Input: <start> to make a list of vip customers and regular customers , give a list of each field of what you know . <end>\n",
      "Predicted translation: vip에게 많은 이슈를 해결하기 위해 분야별로 바꿔서 보내기 위해서는 , 단골에 대해 언급합니다 . <end>\n",
      "\n",
      "Input: <start> we should not have met eunsu s brother after that . <end>\n",
      "Predicted translation: 우리는 한 번 만난 지 오래되었어요 . <end>\n",
      "\n",
      "Input: <start> you can always file a complaint at the police station s public service center . <end>\n",
      "Predicted translation: 당신은 샐러드바를 한눈에 대한 주점에서 레버를 한눈에 대한 주점에서 레버를 한눈에 대한 주점에서 레버를 한눈에 대한 주점에서 레버를 한눈에 대한 주점에서 레버를 한눈에 대한 주점에서 레버를 한눈에\n",
      "\n",
      "Input: <start> mom shows us rude habits . <end>\n",
      "Predicted translation: 엄마는 우리를 잘 알아졌어요 . <end>\n",
      "\n",
      "Input: <start> we need to educate them so that they can step forward and report to the teacher when there is something wrong going on . <end>\n",
      "Predicted translation: 우리는 그는 지 오래되었고 , 그는 지 오래되었고 , 그는 지 오래되었고 , 그는 지 오래되었고 , 그는 지 오래되었고 , 그는 지 오래되었고 , 그는 \n",
      "\n",
      "Input: <start> if you want , you can have a look at the inspection . <end>\n",
      "Predicted translation: 만약에 당신이 원하는 날짜에 들어갈 수 있습니다 . <end>\n",
      "\n",
      "Input: <start> if you become an illegal alien , then you cannot come to korea next time . <end>\n",
      "Predicted translation: 만약에 예약을 할 수 있습니다 . <end>\n",
      "\n",
      "Input: <start> we are sending distributor price on the fob condition again . <end>\n",
      "Predicted translation: 우리는 요청하신 제품을 다시 보내드립니다 . <end>\n",
      "\n",
      "Input: <start> if yet , please reconsider my suggestion of the last time . <end>\n",
      "Predicted translation: 아직도 안부를 알려주세요 . <end>\n",
      "\n",
      "Input: <start> now it s the world connected as one . <end>\n",
      "Predicted translation: 이제 그 주연이 이륙 선수를 갖고 있어요 . <end>\n",
      "\n",
      "Input: <start> every moment of life is precious . <end>\n",
      "Predicted translation: 세상은 세상을 셉니다 . <end>\n",
      "\n",
      "Input: <start> it is too straight , so please don t cut it too short . <end>\n",
      "Predicted translation: 너무 자지 말고 좀 너무 두껍지도 않게 하지 마세요 . <end>\n",
      "\n",
      "Input: <start> i didn t know that you had a family . <end>\n",
      "Predicted translation: 나는 당신의 마지막 당신의 말을 알게 됐어요 . <end>\n",
      "\n",
      "Input: <start> so i asked my friend who s coming from korea to buy that . <end>\n",
      "Predicted translation: 그래서 친구가 한국에 놀러 갔어 . <end>\n",
      "\n",
      "Input: <start> why are you going on a vacation all of sudden ? <end>\n",
      "Predicted translation: 왜 당신은 에 왜 갑자기 휴가를 갑니까 ? <end>\n",
      "\n",
      "Input: <start> we leave the key and the money on the table as promised . <end>\n",
      "Predicted translation: 우리는 그의 시간을 위해 전화를 다합니다 . <end>\n",
      "\n",
      "Input: <start> i also thought that i should learn to treat the patient devotedly while watching this movie . <end>\n",
      "Predicted translation: 이 영화 후반전에 이 영화 후반 고등학교에 입학했을 것 같다는 것도 했기 때문에 나는 이 영화를 대하는 것도 봤을 때마다 이 영화를 대하는 것도 봤을 때마다 이 영화를 대하는 것도 봤을 때\n",
      "\n",
      "Input: <start> fortunately , i fell good after seeing the flowers . <end>\n",
      "Predicted translation: 다행히도 푹 자주 푹 , 나는 나뭇잎과 함께 살고 있어 . <end>\n",
      "\n",
      "Input: <start> the lesson that i am going to give you today is this . <end>\n",
      "Predicted translation: 오늘은 당신이 이 오늘 제가 당신에게 전화하는 이유는 내가 당신에게 전화하는 이유는 내가 당신에게 전화하는 이유는 내가 당신에게 전화하는 이유는 내가 당신에게 전화하는 이유는 내가 당신에게 전화하는 이유는 내가 당신에게 전화하는 이유는 내가 당신에게 전화하는 이유는 내가 당신에게 전화하는 이유는 내가\n",
      "\n",
      "Input: <start> i will study related to security during this summer vacation hard and will achieve my dream . <end>\n",
      "Predicted translation: 저는 이번 여름방학에도 이를 소개할 것입니다 . <end>\n",
      "\n",
      "Input: <start> as you know , i ve ordered the cup several times . <end>\n",
      "Predicted translation: 알다시피 , 나는 한 번도 한 번도 했습니다 . <end>\n",
      "\n",
      "Input: <start> but i hope you only take good memories . <end>\n",
      "Predicted translation: 그래도 좋은 기억만 뵙겠습니다 . <end>\n",
      "\n",
      "Input: <start> if i wan to talk politely , what and how should i do ? <end>\n",
      "Predicted translation: 내가 만약에 대해서 어떻게 하고 , 어떻게 하고 , 어떤 일을 하고 , 어떻게 하고 , 어떻게 하고 , 어떤 일을 하고 , 어떻게 하고 , 어떻게 하고 , 어떤 일을 하고\n",
      "\n",
      "Input: <start> the contents of this interview could be about your company and the current situation . <end>\n",
      "Predicted translation: 이번의 목적은 귀사와의 목적은 귀사와의 목적은 귀사와의 목적은 귀사에 대한 도움이 될 수 있습니다 . <end>\n",
      "\n",
      "Input: <start> i would like to give this as a gift to express my gratitude . <end>\n",
      "Predicted translation: 저는 이것을 위한 내용을 전하고 싶습니다 . <end>\n",
      "\n",
      "Input: <start> this picture is of the astronomical observation device which observed constellation and movement of celestial bodies . <end>\n",
      "Predicted translation: 이 사진은 한국의 움직임을 관찰하던 천문 관측대입니다 . <end>\n",
      "\n",
      "Input: <start> the typhoon swept through the region . <end>\n",
      "Predicted translation: 그 태풍이 걸음을 만났어요 . <end>\n",
      "\n",
      "Input: <start> an old friend became my girlfriend . <end>\n",
      "Predicted translation: 여자친구가 여자친구가 결혼했어요 . <end>\n",
      "\n",
      "Input: <start> where should i go to take the bus ? <end>\n",
      "Predicted translation: 버스는 어디서 타야 해요 ? <end>\n",
      "\n",
      "Input: <start> try to guess my job . <end>\n",
      "Predicted translation: 내 직업을 해야 합니다 . <end>\n",
      "\n",
      "Input: <start> jackal pulled out his battle knife . <end>\n",
      "Predicted translation: jackal은 주섬주섬  ⁇ 주섬  ⁇ 주섬  ⁇ 주섬  ⁇ 주섬  ⁇ 주섬 에례방울을 꺼냈어요 . <end>\n",
      "\n",
      "Input: <start> this is real time asmr mukbang with papabubble candy . <end>\n",
      "Predicted translation: 이것은 asmr 파는 asmr 양념의 헤어스타일입니다 . <end>\n",
      "\n",
      "Input: <start> this brand should be paid separately under the management policy . <end>\n",
      "Predicted translation: 이 프로그램은 프리미엄 뱅크 , 이 프로그램은 프리미엄 뱅크 , 이 프로그램은 프리미엄 뱅크 , 이 프로그램은 프리미엄 뱅크 , 이 프로그램은 프리미엄 뱅크 , 이 프로그램은 프리미엄 뱅크 \n",
      "\n",
      "Input: <start> i can go on wednesday because next week i have a family trip . <end>\n",
      "Predicted translation: 다음 주에 일주일에 갈 수 있어 . <end>\n",
      "\n",
      "Input: <start> you should be on time at this time . <end>\n",
      "Predicted translation: 당신은 이럴 때마다 이 끝내야만 합니다 . <end>\n",
      "\n",
      "Input: <start> i need to go outside to call you . <end>\n",
      "Predicted translation: 내가 당신에게 돈을 해야 합니다 . <end>\n",
      "\n",
      "Input: <start> take wonderful picture for desk mat background . <end>\n",
      "Predicted translation: 이 사진을 찍어 . <end>\n",
      "\n",
      "Input: <start> i missed the flight . <end>\n",
      "Predicted translation: 저는 비행기를 놓쳐버렸어요 . <end>\n",
      "\n",
      "Input: <start> it is to enable us to get the delivery even just a little bit quicker , so please give us advice about delivery . <end>\n",
      "Predicted translation: 우리가 우리가 우리가 우리가 우리가 우리가 우리가 우리에게 빠른 답변을 줄 수 있으니 언제든지 연락을 줄 수 있으니 언제든지 연락을 줄 수 있으니 언제든지 연락을 줄 수 있으니 언제든지 연락을 줄 수 있으니 언제든지 연락\n",
      "\n",
      "Input: <start> you went to your home in england after a long time , so take care of your children and have a great time with the taylor family and your relatives . <end>\n",
      "Predicted translation: 오랜만에 영국 집에 와서 네 친척들이랑 집에 와서 네 친척들이랑 집에 와서 네 친척들이랑 집에 와서 네 친척들이랑 집에 와서 네 친척들이랑 집에 와서 네 친척들이랑 집에 와서 네 친척들이랑 집에 와서 네 친척들이랑 집에 와서 네 친척들이랑 집에 와서 네 친척들이랑\n",
      "\n",
      "Input: <start> we are going to apply bracket for mass production . <end>\n",
      "Predicted translation: 우리는 생산을 개발하려고 합니다 . <end>\n",
      "\n",
      "Input: <start> the place that you can rest enough while making it all of your schedules . <end>\n",
      "Predicted translation: 당신이 알려준 날짜에 할 수 있는 할 수 있는 언젠가는 언젠가는 언젠가는 언젠가는 언젠가는 언젠가는 언젠가는 언젠가는 언젠가는 언젠가는 언젠가는 언젠가는 언젠가는 언젠가는 언젠가는 언젠가는 언젠가는 언젠가는 언젠가는 언젠가는 언젠가는\n",
      "\n",
      "Input: <start> he always tells lies and makes me tired . <end>\n",
      "Predicted translation: 그는 항상 나를 때렸다 . <end>\n",
      "\n",
      "Input: <start> today , my hands ached and cramped , is this possibly related to problems with my neck ? <end>\n",
      "Predicted translation: 오늘은 목에 문제가 격련 증상이 되는 격련 증상이 되는 격련 증상이 되는 격련 증상이 되는 격련 증상이 되는 격련 증상이 되는 격련 증상이 되는 격련 증상이 되는 격련 증상이 되는 격\n",
      "\n",
      "Input: <start> the company is hard to get in even for koreans , too . <end>\n",
      "Predicted translation: 그 회사는 한국으로 만나는 것입니다 . <end>\n",
      "\n",
      "Input: <start> will i be considered as absent even if i give you a confirmation letter ? <end>\n",
      "Predicted translation: 내가 제가 제가 보내면 안 되는 거의 수정사항을 하면 되는 거의 수정사항을 하면 되는 거의 수정사항을 하면 되는 거의 수정사항을 하면 되는 거의 수정사항을 하면 되는 거의 수정사항을 하면 되는 거의\n",
      "\n",
      "Input: <start> i would like to invite korean journalists to this concert . <end>\n",
      "Predicted translation: 이번 달 한국의 한국의 한국의 한국의 한국의 한국의 한국의 한국의 한국의 한국의 한국의 한국의 한국의 한국의 한국의 한국의 한국의 한국의 한국의 한국의 한국의 한국의 한국의 한국의 한국의 한국\n",
      "\n",
      "Input: <start> however , you would like to allow us to pay a 2 special discount on the total invoice amount as we suggested . <end>\n",
      "Predicted translation: 그러나 우리가 제품을 추가로 하면 b와 같이 데이터를 하고 싶습니다 . <end>\n",
      "\n",
      "Input: <start> we would like to receive some samples when the other company orders from you . <end>\n",
      "Predicted translation: 우리는 당신이 한 번의 샘플을 주문하려고 합니다 . <end>\n",
      "\n",
      "Input: <start> good effects on the health of kimchi have been known . <end>\n",
      "Predicted translation:  ⁇ 레는  ⁇ 레를 가꾸어 . <end>\n",
      "\n",
      "Input: <start> have a good day , everyone . <end>\n",
      "Predicted translation: 모두 좋은 하루 보내세요 . <end>\n",
      "\n",
      "Input: <start> i don t have enough money to buy pretty clothes . <end>\n",
      "Predicted translation: 저는 충치를 잘 못 합니다 . <end>\n",
      "\n"
     ]
    }
   ],
   "source": [
    "for i in range(100):\n",
    "  translate(sp_s.DecodeIds(input_tensor_val[i].tolist()).replace('<start>','').replace('<end>','').replace(' . ','.').strip())"
   ]
  },
  {
   "cell_type": "code",
   "execution_count": 44,
   "metadata": {
    "colab": {
     "base_uri": "https://localhost:8080/"
    },
    "id": "CR2HwTio_Cff",
    "outputId": "d25d52fb-f598-425e-bf7b-66fdf2c3c2d2"
   },
   "outputs": [
    {
     "name": "stdout",
     "output_type": "stream",
     "text": [
      "Input: <start> when did humans start to use tools for the first time ? <end>\n",
      "Predicted translation: 다음과 같은 이유로 고용을 받은 건가요 ? <end>\n",
      "\n",
      "Input: <start> no matter what happens , please keep your beautiful smile . <end>\n",
      "Predicted translation: 아무리울 때도 좋아지지 마세요 . <end>\n",
      "\n",
      "Input: <start> there is a student recovering through this process . <end>\n",
      "Predicted translation: 이 문제를 통해 한 번도 있습니다 . <end>\n",
      "\n",
      "Input: <start> so i was sorry . <end>\n",
      "Predicted translation: 그래서 난 그랬었던 거야 . <end>\n",
      "\n",
      "Input: <start> yes , i am in korea now , and another person got to the office to correct it . <end>\n",
      "Predicted translation: 응 , 지금 지금 한국에 와서 지금은 정말 잘 하고 있습니다 . <end>\n",
      "\n",
      "Input: <start> working with people who understand my personal characteristics , i am also learning how to work with others , to recognize them , to respect each other , to work with them . <end>\n",
      "Predicted translation: 공부를 하고 싶습니다 . <end>\n",
      "\n",
      "Input: <start> which team are you in ? <end>\n",
      "Predicted translation: 너는 대체 소속이 있어 ? <end>\n",
      "\n",
      "Input: <start> don t worry , i know what i have to do . <end>\n",
      "Predicted translation: 걱정하지 않아도 생으로 줘야 할지 모르겠습니다 . <end>\n",
      "\n",
      "Input: <start> i need your guidance every moment . <end>\n",
      "Predicted translation: 나는 당신의 의견을 제안해 . <end>\n",
      "\n",
      "Input: <start> it will arrive around the beginning of next week , so we will send the balance back after confirmation . <end>\n",
      "Predicted translation: 다음 주 화요일부터 발송하겠습니다 . <end>\n",
      "\n",
      "Input: <start> did you have a good vacation with your family ? <end>\n",
      "Predicted translation: 다음 주 토요일은 시간 즐겁게 하셨나요 ? <end>\n",
      "\n",
      "Input: <start> i am going to change the curtain in my home . <end>\n",
      "Predicted translation: 저는 집에 가는 길이에요 . <end>\n",
      "\n",
      "Input: <start> i would rather die standing than live kneeling on the floor . <end>\n",
      "Predicted translation: 저는 괄위에 숨이 많이 마신 것을 닮은 숨을 많이 하고 있어 . <end>\n",
      "\n",
      "Input: <start> whenever i listen to your music , i cry . <end>\n",
      "Predicted translation: 나는 네가 이 노래를 듣고 . <end>\n",
      "\n",
      "Input: <start> i corrected my book and gave in . <end>\n",
      "Predicted translation: 나는 내 책을 예약했습니다 . <end>\n",
      "\n",
      "Input: <start> why don t we try it ? <end>\n",
      "Predicted translation: 우리가 왜 이렇게 말했나요 ? <end>\n",
      "\n",
      "Input: <start> an older sister should do everything for her younger sister . <end>\n",
      "Predicted translation: 그 여자가 자신을 그리워할 때가 하면 하면 하면 하면 하면 하면 하면 하면 하면 하면 하면 하면 하면 하면 하면 하면 하면 하면 하면 하면 하면 하면\n",
      "\n",
      "Input: <start> my husband goes to work at 4 pm today , so right now he s sleeping . <end>\n",
      "Predicted translation: 오늘은 오늘 저녁은 안 가기로 해요 . <end>\n",
      "\n",
      "Input: <start> just blow it off when holding onto mg42 . <end>\n",
      "Predicted translation: 바닥에 있는 개를 사찰히 시다 . <end>\n",
      "\n",
      "Input: <start> if necessary , the logo s shape can be changed , too . <end>\n",
      "Predicted translation: 만약에 대한 설명이 불가능합니다 . <end>\n",
      "\n",
      "Input: <start> i don t want to go to crowded places . <end>\n",
      "Predicted translation: 저는 술에 취하고 싶지 않아 . <end>\n",
      "\n",
      "Input: <start> i will send the detailed shipping schedule tomorrow morning . <end>\n",
      "Predicted translation: 내일 오후에 대한 내일 송금 드리겠습니다 . <end>\n",
      "\n",
      "Input: <start> second , the literature contains a lot of historical contents so students can feel the korean history in text . <end>\n",
      "Predicted translation: 두 번째는 , 한국의 , 한국의 , 한국의 , 한국의 , 한국의 , 한국의 , 한국의 , 한국의 , 한국의 , 한국의 , 한국의 , 한국의 ,\n",
      "\n",
      "Input: <start> first of all , i want to thank you for raising me . <end>\n",
      "Predicted translation: 우선 , 감사를 주신 선물을 전하고 싶습니다 . <end>\n",
      "\n",
      "Input: <start> i am worried i may not go to school tomorrow because of a jet lag . <end>\n",
      "Predicted translation: 저는 수업을 못 할 것 같습니다 . <end>\n",
      "\n",
      "Input: <start> i went there with an ordinary bobbed hair . <end>\n",
      "Predicted translation: 나는 유원지에서 롤러코스터 탔어 . <end>\n",
      "\n",
      "Input: <start> i am interested in participating in the education programs and acquiring a certificate from your association . <end>\n",
      "Predicted translation: 나는 현재 cfp를 하고 있습니다 . <end>\n",
      "\n",
      "Input: <start> the floor is covered with a lot of sandy dust . <end>\n",
      "Predicted translation:  ⁇ 섬은 매우 맛있어요 . <end>\n",
      "\n",
      "Input: <start> i like you so much and that drives me crazy . <end>\n",
      "Predicted translation: 나는 네가 너무너무 좋아해요 . <end>\n",
      "\n",
      "Input: <start> this is when high standardization of facility efficiency is required . <end>\n",
      "Predicted translation: 이것은 타당성이 탑재된 구조적입니다 . <end>\n",
      "\n",
      "Input: <start> i am attaching 2 estimates since i am worried that the silver color you aim for may not appear with one time printing . <end>\n",
      "Predicted translation: 저는 구매한  ⁇ 터를 수정하고 있습니다 . <end>\n",
      "\n",
      "Input: <start> my girlfriend has no fault . <end>\n",
      "Predicted translation: 내 친구가 아직도 못 갔어 . <end>\n",
      "\n",
      "Input: <start> i would like to thank you again for being so nice to your customer . <end>\n",
      "Predicted translation: 앞으로의 피드백에 감사드립니다 . <end>\n",
      "\n",
      "Input: <start> because i don t regret getting married with you . <end>\n",
      "Predicted translation: 왜냐하면 나는 당신과 대화하지 않아도 . <end>\n",
      "\n",
      "Input: <start> i am not going to leave you by yourself . <end>\n",
      "Predicted translation: 나는 너를 마시는 게 싫어 . <end>\n",
      "\n",
      "Input: <start> i m not sure if he is good at playing basketball , though . <end>\n",
      "Predicted translation: 나는 그가 더 그가 좋아하지 않는 , 그 이유는 그가 더 그가 좋아하지 않는 , 그 이유는 그가 더 그가 좋아하지 않는 , 그 이유는 그가 더 그가 좋아하지 않는 , 그 이유는 그가 더 \n",
      "\n",
      "Input: <start> i will pick you up when you arrive . <end>\n",
      "Predicted translation: 당신이 호텔에 도착하면 내가 데리러 갈게 . <end>\n",
      "\n",
      "Input: <start> as you know , the big cities have high house prices . <end>\n",
      "Predicted translation: 알다시피 , 가격은 다릅니다 . <end>\n",
      "\n",
      "Input: <start> i think today s shopping was really fun . <end>\n",
      "Predicted translation: 오늘은 종일은 종일 친한 친구가 쉴 수 있다고 생각합니다 . <end>\n",
      "\n",
      "Input: <start> i need to receive samples at the factory and office . <end>\n",
      "Predicted translation: 나는 보고서에 대한 카탈로그는 아래와 같이 준비해야 합니다 . <end>\n",
      "\n",
      "Input: <start> the investigation will be started by him tomorrow . <end>\n",
      "Predicted translation: 내일은 내일까지 가져다 할 것입니다 . <end>\n",
      "\n",
      "Input: <start> would you like to quit now ? <end>\n",
      "Predicted translation: 당신은 지금 한 번 드릴까요 ? <end>\n",
      "\n",
      "Input: <start> i hurt myself badly while riding a motorcycle . <end>\n",
      "Predicted translation: 나는 냉면 내 차가 더  ⁇ 어가 아파요 . <end>\n",
      "\n",
      "Input: <start> he should be in the students hall in the department of law . <end>\n",
      "Predicted translation: 그는 그가 그의 리류의 기자가 필요해요 . <end>\n",
      "\n",
      "Input: <start> store the product at the freezer if possible . <end>\n",
      "Predicted translation: 앱은 배송이 시작되면 l에 배송이 시작되면 l에 배송이 시작되면 l에 배송이 시작되면 l에 배송이 시작되면 l에 배송이 시작되면 l에 배송이 시작되면 l에 배송이 시작되면 l에 배송이 시작되\n",
      "\n",
      "Input: <start> i raised my courage at last . <end>\n",
      "Predicted translation: 나는 그 팀을 조깅을 했어요 . <end>\n",
      "\n",
      "Input: <start> i set the alarm . <end>\n",
      "Predicted translation: 저는 한 번을 암기했어요 . <end>\n",
      "\n",
      "Input: <start> my mom bought a bag and a watch from hong kong . <end>\n",
      "Predicted translation: 엄마는 어제 가방을 사서 샀습니다 . <end>\n",
      "\n",
      "Input: <start> everything furnished in the room is free . <end>\n",
      "Predicted translation: 그건은 한 개의 횟수가 한 반찬이야 . <end>\n",
      "\n",
      "Input: <start> everything my mom says is well understood . <end>\n",
      "Predicted translation: 내 생각은 나를 흥분하게 다 한 것 같아 . <end>\n",
      "\n",
      "Input: <start> we will give you the response after we check internally why 40 cycles were mentioned at the stage of the sample . <end>\n",
      "Predicted translation: 우리가 dhl에 대한 구체적인 여부를 할 수 있도록 하겠습니다 . <end>\n",
      "\n",
      "Input: <start> business isn t going well this year . <end>\n",
      "Predicted translation: 올해는 올해는 이래로 안 좋습니다 . <end>\n",
      "\n",
      "Input: <start> wash your hair with the enclosed treatment . <end>\n",
      "Predicted translation: 서포리 해수욕장에서를 입력하세요 . <end>\n",
      "\n",
      "Input: <start> he went to the doctor this morning because he got a fever . <end>\n",
      "Predicted translation: 그는 어제부터  ⁇ 기로 집에 갔어 . <end>\n",
      "\n",
      "Input: <start> i believe that you were engaged in oem business with company c and are you still doing business with them as well ? <end>\n",
      "Predicted translation: 당신이 그 회사가 , 당신이 그 이유는 항상 당신이 , 당신이 그 이유는 당신이 , 당신이 그 이유는 당신이 , 당신이 그 이유는 당신이 , 당신이 그 이유는 당신이 , 당신이 그 이유는 당신이 , 당신이 그 이유\n",
      "\n",
      "Input: <start> i received a giant box for a gift . <end>\n",
      "Predicted translation: 나는 유원지에서 에어드랍을 받았습니다 . <end>\n",
      "\n",
      "Input: <start> i d prefer soft boiled eggs to hard boiled eggs . <end>\n",
      "Predicted translation: 저는  ⁇ 레를  ⁇  가래떡을 사서 먹어보는 것을  ⁇  수 있는 것을  ⁇  수 있는 것을  ⁇  수 있는 것을  ⁇  수 있는 것을  ⁇  수 있는 것을  ⁇  수 있는 것을 \n",
      "\n",
      "Input: <start> computer graphics were rarely used in the movie dark night . <end>\n",
      "Predicted translation: 이 영화는 이 영화가 일반화되지 않았어요 . <end>\n",
      "\n",
      "Input: <start> i started studying english today . <end>\n",
      "Predicted translation: 오늘은 영어를 시작했어요 . <end>\n",
      "\n",
      "Input: <start> i plan to use this experience to broaden my scope as a student of landscape architecture . <end>\n",
      "Predicted translation: 저는 이 과정을 통해 이를 알리기 위해 이를 알리기 위해 이를 알리기 위해 이를 알리기 위해 이를 알리기 위해 이를 알리기 위해 이를 알리기 위해 이를 알리\n",
      "\n",
      "Input: <start> is the condition of translation okay ? <end>\n",
      "Predicted translation: 번역이 정확하지 않은 게 맞습니까 ? <end>\n",
      "\n",
      "Input: <start> it is so hard working here . <end>\n",
      "Predicted translation: 여기는 일을 하고 있습니다 . <end>\n",
      "\n",
      "Input: <start> also , we would be grateful if you fill out a catalog for this product . <end>\n",
      "Predicted translation: 또한 제품을  ⁇ 으면 바로 부탁드립니다 . <end>\n",
      "\n",
      "Input: <start> i am hungry so please come back home quickly . <end>\n",
      "Predicted translation: 저는 다음에 와서 전화 좀 똑바로 전화 주세요 . <end>\n",
      "\n",
      "Input: <start> you are just my type . <end>\n",
      "Predicted translation: 당신은 내 침실에요 . <end>\n",
      "\n",
      "Input: <start> attached is the license for the city hospitality for foreign tourists , please reexamine . <end>\n",
      "Predicted translation: 강릉에 대한 주세요 . <end>\n",
      "\n",
      "Input: <start> i would like to know if the japanese line is customized with an official license . <end>\n",
      "Predicted translation: 저는 ch를 통한 문제해결이 어떻게 묻고 싶습니다 . <end>\n",
      "\n",
      "Input: <start> should you choose postal delivery , please reply with your exact address . <end>\n",
      "Predicted translation: 당신이 요청한 내용을 보내주시기 바랍니다 . <end>\n",
      "\n",
      "Input: <start> heinz looked a bit surprised at jackal s intense reaction and said carefully . <end>\n",
      "Predicted translation: 그는  ⁇ 그릴라를 하고 부수기도록 했어요 . <end>\n",
      "\n",
      "Input: <start> lastly , can i expect to see you changing ? <end>\n",
      "Predicted translation: 마지막으로 제가 제가 하면 돼요 ? <end>\n",
      "\n",
      "Input: <start> practice makes perfection , and losing confidence makes you lose everything . <end>\n",
      "Predicted translation: 다른 사람과 함께 밝고 , 한 번도 한 번도 , 한 번도 한 번도 , 한 번도 한 번도 , 한 번도 한 번도 , 한 번도 \n",
      "\n",
      "Input: <start> i ll make korean meatball pasta . <end>\n",
      "Predicted translation: 저는 세 가지 종류를 볼 거예요 . <end>\n",
      "\n",
      "Input: <start> i hope the weather gets warmer soon . <end>\n",
      "Predicted translation: 나는 항상 행복한 미소를 보내시기를 바랍니다 . <end>\n",
      "\n",
      "Input: <start> i m going to korea tonight because of the visa . <end>\n",
      "Predicted translation: 오늘 오후 2박시에 머무를 예정입니다 . <end>\n",
      "\n",
      "Input: <start> it takes maximum of 10 minutes to finish the payment . <end>\n",
      "Predicted translation: 그것은 다음과 같습니다 . <end>\n",
      "\n",
      "Input: <start> it is to understand the subject of health integrated education students imushin practice ability to perform according to the presence or absence of the satisfaction of clinical practice , the self efficacy . <end>\n",
      "Predicted translation: 블록체인이를 하는 것을 했기 때문이에요 . <end>\n",
      "\n",
      "Input: <start> i wish my family to be happy with no hardships . <end>\n",
      "Predicted translation: 엄마가 행복했으면 좋겠어 . <end>\n",
      "\n",
      "Input: <start> then , in 2013 when he was enjoying his popularity , he decided to enter the military . <end>\n",
      "Predicted translation: 그러다가 경기에서  ⁇  제대한 이를  ⁇ 리기 위해 이를 하고 부활절에 갔는데 그의 이 곡을  ⁇  원더걸스가 나왔고 , 그는 이 곡을  ⁇  원더걸스가 나왔고 , 그는 \n",
      "\n",
      "Input: <start> different aspects of the room offer more space by separating and merging space through temporary walls , depending on the situation . <end>\n",
      "Predicted translation: 세 아이템에는 사용자의  ⁇ 과  ⁇ 과  ⁇ 과  ⁇ 과  ⁇ 과  ⁇ 과  ⁇ 과  ⁇ 과  ⁇ 과  ⁇ 과  ⁇ 과  ⁇ 과  ⁇ 과  ⁇ 과  ⁇ 과  ⁇ \n",
      "\n",
      "Input: <start> the sensible design fills your reading space . <end>\n",
      "Predicted translation: 이 옷을 하나씩 뒤집는 것이에요 . <end>\n",
      "\n",
      "Input: <start> we will work to produce the amount of number 1 . <end>\n",
      "Predicted translation: 우리는 곧 업데이트를 할 거예요 . <end>\n",
      "\n",
      "Input: <start> i have to go now . <end>\n",
      "Predicted translation: 저는 지금 가 있어 . <end>\n",
      "\n",
      "Input: <start> though we re far apart , i always think about you . <end>\n",
      "Predicted translation: 우리는 당신을 너무 많이 다 . <end>\n",
      "\n",
      "Input: <start> the majority of the anti park camp failed at receiving a nomination at the saenuri party caucus , and a large portion of the pro park camp received nominations . <end>\n",
      "Predicted translation: 자베자 , 자베자 , 자베자 , 자베자 , 자베자 , 자베자 , 자베자 , 자베자 , 자베자 \n",
      "\n",
      "Input: <start> i walk with my dog . <end>\n",
      "Predicted translation: 나는 내 개를 칠 수 있어 . <end>\n",
      "\n",
      "Input: <start> i will let you know after checking for sure . <end>\n",
      "Predicted translation: 다시 한번 확인 후 알려드리겠습니다 . <end>\n",
      "\n",
      "Input: <start> i want to sleep all day today . <end>\n",
      "Predicted translation: 오늘은 오늘은 종일을 하고 싶어 . <end>\n",
      "\n",
      "Input: <start> he doesn t like me to go to the hospital . <end>\n",
      "Predicted translation: 그는 병원에서 집에 가는 이유는 좋아하지 않아 . <end>\n",
      "\n",
      "Input: <start> why did you change me to a high level ? <end>\n",
      "Predicted translation: 왜 왜 왜 왜 왜 왜 왜 왜 왜 왜 왜 왜 왜 왜 왜 왜 왜 왜 왜 왜 왜 왜 왜 왜 왜 왜 왜 왜 왜 왜 왜 왜 왜 왜 왜 왜 왜 왜 왜 왜 왜 왜 왜 왜 왜 왜 왜 왜 왜 왜 왜 왜 왜\n",
      "\n",
      "Input: <start> let s get out of here rightly . <end>\n",
      "Predicted translation: 우리 그거 여기 좀 합시다 . <end>\n",
      "\n",
      "Input: <start> it looks like spring will come earlier this year . <end>\n",
      "Predicted translation: 올해는 이 한 한 한 한 한 한 한 한 한 한 한 한 한 한 한 한 한 한 한 한 한 한 한 한 \n",
      "\n",
      "Input: <start> i think he is actually superficial . <end>\n",
      "Predicted translation: 그는 그가 이 있는 것 같아요 . <end>\n",
      "\n",
      "Input: <start> no chance we re going to use this model again . <end>\n",
      "Predicted translation: 우리는 이 문제를 할 수 있는 이유는 이 문제를 할 수 있는 이유는 이 문제를 할 수 있는 이유는 이 문제를 할 수 있는 이유는 이 문제를 할 수 있는 이유는 \n",
      "\n",
      "Input: <start> attach the fixing hook to the strap of the shoe back . <end>\n",
      "Predicted translation: 이 번호로 파일을 참조해 해당 ok 버튼을 눌러서를 입력하세요 . <end>\n",
      "\n",
      "Input: <start> i will pack tomorrow . <end>\n",
      "Predicted translation: 내일 제가 내일을 할 겁니다 . <end>\n",
      "\n",
      "Input: <start> we will be understanding about the product you sent to the warehouse . <end>\n",
      "Predicted translation: 우리는 제품을 요청한 후에 전달이 되겠습니다 . <end>\n",
      "\n",
      "Input: <start> one screen door is damaged . <end>\n",
      "Predicted translation: 이 상자에  ⁇ 불입니다 . <end>\n",
      "\n",
      "Input: <start> there are not many flights due to the lunar new year holidays . <end>\n",
      "Predicted translation: 연휴 때문에 6개월 동안 밤이 없어요 . <end>\n",
      "\n",
      "Input: <start> i m going to anguk station , so take your time . <end>\n",
      "Predicted translation: 저는 지금 길을 먹으러 가요 . <end>\n",
      "\n",
      "Input: <start> i would like to know the exact date of delivery after the order . <end>\n",
      "Predicted translation: 저는 다음 주문을 알고 싶습니다 . <end>\n",
      "\n"
     ]
    }
   ],
   "source": [
    "for i in range(100):\n",
    "  translate(sp_s.DecodeIds(input_tensor_val[i].tolist()).replace('<start>','').replace('<end>','').replace(' . ','.').strip())"
   ]
  },
  {
   "cell_type": "code",
   "execution_count": 50,
   "metadata": {
    "colab": {
     "base_uri": "https://localhost:8080/",
     "height": 1000
    },
    "id": "jckccijB_GLl",
    "outputId": "8664eb6a-6002-4713-cc50-880264a70f95"
   },
   "outputs": [
    {
     "name": "stdout",
     "output_type": "stream",
     "text": [
      "Input: <start> i m thinking of putting my house on sale . <end>\n",
      "Predicted translation: 우리 집을 팔려고 내놓을까 생각 중이에요 . <end>\n",
      "\n"
     ]
    },
    {
     "name": "stderr",
     "output_type": "stream",
     "text": [
      "/usr/local/lib/python3.6/dist-packages/matplotlib/backends/backend_agg.py:214: RuntimeWarning: Glyph 50864 missing from current font.\n",
      "  font.set_text(s, 0.0, flags=flags)\n",
      "/usr/local/lib/python3.6/dist-packages/matplotlib/backends/backend_agg.py:214: RuntimeWarning: Glyph 47532 missing from current font.\n",
      "  font.set_text(s, 0.0, flags=flags)\n",
      "/usr/local/lib/python3.6/dist-packages/matplotlib/backends/backend_agg.py:214: RuntimeWarning: Glyph 51665 missing from current font.\n",
      "  font.set_text(s, 0.0, flags=flags)\n",
      "/usr/local/lib/python3.6/dist-packages/matplotlib/backends/backend_agg.py:214: RuntimeWarning: Glyph 51012 missing from current font.\n",
      "  font.set_text(s, 0.0, flags=flags)\n",
      "/usr/local/lib/python3.6/dist-packages/matplotlib/backends/backend_agg.py:214: RuntimeWarning: Glyph 54036 missing from current font.\n",
      "  font.set_text(s, 0.0, flags=flags)\n",
      "/usr/local/lib/python3.6/dist-packages/matplotlib/backends/backend_agg.py:214: RuntimeWarning: Glyph 47140 missing from current font.\n",
      "  font.set_text(s, 0.0, flags=flags)\n",
      "/usr/local/lib/python3.6/dist-packages/matplotlib/backends/backend_agg.py:214: RuntimeWarning: Glyph 44256 missing from current font.\n",
      "  font.set_text(s, 0.0, flags=flags)\n",
      "/usr/local/lib/python3.6/dist-packages/matplotlib/backends/backend_agg.py:214: RuntimeWarning: Glyph 45236 missing from current font.\n",
      "  font.set_text(s, 0.0, flags=flags)\n",
      "/usr/local/lib/python3.6/dist-packages/matplotlib/backends/backend_agg.py:214: RuntimeWarning: Glyph 45459 missing from current font.\n",
      "  font.set_text(s, 0.0, flags=flags)\n",
      "/usr/local/lib/python3.6/dist-packages/matplotlib/backends/backend_agg.py:214: RuntimeWarning: Glyph 44620 missing from current font.\n",
      "  font.set_text(s, 0.0, flags=flags)\n",
      "/usr/local/lib/python3.6/dist-packages/matplotlib/backends/backend_agg.py:214: RuntimeWarning: Glyph 49373 missing from current font.\n",
      "  font.set_text(s, 0.0, flags=flags)\n",
      "/usr/local/lib/python3.6/dist-packages/matplotlib/backends/backend_agg.py:214: RuntimeWarning: Glyph 44033 missing from current font.\n",
      "  font.set_text(s, 0.0, flags=flags)\n",
      "/usr/local/lib/python3.6/dist-packages/matplotlib/backends/backend_agg.py:214: RuntimeWarning: Glyph 51473 missing from current font.\n",
      "  font.set_text(s, 0.0, flags=flags)\n",
      "/usr/local/lib/python3.6/dist-packages/matplotlib/backends/backend_agg.py:214: RuntimeWarning: Glyph 51060 missing from current font.\n",
      "  font.set_text(s, 0.0, flags=flags)\n",
      "/usr/local/lib/python3.6/dist-packages/matplotlib/backends/backend_agg.py:214: RuntimeWarning: Glyph 50640 missing from current font.\n",
      "  font.set_text(s, 0.0, flags=flags)\n",
      "/usr/local/lib/python3.6/dist-packages/matplotlib/backends/backend_agg.py:214: RuntimeWarning: Glyph 50836 missing from current font.\n",
      "  font.set_text(s, 0.0, flags=flags)\n",
      "/usr/local/lib/python3.6/dist-packages/matplotlib/backends/backend_agg.py:183: RuntimeWarning: Glyph 50864 missing from current font.\n",
      "  font.set_text(s, 0, flags=flags)\n",
      "/usr/local/lib/python3.6/dist-packages/matplotlib/backends/backend_agg.py:183: RuntimeWarning: Glyph 47532 missing from current font.\n",
      "  font.set_text(s, 0, flags=flags)\n",
      "/usr/local/lib/python3.6/dist-packages/matplotlib/backends/backend_agg.py:183: RuntimeWarning: Glyph 51665 missing from current font.\n",
      "  font.set_text(s, 0, flags=flags)\n",
      "/usr/local/lib/python3.6/dist-packages/matplotlib/backends/backend_agg.py:183: RuntimeWarning: Glyph 51012 missing from current font.\n",
      "  font.set_text(s, 0, flags=flags)\n",
      "/usr/local/lib/python3.6/dist-packages/matplotlib/backends/backend_agg.py:183: RuntimeWarning: Glyph 54036 missing from current font.\n",
      "  font.set_text(s, 0, flags=flags)\n",
      "/usr/local/lib/python3.6/dist-packages/matplotlib/backends/backend_agg.py:183: RuntimeWarning: Glyph 47140 missing from current font.\n",
      "  font.set_text(s, 0, flags=flags)\n",
      "/usr/local/lib/python3.6/dist-packages/matplotlib/backends/backend_agg.py:183: RuntimeWarning: Glyph 44256 missing from current font.\n",
      "  font.set_text(s, 0, flags=flags)\n",
      "/usr/local/lib/python3.6/dist-packages/matplotlib/backends/backend_agg.py:183: RuntimeWarning: Glyph 45236 missing from current font.\n",
      "  font.set_text(s, 0, flags=flags)\n",
      "/usr/local/lib/python3.6/dist-packages/matplotlib/backends/backend_agg.py:183: RuntimeWarning: Glyph 45459 missing from current font.\n",
      "  font.set_text(s, 0, flags=flags)\n",
      "/usr/local/lib/python3.6/dist-packages/matplotlib/backends/backend_agg.py:183: RuntimeWarning: Glyph 44620 missing from current font.\n",
      "  font.set_text(s, 0, flags=flags)\n",
      "/usr/local/lib/python3.6/dist-packages/matplotlib/backends/backend_agg.py:183: RuntimeWarning: Glyph 49373 missing from current font.\n",
      "  font.set_text(s, 0, flags=flags)\n",
      "/usr/local/lib/python3.6/dist-packages/matplotlib/backends/backend_agg.py:183: RuntimeWarning: Glyph 44033 missing from current font.\n",
      "  font.set_text(s, 0, flags=flags)\n",
      "/usr/local/lib/python3.6/dist-packages/matplotlib/backends/backend_agg.py:183: RuntimeWarning: Glyph 51473 missing from current font.\n",
      "  font.set_text(s, 0, flags=flags)\n",
      "/usr/local/lib/python3.6/dist-packages/matplotlib/backends/backend_agg.py:183: RuntimeWarning: Glyph 51060 missing from current font.\n",
      "  font.set_text(s, 0, flags=flags)\n",
      "/usr/local/lib/python3.6/dist-packages/matplotlib/backends/backend_agg.py:183: RuntimeWarning: Glyph 50640 missing from current font.\n",
      "  font.set_text(s, 0, flags=flags)\n",
      "/usr/local/lib/python3.6/dist-packages/matplotlib/backends/backend_agg.py:183: RuntimeWarning: Glyph 50836 missing from current font.\n",
      "  font.set_text(s, 0, flags=flags)\n"
     ]
    },
    {
     "data": {
      "image/png": "[encoded data removed]",
      "text/plain": [
       "<Figure size 720x720 with 1 Axes>"
      ]
     },
     "metadata": {
      "image/png": {
       "height": 453,
       "width": 629
      },
      "needs_background": "light",
      "tags": []
     },
     "output_type": "display_data"
    }
   ],
   "source": [
    "translate_plot('i m thinking of putting my house on sale.')"
   ]
  },
  {
   "cell_type": "code",
   "execution_count": 46,
   "metadata": {
    "colab": {
     "base_uri": "https://localhost:8080/",
     "height": 1000
    },
    "id": "0_R8A6mW_Gmq",
    "outputId": "98a77095-9bb0-4f35-e169-d1a1d061e28c"
   },
   "outputs": [
    {
     "name": "stdout",
     "output_type": "stream",
     "text": [
      "Input: <start> i lost my luggage in rome . <end>\n",
      "Predicted translation: 저는 동호회에 있는 향수를 배웅했습니다 . <end>\n",
      "\n"
     ]
    },
    {
     "name": "stderr",
     "output_type": "stream",
     "text": [
      "/usr/local/lib/python3.6/dist-packages/matplotlib/backends/backend_agg.py:214: RuntimeWarning: Glyph 51200 missing from current font.\n",
      "  font.set_text(s, 0.0, flags=flags)\n",
      "/usr/local/lib/python3.6/dist-packages/matplotlib/backends/backend_agg.py:214: RuntimeWarning: Glyph 45716 missing from current font.\n",
      "  font.set_text(s, 0.0, flags=flags)\n",
      "/usr/local/lib/python3.6/dist-packages/matplotlib/backends/backend_agg.py:214: RuntimeWarning: Glyph 46041 missing from current font.\n",
      "  font.set_text(s, 0.0, flags=flags)\n",
      "/usr/local/lib/python3.6/dist-packages/matplotlib/backends/backend_agg.py:214: RuntimeWarning: Glyph 54840 missing from current font.\n",
      "  font.set_text(s, 0.0, flags=flags)\n",
      "/usr/local/lib/python3.6/dist-packages/matplotlib/backends/backend_agg.py:214: RuntimeWarning: Glyph 54924 missing from current font.\n",
      "  font.set_text(s, 0.0, flags=flags)\n",
      "/usr/local/lib/python3.6/dist-packages/matplotlib/backends/backend_agg.py:214: RuntimeWarning: Glyph 50640 missing from current font.\n",
      "  font.set_text(s, 0.0, flags=flags)\n",
      "/usr/local/lib/python3.6/dist-packages/matplotlib/backends/backend_agg.py:214: RuntimeWarning: Glyph 51080 missing from current font.\n",
      "  font.set_text(s, 0.0, flags=flags)\n",
      "/usr/local/lib/python3.6/dist-packages/matplotlib/backends/backend_agg.py:214: RuntimeWarning: Glyph 54693 missing from current font.\n",
      "  font.set_text(s, 0.0, flags=flags)\n",
      "/usr/local/lib/python3.6/dist-packages/matplotlib/backends/backend_agg.py:214: RuntimeWarning: Glyph 49688 missing from current font.\n",
      "  font.set_text(s, 0.0, flags=flags)\n",
      "/usr/local/lib/python3.6/dist-packages/matplotlib/backends/backend_agg.py:214: RuntimeWarning: Glyph 47484 missing from current font.\n",
      "  font.set_text(s, 0.0, flags=flags)\n",
      "/usr/local/lib/python3.6/dist-packages/matplotlib/backends/backend_agg.py:214: RuntimeWarning: Glyph 48176 missing from current font.\n",
      "  font.set_text(s, 0.0, flags=flags)\n",
      "/usr/local/lib/python3.6/dist-packages/matplotlib/backends/backend_agg.py:214: RuntimeWarning: Glyph 50885 missing from current font.\n",
      "  font.set_text(s, 0.0, flags=flags)\n",
      "/usr/local/lib/python3.6/dist-packages/matplotlib/backends/backend_agg.py:214: RuntimeWarning: Glyph 54664 missing from current font.\n",
      "  font.set_text(s, 0.0, flags=flags)\n",
      "/usr/local/lib/python3.6/dist-packages/matplotlib/backends/backend_agg.py:214: RuntimeWarning: Glyph 49845 missing from current font.\n",
      "  font.set_text(s, 0.0, flags=flags)\n",
      "/usr/local/lib/python3.6/dist-packages/matplotlib/backends/backend_agg.py:214: RuntimeWarning: Glyph 45768 missing from current font.\n",
      "  font.set_text(s, 0.0, flags=flags)\n",
      "/usr/local/lib/python3.6/dist-packages/matplotlib/backends/backend_agg.py:214: RuntimeWarning: Glyph 45796 missing from current font.\n",
      "  font.set_text(s, 0.0, flags=flags)\n",
      "/usr/local/lib/python3.6/dist-packages/matplotlib/backends/backend_agg.py:183: RuntimeWarning: Glyph 51200 missing from current font.\n",
      "  font.set_text(s, 0, flags=flags)\n",
      "/usr/local/lib/python3.6/dist-packages/matplotlib/backends/backend_agg.py:183: RuntimeWarning: Glyph 45716 missing from current font.\n",
      "  font.set_text(s, 0, flags=flags)\n",
      "/usr/local/lib/python3.6/dist-packages/matplotlib/backends/backend_agg.py:183: RuntimeWarning: Glyph 46041 missing from current font.\n",
      "  font.set_text(s, 0, flags=flags)\n",
      "/usr/local/lib/python3.6/dist-packages/matplotlib/backends/backend_agg.py:183: RuntimeWarning: Glyph 54840 missing from current font.\n",
      "  font.set_text(s, 0, flags=flags)\n",
      "/usr/local/lib/python3.6/dist-packages/matplotlib/backends/backend_agg.py:183: RuntimeWarning: Glyph 54924 missing from current font.\n",
      "  font.set_text(s, 0, flags=flags)\n",
      "/usr/local/lib/python3.6/dist-packages/matplotlib/backends/backend_agg.py:183: RuntimeWarning: Glyph 50640 missing from current font.\n",
      "  font.set_text(s, 0, flags=flags)\n",
      "/usr/local/lib/python3.6/dist-packages/matplotlib/backends/backend_agg.py:183: RuntimeWarning: Glyph 51080 missing from current font.\n",
      "  font.set_text(s, 0, flags=flags)\n",
      "/usr/local/lib/python3.6/dist-packages/matplotlib/backends/backend_agg.py:183: RuntimeWarning: Glyph 54693 missing from current font.\n",
      "  font.set_text(s, 0, flags=flags)\n",
      "/usr/local/lib/python3.6/dist-packages/matplotlib/backends/backend_agg.py:183: RuntimeWarning: Glyph 49688 missing from current font.\n",
      "  font.set_text(s, 0, flags=flags)\n",
      "/usr/local/lib/python3.6/dist-packages/matplotlib/backends/backend_agg.py:183: RuntimeWarning: Glyph 47484 missing from current font.\n",
      "  font.set_text(s, 0, flags=flags)\n",
      "/usr/local/lib/python3.6/dist-packages/matplotlib/backends/backend_agg.py:183: RuntimeWarning: Glyph 48176 missing from current font.\n",
      "  font.set_text(s, 0, flags=flags)\n",
      "/usr/local/lib/python3.6/dist-packages/matplotlib/backends/backend_agg.py:183: RuntimeWarning: Glyph 50885 missing from current font.\n",
      "  font.set_text(s, 0, flags=flags)\n",
      "/usr/local/lib/python3.6/dist-packages/matplotlib/backends/backend_agg.py:183: RuntimeWarning: Glyph 54664 missing from current font.\n",
      "  font.set_text(s, 0, flags=flags)\n",
      "/usr/local/lib/python3.6/dist-packages/matplotlib/backends/backend_agg.py:183: RuntimeWarning: Glyph 49845 missing from current font.\n",
      "  font.set_text(s, 0, flags=flags)\n",
      "/usr/local/lib/python3.6/dist-packages/matplotlib/backends/backend_agg.py:183: RuntimeWarning: Glyph 45768 missing from current font.\n",
      "  font.set_text(s, 0, flags=flags)\n",
      "/usr/local/lib/python3.6/dist-packages/matplotlib/backends/backend_agg.py:183: RuntimeWarning: Glyph 45796 missing from current font.\n",
      "  font.set_text(s, 0, flags=flags)\n"
     ]
    },
    {
     "data": {
      "image/png": "[encoded data removed]",
      "text/plain": [
       "<Figure size 720x720 with 1 Axes>"
      ]
     },
     "metadata": {
      "image/png": {
       "height": 515,
       "width": 629
      },
      "needs_background": "light",
      "tags": []
     },
     "output_type": "display_data"
    }
   ],
   "source": [
    "translate_plot('I lost my luggage in Rome.')"
   ]
  },
  {
   "cell_type": "markdown",
   "metadata": {},
   "source": [
    "# BLEU score"
   ]
  },
  {
   "cell_type": "code",
   "execution_count": 38,
   "metadata": {
    "colab": {
     "base_uri": "https://localhost:8080/"
    },
    "id": "AZQrqCSw7H99",
    "outputId": "1752b832-a8f6-4289-db50-6f5a7f93bb86"
   },
   "outputs": [
    {
     "name": "stderr",
     "output_type": "stream",
     "text": [
      "/usr/local/lib/python3.6/dist-packages/nltk/translate/bleu_score.py:490: UserWarning: \n",
      "Corpus/Sentence contains 0 counts of 2-gram overlaps.\n",
      "BLEU scores might be undesirable; use SmoothingFunction().\n",
      "  warnings.warn(_msg)\n",
      "/usr/local/lib/python3.6/dist-packages/nltk/translate/bleu_score.py:490: UserWarning: \n",
      "Corpus/Sentence contains 0 counts of 3-gram overlaps.\n",
      "BLEU scores might be undesirable; use SmoothingFunction().\n",
      "  warnings.warn(_msg)\n"
     ]
    }
   ],
   "source": [
    "from nltk.translate.bleu_score import *\n",
    "from nltk.translate.bleu_score import SmoothingFunction\n",
    "smoothie = SmoothingFunction().method0\n",
    "# sentence BLEU score\n",
    "cal_val = []\n",
    "for i in range(300):\n",
    "  candidate = sp_t.id_to_piece(evaluate(sp_s.DecodeIds(input_tensor_val[i].tolist()).replace('<start>','').replace('<end>','').replace(' . ','.').strip())[0])\n",
    "  reference = sp_t.encode_as_pieces(sp_t.DecodeIds(target_tensor_val[i].tolist()).replace('<start>','').replace('<end>','').replace(' . ','.').strip())\n",
    "  a = sentence_bleu(reference, candidate, smoothing_function=smoothie)\n",
    "  cal_val.append(a)"
   ]
  },
  {
   "cell_type": "code",
   "execution_count": 39,
   "metadata": {
    "colab": {
     "base_uri": "https://localhost:8080/"
    },
    "id": "FBdgFQPpPqV0",
    "outputId": "9fe26483-4bf4-44c9-d90b-56bd59c1099e"
   },
   "outputs": [
    {
     "name": "stderr",
     "output_type": "stream",
     "text": [
      "/usr/local/lib/python3.6/dist-packages/nltk/translate/bleu_score.py:490: UserWarning: \n",
      "Corpus/Sentence contains 0 counts of 3-gram overlaps.\n",
      "BLEU scores might be undesirable; use SmoothingFunction().\n",
      "  warnings.warn(_msg)\n",
      "/usr/local/lib/python3.6/dist-packages/nltk/translate/bleu_score.py:490: UserWarning: \n",
      "Corpus/Sentence contains 0 counts of 2-gram overlaps.\n",
      "BLEU scores might be undesirable; use SmoothingFunction().\n",
      "  warnings.warn(_msg)\n"
     ]
    }
   ],
   "source": [
    "smoothie = SmoothingFunction().method0\n",
    "# sentence BLEU score\n",
    "cal_train = []\n",
    "for i in range(300):\n",
    "  candidate = sp_t.id_to_piece(evaluate(sp_s.DecodeIds(input_tensor_train[i].tolist()).replace('<start>','').replace('<end>','').replace(' . ','.').strip())[0])\n",
    "  reference = sp_t.encode_as_pieces(sp_t.DecodeIds(target_tensor_train[i].tolist()).replace('<start>','').replace('<end>','').replace(' . ','.').strip())\n",
    "  a = sentence_bleu(reference, candidate, smoothing_function=smoothie)\n",
    "  cal_train.append(a)"
   ]
  },
  {
   "cell_type": "code",
   "execution_count": 40,
   "metadata": {
    "colab": {
     "base_uri": "https://localhost:8080/"
    },
    "id": "CxQtrrdaPv7Y",
    "outputId": "ced8fb22-d1da-4c80-cc9d-4c20f72aa8cd"
   },
   "outputs": [
    {
     "data": {
      "text/plain": [
       "0.668740304976422"
      ]
     },
     "execution_count": 40,
     "metadata": {
      "tags": []
     },
     "output_type": "execute_result"
    }
   ],
   "source": [
    "np.median(cal_train)"
   ]
  },
  {
   "cell_type": "code",
   "execution_count": 41,
   "metadata": {
    "colab": {
     "base_uri": "https://localhost:8080/"
    },
    "id": "RigswmCIHjtN",
    "outputId": "92196d0f-a950-42dd-aed6-827563eaa99b"
   },
   "outputs": [
    {
     "data": {
      "text/plain": [
       "0.668740304976422"
      ]
     },
     "execution_count": 41,
     "metadata": {
      "tags": []
     },
     "output_type": "execute_result"
    }
   ],
   "source": [
    "np.median(cal_val)"
   ]
  },
  {
   "cell_type": "code",
   "execution_count": 47,
   "metadata": {
    "colab": {
     "base_uri": "https://localhost:8080/"
    },
    "id": "2S94zSM14bLO",
    "outputId": "174dd1ef-2a1e-4a90-ee0a-49b705a6fafb"
   },
   "outputs": [
    {
     "data": {
      "text/plain": [
       "0.6198837653219061"
      ]
     },
     "execution_count": 47,
     "metadata": {
      "tags": []
     },
     "output_type": "execute_result"
    }
   ],
   "source": [
    "np.mean(cal_train)"
   ]
  },
  {
   "cell_type": "code",
   "execution_count": 48,
   "metadata": {
    "colab": {
     "base_uri": "https://localhost:8080/"
    },
    "id": "PmKwMIdZMLgl",
    "outputId": "f12a40ce-714d-4a48-cb60-72d11b8bf492"
   },
   "outputs": [
    {
     "data": {
      "text/plain": [
       "0.6381832365401651"
      ]
     },
     "execution_count": 48,
     "metadata": {
      "tags": []
     },
     "output_type": "execute_result"
    }
   ],
   "source": [
    "np.mean(cal_val)"
   ]
  }
 ],
 "metadata": {
  "accelerator": "GPU",
  "colab": {
   "collapsed_sections": [],
   "name": "기말 프로젝트.ipynb",
   "provenance": []
  },
  "kernelspec": {
   "display_name": "Python 3",
   "language": "python",
   "name": "python3"
  },
  "language_info": {
   "codemirror_mode": {
    "name": "ipython",
    "version": 3
   },
   "file_extension": ".py",
   "mimetype": "text/x-python",
   "name": "python",
   "nbconvert_exporter": "python",
   "pygments_lexer": "ipython3",
   "version": "3.8.11"
  },
  "toc": {
   "base_numbering": 1,
   "nav_menu": {},
   "number_sections": true,
   "sideBar": true,
   "skip_h1_title": false,
   "title_cell": "Table of Contents",
   "title_sidebar": "Contents",
   "toc_cell": false,
   "toc_position": {},
   "toc_section_display": true,
   "toc_window_display": false
  }
 },
 "nbformat": 4,
 "nbformat_minor": 1
}
