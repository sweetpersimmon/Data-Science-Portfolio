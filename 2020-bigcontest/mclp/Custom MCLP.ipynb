{
 "cells": [
  {
   "cell_type": "code",
   "execution_count": 1,
   "metadata": {
    "ExecuteTime": {
     "end_time": "2020-09-25T13:15:19.257227Z",
     "start_time": "2020-09-25T13:15:18.263869Z"
    }
   },
   "outputs": [
    {
     "name": "stderr",
     "output_type": "stream",
     "text": [
      "c:\\python37\\lib\\site-packages\\statsmodels\\tools\\_testing.py:19: FutureWarning: pandas.util.testing is deprecated. Use the functions in the public API at pandas.testing instead.\n",
      "  import pandas.util.testing as tm\n"
     ]
    }
   ],
   "source": [
    "import pandas as pd\n",
    "import numpy as np\n",
    "import scipy \n",
    "\n",
    "import matplotlib as mpl\n",
    "import matplotlib.pyplot as plt\n",
    "import seaborn as sns\n",
    "%matplotlib inline\n",
    "\n",
    "import os\n",
    "import gc\n",
    "import pickle\n",
    "\n",
    "import warnings\n",
    "warnings.filterwarnings('ignore')\n",
    "\n",
    "from tqdm import tqdm,trange\n",
    "from itertools import permutations\n",
    "\n",
    "plt.style.use('ggplot')\n",
    "\n",
    "mpl.rcParams['axes.unicode_minus'] = False\n",
    "plt.rcParams[\"font.family\"] = \"Malgun Gothic\"\n",
    "\n",
    "os.chdir(\"../\")\n",
    "root_path = os.getcwd()\n",
    "\n",
    "data_folder_path = os.path.join(root_path, 'data')\n",
    "original_file_path = os.path.join(data_folder_path, 'original_data')\n",
    "original_raw_file_path = os.path.join(original_file_path,'raw_data')\n",
    "original_processed_file_path = os.path.join(original_file_path,'processed_data')\n",
    "\n",
    "raw_file_folders = os.listdir(original_raw_file_path)\n",
    "\n",
    "external_file_path = os.path.join(data_folder_path,'external_data')\n",
    "external_raw_file_path = os.path.join(external_file_path,'raw_data')\n",
    "external_processed_file_path = os.path.join(external_file_path,'processed_data')"
   ]
  },
  {
   "cell_type": "markdown",
   "metadata": {},
   "source": [
    "## Prepare Files"
   ]
  },
  {
   "cell_type": "markdown",
   "metadata": {},
   "source": [
    "* 필요파일\n",
    "    * 인접 행정동, 행정동간 거리 파일\n",
    "    * 행정동별 생활인구 파일 \n",
    "    * 행정동별 교통편의성 파일"
   ]
  },
  {
   "cell_type": "code",
   "execution_count": 2,
   "metadata": {
    "ExecuteTime": {
     "end_time": "2020-09-25T13:15:20.724315Z",
     "start_time": "2020-09-25T13:15:20.706362Z"
    }
   },
   "outputs": [],
   "source": [
    "distance_file=[pd.read_csv(os.path.join(external_processed_file_path,file), index_col=[0]) for file in os.listdir(external_processed_file_path) if file.startswith('distance')]\n",
    "\n",
    "real_dist = distance_file[0]\n",
    "\n",
    "living_population=pd.read_csv(os.path.join(external_processed_file_path,'CTGG_HDNG_FLOW.csv'), encoding='cp949')\n",
    "convenience_index = pd.read_csv(os.path.join(external_processed_file_path, 'conv_index_df.csv'), index_col=[0])"
   ]
  },
  {
   "cell_type": "markdown",
   "metadata": {},
   "source": [
    "___"
   ]
  },
  {
   "cell_type": "markdown",
   "metadata": {},
   "source": [
    "## MCLP MODELING"
   ]
  },
  {
   "cell_type": "markdown",
   "metadata": {},
   "source": [
    "___\n",
    "\n",
    "$\\underset{h \\subset H}{\\operatorname{argmax}} (\\sum_{h^* \\in h} L(h^*) + C(h^*) \\cdot adjL(h^*))$ \n",
    "\n",
    "$L(h^*) : h^*$행정동의 생활인구 제곱근  \n",
    "$C(h^*) : h^*$행정동의 교통편의성 지수 제곱근   \n",
    "$adjL(h^*): h^*$행정동의 인접행정동들의 생활인구합 제곱근   "
   ]
  },
  {
   "cell_type": "markdown",
   "metadata": {
    "ExecuteTime": {
     "end_time": "2020-09-17T11:23:47.046767Z",
     "start_time": "2020-09-17T11:23:47.039787Z"
    }
   },
   "source": [
    "___\n",
    "**Modified Version**\n",
    "\n",
    "$\\underset{p \\in P}{\\operatorname{\\sum}} \\alpha_p \\cdot \\left(day\\_weight_1 \\cdot C_{n,n} \\circ W_{n,n} \\circ L_{n,1}^{(1)}+ day\\_weight_2 \\cdot C_{n,n} \\circ W_{n,n} \\circ L_{n,1}^{(2)}\\right)\\ , n= number\\ of\\ dongs$  \n",
    "  \n",
    "___\n",
    "$P : Period\\ devided\\ by\\ degree\\ of\\ Covid19$  \n",
    "$\\alpha_p : weight\\ of\\ period\\ p$  \n",
    "$C_{n,n} = \\{c_{i,j}\\}\\ s.t\\ \\ c_{i,j}= \\begin{cases}\n",
    "conv\\_in(i,j) & \\text{if $i=j$} \\\\\n",
    "conv\\_out(i,j) & \\text{if $i \\ne j$}\n",
    "\\end{cases}\\ , 1 \\le i,j \\le n$\n",
    "\n",
    "$L_{n,1}^{(1)} = \\{l_{i,1} :=\\ weekday\\ living\\ population\\ of\\ dong_i\\ on\\ covid\\ period\\ P\\}, 1 \\le i \\le n $  \n",
    "$L_{n,1}^{(2)} = \\{l_{i,1} :=\\ weekend\\ living\\ population\\ of\\ dong_i\\ on\\ covid\\ period\\ P\\}, 1 \\le i \\le n $\n",
    "\n",
    "\n",
    "$ Double\\ Power\\ Distance\\ Weights $  \n",
    "$D_{n,n} = \\{d_{i,j}\\} \\ s.t\\ \\ d_{i,j}= \\begin{cases}\n",
    "\\left (1-\\left (Dist(h_i,h_j) \\over d \\right)^2 \\right )^2 & \\text{if $0 \\le Dist(h_i,h_j) \\le d $} \\\\\n",
    "0 & \\text{if $Dist(h_i,h_j) > d$}\\end{cases}$"
   ]
  },
  {
   "cell_type": "markdown",
   "metadata": {},
   "source": [
    "$W_{n,n}^{(k)} = \\{w_{i,j}^{(k)}\\}\\ s.t\\ \\  w_{i,j}^{(k)} = \\begin{cases}\n",
    "w_{i,j}^{(k-1)} \\cdot \\left (1-D_{h^{(k-1)},j} \\right) & \\text{if $i=j$}\\\\\n",
    "0 & \\text{if $i \\ne j$}\\end{cases}\\ \\ where \\ h^{(k-1)}:selected\\ dong\\ in \\ (k-1)th\\ MCLP\\ process$  \n",
    "$\\ (If\\ k=1, W_{n,n}^{(k)} = I_{n,n})$  "
   ]
  },
  {
   "cell_type": "markdown",
   "metadata": {},
   "source": [
    "___"
   ]
  },
  {
   "cell_type": "code",
   "execution_count": 3,
   "metadata": {
    "ExecuteTime": {
     "end_time": "2020-09-25T13:15:35.763170Z",
     "start_time": "2020-09-25T13:15:35.757208Z"
    }
   },
   "outputs": [],
   "source": [
    "def double_power_distance_weight(df=real_dist, distance=3000):\n",
    "    shape = df.shape\n",
    "    names = df.columns.tolist()\n",
    "    flatten_values = np.concatenate(df.values)\n",
    "    weights = np.array([(1-(dist/distance)**2) if dist < distance else 0 for dist in flatten_values])\n",
    "    weights_df = pd.DataFrame(weights.reshape(shape), columns = names)\n",
    "    weights_df.index = names\n",
    "    return weights_df"
   ]
  },
  {
   "cell_type": "code",
   "execution_count": 4,
   "metadata": {
    "ExecuteTime": {
     "end_time": "2020-09-25T13:15:36.282821Z",
     "start_time": "2020-09-25T13:15:36.206985Z"
    }
   },
   "outputs": [],
   "source": [
    "def MCLP(dist_file, population_file, convenience_file, N=4, Ages='3059', distance=3000, w1=.7,w2=.3, covid_weight=[.2,.2,.2,.2,.2]):\n",
    "    \n",
    "    HDONG_ORDER = convenience_file.index.tolist()\n",
    "    \n",
    "    def double_power_distance_weight(df=dist_file, distance=distance):\n",
    "        shape = df.shape\n",
    "        names = df.columns.tolist()\n",
    "        flatten_values = np.concatenate(df.values)\n",
    "        weights = np.array([(1-(dist/distance)**2) if dist < distance else 0 for dist in flatten_values])\n",
    "        weights_df = pd.DataFrame(weights.reshape(shape), columns = names)\n",
    "        weights_df.index = names\n",
    "        return weights_df\n",
    "\n",
    "    def update_weight_matrix(hdong=None, weight_matrix=None, HDONG_ORDER=HDONG_ORDER):\n",
    "        shape=(34,34)\n",
    "        if not isinstance(weight_matrix, np.ndarray):\n",
    "            weight_matrix = np.diag(np.ones((34,)))\n",
    "            return weight_matrix\n",
    "        else:\n",
    "            if hdong not in HDONG_ORDER:\n",
    "                raise ValueError('hdong must be in HDONG_ORDER')\n",
    "            \n",
    "            updated_weight_matrix = weight_matrix*(1-double_power_distance_weight().loc[hdong].values)\n",
    "            # print(np.diagonal(updated_weight_matrix))\n",
    "            if updated_weight_matrix.shape==shape:\n",
    "                return updated_weight_matrix\n",
    "            else:\n",
    "                raise ValueError(f'updated_weight_matrix\\'s shape : {updated_weight_matrix.shape} is not {shape}')\n",
    "    \n",
    "    ### C\n",
    "    # 교통편의성 matrix 생성\n",
    "    C = np.asmatrix(convenience_file)\n",
    "    \n",
    "    ### W\n",
    "    # Weighted Maxtrix 초기화(생성) - Identity Matrix\n",
    "    W = update_weight_matrix()\n",
    "    \n",
    "    \n",
    "    \n",
    "    tmp_df = pd.DataFrame(HDONG_ORDER, columns=['HDONG_NM'])\n",
    "    result = [] \n",
    "    class_num = population_file.Covid_class.nunique()\n",
    "        \n",
    "    for i in range(N):\n",
    "        result_mat = np.zeros((34,1))\n",
    "        for covid_idx, covid_class in enumerate(population_file.Covid_class.unique()):\n",
    "            ### L\n",
    "            # 생활인구 - 코로나 정도 및 평일/주말로 구분\n",
    "            # matrix연산 전 행정동의 순서가 제대로 되어있는지 확인 후 생활인구 Matrix 생성\n",
    "            living_population_weekday = population_file.loc[(population_file.Covid_class==covid_class) &\n",
    "                                                   (population_file.AGE==Ages)&\n",
    "                                                   (population_file.dayofweek==0),['HDNG_NM','FLOW']]\n",
    "\n",
    "            living_population_weekend = population_file.loc[(population_file.Covid_class==covid_class) &\n",
    "                                                   (population_file.AGE==Ages)&\n",
    "                                                   (population_file.dayofweek==1),['HDNG_NM','FLOW']]\n",
    "\n",
    "            if living_population_weekday.HDNG_NM.tolist() == HDONG_ORDER:       \n",
    "                L_1 = np.asmatrix(living_population_weekday.set_index('HDNG_NM'))\n",
    "                L_1_shape = L_1.shape\n",
    "            else:\n",
    "                raise ValueError('[평일]행정동의 순서가 맞지 않습니다')\n",
    "\n",
    "            if living_population_weekend.HDNG_NM.tolist() == HDONG_ORDER:       \n",
    "                L_2 = np.asmatrix(living_population_weekend.set_index('HDNG_NM'))\n",
    "                L_2_shape = L_2.shape\n",
    "            else:\n",
    "                raise ValueError('[주말]행정동의 순서가 맞지 않습니다')\n",
    "\n",
    "            if i == 0:    \n",
    "                result_mat += covid_weight[covid_idx]*(w1*(C*W*L_1)+w2*(C*W*L_2))\n",
    "                if covid_idx == (class_num-1):\n",
    "                    hdong = HDONG_ORDER[np.argmax(result_mat)]\n",
    "                    result.append(hdong)\n",
    "            else:\n",
    "                if covid_idx == 0:\n",
    "                    W = update_weight_matrix(hdong=hdong, weight_matrix=W)\n",
    "                    \n",
    "                result_mat += covid_weight[covid_idx]*(w1*(C*W*L_1)+w2*(C*W*L_2))\n",
    "                if covid_idx == (class_num-1):\n",
    "                    hdong = HDONG_ORDER[np.argmax(result_mat)]\n",
    "                    result.append(hdong)\n",
    "                    \n",
    "            if covid_idx == (class_num-1):\n",
    "                tmp_df[f'result_{i}'] = result_mat\n",
    "      \n",
    "    return result, tmp_df"
   ]
  },
  {
   "cell_type": "code",
   "execution_count": 5,
   "metadata": {
    "ExecuteTime": {
     "end_time": "2020-09-25T13:15:48.321243Z",
     "start_time": "2020-09-25T13:15:48.222530Z"
    }
   },
   "outputs": [
    {
     "data": {
      "text/plain": [
       "(['명동', '하계1동', '신당동', '상계6.7동'],\n",
       "    HDONG_NM      result_0      result_1      result_2     result_3\n",
       " 0      공릉1동  16687.818059  16687.818059   3997.356021  3997.356021\n",
       " 1      공릉2동   3617.541740   3617.541740    973.267167   973.267167\n",
       " 2     상계10동  13422.772419  13422.772419   5910.402211  5910.402211\n",
       " 3      상계1동   2909.673745   2909.673745   2811.567069  2811.567069\n",
       " 4      상계2동  11706.527435  11706.527435   5653.974515  5653.974515\n",
       " 5    상계3.4동   2317.897081   2317.897081   1708.120062  1708.120062\n",
       " 6      상계5동   6305.356935   6305.356935   4864.476062  4864.476062\n",
       " 7    상계6.7동  17738.795070  17738.795070   5960.507954  5960.507954\n",
       " 8      상계8동   4586.189018   4586.189018   3568.433530  3568.433530\n",
       " 9      상계9동   7155.851141   7155.851141   5527.041725  5527.041725\n",
       " 10     월계1동   7297.582869   7297.582869   3073.333625  3073.333625\n",
       " 11     월계2동   3880.543706   3880.543706   1452.201812  1452.201812\n",
       " 12     월계3동   8215.545598   8215.545598   2549.163063  2549.163063\n",
       " 13     중계1동   7483.222472   7483.222472   2131.667017  2131.667017\n",
       " 14   중계2.3동  20326.143080  20326.143080   5469.440104  5469.440104\n",
       " 15     중계4동   7469.447560   7469.447560   4120.654510  4120.654510\n",
       " 16     중계본동   5009.406183   5009.406183   1276.005220  1276.005220\n",
       " 17     하계1동  21102.583678  21102.583678   4909.538839  4909.538839\n",
       " 18     하계2동   8716.404434   8716.404434   2098.270343  2098.270343\n",
       " 19      광희동  31988.951840  10619.296299  10619.296299   946.503591\n",
       " 20      다산동   8786.581985   3631.760209   3631.760209   894.721339\n",
       " 21      동화동   4523.710853   3195.231151   3195.231151   248.919116\n",
       " 22       명동  46413.056450   6348.810795   6348.810795  2563.847916\n",
       " 23      소공동  33342.815561   2622.282301   2622.282301  1875.484862\n",
       " 24     신당5동  14913.784854  10123.592350  10123.592350   862.033403\n",
       " 25      신당동  28815.022868  13461.357847  13461.357847   992.201964\n",
       " 26      약수동  11026.565303   6627.483194   6627.483194   999.268853\n",
       " 27     을지로동  44361.463134  11393.340959  11393.340959  1867.370409\n",
       " 28      장충동   7849.661328   2389.923652   2389.923652   435.539388\n",
       " 29      중림동  20567.195863   1806.026717   1806.026717  1770.925197\n",
       " 30      청구동  14949.426503   9935.871030   9935.871030  1010.746844\n",
       " 31       필동  19147.341034   4929.452268   4929.452268  1362.689112\n",
       " 32      황학동  13986.468897   9690.791121   9690.791121   696.523589\n",
       " 33      회현동  26832.268815   2421.343382   2421.343382  1962.791584)"
      ]
     },
     "execution_count": 5,
     "metadata": {},
     "output_type": "execute_result"
    }
   ],
   "source": [
    "MCLP(real_dist, living_population, convenience_index)"
   ]
  },
  {
   "cell_type": "code",
   "execution_count": 6,
   "metadata": {
    "ExecuteTime": {
     "end_time": "2020-09-25T13:16:02.365541Z",
     "start_time": "2020-09-25T13:16:01.610507Z"
    }
   },
   "outputs": [],
   "source": [
    "result_dict = {}\n",
    "for n in [4,5,6,7,8,10]:\n",
    "    tmp_dict={}\n",
    "\n",
    "    result, process = MCLP(real_dist, living_population, convenience_index, N=n)\n",
    "    \n",
    "    tmp_dict['result'] = result\n",
    "    tmp_dict['process'] = process\n",
    "    \n",
    "    result_dict[n] = tmp_dict\n",
    "\n",
    "with open(os.path.join(external_processed_file_path, 'result_dict.pickle'), 'wb') as f:\n",
    "    pickle.dump(result_dict,f,protocol=pickle.HIGHEST_PROTOCOL)"
   ]
  }
 ],
 "metadata": {
  "kernelspec": {
   "display_name": "Python 3",
   "language": "python",
   "name": "python3"
  },
  "language_info": {
   "codemirror_mode": {
    "name": "ipython",
    "version": 3
   },
   "file_extension": ".py",
   "mimetype": "text/x-python",
   "name": "python",
   "nbconvert_exporter": "python",
   "pygments_lexer": "ipython3",
   "version": "3.7.2"
  },
  "toc": {
   "base_numbering": 1,
   "nav_menu": {},
   "number_sections": true,
   "sideBar": true,
   "skip_h1_title": false,
   "title_cell": "Table of Contents",
   "title_sidebar": "Contents",
   "toc_cell": false,
   "toc_position": {},
   "toc_section_display": true,
   "toc_window_display": false
  },
  "varInspector": {
   "cols": {
    "lenName": 16,
    "lenType": 16,
    "lenVar": 40
   },
   "kernels_config": {
    "python": {
     "delete_cmd_postfix": "",
     "delete_cmd_prefix": "del ",
     "library": "var_list.py",
     "varRefreshCmd": "print(var_dic_list())"
    },
    "r": {
     "delete_cmd_postfix": ") ",
     "delete_cmd_prefix": "rm(",
     "library": "var_list.r",
     "varRefreshCmd": "cat(var_dic_list()) "
    }
   },
   "types_to_exclude": [
    "module",
    "function",
    "builtin_function_or_method",
    "instance",
    "_Feature"
   ],
   "window_display": false
  }
 },
 "nbformat": 4,
 "nbformat_minor": 2
}
