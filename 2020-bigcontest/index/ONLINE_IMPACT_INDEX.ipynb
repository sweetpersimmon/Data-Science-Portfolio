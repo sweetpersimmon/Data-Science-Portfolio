{
 "cells": [
  {
   "cell_type": "code",
   "execution_count": 1,
   "metadata": {
    "ExecuteTime": {
     "end_time": "2020-09-25T12:45:50.746672Z",
     "start_time": "2020-09-25T12:45:50.406525Z"
    }
   },
   "outputs": [],
   "source": [
    "import pandas as pd\n",
    "import numpy as np\n",
    "\n",
    "import os\n",
    "\n",
    "os.chdir(\"../\")\n",
    "root_path = os.getcwd()\n",
    "\n",
    "data_folder_path = os.path.join(root_path, 'data')\n",
    "original_file_path = os.path.join(data_folder_path, 'original_data')\n",
    "original_raw_file_path = os.path.join(original_file_path,'raw_data')\n",
    "original_processed_file_path = os.path.join(original_file_path,'processed_data')\n",
    "\n",
    "raw_file_folders = os.listdir(original_raw_file_path)\n",
    "\n",
    "external_file_path = os.path.join(data_folder_path,'external_data')\n",
    "external_raw_file_path = os.path.join(external_file_path,'raw_data')\n",
    "external_processed_file_path = os.path.join(external_file_path,'processed_data')"
   ]
  },
  {
   "cell_type": "code",
   "execution_count": 2,
   "metadata": {
    "ExecuteTime": {
     "end_time": "2020-09-25T12:45:51.291366Z",
     "start_time": "2020-09-25T12:45:50.947219Z"
    }
   },
   "outputs": [
    {
     "name": "stderr",
     "output_type": "stream",
     "text": [
      "c:\\python37\\lib\\site-packages\\ipykernel_launcher.py:8: FutureWarning: Series.dt.weekofyear and Series.dt.week have been deprecated.  Please use Series.dt.isocalendar().week instead.\n",
      "  \n"
     ]
    }
   ],
   "source": [
    "# 필요데이터\n",
    "cj_deliv = pd.read_csv(os.path.join(original_processed_file_path, 'CJ_delivery.csv'))\n",
    "\n",
    "cj_deliv['DL_YMD'] = pd.to_datetime(cj_deliv.DL_YMD.apply(lambda x : '20'+str(x)), format='%Y%m%d')\n",
    "\n",
    "cj_deliv['year'] = cj_deliv.DL_YMD.dt.year.values\n",
    "cj_deliv['month'] = cj_deliv.DL_YMD.dt.month.values\n",
    "cj_deliv['weekofyear'] = cj_deliv.DL_YMD.dt.weekofyear.values\n",
    "cj_deliv['dayofweek'] = cj_deliv.DL_YMD.dt.dayofweek.values\n",
    "\n",
    "cj_deliv['weekday'] = np.where(cj_deliv.dayofweek < 5, '평일', '주말')\n",
    "\n",
    "# 특일정보\n",
    "holiday = pd.to_datetime(['2019-02-04','2019-02-05','2019-02-06','2019-03-01','2019-05-06','2019-05-12','2020-04-15', '2020-04-30','2020-05-05'])"
   ]
  },
  {
   "cell_type": "markdown",
   "metadata": {},
   "source": [
    "**Impact Index**  \n",
    "$r_w,_d$ : w주차, d번째 요일의 19년대비 20년도 송장건수 비율 (d번째 요일 - d = 0:월, 1:화, ..., 6:일)  \n",
    "$post_r=Max(\\{r_w,_d | w \\in [8,11], d \\in [0,6]\\})$    \n",
    "$pre_r=Mean(\\{r_w,_d | w=7, d \\in [0,6]\\})$  \n",
    "  \n",
    "$Impact Index = {post_r-pre_r \\over pre_r}$"
   ]
  },
  {
   "cell_type": "code",
   "execution_count": 3,
   "metadata": {
    "ExecuteTime": {
     "end_time": "2020-09-25T12:45:52.778405Z",
     "start_time": "2020-09-25T12:45:52.769725Z"
    }
   },
   "outputs": [],
   "source": [
    "def Impact_Index(df):\n",
    "    #코로나 이후(2.19 ~ 3.15사이) 전년대비 송장건수 비율의 최댓값\n",
    "    post_r = df.loc[df.weekday=='평일'].\\\n",
    "            groupby(['DL_GD_LCLS_NM','year','weekofyear','dayofweek'])['INVC_CONT'].sum().\\\n",
    "            reset_index().\\\n",
    "            groupby(['DL_GD_LCLS_NM','weekofyear','dayofweek']).\\\n",
    "            apply(lambda x : (x.iloc[1,-1]/x.iloc[0,-1]) if x.shape[0]==2 else 1).\\\n",
    "            reset_index(name='rate').\\\n",
    "            query('weekofyear>=8 & weekofyear<=11 & rate!=1').\\\n",
    "            groupby('DL_GD_LCLS_NM')['rate'].max()\n",
    "\n",
    "    #코로나 이전 전년대비 송장건수 비율 평균\n",
    "    pre_r = df.loc[df.weekday=='평일'].\\\n",
    "            groupby(['DL_GD_LCLS_NM','year','weekofyear','dayofweek'])['INVC_CONT'].sum().\\\n",
    "            reset_index().\\\n",
    "            groupby(['DL_GD_LCLS_NM','weekofyear','dayofweek']).\\\n",
    "            apply(lambda x : (x.iloc[1,-1]/x.iloc[0,-1]) if x.shape[0]==2 else 1).\\\n",
    "            reset_index(name='rate').\\\n",
    "            query('weekofyear==7 & rate!=1').\\\n",
    "            groupby('DL_GD_LCLS_NM')['rate'].mean()\n",
    "            \n",
    "    index = (post_r-pre_r)/pre_r\n",
    "    \n",
    "    return dict(index)"
   ]
  },
  {
   "cell_type": "code",
   "execution_count": 4,
   "metadata": {
    "ExecuteTime": {
     "end_time": "2020-09-25T12:45:54.071835Z",
     "start_time": "2020-09-25T12:45:53.849391Z"
    }
   },
   "outputs": [
    {
     "data": {
      "text/plain": [
       "{'가구/인테리어': 38.62273587932063,\n",
       " '도서/음반': 4.29741147125179,\n",
       " '디지털/가전': 30.124177754198858,\n",
       " '생활건강': 32.755372747305856,\n",
       " '스포츠/레저': 134.88186398536988,\n",
       " '식품': 30.621609381087673,\n",
       " '출산/육아': 123.65266112801581,\n",
       " '패션의류': 36.03150405986596,\n",
       " '패션잡화': 66.4414443152583,\n",
       " '화장품/미용': 32.598832761361976}"
      ]
     },
     "execution_count": 4,
     "metadata": {},
     "output_type": "execute_result"
    }
   ],
   "source": [
    "Impact_Index(cj_deliv)"
   ]
  }
 ],
 "metadata": {
  "kernelspec": {
   "display_name": "Python 3",
   "language": "python",
   "name": "python3"
  },
  "language_info": {
   "codemirror_mode": {
    "name": "ipython",
    "version": 3
   },
   "file_extension": ".py",
   "mimetype": "text/x-python",
   "name": "python",
   "nbconvert_exporter": "python",
   "pygments_lexer": "ipython3",
   "version": "3.7.2"
  },
  "toc": {
   "base_numbering": 1,
   "nav_menu": {},
   "number_sections": true,
   "sideBar": true,
   "skip_h1_title": false,
   "title_cell": "Table of Contents",
   "title_sidebar": "Contents",
   "toc_cell": false,
   "toc_position": {},
   "toc_section_display": true,
   "toc_window_display": false
  },
  "varInspector": {
   "cols": {
    "lenName": 16,
    "lenType": 16,
    "lenVar": 40
   },
   "kernels_config": {
    "python": {
     "delete_cmd_postfix": "",
     "delete_cmd_prefix": "del ",
     "library": "var_list.py",
     "varRefreshCmd": "print(var_dic_list())"
    },
    "r": {
     "delete_cmd_postfix": ") ",
     "delete_cmd_prefix": "rm(",
     "library": "var_list.r",
     "varRefreshCmd": "cat(var_dic_list()) "
    }
   },
   "types_to_exclude": [
    "module",
    "function",
    "builtin_function_or_method",
    "instance",
    "_Feature"
   ],
   "window_display": false
  }
 },
 "nbformat": 4,
 "nbformat_minor": 2
}
