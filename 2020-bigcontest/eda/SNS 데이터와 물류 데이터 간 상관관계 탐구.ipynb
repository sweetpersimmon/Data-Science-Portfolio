{
 "cells": [
  {
   "cell_type": "code",
   "execution_count": 1,
   "metadata": {
    "ExecuteTime": {
     "end_time": "2020-09-26T10:57:26.348354Z",
     "start_time": "2020-09-26T10:57:20.903792Z"
    }
   },
   "outputs": [],
   "source": [
    "import pandas as pd\n",
    "import numpy as np\n",
    "import warnings\n",
    "import os\n",
    "warnings.filterwarnings(action='ignore')\n",
    "\n",
    "import seaborn as sns\n",
    "sns.set_palette(\"pastel\")\n",
    "import matplotlib.pylab as plt\n",
    "from matplotlib import font_manager, rc\n",
    "%matplotlib inline\n",
    "\n",
    "import platform\n",
    "your_os = platform.system()\n",
    "if your_os == 'Linux':\n",
    "    rc('font', family='NanumGothic')\n",
    "elif your_os == 'Windows':\n",
    "    ttf = \"c:/Windows/Fonts/malgun.ttf\"\n",
    "    font_name = font_manager.FontProperties(fname=ttf).get_name()\n",
    "    rc('font', family=font_name)\n",
    "elif your_os == 'Darwin':\n",
    "    rc('font', family='AppleGothic')\n",
    "rc('axes', unicode_minus=False)"
   ]
  },
  {
   "cell_type": "code",
   "execution_count": 2,
   "metadata": {
    "ExecuteTime": {
     "end_time": "2020-09-26T10:57:26.384256Z",
     "start_time": "2020-09-26T10:57:26.357328Z"
    }
   },
   "outputs": [],
   "source": [
    "os.chdir(\"../\")\n",
    "root_path = os.getcwd()\n",
    "\n",
    "# 따옴표 안에 데이터가 있는 폴더의 상위폴더\n",
    "data_folder_path = os.path.join(root_path, 'data')\n",
    "original_file_path = os.path.join(data_folder_path, 'original_data')\n",
    "original_raw_file_path = os.path.join(original_file_path,'raw_data')\n",
    "original_processed_file_path = os.path.join(original_file_path,'processed_data')\n",
    "\n",
    "external_file_path = os.path.join(data_folder_path,'external_data')\n",
    "external_raw_file_path = os.path.join(external_file_path,'raw_data')\n",
    "external_processed_file_path = os.path.join(external_file_path,'processed_data')"
   ]
  },
  {
   "cell_type": "markdown",
   "metadata": {},
   "source": [
    "SNS에서 보였던 업종에 대한 긍정적인 인식이 실제 택배 주문에도 영향을 미칠까?<br>\n",
    "SNS 데이터의 업종별 긍정 언급 횟수와 물류 데이터의 송장 건수와의 상관관계를 비교해 보겠다.<br>\n",
    "<br>\n",
    "**물류=>SNS**\n",
    "* 도서/ 음반 => 문화취미\n",
    "* 스포츠/레저 => 레저업소\n",
    "* 식품 => 요식업소(억지일수도...)\n",
    "* 화장품/미용(세부분류 중에 화장품, 마사지 뿐만 아니라 마스크, 소독제 등이 포함되기 때문) => 보건위생"
   ]
  },
  {
   "cell_type": "markdown",
   "metadata": {},
   "source": [
    "# Data Preprocessing"
   ]
  },
  {
   "cell_type": "code",
   "execution_count": null,
   "metadata": {
    "ExecuteTime": {
     "start_time": "2020-09-26T10:57:24.380Z"
    }
   },
   "outputs": [],
   "source": [
    "mul = pd.read_excel(os.path.join(original_raw_file_path,'05_물류데이터(CJ올리브네트웍스)','2020 빅콘테스트_CJ올리브네트웍스_제공DB.xlsx'))\n",
    "data = pd.read_csv(os.path.join(original_raw_file_path,'03_SNS데이터(와이즈넛)','2020 bigcontest data_wisenut.csv'),sep='\u0007')"
   ]
  },
  {
   "cell_type": "code",
   "execution_count": null,
   "metadata": {
    "ExecuteTime": {
     "start_time": "2020-09-26T10:57:24.733Z"
    }
   },
   "outputs": [],
   "source": [
    "data = data.rename(columns =  {'GU_NM(삭제)':'GU_NM', 'DONG_NM(삭제)':'DONG_NM'})\n",
    "data['CTGG_CD'] = data['GU_CD'].astype('str').str[:2].astype('int64')\n",
    "data['HDNG_CD'] = data['DONG_CD']\n",
    "data['CGDG_CD'] = data['CTGG_CD'].astype('str')+data['HDNG_CD'].astype('str')"
   ]
  },
  {
   "cell_type": "code",
   "execution_count": null,
   "metadata": {
    "ExecuteTime": {
     "start_time": "2020-09-26T10:57:25.065Z"
    }
   },
   "outputs": [],
   "source": [
    "mul['DL_YM'] = mul['DL_YMD'].astype('str').str[:4].astype('int64')\n",
    "mul['CGDG_CD'] = mul['CTGG_CD'].astype('str')+mul['HDNG_CD'].astype('str')\n",
    "\n",
    "mul['YEAR'] = '20'+mul['DL_YM'].astype('str').str[:2]\n",
    "mul['MONTH'] = mul['DL_YM'].astype('str').str[-2:]"
   ]
  },
  {
   "cell_type": "code",
   "execution_count": null,
   "metadata": {
    "ExecuteTime": {
     "start_time": "2020-09-26T10:57:27.009Z"
    }
   },
   "outputs": [],
   "source": [
    "# SNS의 업종과 매칭되는 물류 카테고리 설정 및 groupby\n",
    "\n",
    "mul_f1 = mul.query('(DL_GD_LCLS_CD == 12) or (DL_GD_LCLS_CD == 16) or (DL_GD_LCLS_CD == 17) or (DL_GD_LCLS_CD == 21)')\n",
    "\n",
    "up_dl = mul_f1.groupby(['YEAR','MONTH','DL_GD_LCLS_NM'])['INVC_CONT'].sum().reset_index() #지역정보 미포함\n",
    "up_dl_gd = mul_f1.groupby(['YEAR','MONTH','DL_GD_LCLS_NM','CGDG_CD'])['INVC_CONT'].sum().reset_index() #지역정보 포함"
   ]
  },
  {
   "cell_type": "code",
   "execution_count": null,
   "metadata": {
    "ExecuteTime": {
     "start_time": "2020-09-26T10:57:27.178Z"
    }
   },
   "outputs": [],
   "source": [
    "data.drop(columns=['SEQ','HDNG_CD','HDNG_CD','CTGG_CD','GU_CD','DONG_CD'],inplace=True)"
   ]
  },
  {
   "cell_type": "code",
   "execution_count": null,
   "metadata": {
    "ExecuteTime": {
     "start_time": "2020-09-26T10:57:27.332Z"
    }
   },
   "outputs": [],
   "source": [
    "df = pd.melt(data,id_vars=['CGDG_CD','GU_NM','DONG_NM'],var_name='CAT',value_name='CNT')"
   ]
  },
  {
   "cell_type": "code",
   "execution_count": null,
   "metadata": {
    "ExecuteTime": {
     "start_time": "2020-09-26T10:57:27.488Z"
    }
   },
   "outputs": [],
   "source": [
    "df['MONTH'] = df['CAT'].str[-2:].astype('int64')\n",
    "df['YEAR'] = df['CAT'].str[-6:-2].astype('int64')\n",
    "df['CAT'] = df['CAT'].str[:-7]"
   ]
  },
  {
   "cell_type": "code",
   "execution_count": null,
   "metadata": {
    "ExecuteTime": {
     "start_time": "2020-09-26T10:57:27.659Z"
    }
   },
   "outputs": [],
   "source": [
    "df['GU_DONG'] = df[['GU_NM', 'DONG_NM']].apply(lambda x: ','.join(x), axis=1)"
   ]
  },
  {
   "cell_type": "code",
   "execution_count": null,
   "metadata": {
    "ExecuteTime": {
     "start_time": "2020-09-26T10:57:27.893Z"
    }
   },
   "outputs": [],
   "source": [
    "# sns 업종 labeling\n",
    "f = df[df['CAT'].str.contains('TIVE')]\n",
    "f['UP'] = f['CAT'].str[:3]\n",
    "f['SENTIMENT'] = f['CAT'].str[-8:-5]\n",
    "\n",
    "f.loc[f['UP'] == 'UP1', 'UP'] = '숙박'\n",
    "f.loc[f['UP'] == 'UP2', 'UP'] = '레저'\n",
    "f.loc[f['UP'] == 'UP3', 'UP'] = '문화취미'\n",
    "f.loc[f['UP'] == 'UP4', 'UP'] = '의료기관'\n",
    "f.loc[f['UP'] == 'UP5', 'UP'] = '보건위생'\n",
    "f.loc[f['UP'] == 'UP6', 'UP'] = '요식업'"
   ]
  },
  {
   "cell_type": "code",
   "execution_count": null,
   "metadata": {
    "ExecuteTime": {
     "start_time": "2020-09-26T10:57:29.045Z"
    }
   },
   "outputs": [],
   "source": [
    "up_dl_gd['MONTH'] = up_dl_gd['MONTH'].astype('int64')\n",
    "up_dl_gd['YEAR'] = up_dl_gd['YEAR'].astype('int64')"
   ]
  },
  {
   "cell_type": "markdown",
   "metadata": {},
   "source": [
    "# 행정동 별 SNS 언급과 물류 송장건수 Count"
   ]
  },
  {
   "cell_type": "code",
   "execution_count": null,
   "metadata": {
    "ExecuteTime": {
     "start_time": "2020-09-26T10:57:29.807Z"
    }
   },
   "outputs": [],
   "source": [
    "up_cnt = f.query('SENTIMENT == \"POS\"').groupby(['YEAR','MONTH','GU_DONG','CGDG_CD','UP'])['CNT'].sum().reset_index()"
   ]
  },
  {
   "cell_type": "code",
   "execution_count": null,
   "metadata": {
    "ExecuteTime": {
     "start_time": "2020-09-26T10:57:30.177Z"
    }
   },
   "outputs": [],
   "source": [
    "a = pd.pivot_table(up_cnt,index=['YEAR','MONTH','CGDG_CD','GU_DONG'],columns='UP',values='CNT').reset_index() #sns 언급 데이터 pivot table\n",
    "b = pd.pivot_table(up_dl_gd, index=['YEAR','MONTH','CGDG_CD'],columns='DL_GD_LCLS_NM',values='INVC_CONT').reset_index() #물류 데이터 pivot table\n",
    "b = pd.merge(b,a[['CGDG_CD','GU_DONG']],on='CGDG_CD')"
   ]
  },
  {
   "cell_type": "code",
   "execution_count": null,
   "metadata": {
    "ExecuteTime": {
     "start_time": "2020-09-26T10:57:34.960Z"
    }
   },
   "outputs": [],
   "source": [
    "a"
   ]
  },
  {
   "cell_type": "code",
   "execution_count": 24,
   "metadata": {
    "ExecuteTime": {
     "end_time": "2020-09-20T14:02:08.336695Z",
     "start_time": "2020-09-20T14:02:08.318744Z"
    }
   },
   "outputs": [
    {
     "data": {
      "text/html": [
       "<div>\n",
       "<style scoped>\n",
       "    .dataframe tbody tr th:only-of-type {\n",
       "        vertical-align: middle;\n",
       "    }\n",
       "\n",
       "    .dataframe tbody tr th {\n",
       "        vertical-align: top;\n",
       "    }\n",
       "\n",
       "    .dataframe thead th {\n",
       "        text-align: right;\n",
       "    }\n",
       "</style>\n",
       "<table border=\"1\" class=\"dataframe\">\n",
       "  <thead>\n",
       "    <tr style=\"text-align: right;\">\n",
       "      <th>UP</th>\n",
       "      <th>YEAR</th>\n",
       "      <th>MONTH</th>\n",
       "      <th>CGDG_CD</th>\n",
       "      <th>GU_DONG</th>\n",
       "      <th>레저</th>\n",
       "      <th>문화취미</th>\n",
       "      <th>보건위생</th>\n",
       "      <th>숙박</th>\n",
       "      <th>요식업</th>\n",
       "      <th>의료기관</th>\n",
       "    </tr>\n",
       "  </thead>\n",
       "  <tbody>\n",
       "    <tr>\n",
       "      <th>0</th>\n",
       "      <td>2019</td>\n",
       "      <td>2</td>\n",
       "      <td>11517</td>\n",
       "      <td>대구 중구,동인동</td>\n",
       "      <td>0</td>\n",
       "      <td>24</td>\n",
       "      <td>38</td>\n",
       "      <td>0</td>\n",
       "      <td>20</td>\n",
       "      <td>14</td>\n",
       "    </tr>\n",
       "    <tr>\n",
       "      <th>1</th>\n",
       "      <td>2019</td>\n",
       "      <td>2</td>\n",
       "      <td>11545</td>\n",
       "      <td>대구 중구,삼덕동</td>\n",
       "      <td>0</td>\n",
       "      <td>2</td>\n",
       "      <td>38</td>\n",
       "      <td>26</td>\n",
       "      <td>43</td>\n",
       "      <td>6</td>\n",
       "    </tr>\n",
       "    <tr>\n",
       "      <th>2</th>\n",
       "      <td>2019</td>\n",
       "      <td>2</td>\n",
       "      <td>11565</td>\n",
       "      <td>대구 중구,성내동</td>\n",
       "      <td>0</td>\n",
       "      <td>3</td>\n",
       "      <td>0</td>\n",
       "      <td>19</td>\n",
       "      <td>0</td>\n",
       "      <td>0</td>\n",
       "    </tr>\n",
       "    <tr>\n",
       "      <th>3</th>\n",
       "      <td>2019</td>\n",
       "      <td>2</td>\n",
       "      <td>11595</td>\n",
       "      <td>대구 중구,대신동</td>\n",
       "      <td>0</td>\n",
       "      <td>3</td>\n",
       "      <td>0</td>\n",
       "      <td>19</td>\n",
       "      <td>0</td>\n",
       "      <td>0</td>\n",
       "    </tr>\n",
       "    <tr>\n",
       "      <th>4</th>\n",
       "      <td>2019</td>\n",
       "      <td>2</td>\n",
       "      <td>11640</td>\n",
       "      <td>대구 중구,남산동</td>\n",
       "      <td>0</td>\n",
       "      <td>73</td>\n",
       "      <td>0</td>\n",
       "      <td>19</td>\n",
       "      <td>14</td>\n",
       "      <td>147</td>\n",
       "    </tr>\n",
       "    <tr>\n",
       "      <th>...</th>\n",
       "      <td>...</td>\n",
       "      <td>...</td>\n",
       "      <td>...</td>\n",
       "      <td>...</td>\n",
       "      <td>...</td>\n",
       "      <td>...</td>\n",
       "      <td>...</td>\n",
       "      <td>...</td>\n",
       "      <td>...</td>\n",
       "      <td>...</td>\n",
       "    </tr>\n",
       "    <tr>\n",
       "      <th>275</th>\n",
       "      <td>2020</td>\n",
       "      <td>5</td>\n",
       "      <td>35560</td>\n",
       "      <td>서울 노원구,월계동</td>\n",
       "      <td>0</td>\n",
       "      <td>296</td>\n",
       "      <td>386</td>\n",
       "      <td>3</td>\n",
       "      <td>85</td>\n",
       "      <td>205</td>\n",
       "    </tr>\n",
       "    <tr>\n",
       "      <th>276</th>\n",
       "      <td>2020</td>\n",
       "      <td>5</td>\n",
       "      <td>35595</td>\n",
       "      <td>서울 노원구,공릉동</td>\n",
       "      <td>2</td>\n",
       "      <td>437</td>\n",
       "      <td>908</td>\n",
       "      <td>235</td>\n",
       "      <td>242</td>\n",
       "      <td>4301</td>\n",
       "    </tr>\n",
       "    <tr>\n",
       "      <th>277</th>\n",
       "      <td>2020</td>\n",
       "      <td>5</td>\n",
       "      <td>35611</td>\n",
       "      <td>서울 노원구,하계동</td>\n",
       "      <td>0</td>\n",
       "      <td>213</td>\n",
       "      <td>938</td>\n",
       "      <td>138</td>\n",
       "      <td>17</td>\n",
       "      <td>4426</td>\n",
       "    </tr>\n",
       "    <tr>\n",
       "      <th>278</th>\n",
       "      <td>2020</td>\n",
       "      <td>5</td>\n",
       "      <td>35619</td>\n",
       "      <td>서울 노원구,중계동</td>\n",
       "      <td>0</td>\n",
       "      <td>718</td>\n",
       "      <td>396</td>\n",
       "      <td>0</td>\n",
       "      <td>79</td>\n",
       "      <td>436</td>\n",
       "    </tr>\n",
       "    <tr>\n",
       "      <th>279</th>\n",
       "      <td>2020</td>\n",
       "      <td>5</td>\n",
       "      <td>35630</td>\n",
       "      <td>서울 노원구,상계동</td>\n",
       "      <td>0</td>\n",
       "      <td>860</td>\n",
       "      <td>956</td>\n",
       "      <td>138</td>\n",
       "      <td>76</td>\n",
       "      <td>4659</td>\n",
       "    </tr>\n",
       "  </tbody>\n",
       "</table>\n",
       "<p>280 rows × 10 columns</p>\n",
       "</div>"
      ],
      "text/plain": [
       "UP   YEAR  MONTH CGDG_CD     GU_DONG  레저  문화취미  보건위생   숙박  요식업  의료기관\n",
       "0    2019      2   11517   대구 중구,동인동   0    24    38    0   20    14\n",
       "1    2019      2   11545   대구 중구,삼덕동   0     2    38   26   43     6\n",
       "2    2019      2   11565   대구 중구,성내동   0     3     0   19    0     0\n",
       "3    2019      2   11595   대구 중구,대신동   0     3     0   19    0     0\n",
       "4    2019      2   11640   대구 중구,남산동   0    73     0   19   14   147\n",
       "..    ...    ...     ...         ...  ..   ...   ...  ...  ...   ...\n",
       "275  2020      5   35560  서울 노원구,월계동   0   296   386    3   85   205\n",
       "276  2020      5   35595  서울 노원구,공릉동   2   437   908  235  242  4301\n",
       "277  2020      5   35611  서울 노원구,하계동   0   213   938  138   17  4426\n",
       "278  2020      5   35619  서울 노원구,중계동   0   718   396    0   79   436\n",
       "279  2020      5   35630  서울 노원구,상계동   0   860   956  138   76  4659\n",
       "\n",
       "[280 rows x 10 columns]"
      ]
     },
     "execution_count": 24,
     "metadata": {},
     "output_type": "execute_result"
    }
   ],
   "source": [
    "a"
   ]
  },
  {
   "cell_type": "code",
   "execution_count": 25,
   "metadata": {
    "ExecuteTime": {
     "end_time": "2020-09-20T14:02:10.230302Z",
     "start_time": "2020-09-20T14:02:10.211757Z"
    }
   },
   "outputs": [
    {
     "data": {
      "text/html": [
       "<div>\n",
       "<style scoped>\n",
       "    .dataframe tbody tr th:only-of-type {\n",
       "        vertical-align: middle;\n",
       "    }\n",
       "\n",
       "    .dataframe tbody tr th {\n",
       "        vertical-align: top;\n",
       "    }\n",
       "\n",
       "    .dataframe thead th {\n",
       "        text-align: right;\n",
       "    }\n",
       "</style>\n",
       "<table border=\"1\" class=\"dataframe\">\n",
       "  <thead>\n",
       "    <tr style=\"text-align: right;\">\n",
       "      <th></th>\n",
       "      <th>YEAR</th>\n",
       "      <th>MONTH</th>\n",
       "      <th>CGDG_CD</th>\n",
       "      <th>도서/음반</th>\n",
       "      <th>스포츠/레저</th>\n",
       "      <th>식품</th>\n",
       "      <th>화장품/미용</th>\n",
       "      <th>GU_DONG</th>\n",
       "    </tr>\n",
       "  </thead>\n",
       "  <tbody>\n",
       "    <tr>\n",
       "      <th>0</th>\n",
       "      <td>2019</td>\n",
       "      <td>2</td>\n",
       "      <td>11517</td>\n",
       "      <td>1487</td>\n",
       "      <td>227</td>\n",
       "      <td>4169</td>\n",
       "      <td>2695</td>\n",
       "      <td>대구 중구,동인동</td>\n",
       "    </tr>\n",
       "    <tr>\n",
       "      <th>1</th>\n",
       "      <td>2019</td>\n",
       "      <td>2</td>\n",
       "      <td>11517</td>\n",
       "      <td>1487</td>\n",
       "      <td>227</td>\n",
       "      <td>4169</td>\n",
       "      <td>2695</td>\n",
       "      <td>대구 중구,동인동</td>\n",
       "    </tr>\n",
       "    <tr>\n",
       "      <th>2</th>\n",
       "      <td>2019</td>\n",
       "      <td>2</td>\n",
       "      <td>11517</td>\n",
       "      <td>1487</td>\n",
       "      <td>227</td>\n",
       "      <td>4169</td>\n",
       "      <td>2695</td>\n",
       "      <td>대구 중구,동인동</td>\n",
       "    </tr>\n",
       "    <tr>\n",
       "      <th>3</th>\n",
       "      <td>2019</td>\n",
       "      <td>2</td>\n",
       "      <td>11517</td>\n",
       "      <td>1487</td>\n",
       "      <td>227</td>\n",
       "      <td>4169</td>\n",
       "      <td>2695</td>\n",
       "      <td>대구 중구,동인동</td>\n",
       "    </tr>\n",
       "    <tr>\n",
       "      <th>4</th>\n",
       "      <td>2019</td>\n",
       "      <td>2</td>\n",
       "      <td>11517</td>\n",
       "      <td>1487</td>\n",
       "      <td>227</td>\n",
       "      <td>4169</td>\n",
       "      <td>2695</td>\n",
       "      <td>대구 중구,동인동</td>\n",
       "    </tr>\n",
       "    <tr>\n",
       "      <th>...</th>\n",
       "      <td>...</td>\n",
       "      <td>...</td>\n",
       "      <td>...</td>\n",
       "      <td>...</td>\n",
       "      <td>...</td>\n",
       "      <td>...</td>\n",
       "      <td>...</td>\n",
       "      <td>...</td>\n",
       "    </tr>\n",
       "    <tr>\n",
       "      <th>2235</th>\n",
       "      <td>2020</td>\n",
       "      <td>5</td>\n",
       "      <td>35630</td>\n",
       "      <td>3134</td>\n",
       "      <td>893</td>\n",
       "      <td>16973</td>\n",
       "      <td>8078</td>\n",
       "      <td>서울 노원구,상계동</td>\n",
       "    </tr>\n",
       "    <tr>\n",
       "      <th>2236</th>\n",
       "      <td>2020</td>\n",
       "      <td>5</td>\n",
       "      <td>35630</td>\n",
       "      <td>3134</td>\n",
       "      <td>893</td>\n",
       "      <td>16973</td>\n",
       "      <td>8078</td>\n",
       "      <td>서울 노원구,상계동</td>\n",
       "    </tr>\n",
       "    <tr>\n",
       "      <th>2237</th>\n",
       "      <td>2020</td>\n",
       "      <td>5</td>\n",
       "      <td>35630</td>\n",
       "      <td>3134</td>\n",
       "      <td>893</td>\n",
       "      <td>16973</td>\n",
       "      <td>8078</td>\n",
       "      <td>서울 노원구,상계동</td>\n",
       "    </tr>\n",
       "    <tr>\n",
       "      <th>2238</th>\n",
       "      <td>2020</td>\n",
       "      <td>5</td>\n",
       "      <td>35630</td>\n",
       "      <td>3134</td>\n",
       "      <td>893</td>\n",
       "      <td>16973</td>\n",
       "      <td>8078</td>\n",
       "      <td>서울 노원구,상계동</td>\n",
       "    </tr>\n",
       "    <tr>\n",
       "      <th>2239</th>\n",
       "      <td>2020</td>\n",
       "      <td>5</td>\n",
       "      <td>35630</td>\n",
       "      <td>3134</td>\n",
       "      <td>893</td>\n",
       "      <td>16973</td>\n",
       "      <td>8078</td>\n",
       "      <td>서울 노원구,상계동</td>\n",
       "    </tr>\n",
       "  </tbody>\n",
       "</table>\n",
       "<p>2240 rows × 8 columns</p>\n",
       "</div>"
      ],
      "text/plain": [
       "      YEAR  MONTH CGDG_CD  도서/음반  스포츠/레저     식품  화장품/미용     GU_DONG\n",
       "0     2019      2   11517   1487     227   4169    2695   대구 중구,동인동\n",
       "1     2019      2   11517   1487     227   4169    2695   대구 중구,동인동\n",
       "2     2019      2   11517   1487     227   4169    2695   대구 중구,동인동\n",
       "3     2019      2   11517   1487     227   4169    2695   대구 중구,동인동\n",
       "4     2019      2   11517   1487     227   4169    2695   대구 중구,동인동\n",
       "...    ...    ...     ...    ...     ...    ...     ...         ...\n",
       "2235  2020      5   35630   3134     893  16973    8078  서울 노원구,상계동\n",
       "2236  2020      5   35630   3134     893  16973    8078  서울 노원구,상계동\n",
       "2237  2020      5   35630   3134     893  16973    8078  서울 노원구,상계동\n",
       "2238  2020      5   35630   3134     893  16973    8078  서울 노원구,상계동\n",
       "2239  2020      5   35630   3134     893  16973    8078  서울 노원구,상계동\n",
       "\n",
       "[2240 rows x 8 columns]"
      ]
     },
     "execution_count": 25,
     "metadata": {},
     "output_type": "execute_result"
    }
   ],
   "source": [
    "b"
   ]
  },
  {
   "cell_type": "markdown",
   "metadata": {},
   "source": [
    "# SNS 데이터와 송장 건수 간 상관관계 Heatmap"
   ]
  },
  {
   "cell_type": "code",
   "execution_count": 32,
   "metadata": {
    "ExecuteTime": {
     "end_time": "2020-09-20T14:07:55.329778Z",
     "start_time": "2020-09-20T14:07:54.547253Z"
    }
   },
   "outputs": [
    {
     "data": {
      "text/plain": [
       "<matplotlib.axes._subplots.AxesSubplot at 0x27ddfec6848>"
      ]
     },
     "execution_count": 32,
     "metadata": {},
     "output_type": "execute_result"
    },
    {
     "data": {
      "image/png": "[encoded data removed]",
      "text/plain": [
       "<Figure size 432x288 with 2 Axes>"
      ]
     },
     "metadata": {
      "needs_background": "light"
     },
     "output_type": "display_data"
    }
   ],
   "source": [
    "# 2019년 SNS 업종 긍정 언급량과 물류 배송 횟수 간의 상관관계 => 별 관련성이 없음\n",
    "c = pd.merge(a,b,how='inner',on=['CGDG_CD','YEAR','MONTH']).query('YEAR == 2019').drop(columns=['YEAR','MONTH','숙박','의료기관'])\n",
    "sns.heatmap(c.corr(),annot=True)"
   ]
  },
  {
   "cell_type": "code",
   "execution_count": 33,
   "metadata": {
    "ExecuteTime": {
     "end_time": "2020-09-20T14:08:04.967416Z",
     "start_time": "2020-09-20T14:08:04.581415Z"
    }
   },
   "outputs": [
    {
     "data": {
      "text/plain": [
       "<matplotlib.axes._subplots.AxesSubplot at 0x27ddcb7be88>"
      ]
     },
     "execution_count": 33,
     "metadata": {},
     "output_type": "execute_result"
    },
    {
     "data": {
      "image/png": "[encoded data removed]",
      "text/plain": [
       "<Figure size 432x288 with 2 Axes>"
      ]
     },
     "metadata": {
      "needs_background": "light"
     },
     "output_type": "display_data"
    }
   ],
   "source": [
    "# 2020년 SNS 업종 긍정 언급량과 물류 배송 횟수 간의 상관관계 => 별 관련성이 없음\n",
    "d = pd.merge(a,b,how='inner',on=['CGDG_CD','YEAR','MONTH']).query('YEAR == 2020').drop(columns=['YEAR','MONTH','숙박','의료기관'])\n",
    "sns.heatmap(d.corr(),annot=True)"
   ]
  },
  {
   "cell_type": "code",
   "execution_count": 34,
   "metadata": {
    "ExecuteTime": {
     "end_time": "2020-09-20T14:08:31.545210Z",
     "start_time": "2020-09-20T14:08:31.171880Z"
    }
   },
   "outputs": [
    {
     "data": {
      "text/plain": [
       "<matplotlib.axes._subplots.AxesSubplot at 0x27ddf16d808>"
      ]
     },
     "execution_count": 34,
     "metadata": {},
     "output_type": "execute_result"
    },
    {
     "data": {
      "image/png": "[encoded data removed]",
      "text/plain": [
       "<Figure size 432x288 with 2 Axes>"
      ]
     },
     "metadata": {
      "needs_background": "light"
     },
     "output_type": "display_data"
    }
   ],
   "source": [
    "# 전체 기간 동안 SNS 업종 긍정 언급량과 물류 배송 횟수 간의 상관관계 => 별 관련성이 없음\n",
    "e = pd.merge(a,b,how='inner',on=['CGDG_CD','YEAR','MONTH']).drop(columns=['YEAR','MONTH','숙박','의료기관'])\n",
    "sns.heatmap(e.corr(),annot=True)"
   ]
  }
 ],
 "metadata": {
  "kernelspec": {
   "display_name": "Python 3",
   "language": "python",
   "name": "python3"
  },
  "language_info": {
   "codemirror_mode": {
    "name": "ipython",
    "version": 3
   },
   "file_extension": ".py",
   "mimetype": "text/x-python",
   "name": "python",
   "nbconvert_exporter": "python",
   "pygments_lexer": "ipython3",
   "version": "3.7.7"
  },
  "toc": {
   "base_numbering": 1,
   "nav_menu": {},
   "number_sections": true,
   "sideBar": true,
   "skip_h1_title": false,
   "title_cell": "Table of Contents",
   "title_sidebar": "Contents",
   "toc_cell": false,
   "toc_position": {},
   "toc_section_display": true,
   "toc_window_display": true
  }
 },
 "nbformat": 4,
 "nbformat_minor": 4
}
