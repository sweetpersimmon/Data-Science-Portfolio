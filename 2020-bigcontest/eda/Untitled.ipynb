{
 "cells": [
  {
   "cell_type": "code",
   "execution_count": 1,
   "metadata": {
    "ExecuteTime": {
     "end_time": "2020-09-24T08:54:36.339127Z",
     "start_time": "2020-09-24T08:54:35.446069Z"
    }
   },
   "outputs": [
    {
     "name": "stderr",
     "output_type": "stream",
     "text": [
      "c:\\python37\\lib\\site-packages\\statsmodels\\tools\\_testing.py:19: FutureWarning: pandas.util.testing is deprecated. Use the functions in the public API at pandas.testing instead.\n",
      "  import pandas.util.testing as tm\n"
     ]
    }
   ],
   "source": [
    "import pandas as pd\n",
    "import numpy as np\n",
    "import scipy \n",
    "\n",
    "import matplotlib as mpl\n",
    "import matplotlib.pyplot as plt\n",
    "import seaborn as sns\n",
    "%matplotlib inline\n",
    "\n",
    "import os\n",
    "import gc\n",
    "import pickle"
   ]
  },
  {
   "cell_type": "code",
   "execution_count": 2,
   "metadata": {
    "ExecuteTime": {
     "end_time": "2020-09-24T08:54:53.061520Z",
     "start_time": "2020-09-24T08:54:53.053525Z"
    }
   },
   "outputs": [],
   "source": [
    "os.chdir(\"../\")\n",
    "root_path = os.getcwd()\n",
    "\n",
    "data_folder_path = os.path.join(root_path, 'data')\n",
    "original_file_path = os.path.join(data_folder_path, 'original_data')\n",
    "original_raw_file_path = os.path.join(original_file_path,'raw_data')\n",
    "original_processed_file_path = os.path.join(original_file_path,'processed_data')\n",
    "\n",
    "raw_file_folders = os.listdir(original_raw_file_path)\n",
    "\n",
    "external_file_path = os.path.join(data_folder_path,'external_data')\n",
    "external_raw_file_path = os.path.join(external_file_path,'raw_data')\n",
    "external_processed_file_path = os.path.join(external_file_path,'processed_data')"
   ]
  },
  {
   "cell_type": "code",
   "execution_count": 3,
   "metadata": {
    "ExecuteTime": {
     "end_time": "2020-09-24T08:54:53.557190Z",
     "start_time": "2020-09-24T08:54:53.549228Z"
    }
   },
   "outputs": [],
   "source": [
    "#plt.style.use('ggplot')\n",
    "\n",
    "mpl.rcParams['axes.unicode_minus'] = False\n",
    "plt.rcParams[\"font.family\"] = \"Malgun Gothic\""
   ]
  },
  {
   "cell_type": "code",
   "execution_count": 6,
   "metadata": {
    "ExecuteTime": {
     "end_time": "2020-09-24T08:56:00.489137Z",
     "start_time": "2020-09-24T08:56:00.481143Z"
    }
   },
   "outputs": [],
   "source": [
    "gs_file_name = [file for file in os.listdir(original_processed_file_path) if file.startswith('유통_')]\n",
    "\n",
    "df_list = [pd.read_csv(os.path.join(original_processed_file_path,file)) for file in gs_file_name]\n",
    "by_dong, total, by_category = df_list"
   ]
  },
  {
   "cell_type": "code",
   "execution_count": 11,
   "metadata": {
    "ExecuteTime": {
     "end_time": "2020-09-24T08:57:19.010650Z",
     "start_time": "2020-09-24T08:57:18.994660Z"
    }
   },
   "outputs": [],
   "source": [
    "by_dong_melt = by_dong.melt(id_vars=['PVN','BOR','ADMD'], var_name='STD_DD')"
   ]
  },
  {
   "cell_type": "code",
   "execution_count": 12,
   "metadata": {
    "ExecuteTime": {
     "end_time": "2020-09-24T08:57:19.402388Z",
     "start_time": "2020-09-24T08:57:19.386399Z"
    }
   },
   "outputs": [],
   "source": [
    "tmp_df=by_dong_melt.groupby(['PVN','STD_DD']).value.mean().reset_index()"
   ]
  },
  {
   "cell_type": "code",
   "execution_count": 13,
   "metadata": {
    "ExecuteTime": {
     "end_time": "2020-09-24T08:57:19.803933Z",
     "start_time": "2020-09-24T08:57:19.780336Z"
    }
   },
   "outputs": [
    {
     "name": "stderr",
     "output_type": "stream",
     "text": [
      "c:\\python37\\lib\\site-packages\\ipykernel_launcher.py:3: FutureWarning: Series.dt.weekofyear and Series.dt.week have been deprecated.  Please use Series.dt.isocalendar().week instead.\n",
      "  This is separate from the ipykernel package so we can avoid doing imports until\n"
     ]
    }
   ],
   "source": [
    "tmp_df['STD_DD']=pd.to_datetime(tmp_df.STD_DD)\n",
    "tmp_df['year'] = tmp_df.STD_DD.dt.year\n",
    "tmp_df['weekofyear'] = tmp_df.STD_DD.dt.weekofyear"
   ]
  },
  {
   "cell_type": "code",
   "execution_count": 14,
   "metadata": {
    "ExecuteTime": {
     "end_time": "2020-09-24T08:57:21.342115Z",
     "start_time": "2020-09-24T08:57:21.326123Z"
    }
   },
   "outputs": [
    {
     "data": {
      "text/html": [
       "<div>\n",
       "<style scoped>\n",
       "    .dataframe tbody tr th:only-of-type {\n",
       "        vertical-align: middle;\n",
       "    }\n",
       "\n",
       "    .dataframe tbody tr th {\n",
       "        vertical-align: top;\n",
       "    }\n",
       "\n",
       "    .dataframe thead th {\n",
       "        text-align: right;\n",
       "    }\n",
       "</style>\n",
       "<table border=\"1\" class=\"dataframe\">\n",
       "  <thead>\n",
       "    <tr style=\"text-align: right;\">\n",
       "      <th></th>\n",
       "      <th>PVN</th>\n",
       "      <th>year</th>\n",
       "      <th>value</th>\n",
       "    </tr>\n",
       "  </thead>\n",
       "  <tbody>\n",
       "    <tr>\n",
       "      <th>0</th>\n",
       "      <td>대구광역시</td>\n",
       "      <td>2019</td>\n",
       "      <td>1.003444</td>\n",
       "    </tr>\n",
       "    <tr>\n",
       "      <th>1</th>\n",
       "      <td>대구광역시</td>\n",
       "      <td>2020</td>\n",
       "      <td>0.811296</td>\n",
       "    </tr>\n",
       "    <tr>\n",
       "      <th>2</th>\n",
       "      <td>서울특별시</td>\n",
       "      <td>2019</td>\n",
       "      <td>1.216377</td>\n",
       "    </tr>\n",
       "    <tr>\n",
       "      <th>3</th>\n",
       "      <td>서울특별시</td>\n",
       "      <td>2020</td>\n",
       "      <td>1.049530</td>\n",
       "    </tr>\n",
       "    <tr>\n",
       "      <th>4</th>\n",
       "      <td>전체</td>\n",
       "      <td>2019</td>\n",
       "      <td>1.179104</td>\n",
       "    </tr>\n",
       "    <tr>\n",
       "      <th>5</th>\n",
       "      <td>전체</td>\n",
       "      <td>2020</td>\n",
       "      <td>0.964331</td>\n",
       "    </tr>\n",
       "  </tbody>\n",
       "</table>\n",
       "</div>"
      ],
      "text/plain": [
       "     PVN  year     value\n",
       "0  대구광역시  2019  1.003444\n",
       "1  대구광역시  2020  0.811296\n",
       "2  서울특별시  2019  1.216377\n",
       "3  서울특별시  2020  1.049530\n",
       "4     전체  2019  1.179104\n",
       "5     전체  2020  0.964331"
      ]
     },
     "execution_count": 14,
     "metadata": {},
     "output_type": "execute_result"
    }
   ],
   "source": [
    "tmp_df.groupby(['PVN','year']).value.mean().reset_index()"
   ]
  },
  {
   "cell_type": "code",
   "execution_count": 15,
   "metadata": {
    "ExecuteTime": {
     "end_time": "2020-09-24T08:57:21.928079Z",
     "start_time": "2020-09-24T08:57:21.733486Z"
    }
   },
   "outputs": [
    {
     "data": {
      "text/plain": [
       "Text(0.5, 0, '')"
      ]
     },
     "execution_count": 15,
     "metadata": {},
     "output_type": "execute_result"
    },
    {
     "data": {
      "image/png": "[encoded data removed]",
      "text/plain": [
       "<Figure size 1152x432 with 1 Axes>"
      ]
     },
     "metadata": {
      "needs_background": "light"
     },
     "output_type": "display_data"
    }
   ],
   "source": [
    "fig, ax = plt.subplots(figsize=(16,6))\n",
    "sns.barplot(\n",
    "    data = tmp_df.groupby(['PVN','year']).value.mean().reset_index(),\n",
    "    x = 'PVN',\n",
    "    y = 'value',\n",
    "    hue = 'year',\n",
    "    #palette = ['b','orange'],\n",
    "    ax = ax\n",
    ")\n",
    "\n",
    "plt.title('코로나 전후 편의점 매출 비교', size=18)\n",
    "plt.xlabel('')"
   ]
  },
  {
   "cell_type": "code",
   "execution_count": 16,
   "metadata": {
    "ExecuteTime": {
     "end_time": "2020-09-24T08:57:24.154290Z",
     "start_time": "2020-09-24T08:57:24.146293Z"
    }
   },
   "outputs": [],
   "source": [
    "covid_spread = pd.date_range(start='2020-02-21',end='2020-03-15')\n",
    "covid_ease = pd.date_range(start='2020-03-22',end='2020-05-05')\n",
    "covid_resilience = pd.date_range(start='2020-05-06',end='2020-05-31')"
   ]
  },
  {
   "cell_type": "code",
   "execution_count": 17,
   "metadata": {
    "ExecuteTime": {
     "end_time": "2020-09-24T08:57:25.020593Z",
     "start_time": "2020-09-24T08:57:24.996608Z"
    }
   },
   "outputs": [],
   "source": [
    "tmp_df2= by_dong_melt.dropna().groupby(['PVN','BOR','STD_DD'])['value'].sum().reset_index()"
   ]
  },
  {
   "cell_type": "code",
   "execution_count": 18,
   "metadata": {
    "ExecuteTime": {
     "end_time": "2020-09-24T08:57:25.388380Z",
     "start_time": "2020-09-24T08:57:25.372361Z"
    }
   },
   "outputs": [],
   "source": [
    "tmp_df2['STD_DD'] = pd.to_datetime(tmp_df2.STD_DD)"
   ]
  },
  {
   "cell_type": "code",
   "execution_count": 19,
   "metadata": {
    "ExecuteTime": {
     "end_time": "2020-09-24T08:57:26.109289Z",
     "start_time": "2020-09-24T08:57:26.093297Z"
    }
   },
   "outputs": [],
   "source": [
    "normal=tmp_df2.loc[tmp_df2.STD_DD.dt.year==2019].groupby(['PVN','BOR']).value.mean()\n",
    "spread=tmp_df2.loc[tmp_df2.STD_DD.isin(covid_spread)].groupby(['PVN','BOR']).value.mean()\n",
    "ease=tmp_df2.loc[tmp_df2.STD_DD.isin(covid_ease)].groupby(['PVN','BOR']).value.mean()\n",
    "resilience=tmp_df2.loc[tmp_df2.STD_DD.isin(covid_resilience)].groupby(['PVN','BOR']).value.mean()"
   ]
  },
  {
   "cell_type": "code",
   "execution_count": 20,
   "metadata": {
    "ExecuteTime": {
     "end_time": "2020-09-24T08:57:27.757430Z",
     "start_time": "2020-09-24T08:57:27.741439Z"
    }
   },
   "outputs": [],
   "source": [
    "spread = (spread/normal).reset_index(name='확산기')\n",
    "ease = (ease/normal).reset_index(name='완화기')\n",
    "resilience = (resilience/normal).reset_index(name='회복기')"
   ]
  },
  {
   "cell_type": "code",
   "execution_count": 21,
   "metadata": {
    "ExecuteTime": {
     "end_time": "2020-09-24T08:57:28.358299Z",
     "start_time": "2020-09-24T08:57:28.342308Z"
    }
   },
   "outputs": [],
   "source": [
    "result=spread.merge(ease.merge(resilience))"
   ]
  },
  {
   "cell_type": "code",
   "execution_count": 22,
   "metadata": {
    "ExecuteTime": {
     "end_time": "2020-09-24T08:57:28.632777Z",
     "start_time": "2020-09-24T08:57:28.624750Z"
    }
   },
   "outputs": [],
   "source": [
    "result['GU'] = result.PVN.apply(lambda x : x[:2]) +' '+result.BOR"
   ]
  },
  {
   "cell_type": "code",
   "execution_count": 23,
   "metadata": {
    "ExecuteTime": {
     "end_time": "2020-09-24T08:57:28.888574Z",
     "start_time": "2020-09-24T08:57:28.881064Z"
    }
   },
   "outputs": [],
   "source": [
    "result = result[['GU','확산기','완화기','회복기']]"
   ]
  },
  {
   "cell_type": "code",
   "execution_count": 24,
   "metadata": {
    "ExecuteTime": {
     "end_time": "2020-09-24T08:57:29.393534Z",
     "start_time": "2020-09-24T08:57:29.376249Z"
    }
   },
   "outputs": [
    {
     "data": {
      "text/html": [
       "<div>\n",
       "<style scoped>\n",
       "    .dataframe tbody tr th:only-of-type {\n",
       "        vertical-align: middle;\n",
       "    }\n",
       "\n",
       "    .dataframe tbody tr th {\n",
       "        vertical-align: top;\n",
       "    }\n",
       "\n",
       "    .dataframe thead th {\n",
       "        text-align: right;\n",
       "    }\n",
       "</style>\n",
       "<table border=\"1\" class=\"dataframe\">\n",
       "  <thead>\n",
       "    <tr style=\"text-align: right;\">\n",
       "      <th></th>\n",
       "      <th>확산기</th>\n",
       "      <th>완화기</th>\n",
       "      <th>회복기</th>\n",
       "    </tr>\n",
       "    <tr>\n",
       "      <th>GU</th>\n",
       "      <th></th>\n",
       "      <th></th>\n",
       "      <th></th>\n",
       "    </tr>\n",
       "  </thead>\n",
       "  <tbody>\n",
       "    <tr>\n",
       "      <th>대구 수성구</th>\n",
       "      <td>0.774089</td>\n",
       "      <td>0.804560</td>\n",
       "      <td>0.924783</td>\n",
       "    </tr>\n",
       "    <tr>\n",
       "      <th>대구 중구</th>\n",
       "      <td>0.626247</td>\n",
       "      <td>0.667923</td>\n",
       "      <td>0.790635</td>\n",
       "    </tr>\n",
       "    <tr>\n",
       "      <th>서울 노원구</th>\n",
       "      <td>0.912116</td>\n",
       "      <td>0.933141</td>\n",
       "      <td>1.012404</td>\n",
       "    </tr>\n",
       "    <tr>\n",
       "      <th>서울 중구</th>\n",
       "      <td>0.776008</td>\n",
       "      <td>0.721975</td>\n",
       "      <td>0.805484</td>\n",
       "    </tr>\n",
       "  </tbody>\n",
       "</table>\n",
       "</div>"
      ],
      "text/plain": [
       "             확산기       완화기       회복기\n",
       "GU                                  \n",
       "대구 수성구  0.774089  0.804560  0.924783\n",
       "대구 중구   0.626247  0.667923  0.790635\n",
       "서울 노원구  0.912116  0.933141  1.012404\n",
       "서울 중구   0.776008  0.721975  0.805484"
      ]
     },
     "execution_count": 24,
     "metadata": {},
     "output_type": "execute_result"
    }
   ],
   "source": [
    "result.set_index('GU')"
   ]
  }
 ],
 "metadata": {
  "kernelspec": {
   "display_name": "Python 3",
   "language": "python",
   "name": "python3"
  },
  "language_info": {
   "codemirror_mode": {
    "name": "ipython",
    "version": 3
   },
   "file_extension": ".py",
   "mimetype": "text/x-python",
   "name": "python",
   "nbconvert_exporter": "python",
   "pygments_lexer": "ipython3",
   "version": "3.7.2"
  },
  "toc": {
   "base_numbering": 1,
   "nav_menu": {},
   "number_sections": true,
   "sideBar": true,
   "skip_h1_title": false,
   "title_cell": "Table of Contents",
   "title_sidebar": "Contents",
   "toc_cell": false,
   "toc_position": {},
   "toc_section_display": true,
   "toc_window_display": false
  },
  "varInspector": {
   "cols": {
    "lenName": 16,
    "lenType": 16,
    "lenVar": 40
   },
   "kernels_config": {
    "python": {
     "delete_cmd_postfix": "",
     "delete_cmd_prefix": "del ",
     "library": "var_list.py",
     "varRefreshCmd": "print(var_dic_list())"
    },
    "r": {
     "delete_cmd_postfix": ") ",
     "delete_cmd_prefix": "rm(",
     "library": "var_list.r",
     "varRefreshCmd": "cat(var_dic_list()) "
    }
   },
   "types_to_exclude": [
    "module",
    "function",
    "builtin_function_or_method",
    "instance",
    "_Feature"
   ],
   "window_display": false
  }
 },
 "nbformat": 4,
 "nbformat_minor": 2
}
