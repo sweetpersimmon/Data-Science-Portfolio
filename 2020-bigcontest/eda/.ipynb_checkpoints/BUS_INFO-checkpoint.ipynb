{
 "cells": [
  {
   "cell_type": "code",
   "execution_count": 1,
   "metadata": {
    "ExecuteTime": {
     "end_time": "2020-09-21T08:21:55.843020Z",
     "start_time": "2020-09-21T08:21:54.796456Z"
    }
   },
   "outputs": [],
   "source": [
    "import geopandas as gpd\n",
    "from pyproj import transform,Proj\n",
    "from shapely.geometry import MultiPoint, Point\n",
    "\n",
    "import pandas as pd\n",
    "import numpy as np\n",
    "\n",
    "import os\n",
    "import gc\n",
    "import warnings\n",
    "\n",
    "from tqdm import trange,tqdm\n",
    "from itertools import combinations, permutations\n",
    "\n",
    "warnings.filterwarnings('ignore')\n",
    "\n",
    "import glob\n",
    "from PIL import Image\n",
    "\n",
    "import matplotlib as mpl\n",
    "import matplotlib.pyplot as plt\n",
    "import seaborn as sns\n",
    "\n",
    "plt.style.use('ggplot')\n",
    "\n",
    "mpl.rcParams['axes.unicode_minus'] = False\n",
    "plt.rcParams[\"font.family\"] = \"Malgun Gothic\"\n",
    "\n",
    "%matplotlib inline\n",
    "\n",
    "os.chdir(\"../\")\n",
    "root_path = os.getcwd()\n",
    "\n",
    "data_folder_path = os.path.join(root_path, 'data')\n",
    "original_file_path = os.path.join(data_folder_path, 'original_data')\n",
    "original_raw_file_path = os.path.join(original_file_path,'raw_data')\n",
    "original_processed_file_path = os.path.join(original_file_path,'processed_data')\n",
    "\n",
    "raw_file_folders = os.listdir(original_raw_file_path)\n",
    "\n",
    "external_file_path = os.path.join(data_folder_path,'external_data')\n",
    "external_raw_file_path = os.path.join(external_file_path,'raw_data')\n",
    "external_processed_file_path = os.path.join(external_file_path,'processed_data')\n",
    "\n",
    "# image_path = 'C:/Users/rears/OneDrive/바탕 화면/dacon_covid19/'"
   ]
  },
  {
   "cell_type": "code",
   "execution_count": 2,
   "metadata": {
    "ExecuteTime": {
     "end_time": "2020-09-21T08:22:22.672676Z",
     "start_time": "2020-09-21T08:22:22.472674Z"
    }
   },
   "outputs": [],
   "source": [
    "# raw_file_folders = os.listdir(raw_file_path)\n",
    "geo_df=gpd.read_file(os.path.join(original_raw_file_path,raw_file_folders[0],'4개지역_행정동.SHP'))"
   ]
  },
  {
   "cell_type": "code",
   "execution_count": 4,
   "metadata": {
    "ExecuteTime": {
     "end_time": "2020-09-21T08:23:42.347582Z",
     "start_time": "2020-09-21T08:23:26.712226Z"
    }
   },
   "outputs": [],
   "source": [
    "bus_info = os.path.join(external_raw_file_path, 'bus_info')\n",
    "\n",
    "bus_station_info = [\n",
    "    pd.read_excel(os.path.join(bus_info, file))\n",
    "    for file in os.listdir(bus_info) if file.endswith('xlsx')\n",
    "][0]\n",
    "\n",
    "bus_route = [\n",
    "    pd.read_csv(os.path.join(bus_info, file), encoding='cp949')\n",
    "    for file in os.listdir(bus_info) if file.endswith('csv')\n",
    "]\n",
    "\n",
    "bus_route[4] = bus_route[4].drop('bus_route_id', axis=1)\n",
    "bus_route[5] = bus_route[5].drop('bus_route_id', axis=1)\n",
    "bus_route[6] = bus_route[6].drop('bus_route_id', axis=1)\n",
    "\n",
    "bus_route[4].columns = bus_route[0].columns\n",
    "bus_route[5].columns = bus_route[0].columns\n",
    "bus_route[6].columns = bus_route[0].columns\n",
    "\n",
    "bus_route = pd.concat(bus_route)"
   ]
  },
  {
   "cell_type": "code",
   "execution_count": 5,
   "metadata": {
    "ExecuteTime": {
     "end_time": "2020-09-21T08:23:44.738341Z",
     "start_time": "2020-09-21T08:23:44.730346Z"
    }
   },
   "outputs": [],
   "source": [
    "bus_station_info['point'] = None"
   ]
  },
  {
   "cell_type": "code",
   "execution_count": 6,
   "metadata": {
    "ExecuteTime": {
     "end_time": "2020-09-21T08:23:45.380980Z",
     "start_time": "2020-09-21T08:23:45.364975Z"
    }
   },
   "outputs": [
    {
     "data": {
      "text/html": [
       "<div>\n",
       "<style scoped>\n",
       "    .dataframe tbody tr th:only-of-type {\n",
       "        vertical-align: middle;\n",
       "    }\n",
       "\n",
       "    .dataframe tbody tr th {\n",
       "        vertical-align: top;\n",
       "    }\n",
       "\n",
       "    .dataframe thead th {\n",
       "        text-align: right;\n",
       "    }\n",
       "</style>\n",
       "<table border=\"1\" class=\"dataframe\">\n",
       "  <thead>\n",
       "    <tr style=\"text-align: right;\">\n",
       "      <th></th>\n",
       "      <th>표준ID</th>\n",
       "      <th>ARS-ID</th>\n",
       "      <th>정류장명</th>\n",
       "      <th>X좌표</th>\n",
       "      <th>Y좌표</th>\n",
       "      <th>비고</th>\n",
       "      <th>point</th>\n",
       "    </tr>\n",
       "  </thead>\n",
       "  <tbody>\n",
       "    <tr>\n",
       "      <th>0</th>\n",
       "      <td>100000001</td>\n",
       "      <td>1001</td>\n",
       "      <td>종로2가사거리</td>\n",
       "      <td>126.987750</td>\n",
       "      <td>37.569765</td>\n",
       "      <td>NaN</td>\n",
       "      <td>None</td>\n",
       "    </tr>\n",
       "    <tr>\n",
       "      <th>1</th>\n",
       "      <td>100000002</td>\n",
       "      <td>1002</td>\n",
       "      <td>창경궁.서울대학교병원</td>\n",
       "      <td>126.996566</td>\n",
       "      <td>37.579183</td>\n",
       "      <td>NaN</td>\n",
       "      <td>None</td>\n",
       "    </tr>\n",
       "    <tr>\n",
       "      <th>2</th>\n",
       "      <td>100000003</td>\n",
       "      <td>1003</td>\n",
       "      <td>명륜3가.성대입구</td>\n",
       "      <td>126.998340</td>\n",
       "      <td>37.582671</td>\n",
       "      <td>NaN</td>\n",
       "      <td>None</td>\n",
       "    </tr>\n",
       "    <tr>\n",
       "      <th>3</th>\n",
       "      <td>100000004</td>\n",
       "      <td>1004</td>\n",
       "      <td>종로2가.삼일교</td>\n",
       "      <td>126.987613</td>\n",
       "      <td>37.568579</td>\n",
       "      <td>NaN</td>\n",
       "      <td>None</td>\n",
       "    </tr>\n",
       "    <tr>\n",
       "      <th>4</th>\n",
       "      <td>100000005</td>\n",
       "      <td>1005</td>\n",
       "      <td>혜화동로터리.여운형활동터</td>\n",
       "      <td>127.001744</td>\n",
       "      <td>37.586243</td>\n",
       "      <td>NaN</td>\n",
       "      <td>None</td>\n",
       "    </tr>\n",
       "    <tr>\n",
       "      <th>5</th>\n",
       "      <td>101000305</td>\n",
       "      <td>1006</td>\n",
       "      <td>서대문역사거리</td>\n",
       "      <td>126.966893</td>\n",
       "      <td>37.566137</td>\n",
       "      <td>NaN</td>\n",
       "      <td>None</td>\n",
       "    </tr>\n",
       "    <tr>\n",
       "      <th>6</th>\n",
       "      <td>100000380</td>\n",
       "      <td>1007</td>\n",
       "      <td>서울역사박물관.경희궁앞</td>\n",
       "      <td>126.970380</td>\n",
       "      <td>37.569135</td>\n",
       "      <td>NaN</td>\n",
       "      <td>None</td>\n",
       "    </tr>\n",
       "    <tr>\n",
       "      <th>7</th>\n",
       "      <td>100000379</td>\n",
       "      <td>1008</td>\n",
       "      <td>서울역사박물관.경희궁앞</td>\n",
       "      <td>126.970609</td>\n",
       "      <td>37.569412</td>\n",
       "      <td>NaN</td>\n",
       "      <td>None</td>\n",
       "    </tr>\n",
       "    <tr>\n",
       "      <th>8</th>\n",
       "      <td>100000384</td>\n",
       "      <td>1009</td>\n",
       "      <td>광화문</td>\n",
       "      <td>126.975251</td>\n",
       "      <td>37.570135</td>\n",
       "      <td>NaN</td>\n",
       "      <td>None</td>\n",
       "    </tr>\n",
       "    <tr>\n",
       "      <th>9</th>\n",
       "      <td>100000385</td>\n",
       "      <td>1010</td>\n",
       "      <td>광화문</td>\n",
       "      <td>126.978085</td>\n",
       "      <td>37.570217</td>\n",
       "      <td>NaN</td>\n",
       "      <td>None</td>\n",
       "    </tr>\n",
       "  </tbody>\n",
       "</table>\n",
       "</div>"
      ],
      "text/plain": [
       "        표준ID  ARS-ID           정류장명         X좌표        Y좌표   비고 point\n",
       "0  100000001    1001        종로2가사거리  126.987750  37.569765  NaN  None\n",
       "1  100000002    1002    창경궁.서울대학교병원  126.996566  37.579183  NaN  None\n",
       "2  100000003    1003      명륜3가.성대입구  126.998340  37.582671  NaN  None\n",
       "3  100000004    1004       종로2가.삼일교  126.987613  37.568579  NaN  None\n",
       "4  100000005    1005  혜화동로터리.여운형활동터  127.001744  37.586243  NaN  None\n",
       "5  101000305    1006        서대문역사거리  126.966893  37.566137  NaN  None\n",
       "6  100000380    1007   서울역사박물관.경희궁앞  126.970380  37.569135  NaN  None\n",
       "7  100000379    1008   서울역사박물관.경희궁앞  126.970609  37.569412  NaN  None\n",
       "8  100000384    1009            광화문  126.975251  37.570135  NaN  None\n",
       "9  100000385    1010            광화문  126.978085  37.570217  NaN  None"
      ]
     },
     "execution_count": 6,
     "metadata": {},
     "output_type": "execute_result"
    }
   ],
   "source": [
    "bus_station_info.head(10)"
   ]
  },
  {
   "cell_type": "code",
   "execution_count": 7,
   "metadata": {
    "ExecuteTime": {
     "end_time": "2020-09-21T08:24:07.013899Z",
     "start_time": "2020-09-21T08:24:07.005905Z"
    }
   },
   "outputs": [],
   "source": [
    "subway_path=os.path.join(external_raw_file_path,'subway')"
   ]
  },
  {
   "cell_type": "code",
   "execution_count": 8,
   "metadata": {
    "ExecuteTime": {
     "end_time": "2020-09-21T08:24:08.258504Z",
     "start_time": "2020-09-21T08:24:08.202492Z"
    },
    "scrolled": true
   },
   "outputs": [],
   "source": [
    "subway_station = gpd.read_file(os.path.join(subway_path,'substation_pt_sma_170923.shp'))"
   ]
  },
  {
   "cell_type": "code",
   "execution_count": 9,
   "metadata": {
    "ExecuteTime": {
     "end_time": "2020-09-21T08:24:09.447801Z",
     "start_time": "2020-09-21T08:24:09.439807Z"
    }
   },
   "outputs": [],
   "source": [
    "total_subway_route = subway_station.호선.nunique()"
   ]
  },
  {
   "cell_type": "code",
   "execution_count": 10,
   "metadata": {
    "ExecuteTime": {
     "end_time": "2020-09-21T08:24:12.170074Z",
     "start_time": "2020-09-21T08:24:12.162048Z"
    }
   },
   "outputs": [
    {
     "data": {
      "text/plain": [
       "21"
      ]
     },
     "execution_count": 10,
     "metadata": {},
     "output_type": "execute_result"
    }
   ],
   "source": [
    "total_subway_route"
   ]
  },
  {
   "cell_type": "code",
   "execution_count": 12,
   "metadata": {
    "ExecuteTime": {
     "end_time": "2020-09-21T08:25:17.369413Z",
     "start_time": "2020-09-21T08:25:17.345277Z"
    }
   },
   "outputs": [],
   "source": [
    "proj_UTMK = Proj(init='epsg:5178')\n",
    "proj_WGS84 = Proj(init='epsg:4326')"
   ]
  },
  {
   "cell_type": "code",
   "execution_count": 13,
   "metadata": {
    "ExecuteTime": {
     "end_time": "2020-09-21T08:34:41.331409Z",
     "start_time": "2020-09-21T08:25:18.943536Z"
    }
   },
   "outputs": [
    {
     "name": "stderr",
     "output_type": "stream",
     "text": [
      "100%|████████████████████████████████████████████████████████████████████████████| 11280/11280 [09:22<00:00, 20.06it/s]\n"
     ]
    }
   ],
   "source": [
    "for i in trange(bus_station_info.shape[0]):\n",
    "    x=bus_station_info.iloc[i,:].X좌표\n",
    "    y=bus_station_info.iloc[i,:].Y좌표\n",
    "    \n",
    "    bus_station_info.iloc[i,-1]=Point(transform(proj_WGS84,proj_UTMK,x,y))"
   ]
  },
  {
   "cell_type": "code",
   "execution_count": 12,
   "metadata": {
    "ExecuteTime": {
     "end_time": "2020-09-17T09:50:37.270177Z",
     "start_time": "2020-09-17T09:50:37.267185Z"
    }
   },
   "outputs": [],
   "source": [
    "# bus_station_info.head(10)"
   ]
  },
  {
   "cell_type": "code",
   "execution_count": 13,
   "metadata": {
    "ExecuteTime": {
     "end_time": "2020-09-17T09:50:43.764859Z",
     "start_time": "2020-09-17T09:50:43.761864Z"
    }
   },
   "outputs": [],
   "source": [
    "# subway_station.head(10)"
   ]
  },
  {
   "cell_type": "code",
   "execution_count": 14,
   "metadata": {
    "ExecuteTime": {
     "end_time": "2020-09-21T08:35:15.506350Z",
     "start_time": "2020-09-21T08:34:41.488494Z"
    }
   },
   "outputs": [
    {
     "name": "stderr",
     "output_type": "stream",
     "text": [
      "100%|████████████████████████████████████████████████████████████████████████████████| 695/695 [00:34<00:00, 20.44it/s]\n"
     ]
    }
   ],
   "source": [
    "for i in trange(subway_station.shape[0]):\n",
    "    x = subway_station.iloc[i,:].X\n",
    "    y = subway_station.iloc[i,:].Y\n",
    "    \n",
    "    subway_station.iloc[i,-1]=Point(transform(proj_WGS84,proj_UTMK,x,y))"
   ]
  },
  {
   "cell_type": "code",
   "execution_count": 15,
   "metadata": {
    "ExecuteTime": {
     "end_time": "2020-09-17T09:51:17.900095Z",
     "start_time": "2020-09-17T09:51:17.896073Z"
    }
   },
   "outputs": [],
   "source": [
    "# subway_station.head(10)"
   ]
  },
  {
   "cell_type": "code",
   "execution_count": 16,
   "metadata": {
    "ExecuteTime": {
     "end_time": "2020-09-17T09:51:17.979883Z",
     "start_time": "2020-09-17T09:51:17.977854Z"
    }
   },
   "outputs": [],
   "source": [
    "# x=geo_df.geometry.apply(lambda x: MultiPoint(list(x.exterior.coords)))[0][0].x\n",
    "# y=geo_df.geometry.apply(lambda x: MultiPoint(list(x.exterior.coords)))[0][0].y"
   ]
  },
  {
   "cell_type": "code",
   "execution_count": 15,
   "metadata": {
    "ExecuteTime": {
     "end_time": "2020-09-21T08:35:18.873148Z",
     "start_time": "2020-09-21T08:35:15.682234Z"
    }
   },
   "outputs": [
    {
     "name": "stderr",
     "output_type": "stream",
     "text": [
      "100%|██████████████████████████████████████████████████████████████████████████| 11280/11280 [00:03<00:00, 3543.92it/s]\n"
     ]
    }
   ],
   "source": [
    "bus_station_indices=[]\n",
    "\n",
    "for i in trange(bus_station_info.shape[0]):\n",
    "    if sum(geo_df.geometry.contains(bus_station_info.point[i]))==1:\n",
    "        bus_station_indices.append(i)"
   ]
  },
  {
   "cell_type": "code",
   "execution_count": 16,
   "metadata": {
    "ExecuteTime": {
     "end_time": "2020-09-21T08:35:19.560494Z",
     "start_time": "2020-09-21T08:35:19.045874Z"
    }
   },
   "outputs": [
    {
     "name": "stderr",
     "output_type": "stream",
     "text": [
      "100%|██████████████████████████████████████████████████████████████████████████████| 819/819 [00:00<00:00, 1616.59it/s]\n"
     ]
    }
   ],
   "source": [
    "bus_station_HDONG_NM = {}\n",
    "\n",
    "for i in tqdm(bus_station_indices):\n",
    "    bus_station_HDONG_NM[i] = geo_df.iloc[pd.Series(geo_df.geometry.contains(bus_station_info.point[i])+0).idxmax(),2]"
   ]
  },
  {
   "cell_type": "code",
   "execution_count": 17,
   "metadata": {
    "ExecuteTime": {
     "end_time": "2020-09-21T08:35:19.928200Z",
     "start_time": "2020-09-21T08:35:19.720387Z"
    }
   },
   "outputs": [
    {
     "name": "stderr",
     "output_type": "stream",
     "text": [
      "100%|██████████████████████████████████████████████████████████████████████████████| 695/695 [00:00<00:00, 3478.15it/s]\n"
     ]
    }
   ],
   "source": [
    "subway_station_indices=[]\n",
    "\n",
    "for i in trange(subway_station.shape[0]):\n",
    "    if sum(geo_df.geometry.contains(subway_station.geometry[i]))==1:\n",
    "        subway_station_indices.append(i)"
   ]
  },
  {
   "cell_type": "code",
   "execution_count": 18,
   "metadata": {
    "ExecuteTime": {
     "end_time": "2020-09-21T08:35:20.112452Z",
     "start_time": "2020-09-21T08:35:20.096494Z"
    }
   },
   "outputs": [],
   "source": [
    "subway_station=gpd.GeoDataFrame(subway_station.iloc[subway_station_indices], geometry=gpd.points_from_xy(subway_station.iloc[subway_station_indices].geometry.x, subway_station.iloc[subway_station_indices].geometry.y)).reset_index(drop=True)"
   ]
  },
  {
   "cell_type": "code",
   "execution_count": 19,
   "metadata": {
    "ExecuteTime": {
     "end_time": "2020-09-21T08:35:20.329230Z",
     "start_time": "2020-09-21T08:35:20.289080Z"
    }
   },
   "outputs": [
    {
     "name": "stderr",
     "output_type": "stream",
     "text": [
      "100%|████████████████████████████████████████████████████████████████████████████████| 42/42 [00:00<00:00, 1490.58it/s]\n"
     ]
    }
   ],
   "source": [
    "subway_station_HDONG_NM = {}\n",
    "\n",
    "for i in trange(subway_station.shape[0]):\n",
    "    subway_station_HDONG_NM[i] = geo_df.iloc[pd.Series(geo_df.geometry.contains(subway_station.geometry[i])+0).idxmax(),2]"
   ]
  },
  {
   "cell_type": "code",
   "execution_count": 20,
   "metadata": {
    "ExecuteTime": {
     "end_time": "2020-09-21T08:35:25.249865Z",
     "start_time": "2020-09-21T08:35:25.241871Z"
    }
   },
   "outputs": [],
   "source": [
    "from collections import Counter"
   ]
  },
  {
   "cell_type": "markdown",
   "metadata": {},
   "source": [
    "#### 행정동별 버스정류장 개수 "
   ]
  },
  {
   "cell_type": "code",
   "execution_count": 23,
   "metadata": {
    "ExecuteTime": {
     "end_time": "2020-09-17T09:51:42.940399Z",
     "start_time": "2020-09-17T09:51:42.937407Z"
    }
   },
   "outputs": [],
   "source": [
    "# bus_route.sample(10)"
   ]
  },
  {
   "cell_type": "code",
   "execution_count": 21,
   "metadata": {
    "ExecuteTime": {
     "end_time": "2020-09-21T08:35:31.352415Z",
     "start_time": "2020-09-21T08:35:31.320389Z"
    }
   },
   "outputs": [],
   "source": [
    "bus_station_info['HDONG_NM']=bus_station_info.index.map(bus_station_HDONG_NM)\n",
    "bus_station_info=bus_station_info.drop('비고', axis=1).dropna()"
   ]
  },
  {
   "cell_type": "code",
   "execution_count": 25,
   "metadata": {
    "ExecuteTime": {
     "end_time": "2020-09-17T09:51:45.662126Z",
     "start_time": "2020-09-17T09:51:45.658137Z"
    }
   },
   "outputs": [],
   "source": [
    "# bus_station_info.head()"
   ]
  },
  {
   "cell_type": "code",
   "execution_count": 22,
   "metadata": {
    "ExecuteTime": {
     "end_time": "2020-09-21T08:35:32.590150Z",
     "start_time": "2020-09-21T08:35:32.574125Z"
    }
   },
   "outputs": [],
   "source": [
    "bus_station_num_by_dong = dict(Counter(bus_station_HDONG_NM.values()))"
   ]
  },
  {
   "cell_type": "code",
   "execution_count": 27,
   "metadata": {
    "ExecuteTime": {
     "end_time": "2020-09-17T09:51:50.116219Z",
     "start_time": "2020-09-17T09:51:50.113228Z"
    }
   },
   "outputs": [],
   "source": [
    "# bus_station_num_by_dong"
   ]
  },
  {
   "cell_type": "code",
   "execution_count": 23,
   "metadata": {
    "ExecuteTime": {
     "end_time": "2020-09-21T08:35:35.378873Z",
     "start_time": "2020-09-21T08:35:35.346843Z"
    }
   },
   "outputs": [],
   "source": [
    "bus_station_gdf=gpd.GeoDataFrame(bus_station_info, geometry=gpd.points_from_xy(bus_station_info.point.apply(lambda x: x.x), bus_station_info.point.apply(lambda x: x.y)))"
   ]
  },
  {
   "cell_type": "markdown",
   "metadata": {},
   "source": [
    "#### 행정동별 버스 노선 개수"
   ]
  },
  {
   "cell_type": "code",
   "execution_count": 24,
   "metadata": {
    "ExecuteTime": {
     "end_time": "2020-09-21T08:35:41.624310Z",
     "start_time": "2020-09-21T08:35:39.621852Z"
    }
   },
   "outputs": [],
   "source": [
    "station_in_route = bus_route.groupby('노선명')['버스정류장ARS번호'].apply(lambda x : list(x.unique())).reset_index()"
   ]
  },
  {
   "cell_type": "code",
   "execution_count": 30,
   "metadata": {
    "ExecuteTime": {
     "end_time": "2020-09-17T09:51:57.319584Z",
     "start_time": "2020-09-17T09:51:57.315595Z"
    }
   },
   "outputs": [],
   "source": [
    "# station_in_route.head(10)"
   ]
  },
  {
   "cell_type": "code",
   "execution_count": 31,
   "metadata": {
    "ExecuteTime": {
     "end_time": "2020-09-17T09:52:01.726799Z",
     "start_time": "2020-09-17T09:52:01.723839Z"
    }
   },
   "outputs": [],
   "source": [
    "# bus_station_info.head()"
   ]
  },
  {
   "cell_type": "code",
   "execution_count": 25,
   "metadata": {
    "ExecuteTime": {
     "end_time": "2020-09-21T08:35:44.838788Z",
     "start_time": "2020-09-21T08:35:44.409866Z"
    }
   },
   "outputs": [
    {
     "data": {
      "text/plain": [
       "{'공릉1동': 16,\n",
       " '공릉2동': 11,\n",
       " '광희동': 16,\n",
       " '다산동': 2,\n",
       " '동화동': 6,\n",
       " '명동': 48,\n",
       " '상계10동': 7,\n",
       " '상계1동': 6,\n",
       " '상계2동': 8,\n",
       " '상계3.4동': 3,\n",
       " '상계5동': 4,\n",
       " '상계6.7동': 13,\n",
       " '상계8동': 5,\n",
       " '상계9동': 6,\n",
       " '소공동': 36,\n",
       " '신당5동': 6,\n",
       " '신당동': 23,\n",
       " '약수동': 4,\n",
       " '월계1동': 13,\n",
       " '월계2동': 4,\n",
       " '월계3동': 12,\n",
       " '을지로동': 20,\n",
       " '장충동': 6,\n",
       " '중계1동': 5,\n",
       " '중계2.3동': 8,\n",
       " '중계4동': 9,\n",
       " '중계본동': 5,\n",
       " '중림동': 12,\n",
       " '청구동': 4,\n",
       " '필동': 6,\n",
       " '하계1동': 12,\n",
       " '하계2동': 7,\n",
       " '황학동': 12,\n",
       " '회현동': 39}"
      ]
     },
     "execution_count": 25,
     "metadata": {},
     "output_type": "execute_result"
    }
   ],
   "source": [
    "def convert_station_no(station_list):\n",
    "    converted_station_no = []\n",
    "    for station in station_list:\n",
    "        if station.startswith('0'):\n",
    "            converted_station_no.append(station[1:])\n",
    "        else:\n",
    "            converted_station_no.append(station)\n",
    "    return converted_station_no\n",
    "\n",
    "HDONG_NUM = []\n",
    "for route in station_in_route.reset_index().버스정류장ARS번호.apply(convert_station_no):\n",
    "    HDONG_NUM.extend(bus_station_info.loc[bus_station_info['ARS-ID'].isin(route)].HDONG_NM.unique())\n",
    "\n",
    "route_num_by_HDONG=dict(Counter(HDONG_NUM))\n",
    "route_num_by_HDONG"
   ]
  },
  {
   "cell_type": "code",
   "execution_count": 28,
   "metadata": {
    "ExecuteTime": {
     "end_time": "2020-09-15T07:53:56.053691Z",
     "start_time": "2020-09-15T07:53:56.049696Z"
    }
   },
   "outputs": [],
   "source": [
    "# route_num_by_HDONG=dict(Counter(HDONG_NUM))\n",
    "# route_num_by_HDONG"
   ]
  },
  {
   "cell_type": "code",
   "execution_count": 33,
   "metadata": {
    "ExecuteTime": {
     "end_time": "2020-09-17T09:52:10.417331Z",
     "start_time": "2020-09-17T09:52:10.412893Z"
    }
   },
   "outputs": [],
   "source": [
    "# pd.DataFrame.from_dict(route_num_by_HDONG, orient='index', columns=['노선수']).head(10)"
   ]
  },
  {
   "cell_type": "markdown",
   "metadata": {},
   "source": [
    "##### 행정동<->행정동 노선수"
   ]
  },
  {
   "cell_type": "code",
   "execution_count": 26,
   "metadata": {
    "ExecuteTime": {
     "end_time": "2020-09-21T08:35:50.304513Z",
     "start_time": "2020-09-21T08:35:50.288522Z"
    }
   },
   "outputs": [
    {
     "data": {
      "text/html": [
       "<div>\n",
       "<style scoped>\n",
       "    .dataframe tbody tr th:only-of-type {\n",
       "        vertical-align: middle;\n",
       "    }\n",
       "\n",
       "    .dataframe tbody tr th {\n",
       "        vertical-align: top;\n",
       "    }\n",
       "\n",
       "    .dataframe thead th {\n",
       "        text-align: right;\n",
       "    }\n",
       "</style>\n",
       "<table border=\"1\" class=\"dataframe\">\n",
       "  <thead>\n",
       "    <tr style=\"text-align: right;\">\n",
       "      <th></th>\n",
       "      <th>노선명</th>\n",
       "      <th>버스정류장ARS번호</th>\n",
       "    </tr>\n",
       "  </thead>\n",
       "  <tbody>\n",
       "    <tr>\n",
       "      <th>0</th>\n",
       "      <td>0017번(청암동~이촌동)</td>\n",
       "      <td>[03689, 03298, 03321, 03304, 03306, 03308, 033...</td>\n",
       "    </tr>\n",
       "    <tr>\n",
       "      <th>1</th>\n",
       "      <td>01A번(서울역환승센터~서울역환승센터)</td>\n",
       "      <td>[02003, 02118, 02127, 01128, 01127, 01171, 020...</td>\n",
       "    </tr>\n",
       "    <tr>\n",
       "      <th>2</th>\n",
       "      <td>01B번(서울역환승센터~서울역환승센터)</td>\n",
       "      <td>[01114, 02161, 02219, 02006, 02122, 02159, 021...</td>\n",
       "    </tr>\n",
       "    <tr>\n",
       "      <th>3</th>\n",
       "      <td>02번(남산서울타워~동대입구)</td>\n",
       "      <td>[03320, 03167, 02269, 02220, 02221, 02152, 021...</td>\n",
       "    </tr>\n",
       "    <tr>\n",
       "      <th>4</th>\n",
       "      <td>03번(남산서울타워~남산서울타워)</td>\n",
       "      <td>[03320, 03167, 02215, 02120, 02218, 02282, 021...</td>\n",
       "    </tr>\n",
       "    <tr>\n",
       "      <th>...</th>\n",
       "      <td>...</td>\n",
       "      <td>...</td>\n",
       "    </tr>\n",
       "    <tr>\n",
       "      <th>657</th>\n",
       "      <td>종로11(삼청공원~서울역)</td>\n",
       "      <td>[01501, 01509, 01518, 01529, 01540, 01551, 011...</td>\n",
       "    </tr>\n",
       "    <tr>\n",
       "      <th>658</th>\n",
       "      <td>종로12(서울대학교병원~종로3가)</td>\n",
       "      <td>[01887, 01883, 01198, 01528, 01539, 01550, 015...</td>\n",
       "    </tr>\n",
       "    <tr>\n",
       "      <th>659</th>\n",
       "      <td>종로13(평창파출소~부암동주민센터.무계원)</td>\n",
       "      <td>[01500, 01508, 01517, 01153, 01538, 01549, 011...</td>\n",
       "    </tr>\n",
       "    <tr>\n",
       "      <th>660</th>\n",
       "      <td>중랑01(중화동동아약국~신이문역)</td>\n",
       "      <td>[07501, 07504, 07506, 07508, 07251, 06254, 065...</td>\n",
       "    </tr>\n",
       "    <tr>\n",
       "      <th>661</th>\n",
       "      <td>중랑02(진로아파트~한신아파트)</td>\n",
       "      <td>[07500, 07502, 07505, 07507, 07510, 07231, 075...</td>\n",
       "    </tr>\n",
       "  </tbody>\n",
       "</table>\n",
       "<p>662 rows × 2 columns</p>\n",
       "</div>"
      ],
      "text/plain": [
       "                         노선명  \\\n",
       "0             0017번(청암동~이촌동)   \n",
       "1      01A번(서울역환승센터~서울역환승센터)   \n",
       "2      01B번(서울역환승센터~서울역환승센터)   \n",
       "3           02번(남산서울타워~동대입구)   \n",
       "4         03번(남산서울타워~남산서울타워)   \n",
       "..                       ...   \n",
       "657           종로11(삼청공원~서울역)   \n",
       "658       종로12(서울대학교병원~종로3가)   \n",
       "659  종로13(평창파출소~부암동주민센터.무계원)   \n",
       "660       중랑01(중화동동아약국~신이문역)   \n",
       "661        중랑02(진로아파트~한신아파트)   \n",
       "\n",
       "                                            버스정류장ARS번호  \n",
       "0    [03689, 03298, 03321, 03304, 03306, 03308, 033...  \n",
       "1    [02003, 02118, 02127, 01128, 01127, 01171, 020...  \n",
       "2    [01114, 02161, 02219, 02006, 02122, 02159, 021...  \n",
       "3    [03320, 03167, 02269, 02220, 02221, 02152, 021...  \n",
       "4    [03320, 03167, 02215, 02120, 02218, 02282, 021...  \n",
       "..                                                 ...  \n",
       "657  [01501, 01509, 01518, 01529, 01540, 01551, 011...  \n",
       "658  [01887, 01883, 01198, 01528, 01539, 01550, 015...  \n",
       "659  [01500, 01508, 01517, 01153, 01538, 01549, 011...  \n",
       "660  [07501, 07504, 07506, 07508, 07251, 06254, 065...  \n",
       "661  [07500, 07502, 07505, 07507, 07510, 07231, 075...  \n",
       "\n",
       "[662 rows x 2 columns]"
      ]
     },
     "execution_count": 26,
     "metadata": {},
     "output_type": "execute_result"
    }
   ],
   "source": [
    "station_in_route"
   ]
  },
  {
   "cell_type": "code",
   "execution_count": 27,
   "metadata": {
    "ExecuteTime": {
     "end_time": "2020-09-21T08:35:52.111626Z",
     "start_time": "2020-09-21T08:35:52.087608Z"
    }
   },
   "outputs": [
    {
     "data": {
      "text/plain": [
       "0      [3689, 3298, 3321, 3304, 3306, 3308, 3310, 331...\n",
       "1      [2003, 2118, 2127, 1128, 1127, 1171, 2006, 211...\n",
       "2      [1114, 2161, 2219, 2006, 2122, 2159, 2142, 215...\n",
       "3      [3320, 3167, 2269, 2220, 2221, 2152, 2153, 220...\n",
       "4      [3320, 3167, 2215, 2120, 2218, 2282, 2146, 214...\n",
       "                             ...                        \n",
       "657    [1501, 1509, 1518, 1529, 1540, 1551, 1126, 250...\n",
       "658    [1887, 1883, 1198, 1528, 1539, 1550, 1557, 155...\n",
       "659    [1500, 1508, 1517, 1153, 1538, 1549, 1152, 156...\n",
       "660    [7501, 7504, 7506, 7508, 7251, 6254, 6525, 625...\n",
       "661    [7500, 7502, 7505, 7507, 7510, 7231, 7512, 714...\n",
       "Name: 버스정류장ARS번호, Length: 662, dtype: object"
      ]
     },
     "execution_count": 27,
     "metadata": {},
     "output_type": "execute_result"
    }
   ],
   "source": [
    "station_in_route.버스정류장ARS번호.apply(convert_station_no)"
   ]
  },
  {
   "cell_type": "code",
   "execution_count": 36,
   "metadata": {
    "ExecuteTime": {
     "end_time": "2020-09-17T09:52:18.580335Z",
     "start_time": "2020-09-17T09:52:18.577343Z"
    }
   },
   "outputs": [],
   "source": [
    "# station_in_route"
   ]
  },
  {
   "cell_type": "code",
   "execution_count": 28,
   "metadata": {
    "ExecuteTime": {
     "end_time": "2020-09-21T08:35:56.662836Z",
     "start_time": "2020-09-21T08:35:56.181061Z"
    }
   },
   "outputs": [],
   "source": [
    "tmp_dict = {}\n",
    "for bus_name,route in zip(station_in_route.노선명,station_in_route.버스정류장ARS번호.apply(convert_station_no)):\n",
    "    if len(bus_station_info.loc[bus_station_info['ARS-ID'].isin(route)].HDONG_NM.unique()) != 0:\n",
    "        tmp_dict[bus_name] = bus_station_info.loc[bus_station_info['ARS-ID'].isin(route)].HDONG_NM.unique()"
   ]
  },
  {
   "cell_type": "code",
   "execution_count": 29,
   "metadata": {
    "ExecuteTime": {
     "end_time": "2020-09-21T08:35:57.124094Z",
     "start_time": "2020-09-21T08:35:57.116099Z"
    }
   },
   "outputs": [],
   "source": [
    "hdongs = list(geo_df.loc[geo_df.SIDO_NM=='서울특별시'].HDONG_NM)"
   ]
  },
  {
   "cell_type": "code",
   "execution_count": 69,
   "metadata": {
    "ExecuteTime": {
     "end_time": "2020-09-16T04:48:40.040661Z",
     "start_time": "2020-09-16T04:48:40.032674Z"
    }
   },
   "outputs": [],
   "source": [
    "# bus_route_dtd = {dong_to_dong:0 for dong_to_dong in combinations(hdongs,2)}"
   ]
  },
  {
   "cell_type": "code",
   "execution_count": 30,
   "metadata": {
    "ExecuteTime": {
     "end_time": "2020-09-21T08:36:01.116736Z",
     "start_time": "2020-09-21T08:36:01.108708Z"
    }
   },
   "outputs": [],
   "source": [
    "bus_route_dtd = []\n",
    "for bus_name, hdong_in_route in tmp_dict.items():\n",
    "    bus_route_dtd.extend(list(permutations(hdong_in_route,2)))\n",
    "\n",
    "bus_route_num_dtd = dict(Counter(bus_route_dtd))"
   ]
  },
  {
   "cell_type": "code",
   "execution_count": 31,
   "metadata": {
    "ExecuteTime": {
     "end_time": "2020-09-21T08:36:01.747566Z",
     "start_time": "2020-09-21T08:36:01.731607Z"
    }
   },
   "outputs": [],
   "source": [
    "# Counting이 제대로 되었는지 확인\n",
    "for dtd, route_num in bus_route_num_dtd.items():\n",
    "    start=dtd[0]\n",
    "    end=dtd[1]\n",
    "    if bus_route_num_dtd.get((end,start)) != route_num:\n",
    "        print(dtd)"
   ]
  },
  {
   "cell_type": "code",
   "execution_count": 32,
   "metadata": {
    "ExecuteTime": {
     "end_time": "2020-09-21T08:36:02.515861Z",
     "start_time": "2020-09-21T08:36:02.499870Z"
    }
   },
   "outputs": [],
   "source": [
    "list_for_df = []\n",
    "for dtd, route_num in bus_route_num_dtd.items():\n",
    "    start, end = dtd\n",
    "    list_for_df.append(np.array([start,end,int(route_num)]))"
   ]
  },
  {
   "cell_type": "code",
   "execution_count": 33,
   "metadata": {
    "ExecuteTime": {
     "end_time": "2020-09-21T08:36:05.444673Z",
     "start_time": "2020-09-21T08:36:05.428683Z"
    }
   },
   "outputs": [],
   "source": [
    "bus_route_num_df = pd.DataFrame(list_for_df, columns = ['dong1','dong2','route_num']).pivot('dong1','dong2','route_num').fillna(0)"
   ]
  },
  {
   "cell_type": "code",
   "execution_count": 34,
   "metadata": {
    "ExecuteTime": {
     "end_time": "2020-09-21T08:36:06.225395Z",
     "start_time": "2020-09-21T08:36:06.217397Z"
    }
   },
   "outputs": [],
   "source": [
    "bus_route_num_df = bus_route_num_df.astype(int)"
   ]
  },
  {
   "cell_type": "code",
   "execution_count": 37,
   "metadata": {
    "ExecuteTime": {
     "end_time": "2020-09-21T08:59:05.712740Z",
     "start_time": "2020-09-21T08:59:05.704622Z"
    }
   },
   "outputs": [],
   "source": [
    "# bus_route_num_df"
   ]
  },
  {
   "cell_type": "code",
   "execution_count": 38,
   "metadata": {
    "ExecuteTime": {
     "end_time": "2020-09-21T08:59:06.152639Z",
     "start_time": "2020-09-21T08:59:06.144646Z"
    },
    "scrolled": false
   },
   "outputs": [],
   "source": [
    "# bus_route_num_dtd.to_csv(os.path.join(external_processed_file_path,\"bus_route_num_dtd.csv\"))"
   ]
  },
  {
   "cell_type": "markdown",
   "metadata": {},
   "source": [
    "#### 행정동별 지하철역 개수"
   ]
  },
  {
   "cell_type": "code",
   "execution_count": 39,
   "metadata": {
    "ExecuteTime": {
     "end_time": "2020-09-21T08:59:08.681790Z",
     "start_time": "2020-09-21T08:59:08.673795Z"
    }
   },
   "outputs": [],
   "source": [
    "subway_station['HDONG_NM']=subway_station.index.map(subway_station_HDONG_NM)"
   ]
  },
  {
   "cell_type": "code",
   "execution_count": 47,
   "metadata": {
    "ExecuteTime": {
     "end_time": "2020-09-17T09:52:39.148445Z",
     "start_time": "2020-09-17T09:52:39.144495Z"
    }
   },
   "outputs": [],
   "source": [
    "# 환승역의 경우 역 개수를 어떻게 지정할지?\n",
    "# subway_station.drop_duplicates(['X','Y'],keep='last')"
   ]
  },
  {
   "cell_type": "code",
   "execution_count": 40,
   "metadata": {
    "ExecuteTime": {
     "end_time": "2020-09-21T08:59:11.897377Z",
     "start_time": "2020-09-21T08:59:11.889078Z"
    }
   },
   "outputs": [],
   "source": [
    "subway_station_num_by_HDONG=dict(Counter(subway_station_HDONG_NM.values()))"
   ]
  },
  {
   "cell_type": "code",
   "execution_count": 41,
   "metadata": {
    "ExecuteTime": {
     "end_time": "2020-09-21T08:59:12.354754Z",
     "start_time": "2020-09-21T08:59:12.346757Z"
    }
   },
   "outputs": [],
   "source": [
    "subway_route_num_by_HDONG=dict(subway_station.groupby(['HDONG_NM'])['호선'].nunique())"
   ]
  },
  {
   "cell_type": "code",
   "execution_count": 50,
   "metadata": {
    "ExecuteTime": {
     "end_time": "2020-09-17T09:52:42.721924Z",
     "start_time": "2020-09-17T09:52:42.719097Z"
    }
   },
   "outputs": [],
   "source": [
    "# pd.DataFrame.from_dict(subway_route_num_by_HDONG, orient='index', columns=['호선수']).head(10)"
   ]
  },
  {
   "cell_type": "code",
   "execution_count": 42,
   "metadata": {
    "ExecuteTime": {
     "end_time": "2020-09-21T08:59:21.087315Z",
     "start_time": "2020-09-21T08:59:21.070429Z"
    }
   },
   "outputs": [
    {
     "data": {
      "text/plain": [
       "{'공릉1동': 1,\n",
       " '광희동': 1,\n",
       " '다산동': 1,\n",
       " '명동': 3,\n",
       " '상계10동': 1,\n",
       " '상계1동': 1,\n",
       " '상계3.4동': 1,\n",
       " '상계6.7동': 1,\n",
       " '소공동': 1,\n",
       " '신당5동': 1,\n",
       " '신당동': 2,\n",
       " '약수동': 1,\n",
       " '월계3동': 2,\n",
       " '을지로동': 2,\n",
       " '중계2.3동': 1,\n",
       " '중계4동': 1,\n",
       " '중림동': 1,\n",
       " '청구동': 1,\n",
       " '필동': 2,\n",
       " '하계1동': 1,\n",
       " '황학동': 1,\n",
       " '회현동': 1}"
      ]
     },
     "execution_count": 42,
     "metadata": {},
     "output_type": "execute_result"
    }
   ],
   "source": [
    "dict(subway_station.groupby(['X','Y','HDONG_NM']).size().reset_index().groupby('HDONG_NM').size())"
   ]
  },
  {
   "cell_type": "code",
   "execution_count": 45,
   "metadata": {
    "ExecuteTime": {
     "end_time": "2020-09-21T09:00:31.685442Z",
     "start_time": "2020-09-21T09:00:31.677449Z"
    }
   },
   "outputs": [],
   "source": [
    "geo_df_seoul = geo_df.loc[geo_df.SIDO_NM=='서울특별시'].reset_index(drop=True)"
   ]
  },
  {
   "cell_type": "code",
   "execution_count": 46,
   "metadata": {
    "ExecuteTime": {
     "end_time": "2020-09-21T09:00:32.386430Z",
     "start_time": "2020-09-21T09:00:32.370458Z"
    }
   },
   "outputs": [],
   "source": [
    "tmp = geo_df_seoul[['HDONG_NM','SGNG_NM']]\n",
    "\n",
    "tmp['sub_num'] = tmp.HDONG_NM.map(dict(subway_station.groupby(['X','Y','HDONG_NM']).size().reset_index().groupby('HDONG_NM').size()))\n",
    "tmp = tmp.fillna(0)"
   ]
  },
  {
   "cell_type": "code",
   "execution_count": 47,
   "metadata": {
    "ExecuteTime": {
     "end_time": "2020-09-21T09:00:33.823254Z",
     "start_time": "2020-09-21T09:00:33.815222Z"
    }
   },
   "outputs": [
    {
     "data": {
      "text/plain": [
       "SGNG_NM\n",
       "노원구    0.526316\n",
       "중구     1.200000\n",
       "Name: sub_num, dtype: float64"
      ]
     },
     "execution_count": 47,
     "metadata": {},
     "output_type": "execute_result"
    }
   ],
   "source": [
    "tmp.groupby('SGNG_NM').sub_num.mean()"
   ]
  },
  {
   "cell_type": "markdown",
   "metadata": {},
   "source": [
    "##### 행정동 <-> 행정동 호선수 "
   ]
  },
  {
   "cell_type": "code",
   "execution_count": 48,
   "metadata": {
    "ExecuteTime": {
     "end_time": "2020-09-21T09:00:37.716537Z",
     "start_time": "2020-09-21T09:00:37.708497Z"
    }
   },
   "outputs": [],
   "source": [
    "subway_dtd = []\n",
    "for route in subway_station.groupby('호선')['HDONG_NM'].apply(lambda x: list(x.unique())).values:\n",
    "    subway_dtd.extend(list(permutations(route,2)))"
   ]
  },
  {
   "cell_type": "code",
   "execution_count": 49,
   "metadata": {
    "ExecuteTime": {
     "end_time": "2020-09-21T09:00:38.252136Z",
     "start_time": "2020-09-21T09:00:38.244141Z"
    }
   },
   "outputs": [],
   "source": [
    "base_dict = {dongs:0 for dongs in list(permutations(hdongs,2))}"
   ]
  },
  {
   "cell_type": "code",
   "execution_count": 50,
   "metadata": {
    "ExecuteTime": {
     "end_time": "2020-09-21T09:00:38.792785Z",
     "start_time": "2020-09-21T09:00:38.784836Z"
    }
   },
   "outputs": [],
   "source": [
    "base_dict.update(dict(Counter(subway_dtd)))"
   ]
  },
  {
   "cell_type": "code",
   "execution_count": 51,
   "metadata": {
    "ExecuteTime": {
     "end_time": "2020-09-21T09:00:39.262449Z",
     "start_time": "2020-09-21T09:00:39.254455Z"
    }
   },
   "outputs": [],
   "source": [
    "# Counting이 제대로 되었는지 확인\n",
    "for dtd, route_num in base_dict.items():\n",
    "    start=dtd[0]\n",
    "    end=dtd[1]\n",
    "    if base_dict.get((end,start)) != route_num:\n",
    "        print(dtd)"
   ]
  },
  {
   "cell_type": "code",
   "execution_count": 52,
   "metadata": {
    "ExecuteTime": {
     "end_time": "2020-09-21T09:00:41.429194Z",
     "start_time": "2020-09-21T09:00:41.417114Z"
    }
   },
   "outputs": [],
   "source": [
    "list_for_df_subway = []\n",
    "for dtd, route_num in base_dict.items():\n",
    "    start, end = dtd\n",
    "    list_for_df_subway.append(np.array([start,end,int(route_num)]))"
   ]
  },
  {
   "cell_type": "code",
   "execution_count": 53,
   "metadata": {
    "ExecuteTime": {
     "end_time": "2020-09-21T09:00:42.109255Z",
     "start_time": "2020-09-21T09:00:42.077284Z"
    }
   },
   "outputs": [],
   "source": [
    "subway_route_num_df = pd.DataFrame(list_for_df_subway, columns = ['dong1','dong2','route_num']).pivot('dong1','dong2','route_num').fillna(0)"
   ]
  },
  {
   "cell_type": "code",
   "execution_count": 54,
   "metadata": {
    "ExecuteTime": {
     "end_time": "2020-09-21T09:00:42.861585Z",
     "start_time": "2020-09-21T09:00:42.845594Z"
    }
   },
   "outputs": [],
   "source": [
    "subway_route_num_df = subway_route_num_df.astype(int)"
   ]
  },
  {
   "cell_type": "code",
   "execution_count": 416,
   "metadata": {
    "ExecuteTime": {
     "end_time": "2020-09-17T05:04:08.051364Z",
     "start_time": "2020-09-17T05:04:08.043369Z"
    },
    "scrolled": true
   },
   "outputs": [],
   "source": [
    "# subway_route_num_df"
   ]
  },
  {
   "cell_type": "markdown",
   "metadata": {},
   "source": [
    "#### 지하철역 및 버스정류소 분포"
   ]
  },
  {
   "cell_type": "code",
   "execution_count": 55,
   "metadata": {
    "ExecuteTime": {
     "end_time": "2020-09-21T09:00:45.794465Z",
     "start_time": "2020-09-21T09:00:45.778675Z"
    }
   },
   "outputs": [],
   "source": [
    "geo_df['center'] = geo_df.geometry.centroid"
   ]
  },
  {
   "cell_type": "code",
   "execution_count": 56,
   "metadata": {
    "ExecuteTime": {
     "end_time": "2020-09-21T09:00:49.882406Z",
     "start_time": "2020-09-21T09:00:49.165665Z"
    }
   },
   "outputs": [
    {
     "data": {
      "image/png": "[encoded data removed]",
      "text/plain": [
       "<Figure size 2304x1728 with 1 Axes>"
      ]
     },
     "metadata": {
      "needs_background": "light"
     },
     "output_type": "display_data"
    }
   ],
   "source": [
    "fig, ax = plt.subplots(figsize=(32,24))\n",
    "geo_df.loc[geo_df.SIDO_NM=='서울특별시'].plot(ax=ax, color='white', alpha=0.7, edgecolor='k')\n",
    "bus_station_gdf.plot(ax=ax)\n",
    "subway_station.plot(ax=ax, color='b')\n",
    "\n",
    "for idx, row in geo_df.loc[geo_df.SIDO_NM=='서울특별시'].iterrows():\n",
    "    ax.annotate(row['HDONG_NM'], (row['center'].x,row['center'].y), fontsize=10, ha='center')"
   ]
  },
  {
   "cell_type": "code",
   "execution_count": 57,
   "metadata": {
    "ExecuteTime": {
     "end_time": "2020-09-21T09:00:51.951839Z",
     "start_time": "2020-09-21T09:00:51.703066Z"
    }
   },
   "outputs": [
    {
     "data": {
      "text/plain": [
       "<matplotlib.axes._subplots.AxesSubplot at 0x23e1c8665f8>"
      ]
     },
     "execution_count": 57,
     "metadata": {},
     "output_type": "execute_result"
    },
    {
     "data": {
      "image/png": "[encoded data removed]",
      "text/plain": [
       "<Figure size 864x720 with 1 Axes>"
      ]
     },
     "metadata": {
      "needs_background": "light"
     },
     "output_type": "display_data"
    }
   ],
   "source": [
    "fig, ax = plt.subplots(figsize=(12,10))\n",
    "\n",
    "geo_df.loc[geo_df.HDONG_NM=='명동'].plot(ax=ax, color='white')\n",
    "bus_station_gdf.loc[bus_station_gdf.HDONG_NM=='명동'].plot(ax=ax, color='blue')\n",
    "subway_station.loc[subway_station.HDONG_NM=='명동'].plot(ax=ax, color='r')"
   ]
  },
  {
   "cell_type": "markdown",
   "metadata": {},
   "source": [
    "#### 교통편의성"
   ]
  },
  {
   "cell_type": "code",
   "execution_count": 58,
   "metadata": {
    "ExecuteTime": {
     "end_time": "2020-09-21T09:00:54.989837Z",
     "start_time": "2020-09-21T09:00:54.965852Z"
    }
   },
   "outputs": [],
   "source": [
    "HDONG_NM=geo_df.loc[geo_df.SIDO_NM=='서울특별시'][['HDONG_NM']].reset_index(drop=True)\n",
    "\n",
    "HDONG_NM['subway_station_num']=HDONG_NM.HDONG_NM.map(subway_station_num_by_HDONG).fillna(0)\n",
    "HDONG_NM['bus_station_num']=HDONG_NM.HDONG_NM.map(bus_station_num_by_dong).fillna(0)\n",
    "HDONG_NM['bus_route_num'] = HDONG_NM.HDONG_NM.map(route_num_by_HDONG).fillna(0)\n",
    "HDONG_NM['subway_route_num'] = HDONG_NM.HDONG_NM.map(subway_route_num_by_HDONG).fillna(0)"
   ]
  },
  {
   "cell_type": "code",
   "execution_count": 59,
   "metadata": {
    "ExecuteTime": {
     "end_time": "2020-09-21T09:00:58.806244Z",
     "start_time": "2020-09-21T09:00:58.790254Z"
    }
   },
   "outputs": [],
   "source": [
    "HDONG_conv_index = HDONG_NM.merge(geo_df[['HDONG_NM','AREA']])"
   ]
  },
  {
   "cell_type": "code",
   "execution_count": 63,
   "metadata": {
    "ExecuteTime": {
     "end_time": "2020-09-17T09:53:15.443183Z",
     "start_time": "2020-09-17T09:53:15.439195Z"
    }
   },
   "outputs": [],
   "source": [
    "# HDONG_conv_index.head(10)"
   ]
  },
  {
   "cell_type": "markdown",
   "metadata": {},
   "source": [
    "$CONV\\ INDEX = {100000 \\cdot (\\#subway\\_route \\cdot 15 + \\#bus\\_route) \\over AREA}  $"
   ]
  },
  {
   "cell_type": "code",
   "execution_count": 60,
   "metadata": {
    "ExecuteTime": {
     "end_time": "2020-09-21T09:01:04.274846Z",
     "start_time": "2020-09-21T09:01:04.258808Z"
    }
   },
   "outputs": [],
   "source": [
    "HDONG_conv_index['conv_index'] = np.log((HDONG_NM.merge(geo_df[['HDONG_NM','AREA']]).subway_route_num*15+HDONG_NM.merge(geo_df[['HDONG_NM','AREA']]).bus_route_num)/(HDONG_NM.merge(geo_df[['HDONG_NM','AREA']]).AREA)*100000)"
   ]
  },
  {
   "cell_type": "code",
   "execution_count": 67,
   "metadata": {
    "ExecuteTime": {
     "end_time": "2020-09-17T09:53:39.447133Z",
     "start_time": "2020-09-17T09:53:39.444174Z"
    }
   },
   "outputs": [],
   "source": [
    "# HDONG_conv_index.to_csv(\"HDONG_conv_index.csv\", index=False, encoding='utf-8')"
   ]
  },
  {
   "cell_type": "code",
   "execution_count": 61,
   "metadata": {
    "ExecuteTime": {
     "end_time": "2020-09-21T09:01:05.366482Z",
     "start_time": "2020-09-21T09:01:05.342725Z"
    }
   },
   "outputs": [
    {
     "data": {
      "text/html": [
       "<div>\n",
       "<style scoped>\n",
       "    .dataframe tbody tr th:only-of-type {\n",
       "        vertical-align: middle;\n",
       "    }\n",
       "\n",
       "    .dataframe tbody tr th {\n",
       "        vertical-align: top;\n",
       "    }\n",
       "\n",
       "    .dataframe thead th {\n",
       "        text-align: right;\n",
       "    }\n",
       "</style>\n",
       "<table border=\"1\" class=\"dataframe\">\n",
       "  <thead>\n",
       "    <tr style=\"text-align: right;\">\n",
       "      <th></th>\n",
       "      <th>HDONG_NM</th>\n",
       "      <th>subway_station_num</th>\n",
       "      <th>bus_station_num</th>\n",
       "      <th>bus_route_num</th>\n",
       "      <th>subway_route_num</th>\n",
       "      <th>AREA</th>\n",
       "      <th>conv</th>\n",
       "    </tr>\n",
       "  </thead>\n",
       "  <tbody>\n",
       "    <tr>\n",
       "      <th>25</th>\n",
       "      <td>신당동</td>\n",
       "      <td>5.0</td>\n",
       "      <td>21</td>\n",
       "      <td>23</td>\n",
       "      <td>4.0</td>\n",
       "      <td>544408.19</td>\n",
       "      <td>18.919627</td>\n",
       "    </tr>\n",
       "    <tr>\n",
       "      <th>32</th>\n",
       "      <td>황학동</td>\n",
       "      <td>2.0</td>\n",
       "      <td>9</td>\n",
       "      <td>12</td>\n",
       "      <td>2.0</td>\n",
       "      <td>328678.23</td>\n",
       "      <td>15.820944</td>\n",
       "    </tr>\n",
       "    <tr>\n",
       "      <th>24</th>\n",
       "      <td>신당5동</td>\n",
       "      <td>2.0</td>\n",
       "      <td>11</td>\n",
       "      <td>6</td>\n",
       "      <td>2.0</td>\n",
       "      <td>321347.03</td>\n",
       "      <td>14.314743</td>\n",
       "    </tr>\n",
       "    <tr>\n",
       "      <th>27</th>\n",
       "      <td>을지로동</td>\n",
       "      <td>3.0</td>\n",
       "      <td>32</td>\n",
       "      <td>20</td>\n",
       "      <td>3.0</td>\n",
       "      <td>599091.52</td>\n",
       "      <td>13.353552</td>\n",
       "    </tr>\n",
       "    <tr>\n",
       "      <th>30</th>\n",
       "      <td>청구동</td>\n",
       "      <td>2.0</td>\n",
       "      <td>5</td>\n",
       "      <td>4</td>\n",
       "      <td>2.0</td>\n",
       "      <td>336949.37</td>\n",
       "      <td>13.058342</td>\n",
       "    </tr>\n",
       "  </tbody>\n",
       "</table>\n",
       "</div>"
      ],
      "text/plain": [
       "   HDONG_NM  subway_station_num  bus_station_num  bus_route_num  \\\n",
       "25      신당동                 5.0               21             23   \n",
       "32      황학동                 2.0                9             12   \n",
       "24     신당5동                 2.0               11              6   \n",
       "27     을지로동                 3.0               32             20   \n",
       "30      청구동                 2.0                5              4   \n",
       "\n",
       "    subway_route_num       AREA       conv  \n",
       "25               4.0  544408.19  18.919627  \n",
       "32               2.0  328678.23  15.820944  \n",
       "24               2.0  321347.03  14.314743  \n",
       "27               3.0  599091.52  13.353552  \n",
       "30               2.0  336949.37  13.058342  "
      ]
     },
     "execution_count": 61,
     "metadata": {},
     "output_type": "execute_result"
    }
   ],
   "source": [
    "HDONG_NM.merge(geo_df[['HDONG_NM','AREA']]).eval('conv=(subway_route_num*20+bus_route_num)/AREA*100000').sort_values(by='conv', ascending=False).head()"
   ]
  },
  {
   "cell_type": "code",
   "execution_count": 62,
   "metadata": {
    "ExecuteTime": {
     "end_time": "2020-09-21T09:01:11.920386Z",
     "start_time": "2020-09-21T09:01:11.904395Z"
    }
   },
   "outputs": [],
   "source": [
    "conv_index=HDONG_NM.merge(geo_df[['HDONG_NM','AREA']]).eval('conv=(subway_route_num*20+bus_route_num)/AREA*100000').sort_values(by='conv', ascending=False)"
   ]
  },
  {
   "cell_type": "code",
   "execution_count": 63,
   "metadata": {
    "ExecuteTime": {
     "end_time": "2020-09-21T09:01:12.698468Z",
     "start_time": "2020-09-21T09:01:12.690472Z"
    }
   },
   "outputs": [],
   "source": [
    "conv_index = conv_index.reset_index(drop=True)"
   ]
  },
  {
   "cell_type": "code",
   "execution_count": 69,
   "metadata": {
    "ExecuteTime": {
     "end_time": "2020-09-17T09:53:46.270929Z",
     "start_time": "2020-09-17T09:53:46.266975Z"
    }
   },
   "outputs": [],
   "source": [
    "# HDONG_conv_index"
   ]
  },
  {
   "cell_type": "code",
   "execution_count": 42,
   "metadata": {
    "ExecuteTime": {
     "end_time": "2020-09-04T10:21:11.937425Z",
     "start_time": "2020-09-04T10:21:11.930411Z"
    }
   },
   "outputs": [],
   "source": [
    "# conv_index.to_csv(\"conv_index.csv\", index=False, encoding='utf-8')"
   ]
  },
  {
   "cell_type": "code",
   "execution_count": 71,
   "metadata": {
    "ExecuteTime": {
     "end_time": "2020-09-17T09:53:54.362747Z",
     "start_time": "2020-09-17T09:53:54.359790Z"
    }
   },
   "outputs": [],
   "source": [
    "# HDONG_NM.merge(geo_df[['HDONG_NM','AREA']]).head()"
   ]
  },
  {
   "cell_type": "code",
   "execution_count": 73,
   "metadata": {
    "ExecuteTime": {
     "end_time": "2020-09-17T09:53:58.726129Z",
     "start_time": "2020-09-17T09:53:56.811243Z"
    },
    "scrolled": false
   },
   "outputs": [
    {
     "data": {
      "text/plain": [
       "<matplotlib.axes._subplots.AxesSubplot at 0x14c220b9da0>"
      ]
     },
     "execution_count": 73,
     "metadata": {},
     "output_type": "execute_result"
    },
    {
     "data": {
      "image/png": "[encoded data removed]",
      "text/plain": [
       "<Figure size 720x864 with 1 Axes>"
      ]
     },
     "metadata": {
      "needs_background": "light"
     },
     "output_type": "display_data"
    }
   ],
   "source": [
    "geo_df_seoul.merge(HDONG_NM).plot(figsize=(10,12), column='bus_route_num', cmap='Blues', legend=True, scheme='quantiles')"
   ]
  },
  {
   "cell_type": "markdown",
   "metadata": {},
   "source": [
    "#### 정류장별 노선갯수 "
   ]
  },
  {
   "cell_type": "code",
   "execution_count": 64,
   "metadata": {
    "ExecuteTime": {
     "end_time": "2020-09-21T09:01:39.326166Z",
     "start_time": "2020-09-21T09:01:36.028974Z"
    }
   },
   "outputs": [],
   "source": [
    "route_num_by_station=bus_route.groupby(['버스정류장ARS번호'])['노선번호'].apply(lambda x: x.nunique()).reset_index(name='노선수')"
   ]
  },
  {
   "cell_type": "code",
   "execution_count": 69,
   "metadata": {
    "ExecuteTime": {
     "end_time": "2020-09-21T09:02:43.018432Z",
     "start_time": "2020-09-21T09:02:43.010405Z"
    }
   },
   "outputs": [],
   "source": [
    "# route_num_by_station.loc[route_num_by_station.버스정류장ARS번호!='~']['버스정류장ARS번호'].apply(lambda x : str(x)[1:] if x.startswith('0') else str(x))"
   ]
  },
  {
   "cell_type": "code",
   "execution_count": 65,
   "metadata": {
    "ExecuteTime": {
     "end_time": "2020-09-21T09:01:40.997040Z",
     "start_time": "2020-09-21T09:01:40.345274Z"
    }
   },
   "outputs": [],
   "source": [
    "start_end_point=bus_route.loc[bus_route.버스정류장ARS번호=='~'].index"
   ]
  },
  {
   "cell_type": "code",
   "execution_count": 66,
   "metadata": {
    "ExecuteTime": {
     "end_time": "2020-09-21T09:01:44.045965Z",
     "start_time": "2020-09-21T09:01:41.749307Z"
    }
   },
   "outputs": [],
   "source": [
    "bus_route=bus_route.drop(start_end_point)"
   ]
  },
  {
   "cell_type": "code",
   "execution_count": 67,
   "metadata": {
    "ExecuteTime": {
     "end_time": "2020-09-21T09:01:44.776577Z",
     "start_time": "2020-09-21T09:01:44.768629Z"
    }
   },
   "outputs": [],
   "source": [
    "bus_route.reset_index(drop=True, inplace=True)"
   ]
  },
  {
   "cell_type": "code",
   "execution_count": 68,
   "metadata": {
    "ExecuteTime": {
     "end_time": "2020-09-21T09:01:45.835461Z",
     "start_time": "2020-09-21T09:01:45.513996Z"
    },
    "scrolled": true
   },
   "outputs": [],
   "source": [
    "bus_route['사용일자']=pd.to_datetime(bus_route['사용일자'], format='%Y%m%d')"
   ]
  },
  {
   "cell_type": "code",
   "execution_count": 70,
   "metadata": {
    "ExecuteTime": {
     "end_time": "2020-09-21T09:02:49.139303Z",
     "start_time": "2020-09-21T09:02:49.131274Z"
    }
   },
   "outputs": [],
   "source": [
    "station_HDONG=bus_station_info[['ARS-ID','HDONG_NM']].set_index('ARS-ID').to_dict().get('HDONG_NM')"
   ]
  },
  {
   "cell_type": "code",
   "execution_count": 71,
   "metadata": {
    "ExecuteTime": {
     "end_time": "2020-09-21T09:02:51.082125Z",
     "start_time": "2020-09-21T09:02:51.066462Z"
    }
   },
   "outputs": [],
   "source": [
    "# bus_route['버스정류장ARS번호'].apply(lambda x : int(x[1:]) if x.startswith('0') else int(x)).map(station_HDONG).dropna().to_dict()"
   ]
  },
  {
   "cell_type": "code",
   "execution_count": 72,
   "metadata": {
    "ExecuteTime": {
     "end_time": "2020-09-21T09:02:51.916440Z",
     "start_time": "2020-09-21T09:02:51.844677Z"
    }
   },
   "outputs": [],
   "source": [
    "bus_route['HDONG_NM'] = None"
   ]
  },
  {
   "cell_type": "code",
   "execution_count": 73,
   "metadata": {
    "ExecuteTime": {
     "end_time": "2020-09-21T09:02:59.931226Z",
     "start_time": "2020-09-21T09:02:53.900848Z"
    }
   },
   "outputs": [],
   "source": [
    "bus_route['HDONG_NM'] = bus_route.index.map(bus_route['버스정류장ARS번호'].apply(lambda x : int(x[1:]) if x.startswith('0') else int(x)).map(station_HDONG).dropna().to_dict())"
   ]
  },
  {
   "cell_type": "code",
   "execution_count": 74,
   "metadata": {
    "ExecuteTime": {
     "end_time": "2020-09-21T09:03:02.813515Z",
     "start_time": "2020-09-21T09:03:00.679751Z"
    }
   },
   "outputs": [],
   "source": [
    "bus_route_sub = bus_route.dropna().reset_index(drop=True)"
   ]
  },
  {
   "cell_type": "code",
   "execution_count": 85,
   "metadata": {
    "ExecuteTime": {
     "end_time": "2020-09-17T09:54:51.268107Z",
     "start_time": "2020-09-17T09:54:51.264122Z"
    }
   },
   "outputs": [],
   "source": [
    "# bus_route_sub.groupby(['HDONG_NM','버스정류장ARS번호'])['노선번호'].unique().reset_index().head()"
   ]
  },
  {
   "cell_type": "code",
   "execution_count": 86,
   "metadata": {
    "ExecuteTime": {
     "end_time": "2020-09-17T09:54:52.728285Z",
     "start_time": "2020-09-17T09:54:52.725427Z"
    }
   },
   "outputs": [],
   "source": [
    "# 행정동별 가장 많은 노선을 가지고 있는 버스정류장의 노선 수\n",
    "\n",
    "# bus_route_sub.groupby(['HDONG_NM','버스정류장ARS번호'])['노선번호'].nunique().reset_index().groupby(['HDONG_NM'])['노선번호'].max().reset_index().sort_values(by='노선번호', ascending=False)"
   ]
  },
  {
   "cell_type": "markdown",
   "metadata": {},
   "source": [
    "#### 버스정류장별 승하차 인원, 지하철 승하차 인원"
   ]
  },
  {
   "cell_type": "code",
   "execution_count": 75,
   "metadata": {
    "ExecuteTime": {
     "end_time": "2020-09-21T09:03:15.210400Z",
     "start_time": "2020-09-21T09:03:15.186367Z"
    }
   },
   "outputs": [],
   "source": [
    "subway_use=pd.read_csv(os.path.join(external_raw_file_path,'CARD_SUBWAY_MONTH_202007.csv'))"
   ]
  },
  {
   "cell_type": "code",
   "execution_count": 88,
   "metadata": {
    "ExecuteTime": {
     "end_time": "2020-09-17T09:55:01.170878Z",
     "start_time": "2020-09-17T09:55:01.167883Z"
    }
   },
   "outputs": [],
   "source": [
    "# bus_route.groupby(['사용일자','버스정류장ARS번호'])['하차총승객수'].sum().reset_index()"
   ]
  },
  {
   "cell_type": "code",
   "execution_count": 76,
   "metadata": {
    "ExecuteTime": {
     "end_time": "2020-09-21T09:03:19.820904Z",
     "start_time": "2020-09-21T09:03:19.146962Z"
    }
   },
   "outputs": [
    {
     "data": {
      "text/plain": [
       "<matplotlib.axes._subplots.AxesSubplot at 0x23e25544b38>"
      ]
     },
     "execution_count": 76,
     "metadata": {},
     "output_type": "execute_result"
    },
    {
     "data": {
      "image/png": "[encoded data removed]",
      "text/plain": [
       "<Figure size 1152x576 with 1 Axes>"
      ]
     },
     "metadata": {
      "needs_background": "light"
     },
     "output_type": "display_data"
    }
   ],
   "source": [
    "fig, ax = plt.subplots(figsize=(16,8))\n",
    "bus_route.groupby(['사용일자'])['승차총승객수'].sum().reset_index().set_index('사용일자').plot(ax=ax, linewidth=.5, color='k')\n",
    "bus_route.groupby(['사용일자'])['하차총승객수'].sum().reset_index().set_index('사용일자').plot(ax=ax, linewidth=.5)"
   ]
  },
  {
   "cell_type": "code",
   "execution_count": 77,
   "metadata": {
    "ExecuteTime": {
     "end_time": "2020-09-21T09:03:25.857727Z",
     "start_time": "2020-09-21T09:03:22.655484Z"
    }
   },
   "outputs": [],
   "source": [
    "bus_route['year'] = bus_route['사용일자'].dt.year.values\n",
    "bus_route['month'] = bus_route['사용일자'].dt.month.values\n",
    "bus_route['weekofyear'] = bus_route['사용일자'].dt.weekofyear.values\n",
    "bus_route['dayofweek'] = bus_route['사용일자'].dt.dayofweek.values\n",
    "\n",
    "bus_route['weekday'] = np.where(bus_route.dayofweek<5,'평일','주말')"
   ]
  },
  {
   "cell_type": "code",
   "execution_count": 91,
   "metadata": {
    "ExecuteTime": {
     "end_time": "2020-09-17T09:55:09.178583Z",
     "start_time": "2020-09-17T09:55:09.175771Z"
    }
   },
   "outputs": [],
   "source": [
    "# bus_route_sub.loc[bus_route_sub.HDONG_NM=='명동'].groupby(['사용일자'])['승차총승객수'].sum().reset_index()"
   ]
  },
  {
   "cell_type": "markdown",
   "metadata": {},
   "source": [
    "#### 동별 거리 측정"
   ]
  },
  {
   "cell_type": "code",
   "execution_count": 79,
   "metadata": {
    "ExecuteTime": {
     "end_time": "2020-09-21T09:03:32.022911Z",
     "start_time": "2020-09-21T09:03:32.014916Z"
    },
    "scrolled": false
   },
   "outputs": [],
   "source": [
    "geo_seoul=geo_df.query('SIDO_NM==\\'서울특별시\\'').reset_index(drop=True)"
   ]
  },
  {
   "cell_type": "code",
   "execution_count": 80,
   "metadata": {
    "ExecuteTime": {
     "end_time": "2020-09-21T09:03:42.204793Z",
     "start_time": "2020-09-21T09:03:40.425380Z"
    }
   },
   "outputs": [],
   "source": [
    "distances = []\n",
    "for i in range(geo_seoul.shape[0]):\n",
    "    distance = []\n",
    "    for j in range(geo_seoul.shape[0]):\n",
    "        if i == j:\n",
    "            distance.append(0)\n",
    "        else:\n",
    "            distance.append(geo_seoul.iloc[i,-2].distance(geo_seoul.iloc[j,-2]))\n",
    "    distances.append(distance) "
   ]
  },
  {
   "cell_type": "code",
   "execution_count": 81,
   "metadata": {
    "ExecuteTime": {
     "end_time": "2020-09-21T09:03:43.155114Z",
     "start_time": "2020-09-21T09:03:43.083124Z"
    }
   },
   "outputs": [],
   "source": [
    "distances_center = []\n",
    "for i in range(geo_seoul.shape[0]):\n",
    "    distance = []\n",
    "    for j in range(geo_seoul.shape[0]):\n",
    "        if i == j:\n",
    "            distance.append(0)\n",
    "        else:\n",
    "            distance.append(geo_seoul.iloc[i,-1].distance(geo_seoul.iloc[j,-1]))\n",
    "    distances_center.append(distance) "
   ]
  },
  {
   "cell_type": "code",
   "execution_count": 82,
   "metadata": {
    "ExecuteTime": {
     "end_time": "2020-09-21T09:03:49.019857Z",
     "start_time": "2020-09-21T09:03:49.003820Z"
    },
    "scrolled": false
   },
   "outputs": [],
   "source": [
    "distance_dong_to_dong = pd.DataFrame(distances, columns=geo_seoul.HDONG_NM.tolist(), index=geo_seoul.HDONG_NM.tolist())\n",
    "distance_center_dong_to_dong = pd.DataFrame(distances_center, columns=geo_seoul.HDONG_NM.tolist(), index=geo_seoul.HDONG_NM.tolist())"
   ]
  },
  {
   "cell_type": "code",
   "execution_count": 83,
   "metadata": {
    "ExecuteTime": {
     "end_time": "2020-09-21T09:04:31.439775Z",
     "start_time": "2020-09-21T09:04:31.415784Z"
    }
   },
   "outputs": [],
   "source": [
    "distance_dong_to_dong.to_csv(os.path.join(external_processed_file_path,\"distance_dong_to_dong.csv\"), encoding='utf-8')\n",
    "distance_center_dong_to_dong.to_csv(os.path.join(external_processed_file_path,\"distance_center_dong_to_dong.csv\"), encoding='utf-8')"
   ]
  },
  {
   "cell_type": "code",
   "execution_count": 84,
   "metadata": {
    "ExecuteTime": {
     "end_time": "2020-09-21T09:04:42.184146Z",
     "start_time": "2020-09-21T09:04:42.160130Z"
    }
   },
   "outputs": [
    {
     "data": {
      "text/html": [
       "<div>\n",
       "<style scoped>\n",
       "    .dataframe tbody tr th:only-of-type {\n",
       "        vertical-align: middle;\n",
       "    }\n",
       "\n",
       "    .dataframe tbody tr th {\n",
       "        vertical-align: top;\n",
       "    }\n",
       "\n",
       "    .dataframe thead th {\n",
       "        text-align: right;\n",
       "    }\n",
       "</style>\n",
       "<table border=\"1\" class=\"dataframe\">\n",
       "  <thead>\n",
       "    <tr style=\"text-align: right;\">\n",
       "      <th></th>\n",
       "      <th>HDONG_NM</th>\n",
       "      <th>subway_station_num</th>\n",
       "      <th>bus_station_num</th>\n",
       "      <th>bus_route_num</th>\n",
       "      <th>subway_route_num</th>\n",
       "    </tr>\n",
       "  </thead>\n",
       "  <tbody>\n",
       "    <tr>\n",
       "      <th>0</th>\n",
       "      <td>공릉1동</td>\n",
       "      <td>1.0</td>\n",
       "      <td>49</td>\n",
       "      <td>16</td>\n",
       "      <td>1.0</td>\n",
       "    </tr>\n",
       "    <tr>\n",
       "      <th>1</th>\n",
       "      <td>공릉2동</td>\n",
       "      <td>0.0</td>\n",
       "      <td>59</td>\n",
       "      <td>11</td>\n",
       "      <td>0.0</td>\n",
       "    </tr>\n",
       "    <tr>\n",
       "      <th>2</th>\n",
       "      <td>상계10동</td>\n",
       "      <td>1.0</td>\n",
       "      <td>19</td>\n",
       "      <td>7</td>\n",
       "      <td>1.0</td>\n",
       "    </tr>\n",
       "    <tr>\n",
       "      <th>3</th>\n",
       "      <td>상계1동</td>\n",
       "      <td>1.0</td>\n",
       "      <td>45</td>\n",
       "      <td>6</td>\n",
       "      <td>1.0</td>\n",
       "    </tr>\n",
       "    <tr>\n",
       "      <th>4</th>\n",
       "      <td>상계2동</td>\n",
       "      <td>0.0</td>\n",
       "      <td>24</td>\n",
       "      <td>8</td>\n",
       "      <td>0.0</td>\n",
       "    </tr>\n",
       "    <tr>\n",
       "      <th>5</th>\n",
       "      <td>상계3.4동</td>\n",
       "      <td>1.0</td>\n",
       "      <td>15</td>\n",
       "      <td>3</td>\n",
       "      <td>1.0</td>\n",
       "    </tr>\n",
       "    <tr>\n",
       "      <th>6</th>\n",
       "      <td>상계5동</td>\n",
       "      <td>0.0</td>\n",
       "      <td>21</td>\n",
       "      <td>4</td>\n",
       "      <td>0.0</td>\n",
       "    </tr>\n",
       "    <tr>\n",
       "      <th>7</th>\n",
       "      <td>상계6.7동</td>\n",
       "      <td>2.0</td>\n",
       "      <td>30</td>\n",
       "      <td>13</td>\n",
       "      <td>2.0</td>\n",
       "    </tr>\n",
       "    <tr>\n",
       "      <th>8</th>\n",
       "      <td>상계8동</td>\n",
       "      <td>0.0</td>\n",
       "      <td>13</td>\n",
       "      <td>5</td>\n",
       "      <td>0.0</td>\n",
       "    </tr>\n",
       "    <tr>\n",
       "      <th>9</th>\n",
       "      <td>상계9동</td>\n",
       "      <td>0.0</td>\n",
       "      <td>24</td>\n",
       "      <td>6</td>\n",
       "      <td>0.0</td>\n",
       "    </tr>\n",
       "    <tr>\n",
       "      <th>10</th>\n",
       "      <td>월계1동</td>\n",
       "      <td>0.0</td>\n",
       "      <td>36</td>\n",
       "      <td>13</td>\n",
       "      <td>0.0</td>\n",
       "    </tr>\n",
       "    <tr>\n",
       "      <th>11</th>\n",
       "      <td>월계2동</td>\n",
       "      <td>0.0</td>\n",
       "      <td>28</td>\n",
       "      <td>4</td>\n",
       "      <td>0.0</td>\n",
       "    </tr>\n",
       "    <tr>\n",
       "      <th>12</th>\n",
       "      <td>월계3동</td>\n",
       "      <td>3.0</td>\n",
       "      <td>23</td>\n",
       "      <td>12</td>\n",
       "      <td>2.0</td>\n",
       "    </tr>\n",
       "    <tr>\n",
       "      <th>13</th>\n",
       "      <td>중계1동</td>\n",
       "      <td>0.0</td>\n",
       "      <td>15</td>\n",
       "      <td>5</td>\n",
       "      <td>0.0</td>\n",
       "    </tr>\n",
       "    <tr>\n",
       "      <th>14</th>\n",
       "      <td>중계2.3동</td>\n",
       "      <td>1.0</td>\n",
       "      <td>25</td>\n",
       "      <td>8</td>\n",
       "      <td>1.0</td>\n",
       "    </tr>\n",
       "    <tr>\n",
       "      <th>15</th>\n",
       "      <td>중계4동</td>\n",
       "      <td>1.0</td>\n",
       "      <td>21</td>\n",
       "      <td>9</td>\n",
       "      <td>1.0</td>\n",
       "    </tr>\n",
       "    <tr>\n",
       "      <th>16</th>\n",
       "      <td>중계본동</td>\n",
       "      <td>0.0</td>\n",
       "      <td>27</td>\n",
       "      <td>5</td>\n",
       "      <td>0.0</td>\n",
       "    </tr>\n",
       "    <tr>\n",
       "      <th>17</th>\n",
       "      <td>하계1동</td>\n",
       "      <td>1.0</td>\n",
       "      <td>47</td>\n",
       "      <td>12</td>\n",
       "      <td>1.0</td>\n",
       "    </tr>\n",
       "    <tr>\n",
       "      <th>18</th>\n",
       "      <td>하계2동</td>\n",
       "      <td>0.0</td>\n",
       "      <td>12</td>\n",
       "      <td>7</td>\n",
       "      <td>0.0</td>\n",
       "    </tr>\n",
       "    <tr>\n",
       "      <th>19</th>\n",
       "      <td>광희동</td>\n",
       "      <td>2.0</td>\n",
       "      <td>22</td>\n",
       "      <td>16</td>\n",
       "      <td>2.0</td>\n",
       "    </tr>\n",
       "    <tr>\n",
       "      <th>20</th>\n",
       "      <td>다산동</td>\n",
       "      <td>1.0</td>\n",
       "      <td>5</td>\n",
       "      <td>2</td>\n",
       "      <td>1.0</td>\n",
       "    </tr>\n",
       "    <tr>\n",
       "      <th>21</th>\n",
       "      <td>동화동</td>\n",
       "      <td>0.0</td>\n",
       "      <td>3</td>\n",
       "      <td>6</td>\n",
       "      <td>0.0</td>\n",
       "    </tr>\n",
       "    <tr>\n",
       "      <th>22</th>\n",
       "      <td>명동</td>\n",
       "      <td>3.0</td>\n",
       "      <td>49</td>\n",
       "      <td>48</td>\n",
       "      <td>3.0</td>\n",
       "    </tr>\n",
       "    <tr>\n",
       "      <th>23</th>\n",
       "      <td>소공동</td>\n",
       "      <td>2.0</td>\n",
       "      <td>28</td>\n",
       "      <td>36</td>\n",
       "      <td>2.0</td>\n",
       "    </tr>\n",
       "    <tr>\n",
       "      <th>24</th>\n",
       "      <td>신당5동</td>\n",
       "      <td>2.0</td>\n",
       "      <td>11</td>\n",
       "      <td>6</td>\n",
       "      <td>2.0</td>\n",
       "    </tr>\n",
       "    <tr>\n",
       "      <th>25</th>\n",
       "      <td>신당동</td>\n",
       "      <td>5.0</td>\n",
       "      <td>21</td>\n",
       "      <td>23</td>\n",
       "      <td>4.0</td>\n",
       "    </tr>\n",
       "    <tr>\n",
       "      <th>26</th>\n",
       "      <td>약수동</td>\n",
       "      <td>2.0</td>\n",
       "      <td>8</td>\n",
       "      <td>4</td>\n",
       "      <td>2.0</td>\n",
       "    </tr>\n",
       "    <tr>\n",
       "      <th>27</th>\n",
       "      <td>을지로동</td>\n",
       "      <td>3.0</td>\n",
       "      <td>32</td>\n",
       "      <td>20</td>\n",
       "      <td>3.0</td>\n",
       "    </tr>\n",
       "    <tr>\n",
       "      <th>28</th>\n",
       "      <td>장충동</td>\n",
       "      <td>0.0</td>\n",
       "      <td>12</td>\n",
       "      <td>6</td>\n",
       "      <td>0.0</td>\n",
       "    </tr>\n",
       "    <tr>\n",
       "      <th>29</th>\n",
       "      <td>중림동</td>\n",
       "      <td>2.0</td>\n",
       "      <td>23</td>\n",
       "      <td>12</td>\n",
       "      <td>2.0</td>\n",
       "    </tr>\n",
       "    <tr>\n",
       "      <th>30</th>\n",
       "      <td>청구동</td>\n",
       "      <td>2.0</td>\n",
       "      <td>5</td>\n",
       "      <td>4</td>\n",
       "      <td>2.0</td>\n",
       "    </tr>\n",
       "    <tr>\n",
       "      <th>31</th>\n",
       "      <td>필동</td>\n",
       "      <td>3.0</td>\n",
       "      <td>16</td>\n",
       "      <td>6</td>\n",
       "      <td>2.0</td>\n",
       "    </tr>\n",
       "    <tr>\n",
       "      <th>32</th>\n",
       "      <td>황학동</td>\n",
       "      <td>2.0</td>\n",
       "      <td>9</td>\n",
       "      <td>12</td>\n",
       "      <td>2.0</td>\n",
       "    </tr>\n",
       "    <tr>\n",
       "      <th>33</th>\n",
       "      <td>회현동</td>\n",
       "      <td>1.0</td>\n",
       "      <td>42</td>\n",
       "      <td>39</td>\n",
       "      <td>1.0</td>\n",
       "    </tr>\n",
       "  </tbody>\n",
       "</table>\n",
       "</div>"
      ],
      "text/plain": [
       "   HDONG_NM  subway_station_num  bus_station_num  bus_route_num  \\\n",
       "0      공릉1동                 1.0               49             16   \n",
       "1      공릉2동                 0.0               59             11   \n",
       "2     상계10동                 1.0               19              7   \n",
       "3      상계1동                 1.0               45              6   \n",
       "4      상계2동                 0.0               24              8   \n",
       "5    상계3.4동                 1.0               15              3   \n",
       "6      상계5동                 0.0               21              4   \n",
       "7    상계6.7동                 2.0               30             13   \n",
       "8      상계8동                 0.0               13              5   \n",
       "9      상계9동                 0.0               24              6   \n",
       "10     월계1동                 0.0               36             13   \n",
       "11     월계2동                 0.0               28              4   \n",
       "12     월계3동                 3.0               23             12   \n",
       "13     중계1동                 0.0               15              5   \n",
       "14   중계2.3동                 1.0               25              8   \n",
       "15     중계4동                 1.0               21              9   \n",
       "16     중계본동                 0.0               27              5   \n",
       "17     하계1동                 1.0               47             12   \n",
       "18     하계2동                 0.0               12              7   \n",
       "19      광희동                 2.0               22             16   \n",
       "20      다산동                 1.0                5              2   \n",
       "21      동화동                 0.0                3              6   \n",
       "22       명동                 3.0               49             48   \n",
       "23      소공동                 2.0               28             36   \n",
       "24     신당5동                 2.0               11              6   \n",
       "25      신당동                 5.0               21             23   \n",
       "26      약수동                 2.0                8              4   \n",
       "27     을지로동                 3.0               32             20   \n",
       "28      장충동                 0.0               12              6   \n",
       "29      중림동                 2.0               23             12   \n",
       "30      청구동                 2.0                5              4   \n",
       "31       필동                 3.0               16              6   \n",
       "32      황학동                 2.0                9             12   \n",
       "33      회현동                 1.0               42             39   \n",
       "\n",
       "    subway_route_num  \n",
       "0                1.0  \n",
       "1                0.0  \n",
       "2                1.0  \n",
       "3                1.0  \n",
       "4                0.0  \n",
       "5                1.0  \n",
       "6                0.0  \n",
       "7                2.0  \n",
       "8                0.0  \n",
       "9                0.0  \n",
       "10               0.0  \n",
       "11               0.0  \n",
       "12               2.0  \n",
       "13               0.0  \n",
       "14               1.0  \n",
       "15               1.0  \n",
       "16               0.0  \n",
       "17               1.0  \n",
       "18               0.0  \n",
       "19               2.0  \n",
       "20               1.0  \n",
       "21               0.0  \n",
       "22               3.0  \n",
       "23               2.0  \n",
       "24               2.0  \n",
       "25               4.0  \n",
       "26               2.0  \n",
       "27               3.0  \n",
       "28               0.0  \n",
       "29               2.0  \n",
       "30               2.0  \n",
       "31               2.0  \n",
       "32               2.0  \n",
       "33               1.0  "
      ]
     },
     "execution_count": 84,
     "metadata": {},
     "output_type": "execute_result"
    }
   ],
   "source": [
    "HDONG_NM"
   ]
  },
  {
   "cell_type": "markdown",
   "metadata": {},
   "source": [
    "___"
   ]
  },
  {
   "cell_type": "markdown",
   "metadata": {},
   "source": [
    "#### 교통편의성.v2"
   ]
  },
  {
   "cell_type": "markdown",
   "metadata": {},
   "source": [
    "##### CONV IN"
   ]
  },
  {
   "cell_type": "markdown",
   "metadata": {
    "ExecuteTime": {
     "end_time": "2020-09-17T13:30:08.922609Z",
     "start_time": "2020-09-17T13:30:08.917665Z"
    }
   },
   "source": [
    "$Conv\\_In_{n,n} = \\begin{bmatrix}\n",
    "    c_{1} & & \\\\\n",
    "    & \\ddots & \\\\\n",
    "    & & c_{n}\n",
    "  \\end{bmatrix}\\ \\ s.t\\ \\ c_i={\\# bus\\ station\\ in\\ h_i \\over AREA(h_i)}$"
   ]
  },
  {
   "cell_type": "code",
   "execution_count": 85,
   "metadata": {
    "ExecuteTime": {
     "end_time": "2020-09-21T09:05:01.492335Z",
     "start_time": "2020-09-21T09:05:01.476307Z"
    }
   },
   "outputs": [],
   "source": [
    "HDONG_conv_index_v2 = HDONG_NM.merge(geo_df[['HDONG_NM','AREA']])"
   ]
  },
  {
   "cell_type": "code",
   "execution_count": 86,
   "metadata": {
    "ExecuteTime": {
     "end_time": "2020-09-21T09:05:02.725506Z",
     "start_time": "2020-09-21T09:05:02.709553Z"
    }
   },
   "outputs": [],
   "source": [
    "conv_in = dict(HDONG_conv_index_v2.eval(\"conv_in = bus_station_num/AREA*10000\").set_index('HDONG_NM').conv_in)"
   ]
  },
  {
   "cell_type": "code",
   "execution_count": 87,
   "metadata": {
    "ExecuteTime": {
     "end_time": "2020-09-21T09:05:05.869987Z",
     "start_time": "2020-09-21T09:05:05.861961Z"
    }
   },
   "outputs": [],
   "source": [
    "conv_in_matrix=np.diag(HDONG_conv_index_v2.eval(\"conv_in = bus_station_num/AREA*10000\").set_index('HDONG_NM').conv_in.values)"
   ]
  },
  {
   "cell_type": "code",
   "execution_count": 170,
   "metadata": {
    "ExecuteTime": {
     "end_time": "2020-09-17T13:37:36.873697Z",
     "start_time": "2020-09-17T13:37:36.869707Z"
    }
   },
   "outputs": [],
   "source": [
    "# HDONG_conv_index_v2.eval(\"conv_in = (bus_station_num)/AREA*10000\").sort_values(by = 'conv_in', ascending=False).head()"
   ]
  },
  {
   "cell_type": "markdown",
   "metadata": {},
   "source": [
    "##### CONV OUT "
   ]
  },
  {
   "cell_type": "markdown",
   "metadata": {},
   "source": [
    "$Conv\\_Out_{n,n} = D_{n,n} \\odot R_{n,n}$\n",
    "$(elementwise\\ multiplication\\ of\\ D_{n,n}\\ \\text{$and$}\\ R_{n,n})$\n",
    "\n",
    "$D_{n,n} = \\{d_{i,j}\\} \\ s.t\\ \\ d_{i,j}= \\begin{cases}\n",
    "\\left (1-\\left (Dist(h_i,h_j) \\over d \\right)^2 \\right )^2 & \\text{if $0 \\le Dist(h_i,h_j) \\le d $} \\\\\n",
    "0 & \\text{if $Dist(h_i,h_j) > d$}\\end{cases}$\n",
    "\n",
    "$R_{n,n} = \\{r_{i,j}\\}\\ s.t\\ \\ r_{i,j} = \\begin{cases}\n",
    "\\sqrt{\\left ({bus\\ route (h_i,h_j) \\over total\\ bus\\ route} \\right)} + \\sqrt{\\left ({subway\\ route (h_i,h_j) \\over total\\ subway\\ route} \\right)}& \\text{if $ i \\ne j$} \\\\\n",
    "0 & \\text{if $ i=j $}\\end{cases}$"
   ]
  },
  {
   "cell_type": "markdown",
   "metadata": {
    "ExecuteTime": {
     "end_time": "2020-09-18T08:13:53.372430Z",
     "start_time": "2020-09-18T08:13:53.361436Z"
    }
   },
   "source": [
    "$ Double\\ Power\\ Distance\\ Weights $  "
   ]
  },
  {
   "cell_type": "code",
   "execution_count": 89,
   "metadata": {
    "ExecuteTime": {
     "end_time": "2020-09-21T09:05:16.760251Z",
     "start_time": "2020-09-21T09:05:16.437883Z"
    }
   },
   "outputs": [],
   "source": [
    "total_bus_route=bus_route.노선번호.nunique()"
   ]
  },
  {
   "cell_type": "code",
   "execution_count": 289,
   "metadata": {
    "ExecuteTime": {
     "end_time": "2020-09-16T15:05:25.010171Z",
     "start_time": "2020-09-16T15:05:24.959307Z"
    }
   },
   "outputs": [],
   "source": [
    "# total_subway_route=gpd.read_file(os.path.join(subway_path,'substation_pt_sma_170923.shp')).호선.nunique()"
   ]
  },
  {
   "cell_type": "code",
   "execution_count": 90,
   "metadata": {
    "ExecuteTime": {
     "end_time": "2020-09-21T09:06:10.924637Z",
     "start_time": "2020-09-21T09:06:10.908648Z"
    }
   },
   "outputs": [],
   "source": [
    "distance_file=[pd.read_csv(os.path.join(external_processed_file_path,file), index_col=[0]) for file in os.listdir(external_processed_file_path) if file.startswith('distance')]"
   ]
  },
  {
   "cell_type": "code",
   "execution_count": 91,
   "metadata": {
    "ExecuteTime": {
     "end_time": "2020-09-21T09:06:12.069655Z",
     "start_time": "2020-09-21T09:06:12.061673Z"
    }
   },
   "outputs": [],
   "source": [
    "real_dist = distance_file[0]"
   ]
  },
  {
   "cell_type": "code",
   "execution_count": 414,
   "metadata": {
    "ExecuteTime": {
     "end_time": "2020-09-17T05:02:31.065007Z",
     "start_time": "2020-09-17T05:02:31.057023Z"
    }
   },
   "outputs": [],
   "source": [
    "# for dong, adj_dongs in adjacent_dong_dict.items():\n",
    "#     print(real_dist.loc[dong,adj_dongs].max())"
   ]
  },
  {
   "cell_type": "code",
   "execution_count": 93,
   "metadata": {
    "ExecuteTime": {
     "end_time": "2020-09-21T09:06:22.425306Z",
     "start_time": "2020-09-21T09:06:22.409317Z"
    }
   },
   "outputs": [],
   "source": [
    "# 거리별 가중치 계산\n",
    "def double_power_distance_weight(df, distance):\n",
    "    shape = df.shape\n",
    "    names = df.columns.tolist()\n",
    "    flatten_values = np.concatenate(df.values)\n",
    "    weights = np.array([(1-(dist/distance)**2) if dist < distance else 0 for dist in flatten_values ])\n",
    "    weights_df = pd.DataFrame(weights.reshape(shape), columns = names)\n",
    "    weights_df.index = names\n",
    "    return weights_df"
   ]
  },
  {
   "cell_type": "code",
   "execution_count": 94,
   "metadata": {
    "ExecuteTime": {
     "end_time": "2020-09-21T09:06:23.615927Z",
     "start_time": "2020-09-21T09:06:23.611899Z"
    }
   },
   "outputs": [],
   "source": [
    "dong_order=real_dist.columns.tolist()"
   ]
  },
  {
   "cell_type": "code",
   "execution_count": 95,
   "metadata": {
    "ExecuteTime": {
     "end_time": "2020-09-21T09:06:24.739107Z",
     "start_time": "2020-09-21T09:06:24.723117Z"
    }
   },
   "outputs": [],
   "source": [
    "conv_bus=np.sqrt(bus_route_num_df/total_bus_route)\n",
    "conv_bus=conv_bus.loc[dong_order,dong_order]"
   ]
  },
  {
   "cell_type": "code",
   "execution_count": 96,
   "metadata": {
    "ExecuteTime": {
     "end_time": "2020-09-21T09:06:25.891473Z",
     "start_time": "2020-09-21T09:06:25.875853Z"
    }
   },
   "outputs": [],
   "source": [
    "conv_subway=np.sqrt(subway_route_num_df/total_subway_route)\n",
    "conv_subway=conv_subway.loc[dong_order,dong_order]"
   ]
  },
  {
   "cell_type": "code",
   "execution_count": 97,
   "metadata": {
    "ExecuteTime": {
     "end_time": "2020-09-21T09:06:33.891661Z",
     "start_time": "2020-09-21T09:06:33.883667Z"
    },
    "scrolled": false
   },
   "outputs": [],
   "source": [
    "conv_out_df = np.multiply(\n",
    "    double_power_distance_weight(real_dist,3000),\n",
    "    conv_bus+conv_subway\n",
    ")"
   ]
  },
  {
   "cell_type": "code",
   "execution_count": 98,
   "metadata": {
    "ExecuteTime": {
     "end_time": "2020-09-21T09:06:37.417248Z",
     "start_time": "2020-09-21T09:06:37.409218Z"
    }
   },
   "outputs": [],
   "source": [
    "pd.options.display.max_columns=35"
   ]
  },
  {
   "cell_type": "code",
   "execution_count": 115,
   "metadata": {
    "ExecuteTime": {
     "end_time": "2020-09-16T05:45:25.954468Z",
     "start_time": "2020-09-16T05:45:25.950508Z"
    }
   },
   "outputs": [],
   "source": [
    "\"\"\"\n",
    "adjacent_dist = distance_file[1]\n",
    "\n",
    "HDONGS=adjacent_dist.columns.tolist()\n",
    "adjacent_dong_dict = {}\n",
    "    \n",
    "for i,dong in tqdm(enumerate(HDONGS), desc='Finding Adjacent Dongs'):\n",
    "    adjacent_dong_dict[dong] = list(adjacent_dist.loc[adjacent_dist[dong]==0,HDONGS[i]].drop(dong).index)\n",
    "\n",
    "mean_bus_route_num_to_adj_dongs = {}\n",
    "for dong, adj_dongs in adjacent_dong_dict.items():\n",
    "    mean_bus_route_num_to_adj_dongs[dong]=bus_route_num_df.loc[dong, adj_dongs].mean()\n",
    "\n",
    "mean_bus_route_dtd = pd.DataFrame.from_dict(mean_bus_route_num_to_adj_dongs, 'index', columns=['mean_bus_route_dtd']).reset_index().rename(columns={'index':'HDONG_NM'})\n",
    "\"\"\""
   ]
  },
  {
   "cell_type": "markdown",
   "metadata": {},
   "source": [
    "##### CONV INDEX "
   ]
  },
  {
   "cell_type": "markdown",
   "metadata": {},
   "source": [
    "$CONV\\_INDEX_{n,n} = Conv\\_IN_{n,n} + Conv\\_Out_{n,n}$"
   ]
  },
  {
   "cell_type": "code",
   "execution_count": 155,
   "metadata": {
    "ExecuteTime": {
     "end_time": "2020-09-17T11:09:35.748605Z",
     "start_time": "2020-09-17T11:09:35.745653Z"
    }
   },
   "outputs": [],
   "source": [
    "import copy"
   ]
  },
  {
   "cell_type": "code",
   "execution_count": 156,
   "metadata": {
    "ExecuteTime": {
     "end_time": "2020-09-17T11:09:36.480651Z",
     "start_time": "2020-09-17T11:09:36.476661Z"
    }
   },
   "outputs": [],
   "source": [
    "\"\"\"\n",
    "conv_df = copy.deepcopy(conv_out_df)\n",
    "\n",
    "for dong, _ in conv_in.items():\n",
    "    conv_df.loc[dong,dong] = conv_in.get(dong)\n",
    "\"\"\""
   ]
  },
  {
   "cell_type": "code",
   "execution_count": 99,
   "metadata": {
    "ExecuteTime": {
     "end_time": "2020-09-21T09:06:45.502430Z",
     "start_time": "2020-09-21T09:06:45.494433Z"
    }
   },
   "outputs": [],
   "source": [
    "conv_df = conv_in_matrix + conv_out_df"
   ]
  },
  {
   "cell_type": "code",
   "execution_count": 101,
   "metadata": {
    "ExecuteTime": {
     "end_time": "2020-09-21T09:07:12.308363Z",
     "start_time": "2020-09-21T09:07:12.292376Z"
    }
   },
   "outputs": [],
   "source": [
    "conv_df.to_csv(os.path.join(external_processed_file_path,\"conv_index_df.csv\"))"
   ]
  }
 ],
 "metadata": {
  "kernelspec": {
   "display_name": "Python 3",
   "language": "python",
   "name": "python3"
  },
  "language_info": {
   "codemirror_mode": {
    "name": "ipython",
    "version": 3
   },
   "file_extension": ".py",
   "mimetype": "text/x-python",
   "name": "python",
   "nbconvert_exporter": "python",
   "pygments_lexer": "ipython3",
   "version": "3.7.2"
  },
  "toc": {
   "base_numbering": 1,
   "nav_menu": {},
   "number_sections": true,
   "sideBar": true,
   "skip_h1_title": false,
   "title_cell": "Table of Contents",
   "title_sidebar": "Contents",
   "toc_cell": false,
   "toc_position": {
    "height": "calc(100% - 180px)",
    "left": "10px",
    "top": "150px",
    "width": "216px"
   },
   "toc_section_display": true,
   "toc_window_display": true
  },
  "varInspector": {
   "cols": {
    "lenName": 16,
    "lenType": 16,
    "lenVar": 40
   },
   "kernels_config": {
    "python": {
     "delete_cmd_postfix": "",
     "delete_cmd_prefix": "del ",
     "library": "var_list.py",
     "varRefreshCmd": "print(var_dic_list())"
    },
    "r": {
     "delete_cmd_postfix": ") ",
     "delete_cmd_prefix": "rm(",
     "library": "var_list.r",
     "varRefreshCmd": "cat(var_dic_list()) "
    }
   },
   "types_to_exclude": [
    "module",
    "function",
    "builtin_function_or_method",
    "instance",
    "_Feature"
   ],
   "window_display": false
  }
 },
 "nbformat": 4,
 "nbformat_minor": 2
}
