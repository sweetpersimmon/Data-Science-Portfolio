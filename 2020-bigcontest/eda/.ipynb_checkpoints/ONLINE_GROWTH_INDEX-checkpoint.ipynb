{
 "cells": [
  {
   "cell_type": "code",
   "execution_count": 1,
   "metadata": {
    "ExecuteTime": {
     "end_time": "2020-09-25T12:46:20.918915Z",
     "start_time": "2020-09-25T12:46:20.560361Z"
    }
   },
   "outputs": [],
   "source": [
    "import pandas as pd\n",
    "import numpy as np\n",
    "\n",
    "import os\n",
    "\n",
    "os.chdir(\"../\")\n",
    "root_path = os.getcwd()\n",
    "\n",
    "data_folder_path = os.path.join(root_path, 'data')\n",
    "original_file_path = os.path.join(data_folder_path, 'original_data')\n",
    "original_raw_file_path = os.path.join(original_file_path,'raw_data')\n",
    "original_processed_file_path = os.path.join(original_file_path,'processed_data')\n",
    "\n",
    "raw_file_folders = os.listdir(original_raw_file_path)\n",
    "\n",
    "external_file_path = os.path.join(data_folder_path,'external_data')\n",
    "external_raw_file_path = os.path.join(external_file_path,'raw_data')\n",
    "external_processed_file_path = os.path.join(external_file_path,'processed_data')"
   ]
  },
  {
   "cell_type": "code",
   "execution_count": 2,
   "metadata": {
    "ExecuteTime": {
     "end_time": "2020-09-25T12:46:27.291878Z",
     "start_time": "2020-09-25T12:46:26.971980Z"
    }
   },
   "outputs": [
    {
     "name": "stderr",
     "output_type": "stream",
     "text": [
      "c:\\python37\\lib\\site-packages\\ipykernel_launcher.py:8: FutureWarning: Series.dt.weekofyear and Series.dt.week have been deprecated.  Please use Series.dt.isocalendar().week instead.\n",
      "  \n"
     ]
    }
   ],
   "source": [
    "# 필요데이터\n",
    "cj_deliv = pd.read_csv(os.path.join(original_processed_file_path, 'CJ_delivery.csv'))\n",
    "\n",
    "cj_deliv['DL_YMD'] = pd.to_datetime(cj_deliv.DL_YMD.apply(lambda x : '20'+str(x)), format='%Y%m%d')\n",
    "\n",
    "cj_deliv['year'] = cj_deliv.DL_YMD.dt.year.values\n",
    "cj_deliv['month'] = cj_deliv.DL_YMD.dt.month.values\n",
    "cj_deliv['weekofyear'] = cj_deliv.DL_YMD.dt.weekofyear.values\n",
    "cj_deliv['dayofweek'] = cj_deliv.DL_YMD.dt.dayofweek.values\n",
    "\n",
    "cj_deliv['weekday'] = np.where(cj_deliv.dayofweek < 5, '평일', '주말')\n",
    "\n",
    "# 특일정보\n",
    "holiday = pd.to_datetime(['2019-02-04','2019-02-05','2019-02-06','2019-03-01','2019-05-06','2019-05-12','2020-04-15', '2020-04-30','2020-05-05'])"
   ]
  },
  {
   "cell_type": "markdown",
   "metadata": {},
   "source": [
    "**Growth Index**  \n",
    "$r_w,_d$ : w주차, d번째 요일의 19년대비 20년도 송장건수 비율 (d번째 요일 - d = 0:월, 1:화, ..., 6:일)  \n",
    "$GrowthIndex={\\sum_{i=1}^N i \\cdot r_i \\over \\sum_{i=1}^N i} \\ s.t\\ N : size \\ of\\ \\{r_w,_d |\\ d \\in [12,17]\\},\\ r_i: i'th\\ element\\ of\\ \\{r_w,_d |\\ d \\in [12,17]\\} \\ ordered \\ by \\ date$ "
   ]
  },
  {
   "cell_type": "code",
   "execution_count": 3,
   "metadata": {
    "ExecuteTime": {
     "end_time": "2020-09-25T12:46:48.982506Z",
     "start_time": "2020-09-25T12:46:48.975524Z"
    }
   },
   "outputs": [],
   "source": [
    "def growth_index(df):\n",
    "    \n",
    "    def moving_avg(arr):\n",
    "        values=arr.rate.values\n",
    "        weights=np.array(range(1,len(values)+1))\n",
    "        return np.dot(values, weights) /sum(weights)\n",
    "    \n",
    "    index = df.loc[df.weekday=='평일'].\\\n",
    "        groupby(['DL_GD_LCLS_NM','year','weekofyear','dayofweek'])['INVC_CONT'].sum().\\\n",
    "        reset_index().\\\n",
    "        groupby(['DL_GD_LCLS_NM','weekofyear','dayofweek']).\\\n",
    "        apply(lambda x : (x.iloc[1,-1]/x.iloc[0,-1]) if x.shape[0]==2 else 1).\\\n",
    "        reset_index(name='rate').\\\n",
    "        query('rate!=1 & weekofyear>=12 & weekofyear <=17').\\\n",
    "        groupby('DL_GD_LCLS_NM').\\\n",
    "        apply(moving_avg)\n",
    "    \n",
    "    return dict(index)"
   ]
  },
  {
   "cell_type": "code",
   "execution_count": 4,
   "metadata": {
    "ExecuteTime": {
     "end_time": "2020-09-25T12:46:55.328514Z",
     "start_time": "2020-09-25T12:46:55.185902Z"
    }
   },
   "outputs": [
    {
     "data": {
      "text/plain": [
       "{'가구/인테리어': 1.3959060979376816,\n",
       " '도서/음반': 1.5456440976342904,\n",
       " '디지털/가전': 1.3424124984800987,\n",
       " '생활건강': 1.4170575981044113,\n",
       " '스포츠/레저': 1.2906100122939723,\n",
       " '식품': 1.489711276070297,\n",
       " '출산/육아': 1.073823522359508,\n",
       " '패션의류': 1.080711000027851,\n",
       " '패션잡화': 1.0392808041969142,\n",
       " '화장품/미용': 1.0870318733284736}"
      ]
     },
     "execution_count": 4,
     "metadata": {},
     "output_type": "execute_result"
    }
   ],
   "source": [
    "growth_index(cj_deliv)"
   ]
  }
 ],
 "metadata": {
  "kernelspec": {
   "display_name": "Python 3",
   "language": "python",
   "name": "python3"
  },
  "language_info": {
   "codemirror_mode": {
    "name": "ipython",
    "version": 3
   },
   "file_extension": ".py",
   "mimetype": "text/x-python",
   "name": "python",
   "nbconvert_exporter": "python",
   "pygments_lexer": "ipython3",
   "version": "3.7.2"
  },
  "toc": {
   "base_numbering": 1,
   "nav_menu": {},
   "number_sections": true,
   "sideBar": true,
   "skip_h1_title": false,
   "title_cell": "Table of Contents",
   "title_sidebar": "Contents",
   "toc_cell": false,
   "toc_position": {},
   "toc_section_display": true,
   "toc_window_display": false
  },
  "varInspector": {
   "cols": {
    "lenName": 16,
    "lenType": 16,
    "lenVar": 40
   },
   "kernels_config": {
    "python": {
     "delete_cmd_postfix": "",
     "delete_cmd_prefix": "del ",
     "library": "var_list.py",
     "varRefreshCmd": "print(var_dic_list())"
    },
    "r": {
     "delete_cmd_postfix": ") ",
     "delete_cmd_prefix": "rm(",
     "library": "var_list.r",
     "varRefreshCmd": "cat(var_dic_list()) "
    }
   },
   "types_to_exclude": [
    "module",
    "function",
    "builtin_function_or_method",
    "instance",
    "_Feature"
   ],
   "window_display": false
  }
 },
 "nbformat": 4,
 "nbformat_minor": 2
}
