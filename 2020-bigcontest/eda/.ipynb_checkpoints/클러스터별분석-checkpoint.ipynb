{
 "cells": [
  {
   "cell_type": "code",
   "execution_count": 1,
   "metadata": {
    "ExecuteTime": {
     "end_time": "2020-09-24T09:22:41.192498Z",
     "start_time": "2020-09-24T09:22:40.186653Z"
    }
   },
   "outputs": [
    {
     "name": "stderr",
     "output_type": "stream",
     "text": [
      "c:\\python37\\lib\\site-packages\\statsmodels\\tools\\_testing.py:19: FutureWarning: pandas.util.testing is deprecated. Use the functions in the public API at pandas.testing instead.\n",
      "  import pandas.util.testing as tm\n"
     ]
    }
   ],
   "source": [
    "import pandas as pd\n",
    "import numpy as np\n",
    "import scipy \n",
    "\n",
    "import matplotlib as mpl\n",
    "import matplotlib.pyplot as plt\n",
    "import seaborn as sns\n",
    "%matplotlib inline\n",
    "\n",
    "from random import choices,sample\n",
    "\n",
    "import os\n",
    "import gc\n",
    "import pickle\n",
    "\n",
    "import warnings\n",
    "warnings.filterwarnings('ignore')\n",
    "\n",
    "from datetime import timedelta\n",
    "\n",
    "plt.style.use('ggplot')\n",
    "\n",
    "mpl.rcParams['axes.unicode_minus'] = False\n",
    "plt.rcParams[\"font.family\"] = \"Malgun Gothic\"\n",
    "\n",
    "os.chdir(\"../\")\n",
    "root_path = os.getcwd()\n",
    "\n",
    "data_folder_path = os.path.join(root_path, 'data')\n",
    "original_file_path = os.path.join(data_folder_path, 'original_data')\n",
    "original_raw_file_path = os.path.join(original_file_path,'raw_data')\n",
    "original_processed_file_path = os.path.join(original_file_path,'processed_data')\n",
    "\n",
    "raw_file_folders = os.listdir(original_raw_file_path)\n",
    "\n",
    "external_file_path = os.path.join(data_folder_path,'external_data')\n",
    "external_raw_file_path = os.path.join(external_file_path,'raw_data')\n",
    "external_processed_file_path = os.path.join(external_file_path,'processed_data')"
   ]
  },
  {
   "cell_type": "code",
   "execution_count": 2,
   "metadata": {
    "ExecuteTime": {
     "end_time": "2020-09-24T09:22:47.212611Z",
     "start_time": "2020-09-24T09:22:45.961620Z"
    }
   },
   "outputs": [],
   "source": [
    "card_files = [file for file in os.listdir(original_processed_file_path) if file.startswith('카드')]\n",
    "\n",
    "df_list = []\n",
    "\n",
    "for file_name in card_files:\n",
    "    file_path = os.path.join(original_processed_file_path, file_name)\n",
    "    df = pd.read_csv(file_path)\n",
    "    df_list.append(df)\n",
    "\n",
    "foreigner = df_list[1]\n",
    "register = df_list[0]"
   ]
  },
  {
   "cell_type": "code",
   "execution_count": 4,
   "metadata": {
    "ExecuteTime": {
     "end_time": "2020-09-24T09:23:03.938427Z",
     "start_time": "2020-09-24T09:23:00.583241Z"
    }
   },
   "outputs": [],
   "source": [
    "with open(os.path.join(original_processed_file_path,'card_code_to_name_dict.pickle'), 'rb') as f:\n",
    "    card_code_to_dong_dict = pickle.load(f)\n",
    "\n",
    "cat_dict = {10 : '숙박',\n",
    "20 : '레저용품',\n",
    "21 : '레저업소',\n",
    "22 : '문화취미',\n",
    "30 : '가구',\n",
    "31 : '전기',\n",
    "32 : '주방용구',\n",
    "33 : '연료판매',\n",
    "34 : '광학제품',\n",
    "35 : '가전',\n",
    "40 : '유통업',\n",
    "42 : '의복',\n",
    "43 : '직물',\n",
    "44 : '신변잡화',\n",
    "50 : '서적문구',\n",
    "52 : '사무통신',\n",
    "60 : '자동차판매',\n",
    "62 : '자동차 정비',\n",
    "70 : '의료기관',\n",
    "71 : '보건위생',\n",
    "80 : '요식업소',\n",
    "81 : '음료식품',\n",
    "92 : '수리서비스'}\n",
    "\n",
    "register['region_code'] = register.GU_CD.astype(str)+register.DONG_CD.astype(str)\n",
    "register['GU_NM'] = register.region_code.map(card_code_to_dong_dict.get('구명'))\n",
    "register['HDONG_NM'] = register.region_code.map(card_code_to_dong_dict.get('행정동명'))\n",
    "\n",
    "register = register.drop('region_code', axis=1)\n",
    "\n",
    "register['MCT_CAT_NM'] = register.MCT_CAT_CD.map(cat_dict)\n",
    "\n",
    "register['STD_DD'] = pd.to_datetime(register['STD_DD'], format='%Y%m%d')\n",
    "\n",
    "register['year'] = register['STD_DD'].dt.year.values\n",
    "register['month'] = register['STD_DD'].dt.month.values\n",
    "register['weekofyear'] = register['STD_DD'].dt.weekofyear.values\n",
    "register['dayofweek'] = register['STD_DD'].dt.dayofweek.values\n",
    "\n",
    "register['weekday'] = np.where(register.dayofweek<5,'평일','주말')"
   ]
  },
  {
   "cell_type": "code",
   "execution_count": 5,
   "metadata": {
    "ExecuteTime": {
     "end_time": "2020-09-24T09:24:36.950573Z",
     "start_time": "2020-09-24T09:24:36.942530Z"
    }
   },
   "outputs": [],
   "source": [
    "# dataframe 가로로 여러개 보기\n",
    "def multi_table(table_list):\n",
    "    from IPython.core.display import HTML\n",
    "    ''' Acceps a list of IpyTable objects and returns a table which contains each IpyTable in a cell\n",
    "    '''\n",
    "    return HTML(\n",
    "        '<table><tr style=\"background-color:white;\">' + \n",
    "        ''.join(['<td>' + table._repr_html_() + '</td>' for table in table_list]) +\n",
    "        '</tr></table>'\n",
    "    )"
   ]
  },
  {
   "cell_type": "code",
   "execution_count": 6,
   "metadata": {
    "ExecuteTime": {
     "end_time": "2020-09-24T09:24:37.845066Z",
     "start_time": "2020-09-24T09:24:37.821174Z"
    }
   },
   "outputs": [
    {
     "data": {
      "text/html": [
       "<div>\n",
       "<style scoped>\n",
       "    .dataframe tbody tr th:only-of-type {\n",
       "        vertical-align: middle;\n",
       "    }\n",
       "\n",
       "    .dataframe tbody tr th {\n",
       "        vertical-align: top;\n",
       "    }\n",
       "\n",
       "    .dataframe thead th {\n",
       "        text-align: right;\n",
       "    }\n",
       "</style>\n",
       "<table border=\"1\" class=\"dataframe\">\n",
       "  <thead>\n",
       "    <tr style=\"text-align: right;\">\n",
       "      <th></th>\n",
       "      <th>STD_DD</th>\n",
       "      <th>GU_CD</th>\n",
       "      <th>DONG_CD</th>\n",
       "      <th>MCT_CAT_CD</th>\n",
       "      <th>SEX_CD</th>\n",
       "      <th>AGE_CD</th>\n",
       "      <th>USE_CNT</th>\n",
       "      <th>USE_AMT</th>\n",
       "      <th>GU_NM</th>\n",
       "      <th>HDONG_NM</th>\n",
       "      <th>MCT_CAT_NM</th>\n",
       "      <th>year</th>\n",
       "      <th>month</th>\n",
       "      <th>weekofyear</th>\n",
       "      <th>dayofweek</th>\n",
       "      <th>weekday</th>\n",
       "    </tr>\n",
       "  </thead>\n",
       "  <tbody>\n",
       "    <tr>\n",
       "      <th>0</th>\n",
       "      <td>2019-02-01</td>\n",
       "      <td>110</td>\n",
       "      <td>517</td>\n",
       "      <td>10</td>\n",
       "      <td>F</td>\n",
       "      <td>25</td>\n",
       "      <td>11</td>\n",
       "      <td>595</td>\n",
       "      <td>대구 중구</td>\n",
       "      <td>동인동</td>\n",
       "      <td>숙박</td>\n",
       "      <td>2019</td>\n",
       "      <td>2</td>\n",
       "      <td>5</td>\n",
       "      <td>4</td>\n",
       "      <td>평일</td>\n",
       "    </tr>\n",
       "    <tr>\n",
       "      <th>1</th>\n",
       "      <td>2019-02-01</td>\n",
       "      <td>110</td>\n",
       "      <td>517</td>\n",
       "      <td>10</td>\n",
       "      <td>F</td>\n",
       "      <td>50</td>\n",
       "      <td>5</td>\n",
       "      <td>243</td>\n",
       "      <td>대구 중구</td>\n",
       "      <td>동인동</td>\n",
       "      <td>숙박</td>\n",
       "      <td>2019</td>\n",
       "      <td>2</td>\n",
       "      <td>5</td>\n",
       "      <td>4</td>\n",
       "      <td>평일</td>\n",
       "    </tr>\n",
       "    <tr>\n",
       "      <th>2</th>\n",
       "      <td>2019-02-01</td>\n",
       "      <td>110</td>\n",
       "      <td>517</td>\n",
       "      <td>10</td>\n",
       "      <td>F</td>\n",
       "      <td>55</td>\n",
       "      <td>5</td>\n",
       "      <td>27</td>\n",
       "      <td>대구 중구</td>\n",
       "      <td>동인동</td>\n",
       "      <td>숙박</td>\n",
       "      <td>2019</td>\n",
       "      <td>2</td>\n",
       "      <td>5</td>\n",
       "      <td>4</td>\n",
       "      <td>평일</td>\n",
       "    </tr>\n",
       "    <tr>\n",
       "      <th>3</th>\n",
       "      <td>2019-02-01</td>\n",
       "      <td>110</td>\n",
       "      <td>517</td>\n",
       "      <td>10</td>\n",
       "      <td>M</td>\n",
       "      <td>20</td>\n",
       "      <td>11</td>\n",
       "      <td>243</td>\n",
       "      <td>대구 중구</td>\n",
       "      <td>동인동</td>\n",
       "      <td>숙박</td>\n",
       "      <td>2019</td>\n",
       "      <td>2</td>\n",
       "      <td>5</td>\n",
       "      <td>4</td>\n",
       "      <td>평일</td>\n",
       "    </tr>\n",
       "    <tr>\n",
       "      <th>4</th>\n",
       "      <td>2019-02-01</td>\n",
       "      <td>110</td>\n",
       "      <td>517</td>\n",
       "      <td>10</td>\n",
       "      <td>M</td>\n",
       "      <td>25</td>\n",
       "      <td>11</td>\n",
       "      <td>433</td>\n",
       "      <td>대구 중구</td>\n",
       "      <td>동인동</td>\n",
       "      <td>숙박</td>\n",
       "      <td>2019</td>\n",
       "      <td>2</td>\n",
       "      <td>5</td>\n",
       "      <td>4</td>\n",
       "      <td>평일</td>\n",
       "    </tr>\n",
       "    <tr>\n",
       "      <th>...</th>\n",
       "      <td>...</td>\n",
       "      <td>...</td>\n",
       "      <td>...</td>\n",
       "      <td>...</td>\n",
       "      <td>...</td>\n",
       "      <td>...</td>\n",
       "      <td>...</td>\n",
       "      <td>...</td>\n",
       "      <td>...</td>\n",
       "      <td>...</td>\n",
       "      <td>...</td>\n",
       "      <td>...</td>\n",
       "      <td>...</td>\n",
       "      <td>...</td>\n",
       "      <td>...</td>\n",
       "      <td>...</td>\n",
       "    </tr>\n",
       "    <tr>\n",
       "      <th>2537748</th>\n",
       "      <td>2020-05-31</td>\n",
       "      <td>350</td>\n",
       "      <td>720</td>\n",
       "      <td>81</td>\n",
       "      <td>M</td>\n",
       "      <td>45</td>\n",
       "      <td>19</td>\n",
       "      <td>127</td>\n",
       "      <td>서울 노원구</td>\n",
       "      <td>상계10동</td>\n",
       "      <td>음료식품</td>\n",
       "      <td>2020</td>\n",
       "      <td>5</td>\n",
       "      <td>22</td>\n",
       "      <td>6</td>\n",
       "      <td>주말</td>\n",
       "    </tr>\n",
       "    <tr>\n",
       "      <th>2537749</th>\n",
       "      <td>2020-05-31</td>\n",
       "      <td>350</td>\n",
       "      <td>720</td>\n",
       "      <td>81</td>\n",
       "      <td>M</td>\n",
       "      <td>50</td>\n",
       "      <td>33</td>\n",
       "      <td>211</td>\n",
       "      <td>서울 노원구</td>\n",
       "      <td>상계10동</td>\n",
       "      <td>음료식품</td>\n",
       "      <td>2020</td>\n",
       "      <td>5</td>\n",
       "      <td>22</td>\n",
       "      <td>6</td>\n",
       "      <td>주말</td>\n",
       "    </tr>\n",
       "    <tr>\n",
       "      <th>2537750</th>\n",
       "      <td>2020-05-31</td>\n",
       "      <td>350</td>\n",
       "      <td>720</td>\n",
       "      <td>81</td>\n",
       "      <td>M</td>\n",
       "      <td>55</td>\n",
       "      <td>9</td>\n",
       "      <td>61</td>\n",
       "      <td>서울 노원구</td>\n",
       "      <td>상계10동</td>\n",
       "      <td>음료식품</td>\n",
       "      <td>2020</td>\n",
       "      <td>5</td>\n",
       "      <td>22</td>\n",
       "      <td>6</td>\n",
       "      <td>주말</td>\n",
       "    </tr>\n",
       "    <tr>\n",
       "      <th>2537751</th>\n",
       "      <td>2020-05-31</td>\n",
       "      <td>350</td>\n",
       "      <td>720</td>\n",
       "      <td>81</td>\n",
       "      <td>M</td>\n",
       "      <td>60</td>\n",
       "      <td>19</td>\n",
       "      <td>194</td>\n",
       "      <td>서울 노원구</td>\n",
       "      <td>상계10동</td>\n",
       "      <td>음료식품</td>\n",
       "      <td>2020</td>\n",
       "      <td>5</td>\n",
       "      <td>22</td>\n",
       "      <td>6</td>\n",
       "      <td>주말</td>\n",
       "    </tr>\n",
       "    <tr>\n",
       "      <th>2537752</th>\n",
       "      <td>2020-05-31</td>\n",
       "      <td>350</td>\n",
       "      <td>720</td>\n",
       "      <td>81</td>\n",
       "      <td>M</td>\n",
       "      <td>65</td>\n",
       "      <td>5</td>\n",
       "      <td>29</td>\n",
       "      <td>서울 노원구</td>\n",
       "      <td>상계10동</td>\n",
       "      <td>음료식품</td>\n",
       "      <td>2020</td>\n",
       "      <td>5</td>\n",
       "      <td>22</td>\n",
       "      <td>6</td>\n",
       "      <td>주말</td>\n",
       "    </tr>\n",
       "  </tbody>\n",
       "</table>\n",
       "<p>2537753 rows × 16 columns</p>\n",
       "</div>"
      ],
      "text/plain": [
       "            STD_DD  GU_CD  DONG_CD  MCT_CAT_CD SEX_CD  AGE_CD  USE_CNT  \\\n",
       "0       2019-02-01    110      517          10      F      25       11   \n",
       "1       2019-02-01    110      517          10      F      50        5   \n",
       "2       2019-02-01    110      517          10      F      55        5   \n",
       "3       2019-02-01    110      517          10      M      20       11   \n",
       "4       2019-02-01    110      517          10      M      25       11   \n",
       "...            ...    ...      ...         ...    ...     ...      ...   \n",
       "2537748 2020-05-31    350      720          81      M      45       19   \n",
       "2537749 2020-05-31    350      720          81      M      50       33   \n",
       "2537750 2020-05-31    350      720          81      M      55        9   \n",
       "2537751 2020-05-31    350      720          81      M      60       19   \n",
       "2537752 2020-05-31    350      720          81      M      65        5   \n",
       "\n",
       "         USE_AMT   GU_NM HDONG_NM MCT_CAT_NM  year  month  weekofyear  \\\n",
       "0            595   대구 중구      동인동         숙박  2019      2           5   \n",
       "1            243   대구 중구      동인동         숙박  2019      2           5   \n",
       "2             27   대구 중구      동인동         숙박  2019      2           5   \n",
       "3            243   대구 중구      동인동         숙박  2019      2           5   \n",
       "4            433   대구 중구      동인동         숙박  2019      2           5   \n",
       "...          ...     ...      ...        ...   ...    ...         ...   \n",
       "2537748      127  서울 노원구    상계10동       음료식품  2020      5          22   \n",
       "2537749      211  서울 노원구    상계10동       음료식품  2020      5          22   \n",
       "2537750       61  서울 노원구    상계10동       음료식품  2020      5          22   \n",
       "2537751      194  서울 노원구    상계10동       음료식품  2020      5          22   \n",
       "2537752       29  서울 노원구    상계10동       음료식품  2020      5          22   \n",
       "\n",
       "         dayofweek weekday  \n",
       "0                4      평일  \n",
       "1                4      평일  \n",
       "2                4      평일  \n",
       "3                4      평일  \n",
       "4                4      평일  \n",
       "...            ...     ...  \n",
       "2537748          6      주말  \n",
       "2537749          6      주말  \n",
       "2537750          6      주말  \n",
       "2537751          6      주말  \n",
       "2537752          6      주말  \n",
       "\n",
       "[2537753 rows x 16 columns]"
      ]
     },
     "execution_count": 6,
     "metadata": {},
     "output_type": "execute_result"
    }
   ],
   "source": [
    "register"
   ]
  },
  {
   "cell_type": "code",
   "execution_count": 7,
   "metadata": {
    "ExecuteTime": {
     "end_time": "2020-09-24T09:24:46.245879Z",
     "start_time": "2020-09-24T09:24:43.071670Z"
    }
   },
   "outputs": [
    {
     "data": {
      "image/png": "[encoded data removed]",
      "text/plain": [
       "<Figure size 1152x288 with 2 Axes>"
      ]
     },
     "metadata": {
      "needs_background": "light"
     },
     "output_type": "display_data"
    }
   ],
   "source": [
    "fig, ax = plt.subplots(figsize=(16,5))\n",
    "\n",
    "ax = register.loc[register.GU_NM.apply(lambda x : x.split(' ')[0]=='서울')].groupby(['STD_DD','year','month'])['USE_CNT','USE_AMT'].sum().reset_index().USE_CNT.rolling(window=7).mean().plot(figsize=(16,4))\n",
    "\n",
    "g = ax.twinx()\n",
    "g = register.loc[register.GU_NM.apply(lambda x : x.split(' ')[0]=='대구')].groupby(['STD_DD','year','month'])['USE_CNT','USE_AMT'].sum().reset_index().USE_CNT.rolling(window=7).mean().plot(figsize=(16,4), color='b')"
   ]
  },
  {
   "cell_type": "code",
   "execution_count": 8,
   "metadata": {
    "ExecuteTime": {
     "end_time": "2020-09-24T09:24:48.659021Z",
     "start_time": "2020-09-24T09:24:47.326719Z"
    }
   },
   "outputs": [
    {
     "data": {
      "text/plain": [
       "<matplotlib.patches.Polygon at 0x20f8142a278>"
      ]
     },
     "execution_count": 8,
     "metadata": {},
     "output_type": "execute_result"
    },
    {
     "data": {
      "image/png": "[encoded data removed]",
      "text/plain": [
       "<Figure size 1152x360 with 1 Axes>"
      ]
     },
     "metadata": {
      "needs_background": "light"
     },
     "output_type": "display_data"
    }
   ],
   "source": [
    "register.loc[register.GU_NM.apply(lambda x : x.split(' ')[0]=='서울')].groupby(['STD_DD'])['USE_CNT'].sum().rolling(window=7).mean().dropna().plot(figsize=(16,5), label = '서울')\n",
    "plt.axvspan(xmin='2019-05-31', xmax='2020-02-07', alpha=0.2, color='b')"
   ]
  },
  {
   "cell_type": "code",
   "execution_count": 9,
   "metadata": {
    "ExecuteTime": {
     "end_time": "2020-09-24T09:24:50.132618Z",
     "start_time": "2020-09-24T09:24:48.818963Z"
    }
   },
   "outputs": [
    {
     "data": {
      "text/plain": [
       "<matplotlib.patches.Polygon at 0x20f8f7259b0>"
      ]
     },
     "execution_count": 9,
     "metadata": {},
     "output_type": "execute_result"
    },
    {
     "data": {
      "image/png": "[encoded data removed]",
      "text/plain": [
       "<Figure size 1152x360 with 1 Axes>"
      ]
     },
     "metadata": {
      "needs_background": "light"
     },
     "output_type": "display_data"
    }
   ],
   "source": [
    "register.loc[register.GU_NM.apply(lambda x : x.split(' ')[0]=='대구')].groupby(['STD_DD'])['USE_CNT'].sum().rolling(window=7).mean().dropna().plot(figsize=(16,5), label = '대구')\n",
    "plt.axvspan(xmin='2019-05-31', xmax='2020-02-07', alpha=0.2, color='b')"
   ]
  },
  {
   "cell_type": "code",
   "execution_count": 10,
   "metadata": {
    "ExecuteTime": {
     "end_time": "2020-09-24T09:24:54.911287Z",
     "start_time": "2020-09-24T09:24:52.487197Z"
    }
   },
   "outputs": [],
   "source": [
    "card_seoul=register.loc[register.GU_NM.apply(lambda x : x.split(' ')[0]=='서울')].reset_index(drop=True)\n",
    "card_daegu=register.loc[register.GU_NM.apply(lambda x : x.split(' ')[0]=='대구')].reset_index(drop=True)"
   ]
  },
  {
   "cell_type": "code",
   "execution_count": 11,
   "metadata": {
    "ExecuteTime": {
     "end_time": "2020-09-24T09:24:55.258702Z",
     "start_time": "2020-09-24T09:24:55.114776Z"
    }
   },
   "outputs": [],
   "source": [
    "card_clothes = register.loc[register.MCT_CAT_NM=='의복']"
   ]
  },
  {
   "cell_type": "code",
   "execution_count": 12,
   "metadata": {
    "ExecuteTime": {
     "end_time": "2020-09-24T09:24:55.680439Z",
     "start_time": "2020-09-24T09:24:55.520347Z"
    }
   },
   "outputs": [],
   "source": [
    "card_seoul_clothes=card_seoul.loc[card_seoul.MCT_CAT_NM=='의복'].reset_index(drop=True)\n",
    "card_daegu_clothes=card_daegu.loc[card_daegu.MCT_CAT_NM=='의복'].reset_index(drop=True)"
   ]
  },
  {
   "cell_type": "code",
   "execution_count": 13,
   "metadata": {
    "ExecuteTime": {
     "end_time": "2020-09-24T09:24:56.008220Z",
     "start_time": "2020-09-24T09:24:56.000226Z"
    }
   },
   "outputs": [],
   "source": [
    "# 코로나 관련 기간 정의\n",
    "normal_case = pd.date_range(start='2019-02-01', end='2020-02-20') # 코로나 이전 시기\n",
    "covid_spread = pd.date_range(start='2020-02-21', end='2020-03-15') # 코로나 확산시기 / 하루 확진자 100명 이상\n",
    "covid_ease = pd.date_range(start='2020-03-22', end='2020-05-05') #코로나 확산 1주일 후 ~ 생활속 거리두기 시행전\n",
    "covid_resilence = pd.date_range(start='2020-05-06', end='2020-05-31') # 생활속 거리두기 시행"
   ]
  },
  {
   "cell_type": "code",
   "execution_count": 14,
   "metadata": {
    "ExecuteTime": {
     "end_time": "2020-09-24T09:25:01.969320Z",
     "start_time": "2020-09-24T09:25:01.953331Z"
    }
   },
   "outputs": [
    {
     "data": {
      "text/plain": [
       "0    15.2%\n",
       "1    16.9%\n",
       "2     9.4%\n",
       "3     8.1%\n",
       "4     8.4%\n",
       "5    11.7%\n",
       "6    10.1%\n",
       "7     7.3%\n",
       "8     5.5%\n",
       "9     7.5%\n",
       "Name: USE_CNT, dtype: object"
      ]
     },
     "execution_count": 14,
     "metadata": {},
     "output_type": "execute_result"
    }
   ],
   "source": [
    "(card_clothes.groupby(['AGE_CD'])['USE_CNT'].sum().reset_index().USE_CNT/card_clothes.groupby(['AGE_CD'])['USE_CNT'].sum().reset_index().USE_CNT.sum()).apply(lambda x : format(x, '.1%'))"
   ]
  },
  {
   "cell_type": "markdown",
   "metadata": {},
   "source": [
    "연령대별 소비비율\n",
    "* 20대 32.1%\n",
    "* 30대 17.5%\n",
    "* 40대 20.1%\n",
    "* 50대 17.4%\n",
    "* 60대 이상 13.2%"
   ]
  },
  {
   "cell_type": "code",
   "execution_count": 15,
   "metadata": {
    "ExecuteTime": {
     "end_time": "2020-09-24T09:25:04.902402Z",
     "start_time": "2020-09-24T09:25:04.878370Z"
    }
   },
   "outputs": [
    {
     "data": {
      "text/plain": [
       "0    66.0%\n",
       "1    34.0%\n",
       "Name: USE_CNT, dtype: object"
      ]
     },
     "execution_count": 15,
     "metadata": {},
     "output_type": "execute_result"
    }
   ],
   "source": [
    "(card_clothes.groupby(['SEX_CD'])['USE_CNT'].sum().reset_index().USE_CNT/card_clothes.groupby(['SEX_CD'])['USE_CNT'].sum().reset_index().USE_CNT.sum()).apply(lambda x : format(x, '.1%'))"
   ]
  },
  {
   "cell_type": "markdown",
   "metadata": {},
   "source": [
    "성별별 소비 비율\n",
    "* 남성 34%\n",
    "* 여성 66%"
   ]
  },
  {
   "cell_type": "code",
   "execution_count": 16,
   "metadata": {
    "ExecuteTime": {
     "end_time": "2020-09-24T09:25:06.984493Z",
     "start_time": "2020-09-24T09:25:06.936176Z"
    }
   },
   "outputs": [],
   "source": [
    "daily_mean_cnt_by_age_normal = card_clothes.loc[card_clothes.STD_DD.isin(normal_case)].groupby(['AGE_CD','STD_DD'])['USE_CNT'].sum().reset_index().groupby(['AGE_CD'])['USE_CNT'].mean().reset_index()\n",
    "daily_mean_cnt_by_age_spread = card_clothes.loc[card_clothes.STD_DD.isin(covid_spread)].groupby(['AGE_CD','STD_DD'])['USE_CNT'].sum().reset_index().groupby(['AGE_CD'])['USE_CNT'].mean().reset_index()\n",
    "daily_mean_cnt_by_age_ease = card_clothes.loc[card_clothes.STD_DD.isin(covid_ease)].groupby(['AGE_CD','STD_DD'])['USE_CNT'].sum().reset_index().groupby(['AGE_CD'])['USE_CNT'].mean().reset_index()\n",
    "\n",
    "daily_mean_cnt_by_age_spread['USE_CNT_RATE_SPREAD']=daily_mean_cnt_by_age_spread.loc[:,'USE_CNT']/daily_mean_cnt_by_age_normal.USE_CNT\n",
    "daily_mean_cnt_by_age_ease['USE_CNT_RATE_EASE']=daily_mean_cnt_by_age_ease.loc[:,'USE_CNT']/daily_mean_cnt_by_age_normal.USE_CNT"
   ]
  },
  {
   "cell_type": "code",
   "execution_count": 17,
   "metadata": {
    "ExecuteTime": {
     "end_time": "2020-09-24T09:25:07.851334Z",
     "start_time": "2020-09-24T09:25:07.584896Z"
    }
   },
   "outputs": [
    {
     "data": {
      "text/plain": [
       "<matplotlib.axes._subplots.AxesSubplot at 0x20f8f7a7828>"
      ]
     },
     "execution_count": 17,
     "metadata": {},
     "output_type": "execute_result"
    },
    {
     "data": {
      "image/png": "[encoded data removed]",
      "text/plain": [
       "<Figure size 1152x360 with 1 Axes>"
      ]
     },
     "metadata": {
      "needs_background": "light"
     },
     "output_type": "display_data"
    }
   ],
   "source": [
    "plt.figure(figsize=(16,5))\n",
    "sns.pointplot(\n",
    "    data = daily_mean_cnt_by_age_spread.drop('USE_CNT' ,axis=1).merge(daily_mean_cnt_by_age_ease.drop('USE_CNT' ,axis=1), on = 'AGE_CD').melt(id_vars=['AGE_CD']),\n",
    "    x = 'variable',\n",
    "    y = 'value',\n",
    "    hue = 'AGE_CD'\n",
    ")"
   ]
  },
  {
   "cell_type": "code",
   "execution_count": 18,
   "metadata": {
    "ExecuteTime": {
     "end_time": "2020-09-24T09:25:10.435472Z",
     "start_time": "2020-09-24T09:25:10.411470Z"
    }
   },
   "outputs": [
    {
     "data": {
      "text/html": [
       "<div>\n",
       "<style scoped>\n",
       "    .dataframe tbody tr th:only-of-type {\n",
       "        vertical-align: middle;\n",
       "    }\n",
       "\n",
       "    .dataframe tbody tr th {\n",
       "        vertical-align: top;\n",
       "    }\n",
       "\n",
       "    .dataframe thead th {\n",
       "        text-align: right;\n",
       "    }\n",
       "</style>\n",
       "<table border=\"1\" class=\"dataframe\">\n",
       "  <thead>\n",
       "    <tr style=\"text-align: right;\">\n",
       "      <th></th>\n",
       "      <th>AGE_CD</th>\n",
       "      <th>variable</th>\n",
       "      <th>value</th>\n",
       "    </tr>\n",
       "  </thead>\n",
       "  <tbody>\n",
       "    <tr>\n",
       "      <th>5</th>\n",
       "      <td>45</td>\n",
       "      <td>USE_CNT_RATE_SPREAD</td>\n",
       "      <td>0.182510</td>\n",
       "    </tr>\n",
       "    <tr>\n",
       "      <th>0</th>\n",
       "      <td>20</td>\n",
       "      <td>USE_CNT_RATE_SPREAD</td>\n",
       "      <td>0.189317</td>\n",
       "    </tr>\n",
       "    <tr>\n",
       "      <th>4</th>\n",
       "      <td>40</td>\n",
       "      <td>USE_CNT_RATE_SPREAD</td>\n",
       "      <td>0.203850</td>\n",
       "    </tr>\n",
       "    <tr>\n",
       "      <th>9</th>\n",
       "      <td>65</td>\n",
       "      <td>USE_CNT_RATE_SPREAD</td>\n",
       "      <td>0.204366</td>\n",
       "    </tr>\n",
       "    <tr>\n",
       "      <th>6</th>\n",
       "      <td>50</td>\n",
       "      <td>USE_CNT_RATE_SPREAD</td>\n",
       "      <td>0.222546</td>\n",
       "    </tr>\n",
       "    <tr>\n",
       "      <th>7</th>\n",
       "      <td>55</td>\n",
       "      <td>USE_CNT_RATE_SPREAD</td>\n",
       "      <td>0.248281</td>\n",
       "    </tr>\n",
       "    <tr>\n",
       "      <th>3</th>\n",
       "      <td>35</td>\n",
       "      <td>USE_CNT_RATE_SPREAD</td>\n",
       "      <td>0.255582</td>\n",
       "    </tr>\n",
       "    <tr>\n",
       "      <th>8</th>\n",
       "      <td>60</td>\n",
       "      <td>USE_CNT_RATE_SPREAD</td>\n",
       "      <td>0.280390</td>\n",
       "    </tr>\n",
       "    <tr>\n",
       "      <th>1</th>\n",
       "      <td>25</td>\n",
       "      <td>USE_CNT_RATE_SPREAD</td>\n",
       "      <td>0.281414</td>\n",
       "    </tr>\n",
       "    <tr>\n",
       "      <th>2</th>\n",
       "      <td>30</td>\n",
       "      <td>USE_CNT_RATE_SPREAD</td>\n",
       "      <td>0.314237</td>\n",
       "    </tr>\n",
       "    <tr>\n",
       "      <th>10</th>\n",
       "      <td>20</td>\n",
       "      <td>USE_CNT_RATE_EASE</td>\n",
       "      <td>0.356054</td>\n",
       "    </tr>\n",
       "    <tr>\n",
       "      <th>15</th>\n",
       "      <td>45</td>\n",
       "      <td>USE_CNT_RATE_EASE</td>\n",
       "      <td>0.434077</td>\n",
       "    </tr>\n",
       "    <tr>\n",
       "      <th>14</th>\n",
       "      <td>40</td>\n",
       "      <td>USE_CNT_RATE_EASE</td>\n",
       "      <td>0.478817</td>\n",
       "    </tr>\n",
       "    <tr>\n",
       "      <th>16</th>\n",
       "      <td>50</td>\n",
       "      <td>USE_CNT_RATE_EASE</td>\n",
       "      <td>0.526593</td>\n",
       "    </tr>\n",
       "    <tr>\n",
       "      <th>13</th>\n",
       "      <td>35</td>\n",
       "      <td>USE_CNT_RATE_EASE</td>\n",
       "      <td>0.557934</td>\n",
       "    </tr>\n",
       "    <tr>\n",
       "      <th>11</th>\n",
       "      <td>25</td>\n",
       "      <td>USE_CNT_RATE_EASE</td>\n",
       "      <td>0.583910</td>\n",
       "    </tr>\n",
       "    <tr>\n",
       "      <th>17</th>\n",
       "      <td>55</td>\n",
       "      <td>USE_CNT_RATE_EASE</td>\n",
       "      <td>0.598041</td>\n",
       "    </tr>\n",
       "    <tr>\n",
       "      <th>12</th>\n",
       "      <td>30</td>\n",
       "      <td>USE_CNT_RATE_EASE</td>\n",
       "      <td>0.613297</td>\n",
       "    </tr>\n",
       "    <tr>\n",
       "      <th>19</th>\n",
       "      <td>65</td>\n",
       "      <td>USE_CNT_RATE_EASE</td>\n",
       "      <td>0.616082</td>\n",
       "    </tr>\n",
       "    <tr>\n",
       "      <th>18</th>\n",
       "      <td>60</td>\n",
       "      <td>USE_CNT_RATE_EASE</td>\n",
       "      <td>0.654148</td>\n",
       "    </tr>\n",
       "  </tbody>\n",
       "</table>\n",
       "</div>"
      ],
      "text/plain": [
       "    AGE_CD             variable     value\n",
       "5       45  USE_CNT_RATE_SPREAD  0.182510\n",
       "0       20  USE_CNT_RATE_SPREAD  0.189317\n",
       "4       40  USE_CNT_RATE_SPREAD  0.203850\n",
       "9       65  USE_CNT_RATE_SPREAD  0.204366\n",
       "6       50  USE_CNT_RATE_SPREAD  0.222546\n",
       "7       55  USE_CNT_RATE_SPREAD  0.248281\n",
       "3       35  USE_CNT_RATE_SPREAD  0.255582\n",
       "8       60  USE_CNT_RATE_SPREAD  0.280390\n",
       "1       25  USE_CNT_RATE_SPREAD  0.281414\n",
       "2       30  USE_CNT_RATE_SPREAD  0.314237\n",
       "10      20    USE_CNT_RATE_EASE  0.356054\n",
       "15      45    USE_CNT_RATE_EASE  0.434077\n",
       "14      40    USE_CNT_RATE_EASE  0.478817\n",
       "16      50    USE_CNT_RATE_EASE  0.526593\n",
       "13      35    USE_CNT_RATE_EASE  0.557934\n",
       "11      25    USE_CNT_RATE_EASE  0.583910\n",
       "17      55    USE_CNT_RATE_EASE  0.598041\n",
       "12      30    USE_CNT_RATE_EASE  0.613297\n",
       "19      65    USE_CNT_RATE_EASE  0.616082\n",
       "18      60    USE_CNT_RATE_EASE  0.654148"
      ]
     },
     "execution_count": 18,
     "metadata": {},
     "output_type": "execute_result"
    }
   ],
   "source": [
    "daily_mean_cnt_by_age_spread.drop('USE_CNT' ,axis=1).merge(daily_mean_cnt_by_age_ease.drop('USE_CNT' ,axis=1), on = 'AGE_CD').melt(id_vars=['AGE_CD']).sort_values(by='value')"
   ]
  },
  {
   "cell_type": "markdown",
   "metadata": {},
   "source": [
    "* 25세 미만과 40대에서 비교적 더 많은 소비횟수 감소\n",
    "* 완화기엔 모두 확산기보다 소비횟수를 회복함."
   ]
  },
  {
   "cell_type": "code",
   "execution_count": 19,
   "metadata": {
    "ExecuteTime": {
     "end_time": "2020-09-24T09:25:12.016745Z",
     "start_time": "2020-09-24T09:25:11.976770Z"
    }
   },
   "outputs": [],
   "source": [
    "daily_mean_cnt_by_age_normal = card_seoul_clothes.loc[card_seoul_clothes.STD_DD.isin(normal_case)].groupby(['AGE_CD','STD_DD'])['USE_CNT'].sum().reset_index().groupby(['AGE_CD'])['USE_CNT'].mean().reset_index()\n",
    "daily_mean_cnt_by_age_spread = card_seoul_clothes.loc[card_seoul_clothes.STD_DD.isin(covid_spread)].groupby(['AGE_CD','STD_DD'])['USE_CNT'].sum().reset_index().groupby(['AGE_CD'])['USE_CNT'].mean().reset_index()\n",
    "daily_mean_cnt_by_age_ease = card_seoul_clothes.loc[card_seoul_clothes.STD_DD.isin(covid_ease)].groupby(['AGE_CD','STD_DD'])['USE_CNT'].sum().reset_index().groupby(['AGE_CD'])['USE_CNT'].mean().reset_index()\n",
    "\n",
    "daily_mean_cnt_by_age_spread['USE_CNT_RATE_SPREAD']=daily_mean_cnt_by_age_spread.loc[:,'USE_CNT']/daily_mean_cnt_by_age_normal.USE_CNT\n",
    "daily_mean_cnt_by_age_ease['USE_CNT_RATE_EASE']=daily_mean_cnt_by_age_ease.loc[:,'USE_CNT']/daily_mean_cnt_by_age_normal.USE_CNT"
   ]
  },
  {
   "cell_type": "code",
   "execution_count": 20,
   "metadata": {
    "ExecuteTime": {
     "end_time": "2020-09-24T09:25:12.762873Z",
     "start_time": "2020-09-24T09:25:12.498714Z"
    }
   },
   "outputs": [
    {
     "data": {
      "text/plain": [
       "Text(0.5, 1.0, '서울')"
      ]
     },
     "execution_count": 20,
     "metadata": {},
     "output_type": "execute_result"
    },
    {
     "data": {
      "image/png": "[encoded data removed]",
      "text/plain": [
       "<Figure size 1152x360 with 1 Axes>"
      ]
     },
     "metadata": {
      "needs_background": "light"
     },
     "output_type": "display_data"
    }
   ],
   "source": [
    "plt.figure(figsize=(16,5))\n",
    "sns.pointplot(\n",
    "    data = daily_mean_cnt_by_age_spread.drop('USE_CNT' ,axis=1).merge(daily_mean_cnt_by_age_ease.drop('USE_CNT' ,axis=1), on = 'AGE_CD').melt(id_vars=['AGE_CD']),\n",
    "    x = 'variable',\n",
    "    y = 'value',\n",
    "    hue = 'AGE_CD'\n",
    ")\n",
    "plt.title('서울')"
   ]
  },
  {
   "cell_type": "code",
   "execution_count": 21,
   "metadata": {
    "ExecuteTime": {
     "end_time": "2020-09-24T09:25:13.580259Z",
     "start_time": "2020-09-24T09:25:13.564253Z"
    }
   },
   "outputs": [
    {
     "data": {
      "text/html": [
       "<div>\n",
       "<style scoped>\n",
       "    .dataframe tbody tr th:only-of-type {\n",
       "        vertical-align: middle;\n",
       "    }\n",
       "\n",
       "    .dataframe tbody tr th {\n",
       "        vertical-align: top;\n",
       "    }\n",
       "\n",
       "    .dataframe thead th {\n",
       "        text-align: right;\n",
       "    }\n",
       "</style>\n",
       "<table border=\"1\" class=\"dataframe\">\n",
       "  <thead>\n",
       "    <tr style=\"text-align: right;\">\n",
       "      <th></th>\n",
       "      <th>AGE_CD</th>\n",
       "      <th>variable</th>\n",
       "      <th>value</th>\n",
       "    </tr>\n",
       "  </thead>\n",
       "  <tbody>\n",
       "    <tr>\n",
       "      <th>9</th>\n",
       "      <td>65</td>\n",
       "      <td>USE_CNT_RATE_SPREAD</td>\n",
       "      <td>0.256910</td>\n",
       "    </tr>\n",
       "    <tr>\n",
       "      <th>5</th>\n",
       "      <td>45</td>\n",
       "      <td>USE_CNT_RATE_SPREAD</td>\n",
       "      <td>0.268891</td>\n",
       "    </tr>\n",
       "    <tr>\n",
       "      <th>4</th>\n",
       "      <td>40</td>\n",
       "      <td>USE_CNT_RATE_SPREAD</td>\n",
       "      <td>0.278434</td>\n",
       "    </tr>\n",
       "    <tr>\n",
       "      <th>0</th>\n",
       "      <td>20</td>\n",
       "      <td>USE_CNT_RATE_SPREAD</td>\n",
       "      <td>0.295753</td>\n",
       "    </tr>\n",
       "    <tr>\n",
       "      <th>3</th>\n",
       "      <td>35</td>\n",
       "      <td>USE_CNT_RATE_SPREAD</td>\n",
       "      <td>0.325322</td>\n",
       "    </tr>\n",
       "    <tr>\n",
       "      <th>6</th>\n",
       "      <td>50</td>\n",
       "      <td>USE_CNT_RATE_SPREAD</td>\n",
       "      <td>0.340265</td>\n",
       "    </tr>\n",
       "    <tr>\n",
       "      <th>7</th>\n",
       "      <td>55</td>\n",
       "      <td>USE_CNT_RATE_SPREAD</td>\n",
       "      <td>0.345744</td>\n",
       "    </tr>\n",
       "    <tr>\n",
       "      <th>8</th>\n",
       "      <td>60</td>\n",
       "      <td>USE_CNT_RATE_SPREAD</td>\n",
       "      <td>0.363514</td>\n",
       "    </tr>\n",
       "    <tr>\n",
       "      <th>10</th>\n",
       "      <td>20</td>\n",
       "      <td>USE_CNT_RATE_EASE</td>\n",
       "      <td>0.384198</td>\n",
       "    </tr>\n",
       "    <tr>\n",
       "      <th>1</th>\n",
       "      <td>25</td>\n",
       "      <td>USE_CNT_RATE_SPREAD</td>\n",
       "      <td>0.406901</td>\n",
       "    </tr>\n",
       "    <tr>\n",
       "      <th>2</th>\n",
       "      <td>30</td>\n",
       "      <td>USE_CNT_RATE_SPREAD</td>\n",
       "      <td>0.425911</td>\n",
       "    </tr>\n",
       "    <tr>\n",
       "      <th>15</th>\n",
       "      <td>45</td>\n",
       "      <td>USE_CNT_RATE_EASE</td>\n",
       "      <td>0.495438</td>\n",
       "    </tr>\n",
       "    <tr>\n",
       "      <th>14</th>\n",
       "      <td>40</td>\n",
       "      <td>USE_CNT_RATE_EASE</td>\n",
       "      <td>0.535381</td>\n",
       "    </tr>\n",
       "    <tr>\n",
       "      <th>13</th>\n",
       "      <td>35</td>\n",
       "      <td>USE_CNT_RATE_EASE</td>\n",
       "      <td>0.586617</td>\n",
       "    </tr>\n",
       "    <tr>\n",
       "      <th>16</th>\n",
       "      <td>50</td>\n",
       "      <td>USE_CNT_RATE_EASE</td>\n",
       "      <td>0.628203</td>\n",
       "    </tr>\n",
       "    <tr>\n",
       "      <th>11</th>\n",
       "      <td>25</td>\n",
       "      <td>USE_CNT_RATE_EASE</td>\n",
       "      <td>0.629530</td>\n",
       "    </tr>\n",
       "    <tr>\n",
       "      <th>19</th>\n",
       "      <td>65</td>\n",
       "      <td>USE_CNT_RATE_EASE</td>\n",
       "      <td>0.647301</td>\n",
       "    </tr>\n",
       "    <tr>\n",
       "      <th>12</th>\n",
       "      <td>30</td>\n",
       "      <td>USE_CNT_RATE_EASE</td>\n",
       "      <td>0.662486</td>\n",
       "    </tr>\n",
       "    <tr>\n",
       "      <th>17</th>\n",
       "      <td>55</td>\n",
       "      <td>USE_CNT_RATE_EASE</td>\n",
       "      <td>0.663820</td>\n",
       "    </tr>\n",
       "    <tr>\n",
       "      <th>18</th>\n",
       "      <td>60</td>\n",
       "      <td>USE_CNT_RATE_EASE</td>\n",
       "      <td>0.704654</td>\n",
       "    </tr>\n",
       "  </tbody>\n",
       "</table>\n",
       "</div>"
      ],
      "text/plain": [
       "    AGE_CD             variable     value\n",
       "9       65  USE_CNT_RATE_SPREAD  0.256910\n",
       "5       45  USE_CNT_RATE_SPREAD  0.268891\n",
       "4       40  USE_CNT_RATE_SPREAD  0.278434\n",
       "0       20  USE_CNT_RATE_SPREAD  0.295753\n",
       "3       35  USE_CNT_RATE_SPREAD  0.325322\n",
       "6       50  USE_CNT_RATE_SPREAD  0.340265\n",
       "7       55  USE_CNT_RATE_SPREAD  0.345744\n",
       "8       60  USE_CNT_RATE_SPREAD  0.363514\n",
       "10      20    USE_CNT_RATE_EASE  0.384198\n",
       "1       25  USE_CNT_RATE_SPREAD  0.406901\n",
       "2       30  USE_CNT_RATE_SPREAD  0.425911\n",
       "15      45    USE_CNT_RATE_EASE  0.495438\n",
       "14      40    USE_CNT_RATE_EASE  0.535381\n",
       "13      35    USE_CNT_RATE_EASE  0.586617\n",
       "16      50    USE_CNT_RATE_EASE  0.628203\n",
       "11      25    USE_CNT_RATE_EASE  0.629530\n",
       "19      65    USE_CNT_RATE_EASE  0.647301\n",
       "12      30    USE_CNT_RATE_EASE  0.662486\n",
       "17      55    USE_CNT_RATE_EASE  0.663820\n",
       "18      60    USE_CNT_RATE_EASE  0.704654"
      ]
     },
     "execution_count": 21,
     "metadata": {},
     "output_type": "execute_result"
    }
   ],
   "source": [
    "daily_mean_cnt_by_age_spread.drop('USE_CNT' ,axis=1).merge(daily_mean_cnt_by_age_ease.drop('USE_CNT' ,axis=1), on = 'AGE_CD').melt(id_vars=['AGE_CD']).sort_values(by='value')"
   ]
  },
  {
   "cell_type": "code",
   "execution_count": 22,
   "metadata": {
    "ExecuteTime": {
     "end_time": "2020-09-24T09:25:15.090053Z",
     "start_time": "2020-09-24T09:25:15.050080Z"
    }
   },
   "outputs": [],
   "source": [
    "daily_mean_cnt_by_age_normal = card_daegu_clothes.loc[card_daegu_clothes.STD_DD.isin(normal_case)].groupby(['AGE_CD','STD_DD'])['USE_CNT'].sum().reset_index().groupby(['AGE_CD'])['USE_CNT'].mean().reset_index()\n",
    "daily_mean_cnt_by_age_spread = card_daegu_clothes.loc[card_daegu_clothes.STD_DD.isin(covid_spread)].groupby(['AGE_CD','STD_DD'])['USE_CNT'].sum().reset_index().groupby(['AGE_CD'])['USE_CNT'].mean().reset_index()\n",
    "daily_mean_cnt_by_age_ease = card_daegu_clothes.loc[card_daegu_clothes.STD_DD.isin(covid_ease)].groupby(['AGE_CD','STD_DD'])['USE_CNT'].sum().reset_index().groupby(['AGE_CD'])['USE_CNT'].mean().reset_index()\n",
    "\n",
    "daily_mean_cnt_by_age_spread['USE_CNT_RATE_SPREAD']=daily_mean_cnt_by_age_spread.loc[:,'USE_CNT']/daily_mean_cnt_by_age_normal.USE_CNT\n",
    "daily_mean_cnt_by_age_ease['USE_CNT_RATE_EASE']=daily_mean_cnt_by_age_ease.loc[:,'USE_CNT']/daily_mean_cnt_by_age_normal.USE_CNT"
   ]
  },
  {
   "cell_type": "code",
   "execution_count": 23,
   "metadata": {
    "ExecuteTime": {
     "end_time": "2020-09-24T09:25:16.012773Z",
     "start_time": "2020-09-24T09:25:15.735688Z"
    }
   },
   "outputs": [
    {
     "data": {
      "text/plain": [
       "Text(0.5, 1.0, '대구')"
      ]
     },
     "execution_count": 23,
     "metadata": {},
     "output_type": "execute_result"
    },
    {
     "data": {
      "image/png": "[encoded data removed]",
      "text/plain": [
       "<Figure size 1152x360 with 1 Axes>"
      ]
     },
     "metadata": {
      "needs_background": "light"
     },
     "output_type": "display_data"
    }
   ],
   "source": [
    "plt.figure(figsize=(16,5))\n",
    "sns.pointplot(\n",
    "    data = daily_mean_cnt_by_age_spread.drop('USE_CNT' ,axis=1).merge(daily_mean_cnt_by_age_ease.drop('USE_CNT' ,axis=1), on = 'AGE_CD').melt(id_vars=['AGE_CD']),\n",
    "    x = 'variable',\n",
    "    y = 'value',\n",
    "    hue = 'AGE_CD'\n",
    ")\n",
    "plt.title('대구')"
   ]
  },
  {
   "cell_type": "code",
   "execution_count": 24,
   "metadata": {
    "ExecuteTime": {
     "end_time": "2020-09-24T09:25:16.918929Z",
     "start_time": "2020-09-24T09:25:16.902900Z"
    }
   },
   "outputs": [
    {
     "data": {
      "text/html": [
       "<div>\n",
       "<style scoped>\n",
       "    .dataframe tbody tr th:only-of-type {\n",
       "        vertical-align: middle;\n",
       "    }\n",
       "\n",
       "    .dataframe tbody tr th {\n",
       "        vertical-align: top;\n",
       "    }\n",
       "\n",
       "    .dataframe thead th {\n",
       "        text-align: right;\n",
       "    }\n",
       "</style>\n",
       "<table border=\"1\" class=\"dataframe\">\n",
       "  <thead>\n",
       "    <tr style=\"text-align: right;\">\n",
       "      <th></th>\n",
       "      <th>AGE_CD</th>\n",
       "      <th>variable</th>\n",
       "      <th>value</th>\n",
       "    </tr>\n",
       "  </thead>\n",
       "  <tbody>\n",
       "    <tr>\n",
       "      <th>0</th>\n",
       "      <td>20</td>\n",
       "      <td>USE_CNT_RATE_SPREAD</td>\n",
       "      <td>0.070424</td>\n",
       "    </tr>\n",
       "    <tr>\n",
       "      <th>5</th>\n",
       "      <td>45</td>\n",
       "      <td>USE_CNT_RATE_SPREAD</td>\n",
       "      <td>0.078478</td>\n",
       "    </tr>\n",
       "    <tr>\n",
       "      <th>6</th>\n",
       "      <td>50</td>\n",
       "      <td>USE_CNT_RATE_SPREAD</td>\n",
       "      <td>0.088519</td>\n",
       "    </tr>\n",
       "    <tr>\n",
       "      <th>4</th>\n",
       "      <td>40</td>\n",
       "      <td>USE_CNT_RATE_SPREAD</td>\n",
       "      <td>0.091797</td>\n",
       "    </tr>\n",
       "    <tr>\n",
       "      <th>7</th>\n",
       "      <td>55</td>\n",
       "      <td>USE_CNT_RATE_SPREAD</td>\n",
       "      <td>0.101277</td>\n",
       "    </tr>\n",
       "    <tr>\n",
       "      <th>2</th>\n",
       "      <td>30</td>\n",
       "      <td>USE_CNT_RATE_SPREAD</td>\n",
       "      <td>0.109984</td>\n",
       "    </tr>\n",
       "    <tr>\n",
       "      <th>9</th>\n",
       "      <td>65</td>\n",
       "      <td>USE_CNT_RATE_SPREAD</td>\n",
       "      <td>0.112863</td>\n",
       "    </tr>\n",
       "    <tr>\n",
       "      <th>3</th>\n",
       "      <td>35</td>\n",
       "      <td>USE_CNT_RATE_SPREAD</td>\n",
       "      <td>0.113069</td>\n",
       "    </tr>\n",
       "    <tr>\n",
       "      <th>1</th>\n",
       "      <td>25</td>\n",
       "      <td>USE_CNT_RATE_SPREAD</td>\n",
       "      <td>0.129536</td>\n",
       "    </tr>\n",
       "    <tr>\n",
       "      <th>8</th>\n",
       "      <td>60</td>\n",
       "      <td>USE_CNT_RATE_SPREAD</td>\n",
       "      <td>0.129673</td>\n",
       "    </tr>\n",
       "    <tr>\n",
       "      <th>10</th>\n",
       "      <td>20</td>\n",
       "      <td>USE_CNT_RATE_EASE</td>\n",
       "      <td>0.324615</td>\n",
       "    </tr>\n",
       "    <tr>\n",
       "      <th>15</th>\n",
       "      <td>45</td>\n",
       "      <td>USE_CNT_RATE_EASE</td>\n",
       "      <td>0.360178</td>\n",
       "    </tr>\n",
       "    <tr>\n",
       "      <th>14</th>\n",
       "      <td>40</td>\n",
       "      <td>USE_CNT_RATE_EASE</td>\n",
       "      <td>0.393838</td>\n",
       "    </tr>\n",
       "    <tr>\n",
       "      <th>16</th>\n",
       "      <td>50</td>\n",
       "      <td>USE_CNT_RATE_EASE</td>\n",
       "      <td>0.410907</td>\n",
       "    </tr>\n",
       "    <tr>\n",
       "      <th>17</th>\n",
       "      <td>55</td>\n",
       "      <td>USE_CNT_RATE_EASE</td>\n",
       "      <td>0.498825</td>\n",
       "    </tr>\n",
       "    <tr>\n",
       "      <th>13</th>\n",
       "      <td>35</td>\n",
       "      <td>USE_CNT_RATE_EASE</td>\n",
       "      <td>0.499320</td>\n",
       "    </tr>\n",
       "    <tr>\n",
       "      <th>12</th>\n",
       "      <td>30</td>\n",
       "      <td>USE_CNT_RATE_EASE</td>\n",
       "      <td>0.523329</td>\n",
       "    </tr>\n",
       "    <tr>\n",
       "      <th>11</th>\n",
       "      <td>25</td>\n",
       "      <td>USE_CNT_RATE_EASE</td>\n",
       "      <td>0.528696</td>\n",
       "    </tr>\n",
       "    <tr>\n",
       "      <th>19</th>\n",
       "      <td>65</td>\n",
       "      <td>USE_CNT_RATE_EASE</td>\n",
       "      <td>0.561717</td>\n",
       "    </tr>\n",
       "    <tr>\n",
       "      <th>18</th>\n",
       "      <td>60</td>\n",
       "      <td>USE_CNT_RATE_EASE</td>\n",
       "      <td>0.562573</td>\n",
       "    </tr>\n",
       "  </tbody>\n",
       "</table>\n",
       "</div>"
      ],
      "text/plain": [
       "    AGE_CD             variable     value\n",
       "0       20  USE_CNT_RATE_SPREAD  0.070424\n",
       "5       45  USE_CNT_RATE_SPREAD  0.078478\n",
       "6       50  USE_CNT_RATE_SPREAD  0.088519\n",
       "4       40  USE_CNT_RATE_SPREAD  0.091797\n",
       "7       55  USE_CNT_RATE_SPREAD  0.101277\n",
       "2       30  USE_CNT_RATE_SPREAD  0.109984\n",
       "9       65  USE_CNT_RATE_SPREAD  0.112863\n",
       "3       35  USE_CNT_RATE_SPREAD  0.113069\n",
       "1       25  USE_CNT_RATE_SPREAD  0.129536\n",
       "8       60  USE_CNT_RATE_SPREAD  0.129673\n",
       "10      20    USE_CNT_RATE_EASE  0.324615\n",
       "15      45    USE_CNT_RATE_EASE  0.360178\n",
       "14      40    USE_CNT_RATE_EASE  0.393838\n",
       "16      50    USE_CNT_RATE_EASE  0.410907\n",
       "17      55    USE_CNT_RATE_EASE  0.498825\n",
       "13      35    USE_CNT_RATE_EASE  0.499320\n",
       "12      30    USE_CNT_RATE_EASE  0.523329\n",
       "11      25    USE_CNT_RATE_EASE  0.528696\n",
       "19      65    USE_CNT_RATE_EASE  0.561717\n",
       "18      60    USE_CNT_RATE_EASE  0.562573"
      ]
     },
     "execution_count": 24,
     "metadata": {},
     "output_type": "execute_result"
    }
   ],
   "source": [
    "daily_mean_cnt_by_age_spread.drop('USE_CNT' ,axis=1).merge(daily_mean_cnt_by_age_ease.drop('USE_CNT' ,axis=1), on = 'AGE_CD').melt(id_vars=['AGE_CD']).sort_values(by='value')"
   ]
  },
  {
   "cell_type": "markdown",
   "metadata": {},
   "source": [
    "* 확산기에 매우 큰 폭으로 소비횟수가 감소함\n",
    "* "
   ]
  },
  {
   "cell_type": "code",
   "execution_count": 25,
   "metadata": {
    "ExecuteTime": {
     "end_time": "2020-09-24T09:25:19.895268Z",
     "start_time": "2020-09-24T09:25:19.831311Z"
    }
   },
   "outputs": [
    {
     "data": {
      "text/html": [
       "<div>\n",
       "<style scoped>\n",
       "    .dataframe tbody tr th:only-of-type {\n",
       "        vertical-align: middle;\n",
       "    }\n",
       "\n",
       "    .dataframe tbody tr th {\n",
       "        vertical-align: top;\n",
       "    }\n",
       "\n",
       "    .dataframe thead th {\n",
       "        text-align: right;\n",
       "    }\n",
       "</style>\n",
       "<table border=\"1\" class=\"dataframe\">\n",
       "  <thead>\n",
       "    <tr style=\"text-align: right;\">\n",
       "      <th>AGE_CD</th>\n",
       "      <th>20</th>\n",
       "      <th>25</th>\n",
       "      <th>30</th>\n",
       "      <th>35</th>\n",
       "      <th>40</th>\n",
       "      <th>45</th>\n",
       "      <th>50</th>\n",
       "      <th>55</th>\n",
       "      <th>60</th>\n",
       "      <th>65</th>\n",
       "    </tr>\n",
       "    <tr>\n",
       "      <th>row_0</th>\n",
       "      <th></th>\n",
       "      <th></th>\n",
       "      <th></th>\n",
       "      <th></th>\n",
       "      <th></th>\n",
       "      <th></th>\n",
       "      <th></th>\n",
       "      <th></th>\n",
       "      <th></th>\n",
       "      <th></th>\n",
       "    </tr>\n",
       "  </thead>\n",
       "  <tbody>\n",
       "    <tr>\n",
       "      <th>normal_case</th>\n",
       "      <td>0.155053</td>\n",
       "      <td>0.159625</td>\n",
       "      <td>0.101524</td>\n",
       "      <td>0.091881</td>\n",
       "      <td>0.087338</td>\n",
       "      <td>0.113482</td>\n",
       "      <td>0.091242</td>\n",
       "      <td>0.070833</td>\n",
       "      <td>0.055306</td>\n",
       "      <td>0.073716</td>\n",
       "    </tr>\n",
       "    <tr>\n",
       "      <th>covid_spread</th>\n",
       "      <td>0.137565</td>\n",
       "      <td>0.194844</td>\n",
       "      <td>0.129714</td>\n",
       "      <td>0.089668</td>\n",
       "      <td>0.072950</td>\n",
       "      <td>0.091538</td>\n",
       "      <td>0.093134</td>\n",
       "      <td>0.073466</td>\n",
       "      <td>0.060310</td>\n",
       "      <td>0.056812</td>\n",
       "    </tr>\n",
       "    <tr>\n",
       "      <th>covid_ease</th>\n",
       "      <td>0.103561</td>\n",
       "      <td>0.174695</td>\n",
       "      <td>0.116925</td>\n",
       "      <td>0.093700</td>\n",
       "      <td>0.081288</td>\n",
       "      <td>0.097741</td>\n",
       "      <td>0.099645</td>\n",
       "      <td>0.081742</td>\n",
       "      <td>0.067750</td>\n",
       "      <td>0.082953</td>\n",
       "    </tr>\n",
       "  </tbody>\n",
       "</table>\n",
       "</div>"
      ],
      "text/plain": [
       "AGE_CD              20        25        30        35        40        45  \\\n",
       "row_0                                                                      \n",
       "normal_case   0.155053  0.159625  0.101524  0.091881  0.087338  0.113482   \n",
       "covid_spread  0.137565  0.194844  0.129714  0.089668  0.072950  0.091538   \n",
       "covid_ease    0.103561  0.174695  0.116925  0.093700  0.081288  0.097741   \n",
       "\n",
       "AGE_CD              50        55        60        65  \n",
       "row_0                                                 \n",
       "normal_case   0.091242  0.070833  0.055306  0.073716  \n",
       "covid_spread  0.093134  0.073466  0.060310  0.056812  \n",
       "covid_ease    0.099645  0.081742  0.067750  0.082953  "
      ]
     },
     "execution_count": 25,
     "metadata": {},
     "output_type": "execute_result"
    }
   ],
   "source": [
    "tmp1 = card_seoul_clothes.loc[card_seoul_clothes.STD_DD.isin(normal_case)].groupby(['AGE_CD'])['USE_CNT'].sum().reset_index()\n",
    "tmp2 = card_seoul_clothes.loc[card_seoul_clothes.STD_DD.isin(covid_spread)].groupby(['AGE_CD'])['USE_CNT'].sum().reset_index()\n",
    "tmp3 = card_seoul_clothes.loc[card_seoul_clothes.STD_DD.isin(covid_ease)].groupby(['AGE_CD'])['USE_CNT'].sum().reset_index()\n",
    "\n",
    "pd.concat([\n",
    "pd.crosstab(index='normal_case', columns=tmp1.AGE_CD, values=tmp1.USE_CNT, aggfunc=sum, normalize='index'),\n",
    "pd.crosstab(index='covid_spread', columns=tmp2.AGE_CD, values=tmp2.USE_CNT, aggfunc=sum, normalize='index'),\n",
    "pd.crosstab(index='covid_ease', columns=tmp3.AGE_CD, values=tmp3.USE_CNT, aggfunc=sum, normalize='index')]\n",
    ")"
   ]
  },
  {
   "cell_type": "code",
   "execution_count": 26,
   "metadata": {
    "ExecuteTime": {
     "end_time": "2020-09-24T09:25:21.037489Z",
     "start_time": "2020-09-24T09:25:20.981476Z"
    }
   },
   "outputs": [
    {
     "data": {
      "text/html": [
       "<div>\n",
       "<style scoped>\n",
       "    .dataframe tbody tr th:only-of-type {\n",
       "        vertical-align: middle;\n",
       "    }\n",
       "\n",
       "    .dataframe tbody tr th {\n",
       "        vertical-align: top;\n",
       "    }\n",
       "\n",
       "    .dataframe thead th {\n",
       "        text-align: right;\n",
       "    }\n",
       "</style>\n",
       "<table border=\"1\" class=\"dataframe\">\n",
       "  <thead>\n",
       "    <tr style=\"text-align: right;\">\n",
       "      <th>AGE_CD</th>\n",
       "      <th>20</th>\n",
       "      <th>25</th>\n",
       "      <th>30</th>\n",
       "      <th>35</th>\n",
       "      <th>40</th>\n",
       "      <th>45</th>\n",
       "      <th>50</th>\n",
       "      <th>55</th>\n",
       "      <th>60</th>\n",
       "      <th>65</th>\n",
       "    </tr>\n",
       "    <tr>\n",
       "      <th>row_0</th>\n",
       "      <th></th>\n",
       "      <th></th>\n",
       "      <th></th>\n",
       "      <th></th>\n",
       "      <th></th>\n",
       "      <th></th>\n",
       "      <th></th>\n",
       "      <th></th>\n",
       "      <th></th>\n",
       "      <th></th>\n",
       "    </tr>\n",
       "  </thead>\n",
       "  <tbody>\n",
       "    <tr>\n",
       "      <th>normal_case</th>\n",
       "      <td>168302</td>\n",
       "      <td>173265</td>\n",
       "      <td>110199</td>\n",
       "      <td>99732</td>\n",
       "      <td>94801</td>\n",
       "      <td>123179</td>\n",
       "      <td>99038</td>\n",
       "      <td>76885</td>\n",
       "      <td>60032</td>\n",
       "      <td>80015</td>\n",
       "    </tr>\n",
       "    <tr>\n",
       "      <th>covid_spread</th>\n",
       "      <td>8533</td>\n",
       "      <td>12086</td>\n",
       "      <td>8046</td>\n",
       "      <td>5562</td>\n",
       "      <td>4525</td>\n",
       "      <td>5678</td>\n",
       "      <td>5777</td>\n",
       "      <td>4557</td>\n",
       "      <td>3741</td>\n",
       "      <td>3524</td>\n",
       "    </tr>\n",
       "    <tr>\n",
       "      <th>covid_ease</th>\n",
       "      <td>20784</td>\n",
       "      <td>35060</td>\n",
       "      <td>23466</td>\n",
       "      <td>18805</td>\n",
       "      <td>16314</td>\n",
       "      <td>19616</td>\n",
       "      <td>19998</td>\n",
       "      <td>16405</td>\n",
       "      <td>13597</td>\n",
       "      <td>16648</td>\n",
       "    </tr>\n",
       "  </tbody>\n",
       "</table>\n",
       "</div>"
      ],
      "text/plain": [
       "AGE_CD            20      25      30     35     40      45     50     55  \\\n",
       "row_0                                                                      \n",
       "normal_case   168302  173265  110199  99732  94801  123179  99038  76885   \n",
       "covid_spread    8533   12086    8046   5562   4525    5678   5777   4557   \n",
       "covid_ease     20784   35060   23466  18805  16314   19616  19998  16405   \n",
       "\n",
       "AGE_CD           60     65  \n",
       "row_0                       \n",
       "normal_case   60032  80015  \n",
       "covid_spread   3741   3524  \n",
       "covid_ease    13597  16648  "
      ]
     },
     "execution_count": 26,
     "metadata": {},
     "output_type": "execute_result"
    }
   ],
   "source": [
    "tmp1 = card_seoul_clothes.loc[card_seoul_clothes.STD_DD.isin(normal_case)].groupby(['AGE_CD'])['USE_CNT'].sum().reset_index()\n",
    "tmp2 = card_seoul_clothes.loc[card_seoul_clothes.STD_DD.isin(covid_spread)].groupby(['AGE_CD'])['USE_CNT'].sum().reset_index()\n",
    "tmp3 = card_seoul_clothes.loc[card_seoul_clothes.STD_DD.isin(covid_ease)].groupby(['AGE_CD'])['USE_CNT'].sum().reset_index()\n",
    "\n",
    "pd.concat([\n",
    "pd.crosstab(index='normal_case', columns=tmp1.AGE_CD, values=tmp1.USE_CNT, aggfunc=sum),\n",
    "pd.crosstab(index='covid_spread', columns=tmp2.AGE_CD, values=tmp2.USE_CNT, aggfunc=sum),\n",
    "pd.crosstab(index='covid_ease', columns=tmp3.AGE_CD, values=tmp3.USE_CNT, aggfunc=sum)]\n",
    ")"
   ]
  },
  {
   "cell_type": "code",
   "execution_count": 27,
   "metadata": {
    "ExecuteTime": {
     "end_time": "2020-09-24T09:25:21.671392Z",
     "start_time": "2020-09-24T09:25:21.607422Z"
    }
   },
   "outputs": [
    {
     "data": {
      "text/html": [
       "<div>\n",
       "<style scoped>\n",
       "    .dataframe tbody tr th:only-of-type {\n",
       "        vertical-align: middle;\n",
       "    }\n",
       "\n",
       "    .dataframe tbody tr th {\n",
       "        vertical-align: top;\n",
       "    }\n",
       "\n",
       "    .dataframe thead th {\n",
       "        text-align: right;\n",
       "    }\n",
       "</style>\n",
       "<table border=\"1\" class=\"dataframe\">\n",
       "  <thead>\n",
       "    <tr style=\"text-align: right;\">\n",
       "      <th>SEX_CD</th>\n",
       "      <th>F</th>\n",
       "      <th>M</th>\n",
       "    </tr>\n",
       "    <tr>\n",
       "      <th>row_0</th>\n",
       "      <th></th>\n",
       "      <th></th>\n",
       "    </tr>\n",
       "  </thead>\n",
       "  <tbody>\n",
       "    <tr>\n",
       "      <th>normal_case</th>\n",
       "      <td>0.692136</td>\n",
       "      <td>0.307864</td>\n",
       "    </tr>\n",
       "    <tr>\n",
       "      <th>covid_spread</th>\n",
       "      <td>0.629673</td>\n",
       "      <td>0.370327</td>\n",
       "    </tr>\n",
       "    <tr>\n",
       "      <th>covid_ease</th>\n",
       "      <td>0.649081</td>\n",
       "      <td>0.350919</td>\n",
       "    </tr>\n",
       "  </tbody>\n",
       "</table>\n",
       "</div>"
      ],
      "text/plain": [
       "SEX_CD               F         M\n",
       "row_0                           \n",
       "normal_case   0.692136  0.307864\n",
       "covid_spread  0.629673  0.370327\n",
       "covid_ease    0.649081  0.350919"
      ]
     },
     "execution_count": 27,
     "metadata": {},
     "output_type": "execute_result"
    }
   ],
   "source": [
    "tmp1 = card_seoul_clothes.loc[card_seoul_clothes.STD_DD.isin(normal_case)].groupby(['SEX_CD'])['USE_CNT'].sum().reset_index()\n",
    "tmp2 = card_seoul_clothes.loc[card_seoul_clothes.STD_DD.isin(covid_spread)].groupby(['SEX_CD'])['USE_CNT'].sum().reset_index()\n",
    "tmp3 = card_seoul_clothes.loc[card_seoul_clothes.STD_DD.isin(covid_ease)].groupby(['SEX_CD'])['USE_CNT'].sum().reset_index()\n",
    "\n",
    "pd.concat([\n",
    "pd.crosstab(index='normal_case', columns=tmp1.SEX_CD, values=tmp1.USE_CNT, aggfunc=sum, normalize='index'),\n",
    "pd.crosstab(index='covid_spread', columns=tmp2.SEX_CD, values=tmp2.USE_CNT, aggfunc=sum, normalize='index'),\n",
    "pd.crosstab(index='covid_ease', columns=tmp3.SEX_CD, values=tmp3.USE_CNT, aggfunc=sum, normalize='index')]\n",
    ")"
   ]
  },
  {
   "cell_type": "markdown",
   "metadata": {},
   "source": [
    "* 의복의 경우 여성이 남성에 비해 코로나에 영향을 더 많이 받음 "
   ]
  },
  {
   "cell_type": "code",
   "execution_count": 28,
   "metadata": {
    "ExecuteTime": {
     "end_time": "2020-09-24T09:25:24.030366Z",
     "start_time": "2020-09-24T09:25:23.974377Z"
    }
   },
   "outputs": [
    {
     "data": {
      "text/html": [
       "<div>\n",
       "<style scoped>\n",
       "    .dataframe tbody tr th:only-of-type {\n",
       "        vertical-align: middle;\n",
       "    }\n",
       "\n",
       "    .dataframe tbody tr th {\n",
       "        vertical-align: top;\n",
       "    }\n",
       "\n",
       "    .dataframe thead th {\n",
       "        text-align: right;\n",
       "    }\n",
       "</style>\n",
       "<table border=\"1\" class=\"dataframe\">\n",
       "  <thead>\n",
       "    <tr style=\"text-align: right;\">\n",
       "      <th>SEX_CD</th>\n",
       "      <th>F</th>\n",
       "      <th>M</th>\n",
       "    </tr>\n",
       "    <tr>\n",
       "      <th>row_0</th>\n",
       "      <th></th>\n",
       "      <th></th>\n",
       "    </tr>\n",
       "  </thead>\n",
       "  <tbody>\n",
       "    <tr>\n",
       "      <th>normal_case</th>\n",
       "      <td>751278</td>\n",
       "      <td>334170</td>\n",
       "    </tr>\n",
       "    <tr>\n",
       "      <th>covid_spread</th>\n",
       "      <td>39058</td>\n",
       "      <td>22971</td>\n",
       "    </tr>\n",
       "    <tr>\n",
       "      <th>covid_ease</th>\n",
       "      <td>130266</td>\n",
       "      <td>70427</td>\n",
       "    </tr>\n",
       "  </tbody>\n",
       "</table>\n",
       "</div>"
      ],
      "text/plain": [
       "SEX_CD             F       M\n",
       "row_0                       \n",
       "normal_case   751278  334170\n",
       "covid_spread   39058   22971\n",
       "covid_ease    130266   70427"
      ]
     },
     "execution_count": 28,
     "metadata": {},
     "output_type": "execute_result"
    }
   ],
   "source": [
    "tmp1 = card_seoul_clothes.loc[card_seoul_clothes.STD_DD.isin(normal_case)].groupby(['SEX_CD'])['USE_CNT'].sum().reset_index()\n",
    "tmp2 = card_seoul_clothes.loc[card_seoul_clothes.STD_DD.isin(covid_spread)].groupby(['SEX_CD'])['USE_CNT'].sum().reset_index()\n",
    "tmp3 = card_seoul_clothes.loc[card_seoul_clothes.STD_DD.isin(covid_ease)].groupby(['SEX_CD'])['USE_CNT'].sum().reset_index()\n",
    "\n",
    "pd.concat([\n",
    "pd.crosstab(index='normal_case', columns=tmp1.SEX_CD, values=tmp1.USE_CNT, aggfunc=sum),\n",
    "pd.crosstab(index='covid_spread', columns=tmp2.SEX_CD, values=tmp2.USE_CNT, aggfunc=sum),\n",
    "pd.crosstab(index='covid_ease', columns=tmp3.SEX_CD, values=tmp3.USE_CNT, aggfunc=sum)]\n",
    ")"
   ]
  },
  {
   "cell_type": "code",
   "execution_count": 29,
   "metadata": {
    "ExecuteTime": {
     "end_time": "2020-09-24T09:25:24.581740Z",
     "start_time": "2020-09-24T09:25:24.541752Z"
    }
   },
   "outputs": [
    {
     "data": {
      "text/html": [
       "<table><tr style=\"background-color:white;\"><td><div>\n",
       "<style scoped>\n",
       "    .dataframe tbody tr th:only-of-type {\n",
       "        vertical-align: middle;\n",
       "    }\n",
       "\n",
       "    .dataframe tbody tr th {\n",
       "        vertical-align: top;\n",
       "    }\n",
       "\n",
       "    .dataframe thead th {\n",
       "        text-align: right;\n",
       "    }\n",
       "</style>\n",
       "<table border=\"1\" class=\"dataframe\">\n",
       "  <thead>\n",
       "    <tr style=\"text-align: right;\">\n",
       "      <th>SEX_CD</th>\n",
       "      <th>F</th>\n",
       "      <th>M</th>\n",
       "    </tr>\n",
       "    <tr>\n",
       "      <th>AGE_CD</th>\n",
       "      <th></th>\n",
       "      <th></th>\n",
       "    </tr>\n",
       "  </thead>\n",
       "  <tbody>\n",
       "    <tr>\n",
       "      <th>20</th>\n",
       "      <td>0.169245</td>\n",
       "      <td>0.123147</td>\n",
       "    </tr>\n",
       "    <tr>\n",
       "      <th>25</th>\n",
       "      <td>0.150397</td>\n",
       "      <td>0.180372</td>\n",
       "    </tr>\n",
       "    <tr>\n",
       "      <th>30</th>\n",
       "      <td>0.095129</td>\n",
       "      <td>0.115902</td>\n",
       "    </tr>\n",
       "    <tr>\n",
       "      <th>35</th>\n",
       "      <td>0.087148</td>\n",
       "      <td>0.102523</td>\n",
       "    </tr>\n",
       "    <tr>\n",
       "      <th>40</th>\n",
       "      <td>0.085864</td>\n",
       "      <td>0.090651</td>\n",
       "    </tr>\n",
       "    <tr>\n",
       "      <th>45</th>\n",
       "      <td>0.111354</td>\n",
       "      <td>0.118266</td>\n",
       "    </tr>\n",
       "    <tr>\n",
       "      <th>50</th>\n",
       "      <td>0.090560</td>\n",
       "      <td>0.092773</td>\n",
       "    </tr>\n",
       "    <tr>\n",
       "      <th>55</th>\n",
       "      <td>0.073343</td>\n",
       "      <td>0.065188</td>\n",
       "    </tr>\n",
       "    <tr>\n",
       "      <th>60</th>\n",
       "      <td>0.060400</td>\n",
       "      <td>0.043855</td>\n",
       "    </tr>\n",
       "    <tr>\n",
       "      <th>65</th>\n",
       "      <td>0.076560</td>\n",
       "      <td>0.067322</td>\n",
       "    </tr>\n",
       "  </tbody>\n",
       "</table>\n",
       "</div></td><td><div>\n",
       "<style scoped>\n",
       "    .dataframe tbody tr th:only-of-type {\n",
       "        vertical-align: middle;\n",
       "    }\n",
       "\n",
       "    .dataframe tbody tr th {\n",
       "        vertical-align: top;\n",
       "    }\n",
       "\n",
       "    .dataframe thead th {\n",
       "        text-align: right;\n",
       "    }\n",
       "</style>\n",
       "<table border=\"1\" class=\"dataframe\">\n",
       "  <thead>\n",
       "    <tr style=\"text-align: right;\">\n",
       "      <th>SEX_CD</th>\n",
       "      <th>F</th>\n",
       "      <th>M</th>\n",
       "    </tr>\n",
       "    <tr>\n",
       "      <th>AGE_CD</th>\n",
       "      <th></th>\n",
       "      <th></th>\n",
       "    </tr>\n",
       "  </thead>\n",
       "  <tbody>\n",
       "    <tr>\n",
       "      <th>20</th>\n",
       "      <td>0.755487</td>\n",
       "      <td>0.244513</td>\n",
       "    </tr>\n",
       "    <tr>\n",
       "      <th>25</th>\n",
       "      <td>0.652122</td>\n",
       "      <td>0.347878</td>\n",
       "    </tr>\n",
       "    <tr>\n",
       "      <th>30</th>\n",
       "      <td>0.648536</td>\n",
       "      <td>0.351464</td>\n",
       "    </tr>\n",
       "    <tr>\n",
       "      <th>35</th>\n",
       "      <td>0.656479</td>\n",
       "      <td>0.343521</td>\n",
       "    </tr>\n",
       "    <tr>\n",
       "      <th>40</th>\n",
       "      <td>0.680457</td>\n",
       "      <td>0.319543</td>\n",
       "    </tr>\n",
       "    <tr>\n",
       "      <th>45</th>\n",
       "      <td>0.679158</td>\n",
       "      <td>0.320842</td>\n",
       "    </tr>\n",
       "    <tr>\n",
       "      <th>50</th>\n",
       "      <td>0.686969</td>\n",
       "      <td>0.313031</td>\n",
       "    </tr>\n",
       "    <tr>\n",
       "      <th>55</th>\n",
       "      <td>0.716668</td>\n",
       "      <td>0.283332</td>\n",
       "    </tr>\n",
       "    <tr>\n",
       "      <th>60</th>\n",
       "      <td>0.755880</td>\n",
       "      <td>0.244120</td>\n",
       "    </tr>\n",
       "    <tr>\n",
       "      <th>65</th>\n",
       "      <td>0.718840</td>\n",
       "      <td>0.281160</td>\n",
       "    </tr>\n",
       "  </tbody>\n",
       "</table>\n",
       "</div></td></tr></table>"
      ],
      "text/plain": [
       "<IPython.core.display.HTML object>"
      ]
     },
     "execution_count": 29,
     "metadata": {},
     "output_type": "execute_result"
    }
   ],
   "source": [
    "tmp=card_seoul_clothes.loc[card_seoul_clothes.STD_DD.isin(normal_case)].groupby(['SEX_CD','AGE_CD'])['USE_CNT'].sum().reset_index()\n",
    "\n",
    "multi_table(\n",
    "[pd.crosstab(tmp.AGE_CD, tmp.SEX_CD, tmp.USE_CNT, aggfunc=sum, normalize='columns'),\n",
    "pd.crosstab(tmp.AGE_CD, tmp.SEX_CD, tmp.USE_CNT, aggfunc=sum, normalize='index')]\n",
    ")"
   ]
  },
  {
   "cell_type": "code",
   "execution_count": 30,
   "metadata": {
    "ExecuteTime": {
     "end_time": "2020-09-24T09:25:25.176432Z",
     "start_time": "2020-09-24T09:25:25.136409Z"
    }
   },
   "outputs": [
    {
     "data": {
      "text/html": [
       "<table><tr style=\"background-color:white;\"><td><div>\n",
       "<style scoped>\n",
       "    .dataframe tbody tr th:only-of-type {\n",
       "        vertical-align: middle;\n",
       "    }\n",
       "\n",
       "    .dataframe tbody tr th {\n",
       "        vertical-align: top;\n",
       "    }\n",
       "\n",
       "    .dataframe thead th {\n",
       "        text-align: right;\n",
       "    }\n",
       "</style>\n",
       "<table border=\"1\" class=\"dataframe\">\n",
       "  <thead>\n",
       "    <tr style=\"text-align: right;\">\n",
       "      <th>SEX_CD</th>\n",
       "      <th>F</th>\n",
       "      <th>M</th>\n",
       "    </tr>\n",
       "    <tr>\n",
       "      <th>AGE_CD</th>\n",
       "      <th></th>\n",
       "      <th></th>\n",
       "    </tr>\n",
       "  </thead>\n",
       "  <tbody>\n",
       "    <tr>\n",
       "      <th>20</th>\n",
       "      <td>0.153208</td>\n",
       "      <td>0.110966</td>\n",
       "    </tr>\n",
       "    <tr>\n",
       "      <th>25</th>\n",
       "      <td>0.178197</td>\n",
       "      <td>0.223151</td>\n",
       "    </tr>\n",
       "    <tr>\n",
       "      <th>30</th>\n",
       "      <td>0.107737</td>\n",
       "      <td>0.167080</td>\n",
       "    </tr>\n",
       "    <tr>\n",
       "      <th>35</th>\n",
       "      <td>0.081417</td>\n",
       "      <td>0.103696</td>\n",
       "    </tr>\n",
       "    <tr>\n",
       "      <th>40</th>\n",
       "      <td>0.072328</td>\n",
       "      <td>0.074006</td>\n",
       "    </tr>\n",
       "    <tr>\n",
       "      <th>45</th>\n",
       "      <td>0.096011</td>\n",
       "      <td>0.083932</td>\n",
       "    </tr>\n",
       "    <tr>\n",
       "      <th>50</th>\n",
       "      <td>0.097342</td>\n",
       "      <td>0.085978</td>\n",
       "    </tr>\n",
       "    <tr>\n",
       "      <th>55</th>\n",
       "      <td>0.083440</td>\n",
       "      <td>0.056506</td>\n",
       "    </tr>\n",
       "    <tr>\n",
       "      <th>60</th>\n",
       "      <td>0.069614</td>\n",
       "      <td>0.044491</td>\n",
       "    </tr>\n",
       "    <tr>\n",
       "      <th>65</th>\n",
       "      <td>0.060705</td>\n",
       "      <td>0.050194</td>\n",
       "    </tr>\n",
       "  </tbody>\n",
       "</table>\n",
       "</div></td><td><div>\n",
       "<style scoped>\n",
       "    .dataframe tbody tr th:only-of-type {\n",
       "        vertical-align: middle;\n",
       "    }\n",
       "\n",
       "    .dataframe tbody tr th {\n",
       "        vertical-align: top;\n",
       "    }\n",
       "\n",
       "    .dataframe thead th {\n",
       "        text-align: right;\n",
       "    }\n",
       "</style>\n",
       "<table border=\"1\" class=\"dataframe\">\n",
       "  <thead>\n",
       "    <tr style=\"text-align: right;\">\n",
       "      <th>SEX_CD</th>\n",
       "      <th>F</th>\n",
       "      <th>M</th>\n",
       "    </tr>\n",
       "    <tr>\n",
       "      <th>AGE_CD</th>\n",
       "      <th></th>\n",
       "      <th></th>\n",
       "    </tr>\n",
       "  </thead>\n",
       "  <tbody>\n",
       "    <tr>\n",
       "      <th>20</th>\n",
       "      <td>0.701277</td>\n",
       "      <td>0.298723</td>\n",
       "    </tr>\n",
       "    <tr>\n",
       "      <th>25</th>\n",
       "      <td>0.575873</td>\n",
       "      <td>0.424127</td>\n",
       "    </tr>\n",
       "    <tr>\n",
       "      <th>30</th>\n",
       "      <td>0.522993</td>\n",
       "      <td>0.477007</td>\n",
       "    </tr>\n",
       "    <tr>\n",
       "      <th>35</th>\n",
       "      <td>0.571737</td>\n",
       "      <td>0.428263</td>\n",
       "    </tr>\n",
       "    <tr>\n",
       "      <th>40</th>\n",
       "      <td>0.624309</td>\n",
       "      <td>0.375691</td>\n",
       "    </tr>\n",
       "    <tr>\n",
       "      <th>45</th>\n",
       "      <td>0.660444</td>\n",
       "      <td>0.339556</td>\n",
       "    </tr>\n",
       "    <tr>\n",
       "      <th>50</th>\n",
       "      <td>0.658127</td>\n",
       "      <td>0.341873</td>\n",
       "    </tr>\n",
       "    <tr>\n",
       "      <th>55</th>\n",
       "      <td>0.715163</td>\n",
       "      <td>0.284837</td>\n",
       "    </tr>\n",
       "    <tr>\n",
       "      <th>60</th>\n",
       "      <td>0.726811</td>\n",
       "      <td>0.273189</td>\n",
       "    </tr>\n",
       "    <tr>\n",
       "      <th>65</th>\n",
       "      <td>0.672815</td>\n",
       "      <td>0.327185</td>\n",
       "    </tr>\n",
       "  </tbody>\n",
       "</table>\n",
       "</div></td></tr></table>"
      ],
      "text/plain": [
       "<IPython.core.display.HTML object>"
      ]
     },
     "execution_count": 30,
     "metadata": {},
     "output_type": "execute_result"
    }
   ],
   "source": [
    "tmp=card_seoul_clothes.loc[card_seoul_clothes.STD_DD.isin(covid_spread)].groupby(['SEX_CD','AGE_CD'])['USE_CNT'].sum().reset_index()\n",
    "\n",
    "multi_table(\n",
    "[pd.crosstab(tmp.AGE_CD, tmp.SEX_CD, tmp.USE_CNT, aggfunc=sum, normalize='columns'),\n",
    "pd.crosstab(tmp.AGE_CD, tmp.SEX_CD, tmp.USE_CNT, aggfunc=sum, normalize='index')]\n",
    ")"
   ]
  },
  {
   "cell_type": "code",
   "execution_count": 31,
   "metadata": {
    "ExecuteTime": {
     "end_time": "2020-09-24T09:25:25.950986Z",
     "start_time": "2020-09-24T09:25:25.911013Z"
    }
   },
   "outputs": [
    {
     "data": {
      "text/html": [
       "<table><tr style=\"background-color:white;\"><td><div>\n",
       "<style scoped>\n",
       "    .dataframe tbody tr th:only-of-type {\n",
       "        vertical-align: middle;\n",
       "    }\n",
       "\n",
       "    .dataframe tbody tr th {\n",
       "        vertical-align: top;\n",
       "    }\n",
       "\n",
       "    .dataframe thead th {\n",
       "        text-align: right;\n",
       "    }\n",
       "</style>\n",
       "<table border=\"1\" class=\"dataframe\">\n",
       "  <thead>\n",
       "    <tr style=\"text-align: right;\">\n",
       "      <th>SEX_CD</th>\n",
       "      <th>F</th>\n",
       "      <th>M</th>\n",
       "    </tr>\n",
       "    <tr>\n",
       "      <th>AGE_CD</th>\n",
       "      <th></th>\n",
       "      <th></th>\n",
       "    </tr>\n",
       "  </thead>\n",
       "  <tbody>\n",
       "    <tr>\n",
       "      <th>20</th>\n",
       "      <td>0.114458</td>\n",
       "      <td>0.083406</td>\n",
       "    </tr>\n",
       "    <tr>\n",
       "      <th>25</th>\n",
       "      <td>0.158391</td>\n",
       "      <td>0.204850</td>\n",
       "    </tr>\n",
       "    <tr>\n",
       "      <th>30</th>\n",
       "      <td>0.102644</td>\n",
       "      <td>0.143340</td>\n",
       "    </tr>\n",
       "    <tr>\n",
       "      <th>35</th>\n",
       "      <td>0.085909</td>\n",
       "      <td>0.108112</td>\n",
       "    </tr>\n",
       "    <tr>\n",
       "      <th>40</th>\n",
       "      <td>0.081748</td>\n",
       "      <td>0.080438</td>\n",
       "    </tr>\n",
       "    <tr>\n",
       "      <th>45</th>\n",
       "      <td>0.100510</td>\n",
       "      <td>0.092621</td>\n",
       "    </tr>\n",
       "    <tr>\n",
       "      <th>50</th>\n",
       "      <td>0.102114</td>\n",
       "      <td>0.095077</td>\n",
       "    </tr>\n",
       "    <tr>\n",
       "      <th>55</th>\n",
       "      <td>0.090361</td>\n",
       "      <td>0.065799</td>\n",
       "    </tr>\n",
       "    <tr>\n",
       "      <th>60</th>\n",
       "      <td>0.076351</td>\n",
       "      <td>0.051841</td>\n",
       "    </tr>\n",
       "    <tr>\n",
       "      <th>65</th>\n",
       "      <td>0.087513</td>\n",
       "      <td>0.074517</td>\n",
       "    </tr>\n",
       "  </tbody>\n",
       "</table>\n",
       "</div></td><td><div>\n",
       "<style scoped>\n",
       "    .dataframe tbody tr th:only-of-type {\n",
       "        vertical-align: middle;\n",
       "    }\n",
       "\n",
       "    .dataframe tbody tr th {\n",
       "        vertical-align: top;\n",
       "    }\n",
       "\n",
       "    .dataframe thead th {\n",
       "        text-align: right;\n",
       "    }\n",
       "</style>\n",
       "<table border=\"1\" class=\"dataframe\">\n",
       "  <thead>\n",
       "    <tr style=\"text-align: right;\">\n",
       "      <th>SEX_CD</th>\n",
       "      <th>F</th>\n",
       "      <th>M</th>\n",
       "    </tr>\n",
       "    <tr>\n",
       "      <th>AGE_CD</th>\n",
       "      <th></th>\n",
       "      <th></th>\n",
       "    </tr>\n",
       "  </thead>\n",
       "  <tbody>\n",
       "    <tr>\n",
       "      <th>20</th>\n",
       "      <td>0.717379</td>\n",
       "      <td>0.282621</td>\n",
       "    </tr>\n",
       "    <tr>\n",
       "      <th>25</th>\n",
       "      <td>0.588505</td>\n",
       "      <td>0.411495</td>\n",
       "    </tr>\n",
       "    <tr>\n",
       "      <th>30</th>\n",
       "      <td>0.569803</td>\n",
       "      <td>0.430197</td>\n",
       "    </tr>\n",
       "    <tr>\n",
       "      <th>35</th>\n",
       "      <td>0.595108</td>\n",
       "      <td>0.404892</td>\n",
       "    </tr>\n",
       "    <tr>\n",
       "      <th>40</th>\n",
       "      <td>0.652752</td>\n",
       "      <td>0.347248</td>\n",
       "    </tr>\n",
       "    <tr>\n",
       "      <th>45</th>\n",
       "      <td>0.667465</td>\n",
       "      <td>0.332535</td>\n",
       "    </tr>\n",
       "    <tr>\n",
       "      <th>50</th>\n",
       "      <td>0.665167</td>\n",
       "      <td>0.334833</td>\n",
       "    </tr>\n",
       "    <tr>\n",
       "      <th>55</th>\n",
       "      <td>0.717525</td>\n",
       "      <td>0.282475</td>\n",
       "    </tr>\n",
       "    <tr>\n",
       "      <th>60</th>\n",
       "      <td>0.731485</td>\n",
       "      <td>0.268515</td>\n",
       "    </tr>\n",
       "    <tr>\n",
       "      <th>65</th>\n",
       "      <td>0.684767</td>\n",
       "      <td>0.315233</td>\n",
       "    </tr>\n",
       "  </tbody>\n",
       "</table>\n",
       "</div></td></tr></table>"
      ],
      "text/plain": [
       "<IPython.core.display.HTML object>"
      ]
     },
     "execution_count": 31,
     "metadata": {},
     "output_type": "execute_result"
    }
   ],
   "source": [
    "tmp=card_seoul_clothes.loc[card_seoul_clothes.STD_DD.isin(covid_ease)].groupby(['SEX_CD','AGE_CD'])['USE_CNT'].sum().reset_index()\n",
    "\n",
    "multi_table(\n",
    "[pd.crosstab(tmp.AGE_CD, tmp.SEX_CD, tmp.USE_CNT, aggfunc=sum, normalize='columns'),\n",
    "pd.crosstab(tmp.AGE_CD, tmp.SEX_CD, tmp.USE_CNT, aggfunc=sum, normalize='index')]\n",
    ")"
   ]
  },
  {
   "cell_type": "code",
   "execution_count": 32,
   "metadata": {
    "ExecuteTime": {
     "end_time": "2020-09-24T09:25:29.263405Z",
     "start_time": "2020-09-24T09:25:29.037192Z"
    }
   },
   "outputs": [
    {
     "data": {
      "text/plain": [
       "<matplotlib.axes._subplots.AxesSubplot at 0x20fee9ad278>"
      ]
     },
     "execution_count": 32,
     "metadata": {},
     "output_type": "execute_result"
    },
    {
     "data": {
      "image/png": "[encoded data removed]",
      "text/plain": [
       "<Figure size 1152x576 with 1 Axes>"
      ]
     },
     "metadata": {
      "needs_background": "light"
     },
     "output_type": "display_data"
    }
   ],
   "source": [
    "plt.figure(figsize=(16,8))\n",
    "sns.boxplot(\n",
    "    data = card_clothes.loc[card_clothes.STD_DD.isin(normal_case)].groupby(['STD_DD','dayofweek'])['USE_CNT'].sum().reset_index(),\n",
    "    x = 'dayofweek',\n",
    "    y = 'USE_CNT'\n",
    ")"
   ]
  },
  {
   "cell_type": "code",
   "execution_count": 33,
   "metadata": {
    "ExecuteTime": {
     "end_time": "2020-09-24T09:25:30.959570Z",
     "start_time": "2020-09-24T09:25:30.685294Z"
    }
   },
   "outputs": [
    {
     "data": {
      "text/plain": [
       "<matplotlib.axes._subplots.AxesSubplot at 0x20fee9ad6d8>"
      ]
     },
     "execution_count": 33,
     "metadata": {},
     "output_type": "execute_result"
    },
    {
     "data": {
      "image/png": "[encoded data removed]",
      "text/plain": [
       "<Figure size 1152x576 with 1 Axes>"
      ]
     },
     "metadata": {
      "needs_background": "light"
     },
     "output_type": "display_data"
    }
   ],
   "source": [
    "plt.figure(figsize=(16,8))\n",
    "sns.boxplot(\n",
    "    data = card_clothes.loc[card_clothes.STD_DD.isin(covid_spread)].groupby(['STD_DD','dayofweek'])['USE_CNT'].sum().reset_index(),\n",
    "    x = 'dayofweek',\n",
    "    y = 'USE_CNT'\n",
    ")"
   ]
  },
  {
   "cell_type": "code",
   "execution_count": 34,
   "metadata": {
    "ExecuteTime": {
     "end_time": "2020-09-24T09:25:31.597966Z",
     "start_time": "2020-09-24T09:25:31.375291Z"
    }
   },
   "outputs": [
    {
     "data": {
      "text/plain": [
       "<matplotlib.axes._subplots.AxesSubplot at 0x20fee9ad6a0>"
      ]
     },
     "execution_count": 34,
     "metadata": {},
     "output_type": "execute_result"
    },
    {
     "data": {
      "image/png": "[encoded data removed]",
      "text/plain": [
       "<Figure size 1152x576 with 1 Axes>"
      ]
     },
     "metadata": {
      "needs_background": "light"
     },
     "output_type": "display_data"
    }
   ],
   "source": [
    "plt.figure(figsize=(16,8))\n",
    "sns.boxplot(\n",
    "    data = card_clothes.loc[card_clothes.STD_DD.isin(covid_ease)].groupby(['STD_DD','dayofweek'])['USE_CNT'].sum().reset_index(),\n",
    "    x = 'dayofweek',\n",
    "    y = 'USE_CNT'\n",
    ")"
   ]
  }
 ],
 "metadata": {
  "kernelspec": {
   "display_name": "Python 3",
   "language": "python",
   "name": "python3"
  },
  "toc": {
   "base_numbering": 1,
   "nav_menu": {},
   "number_sections": true,
   "sideBar": true,
   "skip_h1_title": false,
   "title_cell": "Table of Contents",
   "title_sidebar": "Contents",
   "toc_cell": false,
   "toc_position": {},
   "toc_section_display": true,
   "toc_window_display": false
  },
  "varInspector": {
   "cols": {
    "lenName": 16,
    "lenType": 16,
    "lenVar": 40
   },
   "kernels_config": {
    "python": {
     "delete_cmd_postfix": "",
     "delete_cmd_prefix": "del ",
     "library": "var_list.py",
     "varRefreshCmd": "print(var_dic_list())"
    },
    "r": {
     "delete_cmd_postfix": ") ",
     "delete_cmd_prefix": "rm(",
     "library": "var_list.r",
     "varRefreshCmd": "cat(var_dic_list()) "
    }
   },
   "types_to_exclude": [
    "module",
    "function",
    "builtin_function_or_method",
    "instance",
    "_Feature"
   ],
   "window_display": false
  }
 },
 "nbformat": 4,
 "nbformat_minor": 2
}
