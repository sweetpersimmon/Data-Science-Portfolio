{
 "cells": [
  {
   "cell_type": "code",
   "execution_count": 1,
   "metadata": {
    "ExecuteTime": {
     "end_time": "2020-09-21T06:33:48.514490Z",
     "start_time": "2020-09-21T06:33:45.624298Z"
    }
   },
   "outputs": [],
   "source": [
    "import pandas as pd\n",
    "import numpy as np\n",
    "\n",
    "import os\n",
    "import pickle"
   ]
  },
  {
   "cell_type": "code",
   "execution_count": 2,
   "metadata": {
    "ExecuteTime": {
     "end_time": "2020-09-21T06:33:50.909358Z",
     "start_time": "2020-09-21T06:33:50.901315Z"
    }
   },
   "outputs": [],
   "source": [
    "os.chdir('../')"
   ]
  },
  {
   "cell_type": "code",
   "execution_count": null,
   "metadata": {
    "ExecuteTime": {
     "end_time": "2020-09-21T06:34:00.494753Z",
     "start_time": "2020-09-21T06:34:00.486724Z"
    }
   },
   "outputs": [],
   "source": [
    "root_path = os.getcwd()\n",
    "root_path"
   ]
  },
  {
   "cell_type": "code",
   "execution_count": 4,
   "metadata": {
    "ExecuteTime": {
     "end_time": "2020-09-21T06:34:00.494753Z",
     "start_time": "2020-09-21T06:34:00.486724Z"
    }
   },
   "outputs": [],
   "source": [
    "data_folder_path = os.path.join(root_path, 'data')\n",
    "original_file_path = os.path.join(data_folder_path, 'original_data')\n",
    "original_raw_file_path = os.path.join(original_file_path,'raw_data')\n",
    "original_processed_file_path = os.path.join(original_file_path,'processed_data')\n",
    "\n",
    "raw_file_folders = os.listdir(original_raw_file_path)"
   ]
  },
  {
   "cell_type": "code",
   "execution_count": 69,
   "metadata": {
    "ExecuteTime": {
     "end_time": "2020-09-21T07:53:59.474545Z",
     "start_time": "2020-09-21T07:53:59.466514Z"
    }
   },
   "outputs": [],
   "source": [
    "external_file_path = os.path.join(data_folder_path,'external_data')\n",
    "external_raw_file_path = os.path.join(external_file_path,'raw_data')\n",
    "external_processed_file_path = os.path.join(external_file_path,'processed_data')"
   ]
  },
  {
   "cell_type": "code",
   "execution_count": 84,
   "metadata": {
    "ExecuteTime": {
     "end_time": "2020-09-21T10:04:39.729793Z",
     "start_time": "2020-09-21T10:04:39.677739Z"
    },
    "scrolled": false
   },
   "outputs": [
    {
     "name": "stdout",
     "output_type": "stream",
     "text": [
      "C:\\Users\\rears\\BIGCON\n",
      "\t data\n",
      "\t eda\n",
      "\t index\n",
      "\t mclp\n",
      "C:\\Users\\rears\\BIGCON\\data\n",
      "\t external_data\n",
      "\t original_data\n",
      "C:\\Users\\rears\\BIGCON\\data\\external_data\n",
      "\t processed_data\n",
      "\t raw_data\n",
      "C:\\Users\\rears\\BIGCON\\data\\external_data\\processed_data\n",
      "\t conv_index_df.csv\n",
      "\t covid19_누적확진자.csv\n",
      "\t covid19_일별확진자.csv\n",
      "\t distance_center_dong_to_dong.csv\n",
      "\t distance_dong_to_dong.csv\n",
      "C:\\Users\\rears\\BIGCON\\data\\external_data\\raw_data\n",
      "\t bus_info\n",
      "\t subway\n",
      "\t CARD_SUBWAY_MONTH_202007.csv\n",
      "\t 상가업소정보_서울_대구.csv\n",
      "\t 지역별누적-확진자.xlsx\n",
      "C:\\Users\\rears\\BIGCON\\data\\external_data\\raw_data\\bus_info\n",
      "\t BUS_STATION_BOARDING_MONTH_202001.csv\n",
      "\t BUS_STATION_BOARDING_MONTH_202002.csv\n",
      "\t BUS_STATION_BOARDING_MONTH_202003.csv\n",
      "\t BUS_STATION_BOARDING_MONTH_202004.csv\n",
      "\t BUS_STATION_BOARDING_MONTH_202005.csv\n",
      "\t BUS_STATION_BOARDING_MONTH_202006.csv\n",
      "\t BUS_STATION_BOARDING_MONTH_202007.csv\n",
      "\t 서울시버스정류소좌표데이터(2020.03.06).xlsx\n",
      "C:\\Users\\rears\\BIGCON\\data\\external_data\\raw_data\\subway\n",
      "\t substation_pt_sma_170923.cpg\n",
      "\t substation_pt_sma_170923.dbf\n",
      "\t substation_pt_sma_170923.prj\n",
      "\t substation_pt_sma_170923.sbn\n",
      "\t substation_pt_sma_170923.sbx\n",
      "\t substation_pt_sma_170923.shp\n",
      "\t substation_pt_sma_170923.shx\n",
      "\t substation_pt_sma_170923.zip\n",
      "C:\\Users\\rears\\BIGCON\\data\\original_data\n",
      "\t processed_data\n",
      "\t raw_data\n",
      "C:\\Users\\rears\\BIGCON\\data\\original_data\\processed_data\n",
      "\t CJ_delivery.csv\n",
      "\t SK_melted_flow_age.csv\n",
      "\t SK_melted_flow_time.csv\n",
      "\t 유통_동별매출지수.csv\n",
      "\t 유통_종합테이블.csv\n",
      "\t 유통_카테고리별매출비중.csv\n",
      "\t 카드_내국인.csv\n",
      "\t 카드_외국인.csv\n",
      "C:\\Users\\rears\\BIGCON\\data\\original_data\\raw_data\n",
      "\t 01_유동인구데이터(SK텔레콤)\n",
      "\t 02_카드매출데이터(신한카드)\n",
      "\t 03_SNS데이터(와이즈넛)\n",
      "\t 04_유통데이터(GS리테일)\n",
      "\t 05_물류데이터(CJ올리브네트웍스)\n",
      "C:\\Users\\rears\\BIGCON\\data\\original_data\\raw_data\\01_유동인구데이터(SK텔레콤)\n",
      "\t 01_혁신아이디어분야_유동인구데이터(SK텔레콤)_데이터정의서.xlsx\n",
      "\t 4개지역_FLOW_AGE_201902.CSV\n",
      "\t 4개지역_FLOW_AGE_201903.CSV\n",
      "\t 4개지역_FLOW_AGE_201904.CSV\n",
      "\t 4개지역_FLOW_AGE_201905.CSV\n",
      "\t 4개지역_FLOW_AGE_202002.CSV\n",
      "\t 4개지역_FLOW_AGE_202003.CSV\n",
      "\t 4개지역_FLOW_AGE_202004.CSV\n",
      "\t 4개지역_FLOW_AGE_202005.CSV\n",
      "\t 4개지역_FLOW_TIME_201902.CSV\n",
      "\t 4개지역_FLOW_TIME_201903.CSV\n",
      "\t 4개지역_FLOW_TIME_201904.CSV\n",
      "\t 4개지역_FLOW_TIME_201905.CSV\n",
      "\t 4개지역_FLOW_TIME_202002.CSV\n",
      "\t 4개지역_FLOW_TIME_202003.CSV\n",
      "\t 4개지역_FLOW_TIME_202004.CSV\n",
      "\t 4개지역_FLOW_TIME_202005.CSV\n",
      "\t 4개지역_행정동.DBF\n",
      "\t 4개지역_행정동.PRJ\n",
      "\t 4개지역_행정동.SHP\n",
      "\t 4개지역_행정동.SHX\n",
      "C:\\Users\\rears\\BIGCON\\data\\original_data\\raw_data\\02_카드매출데이터(신한카드)\n",
      "\t CARD_SPENDING_FOREIGNER\n",
      "\t CARD_SPENDING_RESIDENT\n",
      "\t 02_혁신아이디어분야_카드소비데이터(신한카드)_데이터정의서.xlsx\n",
      "\t ~$02_혁신아이디어분야_카드소비데이터(신한카드)_데이터정의서.xlsx\n",
      "C:\\Users\\rears\\BIGCON\\data\\original_data\\raw_data\\02_카드매출데이터(신한카드)\\CARD_SPENDING_FOREIGNER\n",
      "\t CARD_SPENDING_FOREIGNER.txt\n",
      "C:\\Users\\rears\\BIGCON\\data\\original_data\\raw_data\\02_카드매출데이터(신한카드)\\CARD_SPENDING_RESIDENT\n",
      "\t CARD_SPENDING_RESIDENT.txt\n",
      "C:\\Users\\rears\\BIGCON\\data\\original_data\\raw_data\\03_SNS데이터(와이즈넛)\n",
      "\t 03_혁신아이디어분야_SNS데이터(와이즈넛)_데이터정의서.xlsx\n",
      "\t 2020 bigcontest data_wisenut.csv\n",
      "C:\\Users\\rears\\BIGCON\\data\\original_data\\raw_data\\04_유통데이터(GS리테일)\n",
      "\t 04_혁신아이디어분야_유통데이터(GS리테일)_데이터정의서 및 문제 데이터.xlsx\n",
      "C:\\Users\\rears\\BIGCON\\data\\original_data\\raw_data\\05_물류데이터(CJ올리브네트웍스)\n",
      "\t 05_혁신아이디어분야_물류데이터(CJ올리브네트웍스)_데이터정의서.xlsx\n",
      "\t 2020 빅콘테스트_CJ올리브네트웍스_제공DB.xlsx\n",
      "C:\\Users\\rears\\BIGCON\\eda\n",
      "\t .ipynb_checkpoints\n",
      "\t BUS_INFO.ipynb\n",
      "\t covid19.ipynb\n",
      "\t Custom MCLP.ipynb\n",
      "\t Data_Prepare.ipynb\n",
      "\t GeoPandas연습_GIF생성.ipynb\n",
      "\t risk_index.ipynb\n",
      "\t simple_EDA_유통.ipynb\n",
      "\t Untitled.ipynb\n",
      "\t 객단가.ipynb\n",
      "\t 물류.ipynb\n",
      "\t 사전준비.ipynb\n",
      "\t 유동인구.ipynb\n",
      "\t 재난지원금효과.ipynb\n",
      "\t 중고관련검색량.ipynb\n",
      "\t 지역특성별행동변화.ipynb\n",
      "\t 카드_업종위주.ipynb\n",
      "\t 카드_유동인구.ipynb\n",
      "\t 클러스터별분석.ipynb\n",
      "\t 행정동별 인구 및 가구유형(1인가구, 2인가구 등)과 물류량 상관관계.ipynb\n",
      "C:\\Users\\rears\\BIGCON\\eda\\.ipynb_checkpoints\n",
      "\t BUS_INFO-checkpoint.ipynb\n",
      "\t Custom MCLP-checkpoint.ipynb\n",
      "\t Data_Prepare-checkpoint.ipynb\n",
      "C:\\Users\\rears\\BIGCON\\index\n",
      "C:\\Users\\rears\\BIGCON\\mclp\n"
     ]
    }
   ],
   "source": [
    "workDIr = os.path.abspath('.')\n",
    "for dirpath, dirnames, filenames in os.walk(workDIr):\n",
    "    print(dirpath)\n",
    "\n",
    "    for dirname in dirnames:\n",
    "        print(\"\\t\", dirname)\n",
    "\n",
    "    for filename in filenames:\n",
    "        print(\"\\t\", filename)"
   ]
  },
  {
   "cell_type": "markdown",
   "metadata": {},
   "source": [
    "### Original Data "
   ]
  },
  {
   "cell_type": "markdown",
   "metadata": {
    "heading_collapsed": true
   },
   "source": [
    "#### 유동인구"
   ]
  },
  {
   "cell_type": "code",
   "execution_count": 51,
   "metadata": {
    "ExecuteTime": {
     "end_time": "2020-09-21T07:08:15.430215Z",
     "start_time": "2020-09-21T07:08:15.422188Z"
    },
    "hidden": true
   },
   "outputs": [],
   "source": [
    "flow_folder =  os.path.join(original_raw_file_path,raw_file_folders[0])"
   ]
  },
  {
   "cell_type": "code",
   "execution_count": 52,
   "metadata": {
    "ExecuteTime": {
     "end_time": "2020-09-21T07:08:32.848945Z",
     "start_time": "2020-09-21T07:08:32.832955Z"
    },
    "hidden": true
   },
   "outputs": [],
   "source": [
    "file_names = [file_name for file_name in os.listdir(flow_folder) if file_name.split(sep='.')[-1]=='CSV']"
   ]
  },
  {
   "cell_type": "code",
   "execution_count": 55,
   "metadata": {
    "ExecuteTime": {
     "end_time": "2020-09-21T07:09:03.488028Z",
     "start_time": "2020-09-21T07:09:02.985556Z"
    },
    "hidden": true
   },
   "outputs": [],
   "source": [
    "df_list = []\n",
    "\n",
    "for file_name in file_names:\n",
    "    file_path = os.path.join(flow_folder, file_name)\n",
    "    df = pd.read_csv(file_path, sep='|')\n",
    "    df_list.append(df)\n",
    "\n",
    "flow_age = pd.concat(df_list[:8]).reset_index(drop=True)\n",
    "flow_time = pd.concat(df_list[8:]).reset_index(drop=True)"
   ]
  },
  {
   "cell_type": "code",
   "execution_count": 57,
   "metadata": {
    "ExecuteTime": {
     "end_time": "2020-09-21T07:14:01.849935Z",
     "start_time": "2020-09-21T07:14:00.976705Z"
    },
    "hidden": true
   },
   "outputs": [
    {
     "name": "stderr",
     "output_type": "stream",
     "text": [
      "c:\\python37\\lib\\site-packages\\ipykernel_launcher.py:10: FutureWarning: Series.dt.weekofyear and Series.dt.week have been deprecated.  Please use Series.dt.isocalendar().week instead.\n",
      "  # Remove the CWD from sys.path while we load stuff.\n",
      "c:\\python37\\lib\\site-packages\\ipykernel_launcher.py:16: FutureWarning: Series.dt.weekofyear and Series.dt.week have been deprecated.  Please use Series.dt.isocalendar().week instead.\n",
      "  app.launch_new_instance()\n"
     ]
    }
   ],
   "source": [
    "melted_flow_age = flow_age.melt(id_vars=['STD_YM','STD_YMD','HDONG_CD','HDONG_NM'], var_name='age', value_name='flow_counts').\\\n",
    "        sort_values(by=['HDONG_CD','STD_YMD','age']).\\\n",
    "        reset_index(drop=True)\n",
    "\n",
    "melted_flow_time = flow_time.melt(id_vars=['STD_YM','STD_YMD','HDONG_CD','HDONG_NM'], var_name='time', value_name='flow_counts').\\\n",
    "        sort_values(by=['HDONG_CD','STD_YMD','time']).\\\n",
    "        reset_index(drop=True)\n",
    "\n",
    "melted_flow_age['STD_YMD'] = pd.to_datetime(melted_flow_age.STD_YMD, format='%Y%m%d')\n",
    "melted_flow_time['STD_YMD'] = pd.to_datetime(melted_flow_time.STD_YMD, format='%Y%m%d')\n",
    "\n",
    "melted_flow_age['year'] = melted_flow_age.STD_YMD.dt.year.values\n",
    "melted_flow_age['month'] = melted_flow_age.STD_YMD.dt.month.values\n",
    "melted_flow_age['weekofyear'] = melted_flow_age.STD_YMD.dt.weekofyear.values\n",
    "melted_flow_age['dayofweek'] = melted_flow_age.STD_YMD.dt.dayofweek.values\n",
    "melted_flow_age['weekday'] = np.where(melted_flow_age.dayofweek<5,\"평일\",'주말')\n",
    "\n",
    "melted_flow_time['year'] = melted_flow_time.STD_YMD.dt.year.values\n",
    "melted_flow_time['month'] = melted_flow_time.STD_YMD.dt.month.values\n",
    "melted_flow_time['weekofyear'] = melted_flow_time.STD_YMD.dt.weekofyear.values\n",
    "melted_flow_time['dayofweek'] = melted_flow_time.STD_YMD.dt.dayofweek.values\n",
    "melted_flow_time['weekday'] = np.where(melted_flow_time.dayofweek<5,\"평일\",'주말')"
   ]
  },
  {
   "cell_type": "code",
   "execution_count": 58,
   "metadata": {
    "ExecuteTime": {
     "end_time": "2020-09-21T07:14:04.757001Z",
     "start_time": "2020-09-21T07:14:04.598634Z"
    },
    "hidden": true
   },
   "outputs": [],
   "source": [
    "melted_flow_time['GU_CD'] = melted_flow_time.HDONG_CD.apply(lambda x : str(x)[:4])"
   ]
  },
  {
   "cell_type": "code",
   "execution_count": 59,
   "metadata": {
    "ExecuteTime": {
     "end_time": "2020-09-21T07:14:52.415271Z",
     "start_time": "2020-09-21T07:14:43.208088Z"
    },
    "hidden": true
   },
   "outputs": [],
   "source": [
    "melted_flow_time.to_csv(os.path.join(original_processed_file_path, \"SK_melted_flow_time.csv\"), index=False, encoding='utf-8')\n",
    "melted_flow_age.to_csv(os.path.join(original_processed_file_path, \"SK_melted_flow_age.csv\"), index=False, encoding='utf-8')"
   ]
  },
  {
   "cell_type": "markdown",
   "metadata": {
    "heading_collapsed": true
   },
   "source": [
    "#### 카드데이터 "
   ]
  },
  {
   "cell_type": "code",
   "execution_count": 67,
   "metadata": {
    "ExecuteTime": {
     "end_time": "2020-09-21T07:48:37.994009Z",
     "start_time": "2020-09-21T07:48:30.560004Z"
    },
    "hidden": true
   },
   "outputs": [],
   "source": [
    "card_folder = os.path.join(original_raw_file_path,raw_file_folders[1])\n",
    "\n",
    "card_sub_folder = os.listdir(card_folder)[1:3]\n",
    "\n",
    "foreigner=os.listdir(os.path.join(card_folder,card_sub_folder[0]))[0]\n",
    "resident=os.listdir(os.path.join(card_folder,card_sub_folder[1]))[0]\n",
    "\n",
    "foreigner_df = pd.read_table(os.path.join(card_folder,card_sub_folder[0],foreigner), encoding='cp949')\n",
    "resident_df = pd.read_table(os.path.join(card_folder,card_sub_folder[1],resident), encoding='cp949')\n",
    "\n",
    "foreigner_df.to_csv(os.path.join(original_processed_file_path,'카드_외국인.csv'), index=False, encoding='utf-8')\n",
    "resident_df.to_csv(os.path.join(original_processed_file_path,'카드_내국인.csv'), index=False, encoding='utf-8')"
   ]
  },
  {
   "cell_type": "markdown",
   "metadata": {
    "heading_collapsed": true
   },
   "source": [
    "#### 유통데이터"
   ]
  },
  {
   "cell_type": "code",
   "execution_count": 5,
   "metadata": {
    "ExecuteTime": {
     "end_time": "2020-09-21T06:34:13.904864Z",
     "start_time": "2020-09-21T06:34:13.896696Z"
    },
    "hidden": true
   },
   "outputs": [],
   "source": [
    "file_name = '04_혁신아이디어분야_유통데이터(GS리테일)_데이터정의서 및 문제 데이터.xlsx'\n",
    "\n",
    "file_path = os.path.join(original_raw_file_path, raw_file_folders[3], file_name)\n",
    "\n",
    "def_table = pd.read_excel(file_path, header = [5], usecols=[2,4,5,6])\n",
    "\n",
    "sheet_name = ['동별매출지수', '카테고리별 매출비중', '종합테이블(TB_DD_STR_PURCH_CLS)']\n",
    "headers = [[3], [0], [0]]\n",
    "\n",
    "df_list = []\n",
    "\n",
    "for sheet,header in zip(sheet_name,headers):\n",
    "    df_list.append(pd.read_excel(file_path, sheet_name=sheet, header=header))\n",
    "\n",
    "by_dong, by_category, total = df_list\n",
    "\n",
    "by_dong.to_csv(os.path.join(original_processed_file_path, '유통_동별매출지수.csv'), index=False, encoding='utf-8')\n",
    "by_category.to_csv(os.path.join(original_processed_file_path, '유통_카테고리별매출비중.csv'), index=False, encoding='utf-8')\n",
    "total.to_csv(os.path.join(original_processed_file_path, '유통_종합테이블.csv'), index=False, encoding='utf-8')"
   ]
  },
  {
   "cell_type": "markdown",
   "metadata": {
    "heading_collapsed": true
   },
   "source": [
    "#### 물류데이터 "
   ]
  },
  {
   "cell_type": "code",
   "execution_count": 60,
   "metadata": {
    "ExecuteTime": {
     "end_time": "2020-09-21T07:41:24.682971Z",
     "start_time": "2020-09-21T07:41:24.674977Z"
    },
    "hidden": true
   },
   "outputs": [],
   "source": [
    "logistics_folders = os.path.join(original_raw_file_path,raw_file_folders[4])\n",
    "logistics_file = os.listdir(logistics_folders)[1]\n",
    "logistics_df = pd.read_excel(os.path.join(logistics_folders, logistics_file))\n",
    "\n",
    "logistics_df.to_csv(os.path.join(original_processed_file_path,'CJ_delivery.csv'), index=False, encoding='utf-8')"
   ]
  },
  {
   "cell_type": "markdown",
   "metadata": {},
   "source": [
    "### External Data"
   ]
  },
  {
   "cell_type": "markdown",
   "metadata": {
    "heading_collapsed": true
   },
   "source": [
    "#### 코로나 일별확진자 "
   ]
  },
  {
   "cell_type": "code",
   "execution_count": 75,
   "metadata": {
    "ExecuteTime": {
     "end_time": "2020-09-21T08:02:47.344862Z",
     "start_time": "2020-09-21T08:02:47.336836Z"
    },
    "hidden": true
   },
   "outputs": [],
   "source": [
    "covid_file = [file for file in os.listdir(external_raw_file_path) if file.startswith('지역별누적')][0]"
   ]
  },
  {
   "cell_type": "code",
   "execution_count": 77,
   "metadata": {
    "ExecuteTime": {
     "end_time": "2020-09-21T08:02:57.931354Z",
     "start_time": "2020-09-21T08:02:57.716605Z"
    },
    "hidden": true
   },
   "outputs": [],
   "source": [
    "covid_df = pd.read_excel(os.path.join(external_raw_file_path, covid_file)).fillna(0)\n",
    "covid_df['총누적확진자'] = covid_df.iloc[:,1:].sum(axis=1)"
   ]
  },
  {
   "cell_type": "code",
   "execution_count": 80,
   "metadata": {
    "ExecuteTime": {
     "end_time": "2020-09-21T08:03:47.126317Z",
     "start_time": "2020-09-21T08:03:47.118287Z"
    },
    "hidden": true
   },
   "outputs": [],
   "source": [
    "covid_daily = (covid_df.iloc[:, 1:] - covid_df.iloc[:, 1:].shift().fillna(0))\n",
    "covid_daily = pd.concat([covid_df[['날짜']],covid_daily], axis=1)"
   ]
  },
  {
   "cell_type": "code",
   "execution_count": 83,
   "metadata": {
    "ExecuteTime": {
     "end_time": "2020-09-21T08:06:13.996865Z",
     "start_time": "2020-09-21T08:06:13.972743Z"
    },
    "hidden": true
   },
   "outputs": [],
   "source": [
    "covid_df.to_csv(os.path.join(external_processed_file_path, 'covid19_누적확진자.csv'), index=False, encoding='utf-8')\n",
    "covid_daily.to_csv(os.path.join(external_processed_file_path, \"covid19_일별확진자.csv\"), index=False, encoding='utf-8')"
   ]
  }
 ],
 "metadata": {
  "kernelspec": {
   "display_name": "Python 3",
   "language": "python",
   "name": "python3"
  },
  "toc": {
   "base_numbering": 1,
   "nav_menu": {},
   "number_sections": true,
   "sideBar": true,
   "skip_h1_title": false,
   "title_cell": "Table of Contents",
   "title_sidebar": "Contents",
   "toc_cell": false,
   "toc_position": {},
   "toc_section_display": true,
   "toc_window_display": false
  },
  "varInspector": {
   "cols": {
    "lenName": 16,
    "lenType": 16,
    "lenVar": 40
   },
   "kernels_config": {
    "python": {
     "delete_cmd_postfix": "",
     "delete_cmd_prefix": "del ",
     "library": "var_list.py",
     "varRefreshCmd": "print(var_dic_list())"
    },
    "r": {
     "delete_cmd_postfix": ") ",
     "delete_cmd_prefix": "rm(",
     "library": "var_list.r",
     "varRefreshCmd": "cat(var_dic_list()) "
    }
   },
   "types_to_exclude": [
    "module",
    "function",
    "builtin_function_or_method",
    "instance",
    "_Feature"
   ],
   "window_display": false
  }
 },
 "nbformat": 4,
 "nbformat_minor": 2
}
