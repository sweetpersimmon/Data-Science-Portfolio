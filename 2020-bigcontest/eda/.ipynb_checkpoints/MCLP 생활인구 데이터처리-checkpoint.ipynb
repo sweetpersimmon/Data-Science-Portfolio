{
 "cells": [
  {
   "cell_type": "code",
   "execution_count": 1,
   "metadata": {
    "ExecuteTime": {
     "end_time": "2020-09-25T12:07:37.356130Z",
     "start_time": "2020-09-25T12:07:37.001104Z"
    }
   },
   "outputs": [],
   "source": [
    "import pandas as pd\n",
    "import numpy as np\n",
    "from datetime import datetime"
   ]
  },
  {
   "cell_type": "code",
   "execution_count": 2,
   "metadata": {
    "ExecuteTime": {
     "end_time": "2020-09-25T12:07:40.223821Z",
     "start_time": "2020-09-25T12:07:39.473842Z"
    }
   },
   "outputs": [],
   "source": [
    "# 생활인구 데이터 로드\n",
    "living_pop = pd.read_csv(\"../data/external_data/processed_data/local_people_data.csv\")"
   ]
  },
  {
   "cell_type": "code",
   "execution_count": 3,
   "metadata": {
    "ExecuteTime": {
     "end_time": "2020-09-25T12:07:41.134609Z",
     "start_time": "2020-09-25T12:07:40.849009Z"
    }
   },
   "outputs": [],
   "source": [
    "age1 = ['남자_0009세생활인구수', '남자_1014세생활인구수', '남자_1519세생활인구수', '남자_2024세생활인구수', '남자_2529세생활인구수', \n",
    "        '여자_0009세생활인구수', '여자_1014세생활인구수', '여자_1519세생활인구수', '여자_2024세생활인구수', '여자_2529세생활인구수']\n",
    "\n",
    "age2 = ['남자_3034세생활인구수', '남자_3539세생활인구수', '남자_4044세생활인구수', '남자_4549세생활인구수', '남자_5054세생활인구수', '남자_5559세생활인구수', \n",
    "        '여자_3034세생활인구수', '여자_3539세생활인구수', '여자_4044세생활인구수', '여자_4549세생활인구수', '여자_5054세생활인구수', '여자_5559세생활인구수']\n",
    "\n",
    "age3 = ['남자_6064세생활인구수', '남자_6569세생활인구수', '남자_70세이상생활인구수', \n",
    "        '여자_6064세생활인구수', '여자_6569세생활인구수', '여자_70세이상생활인구수']\n",
    "\n",
    "# 30세 미만 / 30세 이상~60세 미만 / 60세 이상으로 연령대 구분\n",
    "living_pop['30L'] = living_pop[age1].sum(axis=1)\n",
    "living_pop['3059'] = living_pop[age2].sum(axis=1)\n",
    "living_pop['60U'] = living_pop[age3].sum(axis=1)\n",
    "\n",
    "living_pop = living_pop.drop(age1+age2+age3, axis=1)"
   ]
  },
  {
   "cell_type": "code",
   "execution_count": 4,
   "metadata": {
    "ExecuteTime": {
     "end_time": "2020-09-25T12:07:42.818659Z",
     "start_time": "2020-09-25T12:07:42.785748Z"
    }
   },
   "outputs": [],
   "source": [
    "# 2020년의 생활인구수 데이터만 사용\n",
    "living_pop = living_pop.query('STD_DD >= \"2020-01-01\"')"
   ]
  },
  {
   "cell_type": "code",
   "execution_count": 5,
   "metadata": {
    "ExecuteTime": {
     "end_time": "2020-09-25T12:07:43.488502Z",
     "start_time": "2020-09-25T12:07:43.481492Z"
    }
   },
   "outputs": [],
   "source": [
    "# 코로나 심각도 별 5개의 기간으로 구분\n",
    "def split_period(x):\n",
    "    if x <= \"2020-02-19\":\n",
    "        return 'A'\n",
    "    elif x <= \"2020-03-21\":\n",
    "        return 'B'\n",
    "    elif x <= \"2020-04-19\":\n",
    "        return 'C'\n",
    "    elif x <= \"2020-05-05\":\n",
    "        return 'D'\n",
    "    else:\n",
    "        return 'E'\n",
    "\n",
    "# 평일과 주말으로 구분\n",
    "def split_day(x):\n",
    "    if x<=4:\n",
    "        return 0\n",
    "    else:\n",
    "        return 1\n"
   ]
  },
  {
   "cell_type": "code",
   "execution_count": 6,
   "metadata": {
    "ExecuteTime": {
     "end_time": "2020-09-25T12:07:46.168490Z",
     "start_time": "2020-09-25T12:07:46.156498Z"
    }
   },
   "outputs": [],
   "source": [
    "# 중고거래가 일어나는 9시~21시 사이의 생활인구수만 고려\n",
    "living_pop = living_pop.query('9<= 시간대구분 <= 21')"
   ]
  },
  {
   "cell_type": "code",
   "execution_count": 7,
   "metadata": {
    "ExecuteTime": {
     "end_time": "2020-09-25T12:07:46.703071Z",
     "start_time": "2020-09-25T12:07:46.676112Z"
    }
   },
   "outputs": [],
   "source": [
    "# 코로나 심각도 별 기간 구분\n",
    "living_pop['Covid_class'] = living_pop['STD_DD'].map(split_period)\n",
    "# 요일 구분\n",
    "living_pop['dayofweek'] = pd.to_datetime(living_pop['STD_DD'], format='%Y-%m-%d').dt.dayofweek"
   ]
  },
  {
   "cell_type": "code",
   "execution_count": 8,
   "metadata": {
    "ExecuteTime": {
     "end_time": "2020-09-25T12:07:47.340542Z",
     "start_time": "2020-09-25T12:07:47.169951Z"
    }
   },
   "outputs": [],
   "source": [
    "living_pop = pd.melt( living_pop, id_vars=['STD_DD', '시간대구분', 'G_DNG_NM', 'Covid_class', 'dayofweek'], \n",
    "        value_vars=['30L', '3059', '60U'], var_name='AGE', value_name='FLOW')\n",
    "living_pop['CTGG_NM'] = living_pop['G_DNG_NM'].apply(lambda x:x.split()[1])\n",
    "living_pop['HDNG_NM'] = living_pop['G_DNG_NM'].apply(lambda x:x.split()[2])\n",
    "del living_pop['G_DNG_NM']"
   ]
  },
  {
   "cell_type": "code",
   "execution_count": 9,
   "metadata": {
    "ExecuteTime": {
     "end_time": "2020-09-25T12:07:48.035962Z",
     "start_time": "2020-09-25T12:07:47.981789Z"
    }
   },
   "outputs": [],
   "source": [
    "# 평일, 주말 구분\n",
    "living_pop['dayofweek'] = living_pop['dayofweek'].map(split_day)"
   ]
  },
  {
   "cell_type": "code",
   "execution_count": 10,
   "metadata": {
    "ExecuteTime": {
     "end_time": "2020-09-25T12:07:53.104181Z",
     "start_time": "2020-09-25T12:07:52.992099Z"
    }
   },
   "outputs": [],
   "source": [
    "# 동, 코로나기간, 평일/주말, 연령별 평균을 취한다\n",
    "living_pop2 = living_pop.groupby(['CTGG_NM', 'HDNG_NM', 'Covid_class', 'dayofweek', 'AGE'])[['FLOW']].mean().reset_index()\n",
    "living_pop2.to_csv(\"../data/external_data/processed_data/CTGG_HDNG_FLOW.csv\", index=False, encoding='cp949')\n",
    "\n",
    "# 위에서\n",
    "# 동, 일별, 연령별 유동인구의 평균 -> 동, 기간별, 평일/주말, 연령별 유동인구의 평균과 동일한 결과입니다."
   ]
  },
  {
   "cell_type": "code",
   "execution_count": 11,
   "metadata": {},
   "outputs": [],
   "source": [
    "# 위의 코드는 아래와 동일합니다.\n",
    "# 1. 동, 일별 시간대, 연령대 유동인구의 평균 -> 동, 일별, 연령대별 평균 유동인구수\n",
    "# living_pop3 = living_pop.groupby(['CTGG_NM', 'HDNG_NM', 'STD_DD', 'Covid_class', 'dayofweek', 'AGE'])[['FLOW']].mean().reset_index()\n",
    "# 2. 동, 코로나 기간/평일,주말, 연령대별 유동인구의 평균 -> 코로나 기간+평일/주말+연령대별 평균 유동인구수\n",
    "# living_pop3.groupby(['CTGG_NM', 'HDNG_NM', 'Covid_class', 'dayofweek', 'AGE'])[['FLOW']].mean().reset_index()"
   ]
  }
 ],
 "metadata": {
  "kernelspec": {
   "display_name": "Python 3",
   "language": "python",
   "name": "python3"
  },
  "language_info": {
   "codemirror_mode": {
    "name": "ipython",
    "version": 3
   },
   "file_extension": ".py",
   "mimetype": "text/x-python",
   "name": "python",
   "nbconvert_exporter": "python",
   "pygments_lexer": "ipython3",
   "version": "3.7.2"
  },
  "toc": {
   "base_numbering": 1,
   "nav_menu": {},
   "number_sections": false,
   "sideBar": true,
   "skip_h1_title": false,
   "title_cell": "Table of Contents",
   "title_sidebar": "Contents",
   "toc_cell": false,
   "toc_position": {},
   "toc_section_display": true,
   "toc_window_display": false
  },
  "varInspector": {
   "cols": {
    "lenName": 16,
    "lenType": 16,
    "lenVar": 40
   },
   "kernels_config": {
    "python": {
     "delete_cmd_postfix": "",
     "delete_cmd_prefix": "del ",
     "library": "var_list.py",
     "varRefreshCmd": "print(var_dic_list())"
    },
    "r": {
     "delete_cmd_postfix": ") ",
     "delete_cmd_prefix": "rm(",
     "library": "var_list.r",
     "varRefreshCmd": "cat(var_dic_list()) "
    }
   },
   "types_to_exclude": [
    "module",
    "function",
    "builtin_function_or_method",
    "instance",
    "_Feature"
   ],
   "window_display": false
  }
 },
 "nbformat": 4,
 "nbformat_minor": 4
}
