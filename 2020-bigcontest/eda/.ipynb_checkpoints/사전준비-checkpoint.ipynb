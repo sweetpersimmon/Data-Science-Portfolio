{
 "cells": [
  {
   "cell_type": "code",
   "execution_count": 1,
   "metadata": {
    "ExecuteTime": {
     "end_time": "2020-09-25T11:31:43.017973Z",
     "start_time": "2020-09-25T11:31:42.063493Z"
    }
   },
   "outputs": [
    {
     "name": "stderr",
     "output_type": "stream",
     "text": [
      "c:\\python37\\lib\\site-packages\\statsmodels\\tools\\_testing.py:19: FutureWarning: pandas.util.testing is deprecated. Use the functions in the public API at pandas.testing instead.\n",
      "  import pandas.util.testing as tm\n"
     ]
    }
   ],
   "source": [
    "import pandas as pd\n",
    "\n",
    "import os\n",
    "\n",
    "import matplotlib as mpl\n",
    "import matplotlib.pyplot as plt\n",
    "import seaborn as sns\n",
    "%matplotlib inline"
   ]
  },
  {
   "cell_type": "code",
   "execution_count": 15,
   "metadata": {
    "ExecuteTime": {
     "end_time": "2020-08-01T02:19:49.353208Z",
     "start_time": "2020-08-01T02:19:48.435631Z"
    }
   },
   "outputs": [],
   "source": [
    "\"\"\"\n",
    "daegu = pd.read_csv(\"daegu.csv\", encoding='cp949')\n",
    "daegu.to_csv(\"daegu_utf8.csv\", index = False, encoding='utf-8')\n",
    "\n",
    "seoul = pd.read_csv(\"seoul.csv\", encoding='cp949')\n",
    "seoul.to_csv(\"seoul_utf8.csv\", index = False, encoding='utf-8')\n",
    "\"\"\""
   ]
  },
  {
   "cell_type": "code",
   "execution_count": 2,
   "metadata": {
    "ExecuteTime": {
     "end_time": "2020-09-25T11:31:55.773736Z",
     "start_time": "2020-09-25T11:31:55.766731Z"
    }
   },
   "outputs": [],
   "source": [
    "os.chdir(\"../\")\n",
    "root_path = os.getcwd()\n",
    "\n",
    "data_folder_path = os.path.join(root_path, 'data')\n",
    "original_file_path = os.path.join(data_folder_path, 'original_data')\n",
    "original_raw_file_path = os.path.join(original_file_path,'raw_data')\n",
    "original_processed_file_path = os.path.join(original_file_path,'processed_data')\n",
    "\n",
    "raw_file_folders = os.listdir(original_raw_file_path)\n",
    "\n",
    "external_file_path = os.path.join(data_folder_path,'external_data')\n",
    "external_raw_file_path = os.path.join(external_file_path,'raw_data')\n",
    "external_processed_file_path = os.path.join(external_file_path,'processed_data')"
   ]
  },
  {
   "cell_type": "code",
   "execution_count": 4,
   "metadata": {
    "ExecuteTime": {
     "end_time": "2020-08-05T07:02:07.922733Z",
     "start_time": "2020-08-05T07:02:07.917746Z"
    }
   },
   "outputs": [
    {
     "data": {
      "text/plain": [
       "['01_유동인구데이터(SK텔레콤)',\n",
       " '02_카드매출데이터(신한카드)',\n",
       " '03_SNS데이터(와이즈넛)',\n",
       " '04_유통데이터(GS리테일)',\n",
       " '05_물류데이터(CJ올리브네트웍스)',\n",
       " '상권정보_서울_대구',\n",
       " '코로나데이터']"
      ]
     },
     "execution_count": 4,
     "metadata": {},
     "output_type": "execute_result"
    }
   ],
   "source": [
    "raw_file_folders"
   ]
  },
  {
   "cell_type": "code",
   "execution_count": 3,
   "metadata": {
    "ExecuteTime": {
     "end_time": "2020-08-05T07:01:33.693023Z",
     "start_time": "2020-08-05T07:01:33.690008Z"
    }
   },
   "outputs": [],
   "source": [
    "file_name = '상가업소정보_서울_대구.csv'"
   ]
  },
  {
   "cell_type": "code",
   "execution_count": 7,
   "metadata": {
    "ExecuteTime": {
     "end_time": "2020-08-05T07:03:26.470842Z",
     "start_time": "2020-08-05T07:03:26.465849Z"
    }
   },
   "outputs": [
    {
     "data": {
      "text/plain": [
       "'상권정보_서울_대구'"
      ]
     },
     "execution_count": 7,
     "metadata": {},
     "output_type": "execute_result"
    }
   ],
   "source": [
    "raw_file_folders[-2]"
   ]
  },
  {
   "cell_type": "code",
   "execution_count": 9,
   "metadata": {
    "ExecuteTime": {
     "end_time": "2020-08-05T07:04:11.969618Z",
     "start_time": "2020-08-05T07:04:11.965631Z"
    }
   },
   "outputs": [],
   "source": [
    "file_path = os.path.join(raw_file_path,raw_file_folders[-2], file_name)"
   ]
  },
  {
   "cell_type": "code",
   "execution_count": 11,
   "metadata": {
    "ExecuteTime": {
     "end_time": "2020-08-05T07:04:29.671264Z",
     "start_time": "2020-08-05T07:04:29.249372Z"
    }
   },
   "outputs": [
    {
     "name": "stderr",
     "output_type": "stream",
     "text": [
      "c:\\python37\\lib\\site-packages\\IPython\\core\\interactiveshell.py:2718: DtypeWarning: Columns (34) have mixed types. Specify dtype option on import or set low_memory=False.\n",
      "  interactivity=interactivity, compiler=compiler, result=result)\n"
     ]
    }
   ],
   "source": [
    "seoul_daegu = pd.read_csv(file_path)"
   ]
  },
  {
   "cell_type": "code",
   "execution_count": 28,
   "metadata": {
    "ExecuteTime": {
     "end_time": "2020-08-01T02:43:01.575975Z",
     "start_time": "2020-08-01T02:43:01.572049Z"
    }
   },
   "outputs": [],
   "source": [
    "seoul_gu = ['중구' ,'노원구']\n",
    "daegu_gu = ['중구', '수성구']"
   ]
  },
  {
   "cell_type": "code",
   "execution_count": 27,
   "metadata": {
    "ExecuteTime": {
     "end_time": "2020-08-01T02:41:32.859993Z",
     "start_time": "2020-08-01T02:41:32.815150Z"
    }
   },
   "outputs": [
    {
     "data": {
      "text/plain": [
       "시군구명\n",
       "노원구    11889\n",
       "중구     19969\n",
       "dtype: int64"
      ]
     },
     "execution_count": 27,
     "metadata": {},
     "output_type": "execute_result"
    }
   ],
   "source": [
    "seoul.loc[seoul.시군구명.isin(seoul_gu)].groupby('시군구명').size()"
   ]
  },
  {
   "cell_type": "code",
   "execution_count": 29,
   "metadata": {
    "ExecuteTime": {
     "end_time": "2020-08-01T02:43:20.525187Z",
     "start_time": "2020-08-01T02:43:20.495268Z"
    }
   },
   "outputs": [
    {
     "data": {
      "text/plain": [
       "시군구명\n",
       "수성구    18600\n",
       "중구     18029\n",
       "dtype: int64"
      ]
     },
     "execution_count": 29,
     "metadata": {},
     "output_type": "execute_result"
    }
   ],
   "source": [
    "daegu.loc[daegu.시군구명.isin(daegu_gu)].groupby('시군구명').size()"
   ]
  },
  {
   "cell_type": "code",
   "execution_count": 37,
   "metadata": {
    "ExecuteTime": {
     "end_time": "2020-08-01T02:44:57.091813Z",
     "start_time": "2020-08-01T02:44:56.931237Z"
    }
   },
   "outputs": [],
   "source": [
    "\"\"\"\n",
    "seoul_daegu = pd.concat([seoul.loc[seoul.시군구명.isin(seoul_gu)], daegu.loc[daegu.시군구명.isin(daegu_gu)]]).reset_index(drop = True)\n",
    "seoul_daegu.to_csv(\"seoul_daegu.csv\", index = False, encoding='utf-8')\n",
    "\"\"\""
   ]
  },
  {
   "cell_type": "code",
   "execution_count": 65,
   "metadata": {
    "ExecuteTime": {
     "end_time": "2020-08-01T06:26:17.064378Z",
     "start_time": "2020-08-01T06:26:17.055406Z"
    }
   },
   "outputs": [],
   "source": [
    "\"\"\"\n",
    "seoul_house = pd.read_csv(\"서울시주택현황.tsv\", sep = '\\t', header = [0,1])\n",
    "seoul_house.columns = ['_'.join(set(tup)) for tup in seoul_house.columns]\n",
    "\n",
    "seoul_comp = pd.read_csv(\"서울시사업체현황.tsv\", sep = '\\t', header = [0,1,2])\n",
    "seoul_comp.columns = ['_'.join(set(tup)) for tup in seoul_comp.columns]\n",
    "\n",
    "seoul_house.to_csv(\"seoul_house.csv\", index = False, encoding = 'utf-8')\n",
    "seoul_comp.to_csv(\"seoul_comp.csv\", index = False, encoding = 'utf-8')\n",
    "\"\"\""
   ]
  },
  {
   "cell_type": "code",
   "execution_count": 3,
   "metadata": {
    "ExecuteTime": {
     "end_time": "2020-08-02T05:01:22.951362Z",
     "start_time": "2020-08-02T05:01:22.935364Z"
    },
    "scrolled": false
   },
   "outputs": [
    {
     "data": {
      "text/plain": [
       "array(['음식', '부동산', '소매', '학문/교육', '생활서비스', '숙박', '관광/여가/오락', '스포츠', '제조',\n",
       "       '도매/유통/무역'], dtype=object)"
      ]
     },
     "execution_count": 3,
     "metadata": {},
     "output_type": "execute_result"
    }
   ],
   "source": [
    "seoul_daegu.상권업종대분류명.unique()"
   ]
  },
  {
   "cell_type": "code",
   "execution_count": 4,
   "metadata": {
    "ExecuteTime": {
     "end_time": "2020-08-02T05:01:23.727972Z",
     "start_time": "2020-08-02T05:01:23.711974Z"
    }
   },
   "outputs": [
    {
     "data": {
      "text/plain": [
       "Index(['상가업소번호', '상호명', '지점명', '상권업종대분류코드', '상권업종대분류명', '상권업종중분류코드',\n",
       "       '상권업종중분류명', '상권업종소분류코드', '상권업종소분류명', '표준산업분류코드', '표준산업분류명', '시도코드',\n",
       "       '시도명', '시군구코드', '시군구명', '행정동코드', '행정동명', '법정동코드', '법정동명', '지번코드',\n",
       "       '대지구분코드', '대지구분명', '지번본번지', '지번부번지', '지번주소', '도로명코드', '도로명', '건물본번지',\n",
       "       '건물부번지', '건물관리번호', '건물명', '도로명주소', '구우편번호', '신우편번호', '동정보', '층정보',\n",
       "       '호정보', '경도', '위도'],\n",
       "      dtype='object')"
      ]
     },
     "execution_count": 4,
     "metadata": {},
     "output_type": "execute_result"
    }
   ],
   "source": [
    "seoul_daegu.columns"
   ]
  },
  {
   "cell_type": "code",
   "execution_count": 19,
   "metadata": {
    "ExecuteTime": {
     "end_time": "2020-08-05T07:08:09.702494Z",
     "start_time": "2020-08-05T07:08:09.698498Z"
    }
   },
   "outputs": [],
   "source": [
    "import matplotlib as mpl\n",
    "import matplotlib.pyplot as plt\n",
    "import seaborn as sns\n",
    "\n",
    "plt.style.use(['fivethirtyeight'])\n",
    "#plt.style.use(['ggplot'])"
   ]
  },
  {
   "cell_type": "code",
   "execution_count": 20,
   "metadata": {
    "ExecuteTime": {
     "end_time": "2020-08-05T07:08:10.785591Z",
     "start_time": "2020-08-05T07:08:10.780607Z"
    }
   },
   "outputs": [],
   "source": [
    "mpl.rcParams['axes.unicode_minus'] = False\n",
    "# plt.rcParams[\"figure.figsize\"] = (8,3)\n",
    "plt.rcParams[\"font.family\"] = \"Malgun Gothic\"\n",
    "# plt.rcParams[\"font.size\"] = 10"
   ]
  },
  {
   "cell_type": "code",
   "execution_count": 4,
   "metadata": {
    "ExecuteTime": {
     "end_time": "2020-08-02T05:06:50.806312Z",
     "start_time": "2020-08-02T05:06:50.774306Z"
    }
   },
   "outputs": [
    {
     "data": {
      "text/html": [
       "<div>\n",
       "<style scoped>\n",
       "    .dataframe tbody tr th:only-of-type {\n",
       "        vertical-align: middle;\n",
       "    }\n",
       "\n",
       "    .dataframe tbody tr th {\n",
       "        vertical-align: top;\n",
       "    }\n",
       "\n",
       "    .dataframe thead th {\n",
       "        text-align: right;\n",
       "    }\n",
       "</style>\n",
       "<table border=\"1\" class=\"dataframe\">\n",
       "  <thead>\n",
       "    <tr style=\"text-align: right;\">\n",
       "      <th></th>\n",
       "      <th>시도명</th>\n",
       "      <th>시군구명</th>\n",
       "      <th>행정동명</th>\n",
       "      <th>상가수</th>\n",
       "    </tr>\n",
       "  </thead>\n",
       "  <tbody>\n",
       "    <tr>\n",
       "      <th>0</th>\n",
       "      <td>대구광역시</td>\n",
       "      <td>수성구</td>\n",
       "      <td>고산1동</td>\n",
       "      <td>1120</td>\n",
       "    </tr>\n",
       "    <tr>\n",
       "      <th>1</th>\n",
       "      <td>대구광역시</td>\n",
       "      <td>수성구</td>\n",
       "      <td>고산2동</td>\n",
       "      <td>915</td>\n",
       "    </tr>\n",
       "    <tr>\n",
       "      <th>2</th>\n",
       "      <td>대구광역시</td>\n",
       "      <td>수성구</td>\n",
       "      <td>고산3동</td>\n",
       "      <td>934</td>\n",
       "    </tr>\n",
       "    <tr>\n",
       "      <th>3</th>\n",
       "      <td>대구광역시</td>\n",
       "      <td>수성구</td>\n",
       "      <td>두산동</td>\n",
       "      <td>1388</td>\n",
       "    </tr>\n",
       "    <tr>\n",
       "      <th>4</th>\n",
       "      <td>대구광역시</td>\n",
       "      <td>수성구</td>\n",
       "      <td>만촌1동</td>\n",
       "      <td>888</td>\n",
       "    </tr>\n",
       "  </tbody>\n",
       "</table>\n",
       "</div>"
      ],
      "text/plain": [
       "     시도명 시군구명  행정동명   상가수\n",
       "0  대구광역시  수성구  고산1동  1120\n",
       "1  대구광역시  수성구  고산2동   915\n",
       "2  대구광역시  수성구  고산3동   934\n",
       "3  대구광역시  수성구   두산동  1388\n",
       "4  대구광역시  수성구  만촌1동   888"
      ]
     },
     "execution_count": 4,
     "metadata": {},
     "output_type": "execute_result"
    }
   ],
   "source": [
    "seoul_daegu.groupby(['시도명','시군구명', '행정동명']).size().reset_index(name = '상가수').head()"
   ]
  },
  {
   "cell_type": "code",
   "execution_count": 5,
   "metadata": {
    "ExecuteTime": {
     "end_time": "2020-08-02T05:06:56.192795Z",
     "start_time": "2020-08-02T05:06:56.176764Z"
    }
   },
   "outputs": [],
   "source": [
    "# seoul_daegu[['시군구코드', '시군구명']].drop_duplicates('시군구코드', keep = 'last').set_index('시군구코드').to_dict().get('시군구명')"
   ]
  },
  {
   "cell_type": "code",
   "execution_count": 21,
   "metadata": {
    "ExecuteTime": {
     "end_time": "2020-08-05T07:08:15.314509Z",
     "start_time": "2020-08-05T07:08:13.211110Z"
    }
   },
   "outputs": [
    {
     "data": {
      "text/plain": [
       "<matplotlib.patches.Polygon at 0x23782945320>"
      ]
     },
     "execution_count": 21,
     "metadata": {},
     "output_type": "execute_result"
    },
    {
     "data": {
      "image/png": "[encoded data removed]",
      "text/plain": [
       "<Figure size 1296x648 with 1 Axes>"
      ]
     },
     "metadata": {},
     "output_type": "display_data"
    }
   ],
   "source": [
    "plt.figure(figsize = (18,9))\n",
    "sns.barplot(\n",
    "    data = seoul_daegu.groupby(['시도명','시군구코드', '행정동명']).size().reset_index(name = '상가수').sort_values(by = ['시도명','상가수'], ascending = [0,0]),\n",
    "    x = '행정동명',\n",
    "    y = '상가수',\n",
    "    hue = '시군구코드',\n",
    "           )\n",
    "\n",
    "plt.xticks(rotation=45, size=9, ha='right')\n",
    "plt.annotate('서울', xy=(14,5500), size = 20)\n",
    "plt.annotate('대구', xy=(14+34.5,5500), size = 20)\n",
    "plt.axvspan(-1,33.5, 0,6000, color = 'yellow', alpha = 0.05)\n",
    "plt.axvspan(33.5,68.5, 0,6000, color = 'blue', alpha = 0.05)"
   ]
  },
  {
   "cell_type": "code",
   "execution_count": 12,
   "metadata": {
    "ExecuteTime": {
     "end_time": "2020-08-02T05:04:32.080810Z",
     "start_time": "2020-08-02T05:04:32.065950Z"
    }
   },
   "outputs": [
    {
     "data": {
      "text/plain": [
       "Index(['상가업소번호', '상호명', '지점명', '상권업종대분류코드', '상권업종대분류명', '상권업종중분류코드',\n",
       "       '상권업종중분류명', '상권업종소분류코드', '상권업종소분류명', '표준산업분류코드', '표준산업분류명', '시도코드',\n",
       "       '시도명', '시군구코드', '시군구명', '행정동코드', '행정동명', '법정동코드', '법정동명', '지번코드',\n",
       "       '대지구분코드', '대지구분명', '지번본번지', '지번부번지', '지번주소', '도로명코드', '도로명', '건물본번지',\n",
       "       '건물부번지', '건물관리번호', '건물명', '도로명주소', '구우편번호', '신우편번호', '동정보', '층정보',\n",
       "       '호정보', '경도', '위도'],\n",
       "      dtype='object')"
      ]
     },
     "execution_count": 12,
     "metadata": {},
     "output_type": "execute_result"
    }
   ],
   "source": [
    "seoul_daegu.columns"
   ]
  },
  {
   "cell_type": "code",
   "execution_count": 9,
   "metadata": {
    "ExecuteTime": {
     "end_time": "2020-08-02T05:07:36.049363Z",
     "start_time": "2020-08-02T05:07:36.017401Z"
    }
   },
   "outputs": [],
   "source": [
    "tmp = seoul_daegu.groupby(['시도명','시군구코드', '행정동명','상권업종대분류명']).size().reset_index(name = '총계')"
   ]
  },
  {
   "cell_type": "code",
   "execution_count": 10,
   "metadata": {
    "ExecuteTime": {
     "end_time": "2020-08-02T05:07:36.737485Z",
     "start_time": "2020-08-02T05:07:36.697440Z"
    }
   },
   "outputs": [
    {
     "data": {
      "text/html": [
       "<div>\n",
       "<style scoped>\n",
       "    .dataframe tbody tr th:only-of-type {\n",
       "        vertical-align: middle;\n",
       "    }\n",
       "\n",
       "    .dataframe tbody tr th {\n",
       "        vertical-align: top;\n",
       "    }\n",
       "\n",
       "    .dataframe thead th {\n",
       "        text-align: right;\n",
       "    }\n",
       "</style>\n",
       "<table border=\"1\" class=\"dataframe\">\n",
       "  <thead>\n",
       "    <tr style=\"text-align: right;\">\n",
       "      <th>상권업종대분류명</th>\n",
       "      <th>관광/여가/오락</th>\n",
       "      <th>도매/유통/무역</th>\n",
       "      <th>부동산</th>\n",
       "      <th>생활서비스</th>\n",
       "      <th>소매</th>\n",
       "      <th>숙박</th>\n",
       "      <th>스포츠</th>\n",
       "      <th>음식</th>\n",
       "      <th>제조</th>\n",
       "      <th>학문/교육</th>\n",
       "    </tr>\n",
       "    <tr>\n",
       "      <th>행정동명</th>\n",
       "      <th></th>\n",
       "      <th></th>\n",
       "      <th></th>\n",
       "      <th></th>\n",
       "      <th></th>\n",
       "      <th></th>\n",
       "      <th></th>\n",
       "      <th></th>\n",
       "      <th></th>\n",
       "      <th></th>\n",
       "    </tr>\n",
       "  </thead>\n",
       "  <tbody>\n",
       "    <tr>\n",
       "      <th>고산1동</th>\n",
       "      <td>0.025000</td>\n",
       "      <td>0.0</td>\n",
       "      <td>0.025893</td>\n",
       "      <td>0.150893</td>\n",
       "      <td>0.297321</td>\n",
       "      <td>0.000893</td>\n",
       "      <td>0.001786</td>\n",
       "      <td>0.307143</td>\n",
       "      <td>0.0</td>\n",
       "      <td>0.191071</td>\n",
       "    </tr>\n",
       "    <tr>\n",
       "      <th>고산2동</th>\n",
       "      <td>0.020765</td>\n",
       "      <td>0.0</td>\n",
       "      <td>0.044809</td>\n",
       "      <td>0.179235</td>\n",
       "      <td>0.325683</td>\n",
       "      <td>0.000000</td>\n",
       "      <td>0.000000</td>\n",
       "      <td>0.299454</td>\n",
       "      <td>0.0</td>\n",
       "      <td>0.130055</td>\n",
       "    </tr>\n",
       "    <tr>\n",
       "      <th>고산3동</th>\n",
       "      <td>0.028908</td>\n",
       "      <td>0.0</td>\n",
       "      <td>0.048180</td>\n",
       "      <td>0.171306</td>\n",
       "      <td>0.273019</td>\n",
       "      <td>0.000000</td>\n",
       "      <td>0.003212</td>\n",
       "      <td>0.281585</td>\n",
       "      <td>0.0</td>\n",
       "      <td>0.193790</td>\n",
       "    </tr>\n",
       "    <tr>\n",
       "      <th>공릉1동</th>\n",
       "      <td>0.029135</td>\n",
       "      <td>0.0</td>\n",
       "      <td>0.030848</td>\n",
       "      <td>0.217652</td>\n",
       "      <td>0.271637</td>\n",
       "      <td>0.002571</td>\n",
       "      <td>0.001714</td>\n",
       "      <td>0.389889</td>\n",
       "      <td>0.0</td>\n",
       "      <td>0.056555</td>\n",
       "    </tr>\n",
       "    <tr>\n",
       "      <th>공릉2동</th>\n",
       "      <td>0.043478</td>\n",
       "      <td>0.0</td>\n",
       "      <td>0.031621</td>\n",
       "      <td>0.193676</td>\n",
       "      <td>0.209486</td>\n",
       "      <td>0.001318</td>\n",
       "      <td>0.000000</td>\n",
       "      <td>0.409750</td>\n",
       "      <td>0.0</td>\n",
       "      <td>0.110672</td>\n",
       "    </tr>\n",
       "    <tr>\n",
       "      <th>...</th>\n",
       "      <td>...</td>\n",
       "      <td>...</td>\n",
       "      <td>...</td>\n",
       "      <td>...</td>\n",
       "      <td>...</td>\n",
       "      <td>...</td>\n",
       "      <td>...</td>\n",
       "      <td>...</td>\n",
       "      <td>...</td>\n",
       "      <td>...</td>\n",
       "    </tr>\n",
       "    <tr>\n",
       "      <th>하계2동</th>\n",
       "      <td>0.029586</td>\n",
       "      <td>0.0</td>\n",
       "      <td>0.059172</td>\n",
       "      <td>0.213018</td>\n",
       "      <td>0.236686</td>\n",
       "      <td>0.000000</td>\n",
       "      <td>0.005917</td>\n",
       "      <td>0.242604</td>\n",
       "      <td>0.0</td>\n",
       "      <td>0.213018</td>\n",
       "    </tr>\n",
       "    <tr>\n",
       "      <th>황금1동</th>\n",
       "      <td>0.004141</td>\n",
       "      <td>0.0</td>\n",
       "      <td>0.053830</td>\n",
       "      <td>0.157350</td>\n",
       "      <td>0.308489</td>\n",
       "      <td>0.000000</td>\n",
       "      <td>0.006211</td>\n",
       "      <td>0.221532</td>\n",
       "      <td>0.0</td>\n",
       "      <td>0.248447</td>\n",
       "    </tr>\n",
       "    <tr>\n",
       "      <th>황금2동</th>\n",
       "      <td>0.031214</td>\n",
       "      <td>0.0</td>\n",
       "      <td>0.025434</td>\n",
       "      <td>0.187283</td>\n",
       "      <td>0.304046</td>\n",
       "      <td>0.027746</td>\n",
       "      <td>0.004624</td>\n",
       "      <td>0.361850</td>\n",
       "      <td>0.0</td>\n",
       "      <td>0.057803</td>\n",
       "    </tr>\n",
       "    <tr>\n",
       "      <th>황학동</th>\n",
       "      <td>0.017241</td>\n",
       "      <td>0.0</td>\n",
       "      <td>0.043103</td>\n",
       "      <td>0.090517</td>\n",
       "      <td>0.502155</td>\n",
       "      <td>0.012931</td>\n",
       "      <td>0.002155</td>\n",
       "      <td>0.325431</td>\n",
       "      <td>0.0</td>\n",
       "      <td>0.006466</td>\n",
       "    </tr>\n",
       "    <tr>\n",
       "      <th>회현동</th>\n",
       "      <td>0.008872</td>\n",
       "      <td>0.0</td>\n",
       "      <td>0.009125</td>\n",
       "      <td>0.048923</td>\n",
       "      <td>0.746261</td>\n",
       "      <td>0.010139</td>\n",
       "      <td>0.000253</td>\n",
       "      <td>0.172624</td>\n",
       "      <td>0.0</td>\n",
       "      <td>0.003802</td>\n",
       "    </tr>\n",
       "  </tbody>\n",
       "</table>\n",
       "<p>69 rows × 10 columns</p>\n",
       "</div>"
      ],
      "text/plain": [
       "상권업종대분류명  관광/여가/오락  도매/유통/무역       부동산     생활서비스        소매        숙박  \\\n",
       "행정동명                                                                   \n",
       "고산1동      0.025000       0.0  0.025893  0.150893  0.297321  0.000893   \n",
       "고산2동      0.020765       0.0  0.044809  0.179235  0.325683  0.000000   \n",
       "고산3동      0.028908       0.0  0.048180  0.171306  0.273019  0.000000   \n",
       "공릉1동      0.029135       0.0  0.030848  0.217652  0.271637  0.002571   \n",
       "공릉2동      0.043478       0.0  0.031621  0.193676  0.209486  0.001318   \n",
       "...            ...       ...       ...       ...       ...       ...   \n",
       "하계2동      0.029586       0.0  0.059172  0.213018  0.236686  0.000000   \n",
       "황금1동      0.004141       0.0  0.053830  0.157350  0.308489  0.000000   \n",
       "황금2동      0.031214       0.0  0.025434  0.187283  0.304046  0.027746   \n",
       "황학동       0.017241       0.0  0.043103  0.090517  0.502155  0.012931   \n",
       "회현동       0.008872       0.0  0.009125  0.048923  0.746261  0.010139   \n",
       "\n",
       "상권업종대분류명       스포츠        음식   제조     학문/교육  \n",
       "행정동명                                         \n",
       "고산1동      0.001786  0.307143  0.0  0.191071  \n",
       "고산2동      0.000000  0.299454  0.0  0.130055  \n",
       "고산3동      0.003212  0.281585  0.0  0.193790  \n",
       "공릉1동      0.001714  0.389889  0.0  0.056555  \n",
       "공릉2동      0.000000  0.409750  0.0  0.110672  \n",
       "...            ...       ...  ...       ...  \n",
       "하계2동      0.005917  0.242604  0.0  0.213018  \n",
       "황금1동      0.006211  0.221532  0.0  0.248447  \n",
       "황금2동      0.004624  0.361850  0.0  0.057803  \n",
       "황학동       0.002155  0.325431  0.0  0.006466  \n",
       "회현동       0.000253  0.172624  0.0  0.003802  \n",
       "\n",
       "[69 rows x 10 columns]"
      ]
     },
     "execution_count": 10,
     "metadata": {},
     "output_type": "execute_result"
    }
   ],
   "source": [
    "pd.crosstab(tmp['행정동명'], tmp['상권업종대분류명'], tmp['총계'], aggfunc='sum' ,normalize='index')"
   ]
  },
  {
   "cell_type": "code",
   "execution_count": 11,
   "metadata": {
    "ExecuteTime": {
     "end_time": "2020-08-02T05:07:38.500158Z",
     "start_time": "2020-08-02T05:07:37.497554Z"
    }
   },
   "outputs": [
    {
     "data": {
      "text/plain": [
       "<matplotlib.axes._subplots.AxesSubplot at 0x280168273c8>"
      ]
     },
     "execution_count": 11,
     "metadata": {},
     "output_type": "execute_result"
    },
    {
     "data": {
      "image/png": "[encoded data removed]",
      "text/plain": [
       "<Figure size 576x1152 with 2 Axes>"
      ]
     },
     "metadata": {
      "needs_background": "light"
     },
     "output_type": "display_data"
    }
   ],
   "source": [
    "plt.figure(figsize = (8,16))\n",
    "sns.heatmap(pd.crosstab(tmp['행정동명'], tmp['상권업종대분류명'], tmp['총계'], aggfunc='sum' ,normalize='index'), cmap = 'YlGnBu')"
   ]
  },
  {
   "cell_type": "code",
   "execution_count": 12,
   "metadata": {
    "ExecuteTime": {
     "end_time": "2020-08-02T05:07:46.812674Z",
     "start_time": "2020-08-02T05:07:46.796676Z"
    }
   },
   "outputs": [],
   "source": [
    "tmp_pivot = pd.crosstab(tmp['행정동명'], tmp['상권업종대분류명'], tmp['총계'], aggfunc='sum' ,normalize='index')"
   ]
  },
  {
   "cell_type": "code",
   "execution_count": 13,
   "metadata": {
    "ExecuteTime": {
     "end_time": "2020-08-02T05:07:47.244674Z",
     "start_time": "2020-08-02T05:07:47.220674Z"
    }
   },
   "outputs": [
    {
     "data": {
      "text/html": [
       "<div>\n",
       "<style scoped>\n",
       "    .dataframe tbody tr th:only-of-type {\n",
       "        vertical-align: middle;\n",
       "    }\n",
       "\n",
       "    .dataframe tbody tr th {\n",
       "        vertical-align: top;\n",
       "    }\n",
       "\n",
       "    .dataframe thead th {\n",
       "        text-align: right;\n",
       "    }\n",
       "</style>\n",
       "<table border=\"1\" class=\"dataframe\">\n",
       "  <thead>\n",
       "    <tr style=\"text-align: right;\">\n",
       "      <th>상권업종대분류명</th>\n",
       "      <th>관광/여가/오락</th>\n",
       "      <th>도매/유통/무역</th>\n",
       "      <th>부동산</th>\n",
       "      <th>생활서비스</th>\n",
       "      <th>소매</th>\n",
       "      <th>숙박</th>\n",
       "      <th>스포츠</th>\n",
       "      <th>음식</th>\n",
       "      <th>제조</th>\n",
       "      <th>학문/교육</th>\n",
       "    </tr>\n",
       "    <tr>\n",
       "      <th>행정동명</th>\n",
       "      <th></th>\n",
       "      <th></th>\n",
       "      <th></th>\n",
       "      <th></th>\n",
       "      <th></th>\n",
       "      <th></th>\n",
       "      <th></th>\n",
       "      <th></th>\n",
       "      <th></th>\n",
       "      <th></th>\n",
       "    </tr>\n",
       "  </thead>\n",
       "  <tbody>\n",
       "    <tr>\n",
       "      <th>고산1동</th>\n",
       "      <td>0.025000</td>\n",
       "      <td>0.0</td>\n",
       "      <td>0.025893</td>\n",
       "      <td>0.150893</td>\n",
       "      <td>0.297321</td>\n",
       "      <td>0.000893</td>\n",
       "      <td>0.001786</td>\n",
       "      <td>0.307143</td>\n",
       "      <td>0.0</td>\n",
       "      <td>0.191071</td>\n",
       "    </tr>\n",
       "    <tr>\n",
       "      <th>고산2동</th>\n",
       "      <td>0.020765</td>\n",
       "      <td>0.0</td>\n",
       "      <td>0.044809</td>\n",
       "      <td>0.179235</td>\n",
       "      <td>0.325683</td>\n",
       "      <td>0.000000</td>\n",
       "      <td>0.000000</td>\n",
       "      <td>0.299454</td>\n",
       "      <td>0.0</td>\n",
       "      <td>0.130055</td>\n",
       "    </tr>\n",
       "    <tr>\n",
       "      <th>고산3동</th>\n",
       "      <td>0.028908</td>\n",
       "      <td>0.0</td>\n",
       "      <td>0.048180</td>\n",
       "      <td>0.171306</td>\n",
       "      <td>0.273019</td>\n",
       "      <td>0.000000</td>\n",
       "      <td>0.003212</td>\n",
       "      <td>0.281585</td>\n",
       "      <td>0.0</td>\n",
       "      <td>0.193790</td>\n",
       "    </tr>\n",
       "    <tr>\n",
       "      <th>공릉1동</th>\n",
       "      <td>0.029135</td>\n",
       "      <td>0.0</td>\n",
       "      <td>0.030848</td>\n",
       "      <td>0.217652</td>\n",
       "      <td>0.271637</td>\n",
       "      <td>0.002571</td>\n",
       "      <td>0.001714</td>\n",
       "      <td>0.389889</td>\n",
       "      <td>0.0</td>\n",
       "      <td>0.056555</td>\n",
       "    </tr>\n",
       "    <tr>\n",
       "      <th>공릉2동</th>\n",
       "      <td>0.043478</td>\n",
       "      <td>0.0</td>\n",
       "      <td>0.031621</td>\n",
       "      <td>0.193676</td>\n",
       "      <td>0.209486</td>\n",
       "      <td>0.001318</td>\n",
       "      <td>0.000000</td>\n",
       "      <td>0.409750</td>\n",
       "      <td>0.0</td>\n",
       "      <td>0.110672</td>\n",
       "    </tr>\n",
       "  </tbody>\n",
       "</table>\n",
       "</div>"
      ],
      "text/plain": [
       "상권업종대분류명  관광/여가/오락  도매/유통/무역       부동산     생활서비스        소매        숙박  \\\n",
       "행정동명                                                                   \n",
       "고산1동      0.025000       0.0  0.025893  0.150893  0.297321  0.000893   \n",
       "고산2동      0.020765       0.0  0.044809  0.179235  0.325683  0.000000   \n",
       "고산3동      0.028908       0.0  0.048180  0.171306  0.273019  0.000000   \n",
       "공릉1동      0.029135       0.0  0.030848  0.217652  0.271637  0.002571   \n",
       "공릉2동      0.043478       0.0  0.031621  0.193676  0.209486  0.001318   \n",
       "\n",
       "상권업종대분류명       스포츠        음식   제조     학문/교육  \n",
       "행정동명                                         \n",
       "고산1동      0.001786  0.307143  0.0  0.191071  \n",
       "고산2동      0.000000  0.299454  0.0  0.130055  \n",
       "고산3동      0.003212  0.281585  0.0  0.193790  \n",
       "공릉1동      0.001714  0.389889  0.0  0.056555  \n",
       "공릉2동      0.000000  0.409750  0.0  0.110672  "
      ]
     },
     "execution_count": 13,
     "metadata": {},
     "output_type": "execute_result"
    }
   ],
   "source": [
    "tmp_pivot.head()"
   ]
  },
  {
   "cell_type": "code",
   "execution_count": 14,
   "metadata": {
    "ExecuteTime": {
     "end_time": "2020-08-02T05:07:48.764819Z",
     "start_time": "2020-08-02T05:07:48.500672Z"
    }
   },
   "outputs": [],
   "source": [
    "from sklearn.cluster import KMeans"
   ]
  },
  {
   "cell_type": "code",
   "execution_count": 15,
   "metadata": {
    "ExecuteTime": {
     "end_time": "2020-08-02T05:07:49.084707Z",
     "start_time": "2020-08-02T05:07:49.052717Z"
    }
   },
   "outputs": [],
   "source": [
    "km_clst = KMeans(n_clusters=4)\n",
    "tmp_pivot['cluster'] = km_clst.fit_predict(tmp_pivot)"
   ]
  },
  {
   "cell_type": "code",
   "execution_count": 38,
   "metadata": {
    "ExecuteTime": {
     "end_time": "2020-08-02T05:13:09.351068Z",
     "start_time": "2020-08-02T05:13:09.335059Z"
    }
   },
   "outputs": [
    {
     "data": {
      "text/html": [
       "<div>\n",
       "<style scoped>\n",
       "    .dataframe tbody tr th:only-of-type {\n",
       "        vertical-align: middle;\n",
       "    }\n",
       "\n",
       "    .dataframe tbody tr th {\n",
       "        vertical-align: top;\n",
       "    }\n",
       "\n",
       "    .dataframe thead th {\n",
       "        text-align: right;\n",
       "    }\n",
       "</style>\n",
       "<table border=\"1\" class=\"dataframe\">\n",
       "  <thead>\n",
       "    <tr style=\"text-align: right;\">\n",
       "      <th>상권업종대분류명</th>\n",
       "      <th>관광/여가/오락</th>\n",
       "      <th>도매/유통/무역</th>\n",
       "      <th>부동산</th>\n",
       "      <th>생활서비스</th>\n",
       "      <th>소매</th>\n",
       "      <th>숙박</th>\n",
       "      <th>스포츠</th>\n",
       "      <th>음식</th>\n",
       "      <th>제조</th>\n",
       "      <th>학문/교육</th>\n",
       "      <th>cluster</th>\n",
       "    </tr>\n",
       "    <tr>\n",
       "      <th>행정동명</th>\n",
       "      <th></th>\n",
       "      <th></th>\n",
       "      <th></th>\n",
       "      <th></th>\n",
       "      <th></th>\n",
       "      <th></th>\n",
       "      <th></th>\n",
       "      <th></th>\n",
       "      <th></th>\n",
       "      <th></th>\n",
       "      <th></th>\n",
       "    </tr>\n",
       "  </thead>\n",
       "  <tbody>\n",
       "    <tr>\n",
       "      <th>고산1동</th>\n",
       "      <td>0.025000</td>\n",
       "      <td>0.0</td>\n",
       "      <td>0.025893</td>\n",
       "      <td>0.150893</td>\n",
       "      <td>0.297321</td>\n",
       "      <td>0.000893</td>\n",
       "      <td>0.001786</td>\n",
       "      <td>0.307143</td>\n",
       "      <td>0.0</td>\n",
       "      <td>0.191071</td>\n",
       "      <td>0</td>\n",
       "    </tr>\n",
       "    <tr>\n",
       "      <th>고산2동</th>\n",
       "      <td>0.020765</td>\n",
       "      <td>0.0</td>\n",
       "      <td>0.044809</td>\n",
       "      <td>0.179235</td>\n",
       "      <td>0.325683</td>\n",
       "      <td>0.000000</td>\n",
       "      <td>0.000000</td>\n",
       "      <td>0.299454</td>\n",
       "      <td>0.0</td>\n",
       "      <td>0.130055</td>\n",
       "      <td>0</td>\n",
       "    </tr>\n",
       "    <tr>\n",
       "      <th>고산3동</th>\n",
       "      <td>0.028908</td>\n",
       "      <td>0.0</td>\n",
       "      <td>0.048180</td>\n",
       "      <td>0.171306</td>\n",
       "      <td>0.273019</td>\n",
       "      <td>0.000000</td>\n",
       "      <td>0.003212</td>\n",
       "      <td>0.281585</td>\n",
       "      <td>0.0</td>\n",
       "      <td>0.193790</td>\n",
       "      <td>0</td>\n",
       "    </tr>\n",
       "    <tr>\n",
       "      <th>공릉1동</th>\n",
       "      <td>0.029135</td>\n",
       "      <td>0.0</td>\n",
       "      <td>0.030848</td>\n",
       "      <td>0.217652</td>\n",
       "      <td>0.271637</td>\n",
       "      <td>0.002571</td>\n",
       "      <td>0.001714</td>\n",
       "      <td>0.389889</td>\n",
       "      <td>0.0</td>\n",
       "      <td>0.056555</td>\n",
       "      <td>2</td>\n",
       "    </tr>\n",
       "    <tr>\n",
       "      <th>공릉2동</th>\n",
       "      <td>0.043478</td>\n",
       "      <td>0.0</td>\n",
       "      <td>0.031621</td>\n",
       "      <td>0.193676</td>\n",
       "      <td>0.209486</td>\n",
       "      <td>0.001318</td>\n",
       "      <td>0.000000</td>\n",
       "      <td>0.409750</td>\n",
       "      <td>0.0</td>\n",
       "      <td>0.110672</td>\n",
       "      <td>2</td>\n",
       "    </tr>\n",
       "  </tbody>\n",
       "</table>\n",
       "</div>"
      ],
      "text/plain": [
       "상권업종대분류명  관광/여가/오락  도매/유통/무역       부동산     생활서비스        소매        숙박  \\\n",
       "행정동명                                                                   \n",
       "고산1동      0.025000       0.0  0.025893  0.150893  0.297321  0.000893   \n",
       "고산2동      0.020765       0.0  0.044809  0.179235  0.325683  0.000000   \n",
       "고산3동      0.028908       0.0  0.048180  0.171306  0.273019  0.000000   \n",
       "공릉1동      0.029135       0.0  0.030848  0.217652  0.271637  0.002571   \n",
       "공릉2동      0.043478       0.0  0.031621  0.193676  0.209486  0.001318   \n",
       "\n",
       "상권업종대분류명       스포츠        음식   제조     학문/교육  cluster  \n",
       "행정동명                                                  \n",
       "고산1동      0.001786  0.307143  0.0  0.191071        0  \n",
       "고산2동      0.000000  0.299454  0.0  0.130055        0  \n",
       "고산3동      0.003212  0.281585  0.0  0.193790        0  \n",
       "공릉1동      0.001714  0.389889  0.0  0.056555        2  \n",
       "공릉2동      0.000000  0.409750  0.0  0.110672        2  "
      ]
     },
     "execution_count": 38,
     "metadata": {},
     "output_type": "execute_result"
    }
   ],
   "source": [
    "tmp_pivot.head()"
   ]
  },
  {
   "cell_type": "code",
   "execution_count": 17,
   "metadata": {
    "ExecuteTime": {
     "end_time": "2020-08-02T05:07:50.512064Z",
     "start_time": "2020-08-02T05:07:50.496064Z"
    }
   },
   "outputs": [
    {
     "data": {
      "text/html": [
       "<div>\n",
       "<style scoped>\n",
       "    .dataframe tbody tr th:only-of-type {\n",
       "        vertical-align: middle;\n",
       "    }\n",
       "\n",
       "    .dataframe tbody tr th {\n",
       "        vertical-align: top;\n",
       "    }\n",
       "\n",
       "    .dataframe thead th {\n",
       "        text-align: right;\n",
       "    }\n",
       "</style>\n",
       "<table border=\"1\" class=\"dataframe\">\n",
       "  <thead>\n",
       "    <tr style=\"text-align: right;\">\n",
       "      <th>상권업종대분류명</th>\n",
       "      <th>관광/여가/오락</th>\n",
       "      <th>도매/유통/무역</th>\n",
       "      <th>부동산</th>\n",
       "      <th>생활서비스</th>\n",
       "      <th>소매</th>\n",
       "      <th>숙박</th>\n",
       "      <th>스포츠</th>\n",
       "      <th>음식</th>\n",
       "      <th>제조</th>\n",
       "      <th>학문/교육</th>\n",
       "    </tr>\n",
       "    <tr>\n",
       "      <th>cluster</th>\n",
       "      <th></th>\n",
       "      <th></th>\n",
       "      <th></th>\n",
       "      <th></th>\n",
       "      <th></th>\n",
       "      <th></th>\n",
       "      <th></th>\n",
       "      <th></th>\n",
       "      <th></th>\n",
       "      <th></th>\n",
       "    </tr>\n",
       "  </thead>\n",
       "  <tbody>\n",
       "    <tr>\n",
       "      <th>0</th>\n",
       "      <td>0.023461</td>\n",
       "      <td>0.000035</td>\n",
       "      <td>0.042334</td>\n",
       "      <td>0.201256</td>\n",
       "      <td>0.296509</td>\n",
       "      <td>0.002736</td>\n",
       "      <td>0.001585</td>\n",
       "      <td>0.268183</td>\n",
       "      <td>0.000050</td>\n",
       "      <td>0.163850</td>\n",
       "    </tr>\n",
       "    <tr>\n",
       "      <th>1</th>\n",
       "      <td>0.006565</td>\n",
       "      <td>0.000000</td>\n",
       "      <td>0.008239</td>\n",
       "      <td>0.040294</td>\n",
       "      <td>0.817181</td>\n",
       "      <td>0.005715</td>\n",
       "      <td>0.000214</td>\n",
       "      <td>0.115193</td>\n",
       "      <td>0.000000</td>\n",
       "      <td>0.006598</td>\n",
       "    </tr>\n",
       "    <tr>\n",
       "      <th>2</th>\n",
       "      <td>0.028363</td>\n",
       "      <td>0.000000</td>\n",
       "      <td>0.030902</td>\n",
       "      <td>0.193164</td>\n",
       "      <td>0.285520</td>\n",
       "      <td>0.010130</td>\n",
       "      <td>0.001246</td>\n",
       "      <td>0.383606</td>\n",
       "      <td>0.000043</td>\n",
       "      <td>0.067026</td>\n",
       "    </tr>\n",
       "    <tr>\n",
       "      <th>3</th>\n",
       "      <td>0.012255</td>\n",
       "      <td>0.000000</td>\n",
       "      <td>0.016870</td>\n",
       "      <td>0.151575</td>\n",
       "      <td>0.485266</td>\n",
       "      <td>0.012809</td>\n",
       "      <td>0.000907</td>\n",
       "      <td>0.285249</td>\n",
       "      <td>0.000000</td>\n",
       "      <td>0.035069</td>\n",
       "    </tr>\n",
       "  </tbody>\n",
       "</table>\n",
       "</div>"
      ],
      "text/plain": [
       "상권업종대분류명  관광/여가/오락  도매/유통/무역       부동산     생활서비스        소매        숙박  \\\n",
       "cluster                                                                \n",
       "0         0.023461  0.000035  0.042334  0.201256  0.296509  0.002736   \n",
       "1         0.006565  0.000000  0.008239  0.040294  0.817181  0.005715   \n",
       "2         0.028363  0.000000  0.030902  0.193164  0.285520  0.010130   \n",
       "3         0.012255  0.000000  0.016870  0.151575  0.485266  0.012809   \n",
       "\n",
       "상권업종대분류명       스포츠        음식        제조     학문/교육  \n",
       "cluster                                           \n",
       "0         0.001585  0.268183  0.000050  0.163850  \n",
       "1         0.000214  0.115193  0.000000  0.006598  \n",
       "2         0.001246  0.383606  0.000043  0.067026  \n",
       "3         0.000907  0.285249  0.000000  0.035069  "
      ]
     },
     "execution_count": 17,
     "metadata": {},
     "output_type": "execute_result"
    }
   ],
   "source": [
    "tmp_pivot.groupby('cluster').mean()"
   ]
  },
  {
   "cell_type": "code",
   "execution_count": 18,
   "metadata": {
    "ExecuteTime": {
     "end_time": "2020-08-02T05:07:52.928092Z",
     "start_time": "2020-08-02T05:07:52.656060Z"
    }
   },
   "outputs": [
    {
     "data": {
      "text/plain": [
       "<matplotlib.legend.Legend at 0x28018d1c1d0>"
      ]
     },
     "execution_count": 18,
     "metadata": {},
     "output_type": "execute_result"
    },
    {
     "data": {
      "image/png": "[encoded data removed]",
      "text/plain": [
       "<Figure size 1080x360 with 1 Axes>"
      ]
     },
     "metadata": {
      "needs_background": "light"
     },
     "output_type": "display_data"
    }
   ],
   "source": [
    "tmp_pivot.groupby('cluster').mean().plot(kind = 'bar', figsize= (15,5))\n",
    "plt.legend(loc = 'best')\n",
    "\n",
    "#pie plot"
   ]
  },
  {
   "cell_type": "markdown",
   "metadata": {},
   "source": [
    "Cluster  \n",
    "* 0 => '교육'관련 업종이 다른 cluster들에 비해 높은편\n",
    "* 1 => '소매'업종이 대다수\n",
    "* 2,3 => 같은 cluster로 묶여도 될 듯?"
   ]
  },
  {
   "cell_type": "code",
   "execution_count": 42,
   "metadata": {
    "ExecuteTime": {
     "end_time": "2020-08-02T05:17:34.651441Z",
     "start_time": "2020-08-02T05:17:34.627437Z"
    }
   },
   "outputs": [
    {
     "data": {
      "text/plain": [
       "array(['운송/배달/택배', '광고/인쇄', '세탁/가사서비스', '사진', '인력/고용/용역알선', '이/미용/건강',\n",
       "       '자동차/이륜차', '개인서비스', '대행업', '주택수리', '물품기기대여', '개인/가정용품수리', '기타서비스업',\n",
       "       '행사/이벤트', '장례/묘지', '법무세무회계', '예식/의례/관혼상제', '주유소/충전소', '대중목욕탕/휴게'],\n",
       "      dtype=object)"
      ]
     },
     "execution_count": 42,
     "metadata": {},
     "output_type": "execute_result"
    }
   ],
   "source": [
    "seoul_daegu.query('상권업종대분류명 == \\'생활서비스\\'')['상권업종중분류명'].unique()"
   ]
  },
  {
   "cell_type": "code",
   "execution_count": 44,
   "metadata": {
    "ExecuteTime": {
     "end_time": "2020-08-02T05:18:18.678662Z",
     "start_time": "2020-08-02T05:18:18.646666Z"
    }
   },
   "outputs": [
    {
     "data": {
      "text/html": [
       "<div>\n",
       "<style scoped>\n",
       "    .dataframe tbody tr th:only-of-type {\n",
       "        vertical-align: middle;\n",
       "    }\n",
       "\n",
       "    .dataframe tbody tr th {\n",
       "        vertical-align: top;\n",
       "    }\n",
       "\n",
       "    .dataframe thead th {\n",
       "        text-align: right;\n",
       "    }\n",
       "</style>\n",
       "<table border=\"1\" class=\"dataframe\">\n",
       "  <thead>\n",
       "    <tr style=\"text-align: right;\">\n",
       "      <th></th>\n",
       "      <th>상권업종대분류명</th>\n",
       "      <th>상권업종중분류명</th>\n",
       "    </tr>\n",
       "  </thead>\n",
       "  <tbody>\n",
       "    <tr>\n",
       "      <th>0</th>\n",
       "      <td>관광/여가/오락</td>\n",
       "      <td>[PC/오락/당구/볼링등, 무도/유흥/가무, 요가/단전/마사지, 놀이/여가/취미, ...</td>\n",
       "    </tr>\n",
       "    <tr>\n",
       "      <th>1</th>\n",
       "      <td>도매/유통/무역</td>\n",
       "      <td>[의류도매]</td>\n",
       "    </tr>\n",
       "    <tr>\n",
       "      <th>2</th>\n",
       "      <td>부동산</td>\n",
       "      <td>[부동산중개, 평가/개발/관리, 분양, 부동산관련서비스]</td>\n",
       "    </tr>\n",
       "    <tr>\n",
       "      <th>3</th>\n",
       "      <td>생활서비스</td>\n",
       "      <td>[운송/배달/택배, 광고/인쇄, 세탁/가사서비스, 사진, 인력/고용/용역알선, 이/...</td>\n",
       "    </tr>\n",
       "    <tr>\n",
       "      <th>4</th>\n",
       "      <td>소매</td>\n",
       "      <td>[음/식료품소매, 가정/주방/인테리어, 의복의류, 사진/광학/정밀기기소매, 사무/문...</td>\n",
       "    </tr>\n",
       "    <tr>\n",
       "      <th>5</th>\n",
       "      <td>숙박</td>\n",
       "      <td>[호텔/콘도, 모텔/여관/여인숙, 캠프/별장/펜션, 민박/하숙, 유스호스텔]</td>\n",
       "    </tr>\n",
       "    <tr>\n",
       "      <th>6</th>\n",
       "      <td>스포츠</td>\n",
       "      <td>[실내운동시설, 운영관리시설, 실외운동시설]</td>\n",
       "    </tr>\n",
       "    <tr>\n",
       "      <th>7</th>\n",
       "      <td>음식</td>\n",
       "      <td>[패스트푸드, 커피점/카페, 한식, 유흥주점, 기타음식업, 제과제빵떡케익, 분식, ...</td>\n",
       "    </tr>\n",
       "    <tr>\n",
       "      <th>8</th>\n",
       "      <td>제조</td>\n",
       "      <td>[인쇄, 섬유/직물제조]</td>\n",
       "    </tr>\n",
       "    <tr>\n",
       "      <th>9</th>\n",
       "      <td>학문/교육</td>\n",
       "      <td>[학원-음악미술무용, 학원기타, 유아교육, 학원-보습교습입시, 학원-창업취업취미, ...</td>\n",
       "    </tr>\n",
       "  </tbody>\n",
       "</table>\n",
       "</div>"
      ],
      "text/plain": [
       "   상권업종대분류명                                           상권업종중분류명\n",
       "0  관광/여가/오락  [PC/오락/당구/볼링등, 무도/유흥/가무, 요가/단전/마사지, 놀이/여가/취미, ...\n",
       "1  도매/유통/무역                                             [의류도매]\n",
       "2       부동산                    [부동산중개, 평가/개발/관리, 분양, 부동산관련서비스]\n",
       "3     생활서비스  [운송/배달/택배, 광고/인쇄, 세탁/가사서비스, 사진, 인력/고용/용역알선, 이/...\n",
       "4        소매  [음/식료품소매, 가정/주방/인테리어, 의복의류, 사진/광학/정밀기기소매, 사무/문...\n",
       "5        숙박         [호텔/콘도, 모텔/여관/여인숙, 캠프/별장/펜션, 민박/하숙, 유스호스텔]\n",
       "6       스포츠                           [실내운동시설, 운영관리시설, 실외운동시설]\n",
       "7        음식  [패스트푸드, 커피점/카페, 한식, 유흥주점, 기타음식업, 제과제빵떡케익, 분식, ...\n",
       "8        제조                                      [인쇄, 섬유/직물제조]\n",
       "9     학문/교육  [학원-음악미술무용, 학원기타, 유아교육, 학원-보습교습입시, 학원-창업취업취미, ..."
      ]
     },
     "execution_count": 44,
     "metadata": {},
     "output_type": "execute_result"
    }
   ],
   "source": [
    "seoul_daegu.groupby('상권업종대분류명')['상권업종중분류명'].unique().reset_index()"
   ]
  },
  {
   "cell_type": "code",
   "execution_count": 22,
   "metadata": {
    "ExecuteTime": {
     "end_time": "2020-08-05T11:22:53.224674Z",
     "start_time": "2020-08-05T11:22:53.208684Z"
    }
   },
   "outputs": [],
   "source": [
    "file_name = \"인구__가구_및_주택__읍면동_2015___시군구_2016__20200801201556.csv\""
   ]
  },
  {
   "cell_type": "code",
   "execution_count": 23,
   "metadata": {
    "ExecuteTime": {
     "end_time": "2020-08-05T11:23:29.269556Z",
     "start_time": "2020-08-05T11:23:29.261595Z"
    }
   },
   "outputs": [],
   "source": [
    "file_path = os.path.join(raw_file_path,raw_file_folders[-2],file_name)"
   ]
  },
  {
   "cell_type": "code",
   "execution_count": 27,
   "metadata": {
    "ExecuteTime": {
     "end_time": "2020-08-05T11:24:26.105365Z",
     "start_time": "2020-08-05T11:24:26.089346Z"
    }
   },
   "outputs": [
    {
     "data": {
      "text/plain": [
       "array(['행정구역별(읍면동)', '전국', '읍부', '면부', '동부', '서울특별시', '종로구', '중구', '용산구',\n",
       "       '성동구', '광진구', '동대문구', '중랑구', '성북구', '강북구', '도봉구', '노원구', '은평구',\n",
       "       '서대문구', '마포구', '양천구', '강서구', '구로구', '금천구', '영등포구', '동작구', '관악구',\n",
       "       '서초구', '강남구', '송파구', '강동구', '부산광역시', '서구', '동구', '영도구', '부산진구',\n",
       "       '동래구', '남구', '북구', '해운대구', '사하구', '금정구', '연제구', '수영구', '사상구',\n",
       "       '기장군', '대구광역시', '수성구', '달서구', '달성군', '인천광역시', '연수구', '남동구', '부평구',\n",
       "       '계양구', '미추홀구', '강화군', '옹진군', '광주광역시', '광산구', '대전광역시', '유성구', '대덕구',\n",
       "       '울산광역시', '울주군', '세종특별자치시', '세종시', '경기도', '수원시', '장안구', '권선구',\n",
       "       '팔달구', '영통구', '성남시', '수정구', '중원구', '분당구', '의정부시', '안양시', '만안구',\n",
       "       '동안구', '부천시', '광명시', '평택시', '동두천시', '안산시', '상록구', '단원구', '고양시',\n",
       "       '덕양구', '일산동구', '일산서구', '과천시', '구리시', '남양주시', '오산시', '시흥시', '군포시',\n",
       "       '의왕시', '하남시', '용인시', '처인구', '기흥구', '수지구', '파주시', '이천시', '안성시',\n",
       "       '김포시', '화성시', '광주시', '양주시', '포천시', '여주시', '연천군', '가평군', '양평군',\n",
       "       '강원도', '춘천시', '원주시', '강릉시', '동해시', '태백시', '속초시', '삼척시', '홍천군',\n",
       "       '횡성군', '영월군', '평창군', '정선군', '철원군', '화천군', '양구군', '인제군', '고성군',\n",
       "       '양양군', '충청북도', '충주시', '제천시', '청주시', '상당구', '서원구', '흥덕구', '청원구',\n",
       "       '보은군', '옥천군', '영동군', '진천군', '괴산군', '음성군', '단양군', '증평군', '충청남도',\n",
       "       '천안시', '동남구', '서북구', '공주시', '보령시', '아산시', '서산시', '논산시', '계룡시',\n",
       "       '당진시', '금산군', '부여군', '서천군', '청양군', '홍성군', '예산군', '태안군', '전라북도',\n",
       "       '전주시', '완산구', '덕진구', '군산시', '익산시', '정읍시', '남원시', '김제시', '완주군',\n",
       "       '진안군', '무주군', '장수군', '임실군', '순창군', '고창군', '부안군', '전라남도', '목포시',\n",
       "       '여수시', '순천시', '나주시', '광양시', '담양군', '곡성군', '구례군', '고흥군', '보성군',\n",
       "       '화순군', '장흥군', '강진군', '해남군', '영암군', '무안군', '함평군', '영광군', '장성군',\n",
       "       '완도군', '진도군', '신안군', '경상북도', '포항시', '경주시', '김천시', '안동시', '구미시',\n",
       "       '영주시', '영천시', '상주시', '문경시', '경산시', '군위군', '의성군', '청송군', '영양군',\n",
       "       '영덕군', '청도군', '고령군', '성주군', '칠곡군', '예천군', '봉화군', '울진군', '울릉군',\n",
       "       '경상남도', '진주시', '통영시', '사천시', '김해시', '밀양시', '거제시', '양산시', '창원시',\n",
       "       '의창구', '성산구', '마산합포구', '마산회원구', '진해구', '의령군', '함안군', '창녕군', '남해군',\n",
       "       '하동군', '산청군', '함양군', '거창군', '합천군', '제주특별자치도', '제주시', '서귀포시'],\n",
       "      dtype=object)"
      ]
     },
     "execution_count": 27,
     "metadata": {},
     "output_type": "execute_result"
    }
   ],
   "source": [
    "pd.read_csv(file_path, encoding='cp949').iloc[:,0].unique()"
   ]
  },
  {
   "cell_type": "code",
   "execution_count": 61,
   "metadata": {
    "ExecuteTime": {
     "end_time": "2020-08-02T05:28:32.245632Z",
     "start_time": "2020-08-02T05:28:32.229639Z"
    }
   },
   "outputs": [],
   "source": [
    "df_population_house = pd.read_csv(\"인구__가구_및_주택__읍면동_2015___시군구_2016__20200801201556.csv\", encoding = 'cp949', header = [1])\n",
    "# df_house = pd.read_csv(\"주택의_종류별_주택읍면동_2015___시군구_2016__20200801202232.csv\", encoding = 'cp949', header = [1])"
   ]
  },
  {
   "cell_type": "code",
   "execution_count": 20,
   "metadata": {
    "ExecuteTime": {
     "end_time": "2020-08-02T05:08:27.535385Z",
     "start_time": "2020-08-02T05:08:27.504608Z"
    }
   },
   "outputs": [],
   "source": [
    "seoul_comp = pd.read_csv(\"서울기업체현황.csv\")"
   ]
  },
  {
   "cell_type": "code",
   "execution_count": 21,
   "metadata": {
    "ExecuteTime": {
     "end_time": "2020-08-02T05:08:28.007385Z",
     "start_time": "2020-08-02T05:08:27.999384Z"
    }
   },
   "outputs": [],
   "source": [
    "seoul_comp['사업체수_합계'] = seoul_comp['사업체수_합계'].apply(lambda x: int(x.replace(',','')))"
   ]
  },
  {
   "cell_type": "code",
   "execution_count": 26,
   "metadata": {
    "ExecuteTime": {
     "end_time": "2020-08-02T05:09:50.786666Z",
     "start_time": "2020-08-02T05:09:50.538523Z"
    }
   },
   "outputs": [
    {
     "data": {
      "text/plain": [
       "Text(0.5, 1.0, '구별 상가수')"
      ]
     },
     "execution_count": 26,
     "metadata": {},
     "output_type": "execute_result"
    },
    {
     "data": {
      "image/png": "[encoded data removed]",
      "text/plain": [
       "<Figure size 864x360 with 1 Axes>"
      ]
     },
     "metadata": {
      "needs_background": "light"
     },
     "output_type": "display_data"
    }
   ],
   "source": [
    "seoul_comp.groupby('자치구')['사업체수_합계'].sum().sort_values(0, ascending = False).drop('합계').plot(kind = 'bar', figsize = (12,5))\n",
    "plt.title('구별 상가수', fontsize = 18)\n",
    "# plt.xticks(rotation = 45, ha = 'center')"
   ]
  },
  {
   "cell_type": "code",
   "execution_count": 57,
   "metadata": {
    "ExecuteTime": {
     "end_time": "2020-08-02T05:25:57.403890Z",
     "start_time": "2020-08-02T05:25:57.395930Z"
    }
   },
   "outputs": [
    {
     "data": {
      "text/plain": [
       "Index(['행정구역별(읍면동)', '총인구 (명)', '남자 (명)', '여자 (명)', '내국인-계 (명)', '내국인-남자 (명)',\n",
       "       '내국인-여자 (명)', '외국인-계 (명)', '외국인-남자 (명)', '외국인-여자 (명)', '가구-계 (가구)',\n",
       "       '일반가구 (가구)', '집단가구 (가구)', '외국인가구 (가구)', '주택-계 (호)', '단독주택 (호)',\n",
       "       '아파트 (호)', '연립주택 (호)', '다세대주택 (호)', '비거주용 건물내 주택 (호)', '주택이외의 거처 (호)'],\n",
       "      dtype='object')"
      ]
     },
     "execution_count": 57,
     "metadata": {},
     "output_type": "execute_result"
    }
   ],
   "source": [
    "df_population_house.columns"
   ]
  },
  {
   "cell_type": "code",
   "execution_count": 63,
   "metadata": {
    "ExecuteTime": {
     "end_time": "2020-08-02T05:28:38.078961Z",
     "start_time": "2020-08-02T05:28:38.070963Z"
    }
   },
   "outputs": [],
   "source": [
    "df_population_house.\\\n",
    "rename(columns={'행정구역별(읍면동)' : '행정동',\n",
    "                '주택-계 (호)' : '총주택',\n",
    "                '총인구 (명)' : '총인구',\n",
    "                '가구-계 (가구)' : '총가구',\n",
    "                '주택이외의 거처 (호)' : '오피스텔'}, inplace=True)"
   ]
  },
  {
   "cell_type": "code",
   "execution_count": 72,
   "metadata": {
    "ExecuteTime": {
     "end_time": "2020-08-02T05:31:12.273657Z",
     "start_time": "2020-08-02T05:31:12.257654Z"
    }
   },
   "outputs": [],
   "source": [
    "df_population_house.eval('총주택수 = 총주택+ 오피스텔', inplace = True)\n",
    "df_population_house.eval('주택대비인구수 = 총인구 / 총주택수', inplace = True)\n",
    "df_population_house.eval('가구대비인구수 = 총인구 / 총가구', inplace = True)"
   ]
  },
  {
   "cell_type": "code",
   "execution_count": 77,
   "metadata": {
    "ExecuteTime": {
     "end_time": "2020-08-02T05:32:44.412423Z",
     "start_time": "2020-08-02T05:32:44.396801Z"
    }
   },
   "outputs": [],
   "source": [
    "def get_indices(lst, i):\n",
    "    indices = []\n",
    "    tmp_index = 0\n",
    "    tmp_lst = lst\n",
    "    while(1):\n",
    "        try:\n",
    "            tmp_index += tmp_lst.index(i)\n",
    "            indices.append(tmp_index)\n",
    "            tmp_index += 1\n",
    "            tmp_lst = tmp_lst[tmp_lst.index(i)+1:]\n",
    "        except ValueError:\n",
    "            # tmp_lst내에 i가 존재하지 않으면 while문 break\n",
    "            if len(indices) == 0:\n",
    "                # indices의 길이가 0이면 input list내에 i가 존재하지 않는 경우\n",
    "                print(\"No {} in list\".format(i))\n",
    "            else:\n",
    "                # indices의 길이가 0보다 크면 list내의 모든 i의 위치를 찾은 경우\n",
    "                print(f\"Find all {i} in list\")\n",
    "            break\n",
    "    return indices"
   ]
  },
  {
   "cell_type": "code",
   "execution_count": 78,
   "metadata": {
    "ExecuteTime": {
     "end_time": "2020-08-02T05:32:50.518374Z",
     "start_time": "2020-08-02T05:32:50.502371Z"
    }
   },
   "outputs": [
    {
     "name": "stdout",
     "output_type": "stream",
     "text": [
      "Find all True in list\n"
     ]
    }
   ],
   "source": [
    "slice_index = get_indices(df_population_house['행정동'].apply(lambda x : x.endswith('시')).tolist(), True)[:2]"
   ]
  },
  {
   "cell_type": "code",
   "execution_count": 50,
   "metadata": {
    "ExecuteTime": {
     "end_time": "2020-08-02T05:23:01.271481Z",
     "start_time": "2020-08-02T05:23:01.263449Z"
    }
   },
   "outputs": [],
   "source": [
    "pd.options.display.max_columns = 50"
   ]
  },
  {
   "cell_type": "code",
   "execution_count": null,
   "metadata": {},
   "outputs": [],
   "source": []
  },
  {
   "cell_type": "code",
   "execution_count": 82,
   "metadata": {
    "ExecuteTime": {
     "end_time": "2020-08-02T05:34:39.998146Z",
     "start_time": "2020-08-02T05:34:39.686125Z"
    }
   },
   "outputs": [
    {
     "data": {
      "text/plain": [
       "Text(0.5, 1.0, '주택대비 인구수')"
      ]
     },
     "execution_count": 82,
     "metadata": {},
     "output_type": "execute_result"
    },
    {
     "data": {
      "image/png": "[encoded data removed]",
      "text/plain": [
       "<Figure size 1296x648 with 1 Axes>"
      ]
     },
     "metadata": {
      "needs_background": "light"
     },
     "output_type": "display_data"
    }
   ],
   "source": [
    "plt.figure(figsize = (18,9))\n",
    "sns.barplot(\n",
    "    data = df_population_house.iloc[slice_index[0]:slice_index[1]].sort_values(by = '주택대비인구수', ascending = False),\n",
    "    x = '행정동',\n",
    "    y = '주택대비인구수',\n",
    "           )\n",
    "\n",
    "plt.xticks(ha = 'center')\n",
    "plt.title('주택대비 인구수', fontsize = 20)"
   ]
  },
  {
   "cell_type": "markdown",
   "metadata": {},
   "source": [
    "주택대비인구수多 => 세대별 평균인구수가 많거나, 주택 이외의 거처(오피스텔, 고시텔 등)가 많을것으로 예상\n",
    "* 노원구 => 대표적인 Bed Town. 주택수 자체가"
   ]
  },
  {
   "cell_type": "code",
   "execution_count": 83,
   "metadata": {
    "ExecuteTime": {
     "end_time": "2020-08-02T05:34:59.090795Z",
     "start_time": "2020-08-02T05:34:58.786798Z"
    }
   },
   "outputs": [
    {
     "data": {
      "text/plain": [
       "Text(0.5, 1.0, '가구대비 인구수')"
      ]
     },
     "execution_count": 83,
     "metadata": {},
     "output_type": "execute_result"
    },
    {
     "data": {
      "image/png": "[encoded data removed]",
      "text/plain": [
       "<Figure size 1296x648 with 1 Axes>"
      ]
     },
     "metadata": {
      "needs_background": "light"
     },
     "output_type": "display_data"
    }
   ],
   "source": [
    "plt.figure(figsize = (18,9))\n",
    "sns.barplot(\n",
    "    data = df_population_house.iloc[slice_index[0]:slice_index[1]].sort_values(by = '가구대비인구수', ascending = False),\n",
    "    x = '행정동',\n",
    "    y = '가구대비인구수',\n",
    "           )\n",
    "\n",
    "plt.xticks(ha = 'center')\n",
    "plt.title('가구대비 인구수', fontsize = 20)"
   ]
  },
  {
   "cell_type": "code",
   "execution_count": 93,
   "metadata": {
    "ExecuteTime": {
     "end_time": "2020-08-02T05:38:26.838887Z",
     "start_time": "2020-08-02T05:38:26.566862Z"
    }
   },
   "outputs": [
    {
     "data": {
      "text/plain": [
       "<matplotlib.axes._subplots.AxesSubplot at 0x2801b752128>"
      ]
     },
     "execution_count": 93,
     "metadata": {},
     "output_type": "execute_result"
    },
    {
     "data": {
      "image/png": "[encoded data removed]",
      "text/plain": [
       "<Figure size 864x360 with 1 Axes>"
      ]
     },
     "metadata": {
      "needs_background": "light"
     },
     "output_type": "display_data"
    }
   ],
   "source": [
    "df_population_house.eval('주택대비비주택 = 오피스텔/총주택').iloc[slice_index[0]:slice_index[1]].sort_values(by = '주택대비비주택', ascending = False).iloc[:,[0,-1]].set_index('행정동').plot(kind='bar', figsize=(12,5))"
   ]
  },
  {
   "cell_type": "code",
   "execution_count": null,
   "metadata": {},
   "outputs": [],
   "source": []
  },
  {
   "cell_type": "code",
   "execution_count": 37,
   "metadata": {
    "ExecuteTime": {
     "end_time": "2020-08-02T05:12:53.634900Z",
     "start_time": "2020-08-02T05:12:53.610900Z"
    }
   },
   "outputs": [
    {
     "data": {
      "text/html": [
       "<div>\n",
       "<style scoped>\n",
       "    .dataframe tbody tr th:only-of-type {\n",
       "        vertical-align: middle;\n",
       "    }\n",
       "\n",
       "    .dataframe tbody tr th {\n",
       "        vertical-align: top;\n",
       "    }\n",
       "\n",
       "    .dataframe thead th {\n",
       "        text-align: right;\n",
       "    }\n",
       "</style>\n",
       "<table border=\"1\" class=\"dataframe\">\n",
       "  <thead>\n",
       "    <tr style=\"text-align: right;\">\n",
       "      <th></th>\n",
       "      <th>기간</th>\n",
       "      <th>구분</th>\n",
       "      <th>총계_단지수</th>\n",
       "      <th>총계_동수</th>\n",
       "      <th>총계_세대수</th>\n",
       "      <th>단지수_아파트</th>\n",
       "      <th>동수_아파트</th>\n",
       "      <th>세대수_아파트</th>\n",
       "      <th>단지수_주상복합</th>\n",
       "      <th>동수_주상복합</th>\n",
       "      <th>세대수_주상복합</th>\n",
       "      <th>단지수_연립</th>\n",
       "      <th>동수_연립</th>\n",
       "      <th>세대수_연립</th>\n",
       "      <th>단지수_다세대</th>\n",
       "      <th>동수_다세대</th>\n",
       "      <th>세대수_다세대</th>\n",
       "    </tr>\n",
       "  </thead>\n",
       "  <tbody>\n",
       "    <tr>\n",
       "      <th>0</th>\n",
       "      <td>2018</td>\n",
       "      <td>합계</td>\n",
       "      <td>4,139</td>\n",
       "      <td>19,581</td>\n",
       "      <td>1,471,065</td>\n",
       "      <td>3,368</td>\n",
       "      <td>17,572</td>\n",
       "      <td>1,373,450</td>\n",
       "      <td>414</td>\n",
       "      <td>607</td>\n",
       "      <td>72,596</td>\n",
       "      <td>343</td>\n",
       "      <td>1,363</td>\n",
       "      <td>24,259</td>\n",
       "      <td>14</td>\n",
       "      <td>39</td>\n",
       "      <td>760</td>\n",
       "    </tr>\n",
       "    <tr>\n",
       "      <th>1</th>\n",
       "      <td>2018</td>\n",
       "      <td>종로구</td>\n",
       "      <td>60</td>\n",
       "      <td>265</td>\n",
       "      <td>12,621</td>\n",
       "      <td>29</td>\n",
       "      <td>126</td>\n",
       "      <td>9,364</td>\n",
       "      <td>8</td>\n",
       "      <td>10</td>\n",
       "      <td>1,302</td>\n",
       "      <td>23</td>\n",
       "      <td>129</td>\n",
       "      <td>1,955</td>\n",
       "      <td>-</td>\n",
       "      <td>-</td>\n",
       "      <td>-</td>\n",
       "    </tr>\n",
       "    <tr>\n",
       "      <th>2</th>\n",
       "      <td>2018</td>\n",
       "      <td>중구</td>\n",
       "      <td>51</td>\n",
       "      <td>200</td>\n",
       "      <td>17,528</td>\n",
       "      <td>34</td>\n",
       "      <td>169</td>\n",
       "      <td>12,642</td>\n",
       "      <td>17</td>\n",
       "      <td>31</td>\n",
       "      <td>4,886</td>\n",
       "      <td>-</td>\n",
       "      <td>-</td>\n",
       "      <td>-</td>\n",
       "      <td>-</td>\n",
       "      <td>-</td>\n",
       "      <td>-</td>\n",
       "    </tr>\n",
       "    <tr>\n",
       "      <th>3</th>\n",
       "      <td>2018</td>\n",
       "      <td>용산구</td>\n",
       "      <td>116</td>\n",
       "      <td>466</td>\n",
       "      <td>32,041</td>\n",
       "      <td>89</td>\n",
       "      <td>410</td>\n",
       "      <td>24,710</td>\n",
       "      <td>27</td>\n",
       "      <td>56</td>\n",
       "      <td>7,331</td>\n",
       "      <td>-</td>\n",
       "      <td>-</td>\n",
       "      <td>-</td>\n",
       "      <td>-</td>\n",
       "      <td>-</td>\n",
       "      <td>-</td>\n",
       "    </tr>\n",
       "    <tr>\n",
       "      <th>4</th>\n",
       "      <td>2018</td>\n",
       "      <td>성동구</td>\n",
       "      <td>128</td>\n",
       "      <td>746</td>\n",
       "      <td>57,292</td>\n",
       "      <td>113</td>\n",
       "      <td>708</td>\n",
       "      <td>55,615</td>\n",
       "      <td>3</td>\n",
       "      <td>8</td>\n",
       "      <td>1,067</td>\n",
       "      <td>12</td>\n",
       "      <td>30</td>\n",
       "      <td>610</td>\n",
       "      <td>-</td>\n",
       "      <td>-</td>\n",
       "      <td>-</td>\n",
       "    </tr>\n",
       "  </tbody>\n",
       "</table>\n",
       "</div>"
      ],
      "text/plain": [
       "     기간   구분 총계_단지수   총계_동수     총계_세대수 단지수_아파트  동수_아파트    세대수_아파트 단지수_주상복합  \\\n",
       "0  2018   합계  4,139  19,581  1,471,065   3,368  17,572  1,373,450      414   \n",
       "1  2018  종로구     60     265     12,621      29     126      9,364        8   \n",
       "2  2018   중구     51     200     17,528      34     169     12,642       17   \n",
       "3  2018  용산구    116     466     32,041      89     410     24,710       27   \n",
       "4  2018  성동구    128     746     57,292     113     708     55,615        3   \n",
       "\n",
       "  동수_주상복합 세대수_주상복합 단지수_연립  동수_연립  세대수_연립 단지수_다세대 동수_다세대 세대수_다세대  \n",
       "0     607   72,596    343  1,363  24,259      14     39     760  \n",
       "1      10    1,302     23    129   1,955       -      -       -  \n",
       "2      31    4,886      -      -       -       -      -       -  \n",
       "3      56    7,331      -      -       -       -      -       -  \n",
       "4       8    1,067     12     30     610       -      -       -  "
      ]
     },
     "execution_count": 37,
     "metadata": {},
     "output_type": "execute_result"
    }
   ],
   "source": [
    "pd.read_csv(\"서울주택현황.csv\").head()"
   ]
  },
  {
   "cell_type": "code",
   "execution_count": null,
   "metadata": {},
   "outputs": [],
   "source": []
  }
 ],
 "metadata": {
  "kernelspec": {
   "display_name": "Python 3",
   "language": "python",
   "name": "python3"
  },
  "language_info": {
   "codemirror_mode": {
    "name": "ipython",
    "version": 3
   },
   "file_extension": ".py",
   "mimetype": "text/x-python",
   "name": "python",
   "nbconvert_exporter": "python",
   "pygments_lexer": "ipython3",
   "version": "3.7.2"
  },
  "toc": {
   "base_numbering": 1,
   "nav_menu": {},
   "number_sections": true,
   "sideBar": true,
   "skip_h1_title": false,
   "title_cell": "Table of Contents",
   "title_sidebar": "Contents",
   "toc_cell": false,
   "toc_position": {},
   "toc_section_display": true,
   "toc_window_display": false
  },
  "varInspector": {
   "cols": {
    "lenName": 16,
    "lenType": 16,
    "lenVar": 40
   },
   "kernels_config": {
    "python": {
     "delete_cmd_postfix": "",
     "delete_cmd_prefix": "del ",
     "library": "var_list.py",
     "varRefreshCmd": "print(var_dic_list())"
    },
    "r": {
     "delete_cmd_postfix": ") ",
     "delete_cmd_prefix": "rm(",
     "library": "var_list.r",
     "varRefreshCmd": "cat(var_dic_list()) "
    }
   },
   "types_to_exclude": [
    "module",
    "function",
    "builtin_function_or_method",
    "instance",
    "_Feature"
   ],
   "window_display": false
  }
 },
 "nbformat": 4,
 "nbformat_minor": 2
}
