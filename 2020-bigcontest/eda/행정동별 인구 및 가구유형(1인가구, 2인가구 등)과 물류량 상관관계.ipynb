{
 "cells": [
  {
   "cell_type": "code",
   "execution_count": 1,
   "metadata": {
    "ExecuteTime": {
     "end_time": "2020-09-25T08:51:37.026147Z",
     "start_time": "2020-09-25T08:51:36.112871Z"
    }
   },
   "outputs": [
    {
     "name": "stderr",
     "output_type": "stream",
     "text": [
      "c:\\python37\\lib\\site-packages\\statsmodels\\tools\\_testing.py:19: FutureWarning: pandas.util.testing is deprecated. Use the functions in the public API at pandas.testing instead.\n",
      "  import pandas.util.testing as tm\n"
     ]
    }
   ],
   "source": [
    "import pandas as pd\n",
    "import numpy as np\n",
    "import scipy \n",
    "\n",
    "import matplotlib as mpl\n",
    "import matplotlib.pyplot as plt\n",
    "import seaborn as sns\n",
    "%matplotlib inline\n",
    "\n",
    "from random import choices,sample\n",
    "\n",
    "import os\n",
    "import gc\n",
    "import pickle\n",
    "\n",
    "import warnings\n",
    "warnings.filterwarnings('ignore')\n",
    "\n",
    "from datetime import timedelta\n",
    "from tqdm import tqdm\n",
    "\n",
    "plt.style.use('ggplot')\n",
    "\n",
    "mpl.rcParams['axes.unicode_minus'] = False\n",
    "plt.rcParams[\"font.family\"] = \"Malgun Gothic\"\n",
    "\n",
    "os.chdir(\"../\")\n",
    "root_path = os.getcwd()\n",
    "\n",
    "data_folder_path = os.path.join(root_path, 'data')\n",
    "original_file_path = os.path.join(data_folder_path, 'original_data')\n",
    "original_raw_file_path = os.path.join(original_file_path,'raw_data')\n",
    "original_processed_file_path = os.path.join(original_file_path,'processed_data')\n",
    "\n",
    "raw_file_folders = os.listdir(original_raw_file_path)\n",
    "\n",
    "external_file_path = os.path.join(data_folder_path,'external_data')\n",
    "external_raw_file_path = os.path.join(external_file_path,'raw_data')\n",
    "external_processed_file_path = os.path.join(external_file_path,'processed_data')"
   ]
  },
  {
   "cell_type": "code",
   "execution_count": 2,
   "metadata": {
    "ExecuteTime": {
     "end_time": "2020-09-25T08:51:41.682102Z",
     "start_time": "2020-09-25T08:51:41.666183Z"
    }
   },
   "outputs": [],
   "source": [
    "seoul_pop = pd.read_table(os.path.join(external_raw_file_path,\"행정동_가구원수별_가구수.txt\"), header=[1], thousands=',')\n",
    "daegu_pop = pd.read_csv(os.path.join(external_raw_file_path,\"구·군_동·읍·면별_세대원수별_세대수_20200809161016.csv\"), encoding='cp949', header=[1])\n",
    "\n",
    "seoul_pop.drop('기간', axis=1, inplace=True)\n",
    "daegu_pop = daegu_pop.iloc[:,[0,1,-10,-9,-8,-7,-6,-5,-4,-3,-2,-1]]"
   ]
  },
  {
   "cell_type": "code",
   "execution_count": 4,
   "metadata": {
    "ExecuteTime": {
     "end_time": "2020-09-25T08:52:24.040049Z",
     "start_time": "2020-09-25T08:52:23.795198Z"
    }
   },
   "outputs": [],
   "source": [
    "cj = pd.read_csv(os.path.join(original_processed_file_path, \"CJ_delivery.csv\"), thousands=',')\n",
    "cj_cat_merge = cj.groupby(['DL_YMD','CTPV_NM','CTGG_NM','HDNG_NM']).sum().iloc[:,-1].reset_index(name='INVC_CONT')"
   ]
  },
  {
   "cell_type": "code",
   "execution_count": 7,
   "metadata": {
    "ExecuteTime": {
     "end_time": "2020-09-25T08:52:46.282384Z",
     "start_time": "2020-09-25T08:52:46.266762Z"
    }
   },
   "outputs": [],
   "source": [
    "daegu_pop.columns = ['GU_NM','HDONG_NM','total','pop1','pop2','pop3','pop4','pop5','pop6','pop7','pop8','pop9']\n",
    "seoul_pop.columns = ['GU_NM','HDONG_NM','total','pop1','pop2','pop3','pop4','pop5','pop6','pop7']"
   ]
  },
  {
   "cell_type": "code",
   "execution_count": 8,
   "metadata": {
    "ExecuteTime": {
     "end_time": "2020-09-25T08:52:50.197549Z",
     "start_time": "2020-09-25T08:52:50.181928Z"
    }
   },
   "outputs": [],
   "source": [
    "total_dong = cj.HDNG_NM.unique().tolist()\n",
    "\n",
    "total_gu = ['중구','수성구','노원구']\n",
    "total_dong += ['수성2·3가동']"
   ]
  },
  {
   "cell_type": "code",
   "execution_count": 9,
   "metadata": {
    "ExecuteTime": {
     "end_time": "2020-09-25T08:52:51.047727Z",
     "start_time": "2020-09-25T08:52:51.037790Z"
    }
   },
   "outputs": [],
   "source": [
    "daegu_pop = daegu_pop.loc[(daegu_pop.HDONG_NM.isin(total_dong)) & (daegu_pop.GU_NM.isin(total_gu))].reset_index(drop=True)\n",
    "seoul_pop = seoul_pop.loc[(seoul_pop.HDONG_NM.isin(total_dong)) & (seoul_pop.GU_NM.isin(total_gu))].reset_index(drop=True)"
   ]
  },
  {
   "cell_type": "code",
   "execution_count": 10,
   "metadata": {
    "ExecuteTime": {
     "end_time": "2020-09-25T08:52:52.188907Z",
     "start_time": "2020-09-25T08:52:52.183961Z"
    }
   },
   "outputs": [],
   "source": [
    "cj_cat_merge.rename(columns={'CTGG_NM':'GU_NM', 'HDNG_NM':'HDONG_NM'}, inplace=True)"
   ]
  },
  {
   "cell_type": "code",
   "execution_count": 11,
   "metadata": {
    "ExecuteTime": {
     "end_time": "2020-09-25T08:52:52.668101Z",
     "start_time": "2020-09-25T08:52:52.655171Z"
    }
   },
   "outputs": [],
   "source": [
    "cj_cat_merge=cj_cat_merge.replace('수성2·3가동', '수성2.3가동')\n",
    "cj_cat_merge=cj_cat_merge.replace('신당제5동', '신당5동')"
   ]
  },
  {
   "cell_type": "code",
   "execution_count": 25,
   "metadata": {
    "ExecuteTime": {
     "end_time": "2020-08-14T03:33:26.463802Z",
     "start_time": "2020-08-14T03:33:26.439819Z"
    }
   },
   "outputs": [],
   "source": [
    "\"\"\"\n",
    "cj_cat_merge['DL_YMD'] = pd.to_datetime(cj_cat_merge['DL_YMD'].apply(lambda x:'20'+str(x)), format='%Y%m%d')\n",
    "\n",
    "cj_cat_merge['dayofweek'] = cj_cat_merge.DL_YMD.dt.dayofweek.values\n",
    "cj_cat_merge['weekday'] = np.where(cj_cat_merge.dayofweek < 5, '평일', '주말')\n",
    "\n",
    "cj_cat_merge = cj_cat_merge.loc[cj_cat_merge.weekday=='평일'].reset_index()\n",
    "\"\"\""
   ]
  },
  {
   "cell_type": "code",
   "execution_count": 12,
   "metadata": {
    "ExecuteTime": {
     "end_time": "2020-09-25T08:52:56.891013Z",
     "start_time": "2020-09-25T08:52:56.886050Z"
    }
   },
   "outputs": [],
   "source": [
    "daegu_pop=daegu_pop.replace('수성2·3가동', '수성2.3가동')"
   ]
  },
  {
   "cell_type": "code",
   "execution_count": 13,
   "metadata": {
    "ExecuteTime": {
     "end_time": "2020-09-25T08:52:57.337808Z",
     "start_time": "2020-09-25T08:52:57.313872Z"
    }
   },
   "outputs": [],
   "source": [
    "tmp1=cj_cat_merge.merge(daegu_pop)\n",
    "tmp2=cj_cat_merge.merge(seoul_pop)"
   ]
  },
  {
   "cell_type": "code",
   "execution_count": 14,
   "metadata": {
    "ExecuteTime": {
     "end_time": "2020-09-25T08:52:57.837513Z",
     "start_time": "2020-09-25T08:52:57.831525Z"
    }
   },
   "outputs": [],
   "source": [
    "tmp1=tmp1.iloc[:,:-2]"
   ]
  },
  {
   "cell_type": "code",
   "execution_count": 15,
   "metadata": {
    "ExecuteTime": {
     "end_time": "2020-09-25T08:52:58.294290Z",
     "start_time": "2020-09-25T08:52:58.281292Z"
    }
   },
   "outputs": [],
   "source": [
    "cj_with_pop = pd.concat([tmp1,tmp2]).reset_index(drop=True)"
   ]
  },
  {
   "cell_type": "code",
   "execution_count": 16,
   "metadata": {
    "ExecuteTime": {
     "end_time": "2020-09-25T08:53:00.431065Z",
     "start_time": "2020-09-25T08:53:00.417107Z"
    }
   },
   "outputs": [
    {
     "data": {
      "text/html": [
       "<div>\n",
       "<style scoped>\n",
       "    .dataframe tbody tr th:only-of-type {\n",
       "        vertical-align: middle;\n",
       "    }\n",
       "\n",
       "    .dataframe tbody tr th {\n",
       "        vertical-align: top;\n",
       "    }\n",
       "\n",
       "    .dataframe thead th {\n",
       "        text-align: right;\n",
       "    }\n",
       "</style>\n",
       "<table border=\"1\" class=\"dataframe\">\n",
       "  <thead>\n",
       "    <tr style=\"text-align: right;\">\n",
       "      <th></th>\n",
       "      <th>pop1</th>\n",
       "      <th>pop2</th>\n",
       "      <th>pop3</th>\n",
       "      <th>pop4</th>\n",
       "      <th>pop5</th>\n",
       "    </tr>\n",
       "  </thead>\n",
       "  <tbody>\n",
       "    <tr>\n",
       "      <th>INVC_CONT</th>\n",
       "      <td>0.350729</td>\n",
       "      <td>0.377958</td>\n",
       "      <td>0.394308</td>\n",
       "      <td>0.351095</td>\n",
       "      <td>0.339797</td>\n",
       "    </tr>\n",
       "  </tbody>\n",
       "</table>\n",
       "</div>"
      ],
      "text/plain": [
       "               pop1      pop2      pop3      pop4      pop5\n",
       "INVC_CONT  0.350729  0.377958  0.394308  0.351095  0.339797"
      ]
     },
     "execution_count": 16,
     "metadata": {},
     "output_type": "execute_result"
    }
   ],
   "source": [
    "cj_with_pop.iloc[:,4:].corr().iloc[:1,2:]"
   ]
  },
  {
   "cell_type": "markdown",
   "metadata": {},
   "source": [
    "주말포함"
   ]
  },
  {
   "cell_type": "code",
   "execution_count": 17,
   "metadata": {
    "ExecuteTime": {
     "end_time": "2020-09-25T08:53:02.911768Z",
     "start_time": "2020-09-25T08:53:02.893539Z"
    },
    "scrolled": true
   },
   "outputs": [
    {
     "data": {
      "text/html": [
       "<div>\n",
       "<style scoped>\n",
       "    .dataframe tbody tr th:only-of-type {\n",
       "        vertical-align: middle;\n",
       "    }\n",
       "\n",
       "    .dataframe tbody tr th {\n",
       "        vertical-align: top;\n",
       "    }\n",
       "\n",
       "    .dataframe thead th {\n",
       "        text-align: right;\n",
       "    }\n",
       "</style>\n",
       "<table border=\"1\" class=\"dataframe\">\n",
       "  <thead>\n",
       "    <tr style=\"text-align: right;\">\n",
       "      <th></th>\n",
       "      <th>pop2</th>\n",
       "      <th>pop3</th>\n",
       "      <th>pop4</th>\n",
       "      <th>pop5</th>\n",
       "    </tr>\n",
       "  </thead>\n",
       "  <tbody>\n",
       "    <tr>\n",
       "      <th>INVC_CONT</th>\n",
       "      <td>0.377958</td>\n",
       "      <td>0.394308</td>\n",
       "      <td>0.351095</td>\n",
       "      <td>0.339797</td>\n",
       "    </tr>\n",
       "  </tbody>\n",
       "</table>\n",
       "</div>"
      ],
      "text/plain": [
       "               pop2      pop3      pop4      pop5\n",
       "INVC_CONT  0.377958  0.394308  0.351095  0.339797"
      ]
     },
     "execution_count": 17,
     "metadata": {},
     "output_type": "execute_result"
    }
   ],
   "source": [
    "cj_with_pop.iloc[:,4:].corr().iloc[:1,3:]"
   ]
  },
  {
   "cell_type": "markdown",
   "metadata": {},
   "source": [
    "주말제외"
   ]
  }
 ],
 "metadata": {
  "kernelspec": {
   "display_name": "Python 3",
   "language": "python",
   "name": "python3"
  },
  "language_info": {
   "codemirror_mode": {
    "name": "ipython",
    "version": 3
   },
   "file_extension": ".py",
   "mimetype": "text/x-python",
   "name": "python",
   "nbconvert_exporter": "python",
   "pygments_lexer": "ipython3",
   "version": "3.7.2"
  },
  "toc": {
   "base_numbering": 1,
   "nav_menu": {},
   "number_sections": true,
   "sideBar": true,
   "skip_h1_title": false,
   "title_cell": "Table of Contents",
   "title_sidebar": "Contents",
   "toc_cell": false,
   "toc_position": {},
   "toc_section_display": true,
   "toc_window_display": false
  },
  "varInspector": {
   "cols": {
    "lenName": 16,
    "lenType": 16,
    "lenVar": 40
   },
   "kernels_config": {
    "python": {
     "delete_cmd_postfix": "",
     "delete_cmd_prefix": "del ",
     "library": "var_list.py",
     "varRefreshCmd": "print(var_dic_list())"
    },
    "r": {
     "delete_cmd_postfix": ") ",
     "delete_cmd_prefix": "rm(",
     "library": "var_list.r",
     "varRefreshCmd": "cat(var_dic_list()) "
    }
   },
   "types_to_exclude": [
    "module",
    "function",
    "builtin_function_or_method",
    "instance",
    "_Feature"
   ],
   "window_display": false
  }
 },
 "nbformat": 4,
 "nbformat_minor": 2
}
