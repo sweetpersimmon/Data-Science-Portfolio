{
 "cells": [
  {
   "cell_type": "code",
   "execution_count": 3,
   "metadata": {
    "ExecuteTime": {
     "end_time": "2020-09-03T12:01:36.992153Z",
     "start_time": "2020-09-03T12:01:36.631862Z"
    }
   },
   "outputs": [],
   "source": [
    "import pandas as pd\n",
    "import os"
   ]
  },
  {
   "cell_type": "code",
   "execution_count": 16,
   "metadata": {
    "ExecuteTime": {
     "end_time": "2020-09-03T12:06:52.667659Z",
     "start_time": "2020-09-03T12:06:52.283775Z"
    }
   },
   "outputs": [
    {
     "name": "stderr",
     "output_type": "stream",
     "text": [
      "c:\\python37\\lib\\site-packages\\statsmodels\\tools\\_testing.py:19: FutureWarning: pandas.util.testing is deprecated. Use the functions in the public API at pandas.testing instead.\n",
      "  import pandas.util.testing as tm\n"
     ]
    }
   ],
   "source": [
    "import matplotlib as mpl\n",
    "import matplotlib.pyplot as plt\n",
    "import seaborn as sns\n",
    "\n",
    "%matplotlib inline"
   ]
  },
  {
   "cell_type": "code",
   "execution_count": 4,
   "metadata": {
    "ExecuteTime": {
     "end_time": "2020-09-03T12:01:37.039024Z",
     "start_time": "2020-09-03T12:01:37.036032Z"
    }
   },
   "outputs": [],
   "source": [
    "os.chdir(\"../../\")\n",
    "root_path = os.getcwd()"
   ]
  },
  {
   "cell_type": "code",
   "execution_count": 5,
   "metadata": {
    "ExecuteTime": {
     "end_time": "2020-09-03T12:01:41.533615Z",
     "start_time": "2020-09-03T12:01:41.529626Z"
    }
   },
   "outputs": [],
   "source": [
    "#excel file저장용 폴더\n",
    "raw_file_path = os.path.join(root_path, \"Bigcon2020_raw_file\")\n",
    "csv_file_path = os.path.join(root_path, \"BigCon_2020/csv_files\")"
   ]
  },
  {
   "cell_type": "code",
   "execution_count": 6,
   "metadata": {
    "ExecuteTime": {
     "end_time": "2020-09-03T12:01:43.046878Z",
     "start_time": "2020-09-03T12:01:43.043885Z"
    }
   },
   "outputs": [],
   "source": [
    "raw_file_folders = os.listdir(raw_file_path)"
   ]
  },
  {
   "cell_type": "code",
   "execution_count": 7,
   "metadata": {
    "ExecuteTime": {
     "end_time": "2020-09-03T12:01:43.761028Z",
     "start_time": "2020-09-03T12:01:43.472116Z"
    }
   },
   "outputs": [],
   "source": [
    "covid_df = pd.read_excel(os.path.join(raw_file_path, raw_file_folders[6],'지역별누적-확진자.xlsx')).fillna(0)\n",
    "covid_df['총누적확진자'] = covid_df.iloc[:,1:].sum(axis=1)"
   ]
  },
  {
   "cell_type": "code",
   "execution_count": 9,
   "metadata": {
    "ExecuteTime": {
     "end_time": "2020-09-03T12:02:03.008822Z",
     "start_time": "2020-09-03T12:02:02.981861Z"
    }
   },
   "outputs": [
    {
     "data": {
      "text/html": [
       "<div>\n",
       "<style scoped>\n",
       "    .dataframe tbody tr th:only-of-type {\n",
       "        vertical-align: middle;\n",
       "    }\n",
       "\n",
       "    .dataframe tbody tr th {\n",
       "        vertical-align: top;\n",
       "    }\n",
       "\n",
       "    .dataframe thead th {\n",
       "        text-align: right;\n",
       "    }\n",
       "</style>\n",
       "<table border=\"1\" class=\"dataframe\">\n",
       "  <thead>\n",
       "    <tr style=\"text-align: right;\">\n",
       "      <th></th>\n",
       "      <th>날짜</th>\n",
       "      <th>서울 누적</th>\n",
       "      <th>부산 누적</th>\n",
       "      <th>대구 누적</th>\n",
       "      <th>인천 누적</th>\n",
       "      <th>광주 누적</th>\n",
       "      <th>대전 누적</th>\n",
       "      <th>울산 누적</th>\n",
       "      <th>세종 누적</th>\n",
       "      <th>경기 누적</th>\n",
       "      <th>...</th>\n",
       "      <th>충북 누적</th>\n",
       "      <th>충남 누적</th>\n",
       "      <th>전북 누적</th>\n",
       "      <th>전남 누적</th>\n",
       "      <th>경북 누적</th>\n",
       "      <th>경남 누적</th>\n",
       "      <th>제주 누적</th>\n",
       "      <th>검역 누적</th>\n",
       "      <th>지역 모름 누적</th>\n",
       "      <th>총누적확진자</th>\n",
       "    </tr>\n",
       "  </thead>\n",
       "  <tbody>\n",
       "    <tr>\n",
       "      <th>0</th>\n",
       "      <td>2020.01.24.</td>\n",
       "      <td>0.0</td>\n",
       "      <td>0.0</td>\n",
       "      <td>0.0</td>\n",
       "      <td>0.0</td>\n",
       "      <td>0.0</td>\n",
       "      <td>0.0</td>\n",
       "      <td>0.0</td>\n",
       "      <td>0.0</td>\n",
       "      <td>0.0</td>\n",
       "      <td>...</td>\n",
       "      <td>0.0</td>\n",
       "      <td>0.0</td>\n",
       "      <td>0.0</td>\n",
       "      <td>0.0</td>\n",
       "      <td>0.0</td>\n",
       "      <td>0.0</td>\n",
       "      <td>0.0</td>\n",
       "      <td>0.0</td>\n",
       "      <td>1</td>\n",
       "      <td>1.0</td>\n",
       "    </tr>\n",
       "    <tr>\n",
       "      <th>1</th>\n",
       "      <td>2020-01-25 00:00:00</td>\n",
       "      <td>0.0</td>\n",
       "      <td>0.0</td>\n",
       "      <td>0.0</td>\n",
       "      <td>0.0</td>\n",
       "      <td>0.0</td>\n",
       "      <td>0.0</td>\n",
       "      <td>0.0</td>\n",
       "      <td>0.0</td>\n",
       "      <td>0.0</td>\n",
       "      <td>...</td>\n",
       "      <td>0.0</td>\n",
       "      <td>0.0</td>\n",
       "      <td>0.0</td>\n",
       "      <td>0.0</td>\n",
       "      <td>0.0</td>\n",
       "      <td>0.0</td>\n",
       "      <td>0.0</td>\n",
       "      <td>0.0</td>\n",
       "      <td>1</td>\n",
       "      <td>1.0</td>\n",
       "    </tr>\n",
       "    <tr>\n",
       "      <th>2</th>\n",
       "      <td>2020-01-26 00:00:00</td>\n",
       "      <td>0.0</td>\n",
       "      <td>0.0</td>\n",
       "      <td>0.0</td>\n",
       "      <td>0.0</td>\n",
       "      <td>0.0</td>\n",
       "      <td>0.0</td>\n",
       "      <td>0.0</td>\n",
       "      <td>0.0</td>\n",
       "      <td>0.0</td>\n",
       "      <td>...</td>\n",
       "      <td>0.0</td>\n",
       "      <td>0.0</td>\n",
       "      <td>0.0</td>\n",
       "      <td>0.0</td>\n",
       "      <td>0.0</td>\n",
       "      <td>0.0</td>\n",
       "      <td>0.0</td>\n",
       "      <td>0.0</td>\n",
       "      <td>2</td>\n",
       "      <td>2.0</td>\n",
       "    </tr>\n",
       "    <tr>\n",
       "      <th>3</th>\n",
       "      <td>2020-01-27 00:00:00</td>\n",
       "      <td>0.0</td>\n",
       "      <td>0.0</td>\n",
       "      <td>0.0</td>\n",
       "      <td>0.0</td>\n",
       "      <td>0.0</td>\n",
       "      <td>0.0</td>\n",
       "      <td>0.0</td>\n",
       "      <td>0.0</td>\n",
       "      <td>0.0</td>\n",
       "      <td>...</td>\n",
       "      <td>0.0</td>\n",
       "      <td>0.0</td>\n",
       "      <td>0.0</td>\n",
       "      <td>0.0</td>\n",
       "      <td>0.0</td>\n",
       "      <td>0.0</td>\n",
       "      <td>0.0</td>\n",
       "      <td>0.0</td>\n",
       "      <td>3</td>\n",
       "      <td>3.0</td>\n",
       "    </tr>\n",
       "    <tr>\n",
       "      <th>4</th>\n",
       "      <td>2020-01-28 00:00:00</td>\n",
       "      <td>0.0</td>\n",
       "      <td>0.0</td>\n",
       "      <td>0.0</td>\n",
       "      <td>0.0</td>\n",
       "      <td>0.0</td>\n",
       "      <td>0.0</td>\n",
       "      <td>0.0</td>\n",
       "      <td>0.0</td>\n",
       "      <td>0.0</td>\n",
       "      <td>...</td>\n",
       "      <td>0.0</td>\n",
       "      <td>0.0</td>\n",
       "      <td>0.0</td>\n",
       "      <td>0.0</td>\n",
       "      <td>0.0</td>\n",
       "      <td>0.0</td>\n",
       "      <td>0.0</td>\n",
       "      <td>0.0</td>\n",
       "      <td>3</td>\n",
       "      <td>3.0</td>\n",
       "    </tr>\n",
       "    <tr>\n",
       "      <th>...</th>\n",
       "      <td>...</td>\n",
       "      <td>...</td>\n",
       "      <td>...</td>\n",
       "      <td>...</td>\n",
       "      <td>...</td>\n",
       "      <td>...</td>\n",
       "      <td>...</td>\n",
       "      <td>...</td>\n",
       "      <td>...</td>\n",
       "      <td>...</td>\n",
       "      <td>...</td>\n",
       "      <td>...</td>\n",
       "      <td>...</td>\n",
       "      <td>...</td>\n",
       "      <td>...</td>\n",
       "      <td>...</td>\n",
       "      <td>...</td>\n",
       "      <td>...</td>\n",
       "      <td>...</td>\n",
       "      <td>...</td>\n",
       "      <td>...</td>\n",
       "    </tr>\n",
       "    <tr>\n",
       "      <th>177</th>\n",
       "      <td>2020-07-19 00:00:00</td>\n",
       "      <td>1458.0</td>\n",
       "      <td>149.0</td>\n",
       "      <td>6933.0</td>\n",
       "      <td>368.0</td>\n",
       "      <td>186.0</td>\n",
       "      <td>166.0</td>\n",
       "      <td>57.0</td>\n",
       "      <td>50.0</td>\n",
       "      <td>1422.0</td>\n",
       "      <td>...</td>\n",
       "      <td>73.0</td>\n",
       "      <td>185.0</td>\n",
       "      <td>37.0</td>\n",
       "      <td>35.0</td>\n",
       "      <td>1407.0</td>\n",
       "      <td>150.0</td>\n",
       "      <td>26.0</td>\n",
       "      <td>934.0</td>\n",
       "      <td>30</td>\n",
       "      <td>13737.0</td>\n",
       "    </tr>\n",
       "    <tr>\n",
       "      <th>178</th>\n",
       "      <td>2020-07-20 00:00:00</td>\n",
       "      <td>1476.0</td>\n",
       "      <td>149.0</td>\n",
       "      <td>6933.0</td>\n",
       "      <td>368.0</td>\n",
       "      <td>186.0</td>\n",
       "      <td>166.0</td>\n",
       "      <td>57.0</td>\n",
       "      <td>50.0</td>\n",
       "      <td>1423.0</td>\n",
       "      <td>...</td>\n",
       "      <td>73.0</td>\n",
       "      <td>185.0</td>\n",
       "      <td>37.0</td>\n",
       "      <td>35.0</td>\n",
       "      <td>1407.0</td>\n",
       "      <td>150.0</td>\n",
       "      <td>27.0</td>\n",
       "      <td>952.0</td>\n",
       "      <td>30</td>\n",
       "      <td>13775.0</td>\n",
       "    </tr>\n",
       "    <tr>\n",
       "      <th>179</th>\n",
       "      <td>2020-07-21 00:00:00</td>\n",
       "      <td>1492.0</td>\n",
       "      <td>149.0</td>\n",
       "      <td>6933.0</td>\n",
       "      <td>372.0</td>\n",
       "      <td>187.0</td>\n",
       "      <td>166.0</td>\n",
       "      <td>57.0</td>\n",
       "      <td>50.0</td>\n",
       "      <td>1431.0</td>\n",
       "      <td>...</td>\n",
       "      <td>73.0</td>\n",
       "      <td>185.0</td>\n",
       "      <td>37.0</td>\n",
       "      <td>35.0</td>\n",
       "      <td>1407.0</td>\n",
       "      <td>150.0</td>\n",
       "      <td>27.0</td>\n",
       "      <td>971.0</td>\n",
       "      <td>30</td>\n",
       "      <td>13823.0</td>\n",
       "    </tr>\n",
       "    <tr>\n",
       "      <th>180</th>\n",
       "      <td>2020-07-22 00:00:00</td>\n",
       "      <td>1503.0</td>\n",
       "      <td>149.0</td>\n",
       "      <td>6933.0</td>\n",
       "      <td>374.0</td>\n",
       "      <td>196.0</td>\n",
       "      <td>166.0</td>\n",
       "      <td>57.0</td>\n",
       "      <td>50.0</td>\n",
       "      <td>1448.0</td>\n",
       "      <td>...</td>\n",
       "      <td>73.0</td>\n",
       "      <td>185.0</td>\n",
       "      <td>37.0</td>\n",
       "      <td>35.0</td>\n",
       "      <td>1407.0</td>\n",
       "      <td>150.0</td>\n",
       "      <td>27.0</td>\n",
       "      <td>976.0</td>\n",
       "      <td>30</td>\n",
       "      <td>13867.0</td>\n",
       "    </tr>\n",
       "    <tr>\n",
       "      <th>181</th>\n",
       "      <td>2020-07-23 00:00:00</td>\n",
       "      <td>1522.0</td>\n",
       "      <td>151.0</td>\n",
       "      <td>6933.0</td>\n",
       "      <td>374.0</td>\n",
       "      <td>198.0</td>\n",
       "      <td>166.0</td>\n",
       "      <td>57.0</td>\n",
       "      <td>50.0</td>\n",
       "      <td>1453.0</td>\n",
       "      <td>...</td>\n",
       "      <td>73.0</td>\n",
       "      <td>185.0</td>\n",
       "      <td>37.0</td>\n",
       "      <td>35.0</td>\n",
       "      <td>1407.0</td>\n",
       "      <td>150.0</td>\n",
       "      <td>27.0</td>\n",
       "      <td>979.0</td>\n",
       "      <td>30</td>\n",
       "      <td>13898.0</td>\n",
       "    </tr>\n",
       "  </tbody>\n",
       "</table>\n",
       "<p>182 rows × 21 columns</p>\n",
       "</div>"
      ],
      "text/plain": [
       "                      날짜   서울 누적  부산 누적   대구 누적  인천 누적  광주 누적  대전 누적  울산 누적  \\\n",
       "0            2020.01.24.     0.0    0.0     0.0    0.0    0.0    0.0    0.0   \n",
       "1    2020-01-25 00:00:00     0.0    0.0     0.0    0.0    0.0    0.0    0.0   \n",
       "2    2020-01-26 00:00:00     0.0    0.0     0.0    0.0    0.0    0.0    0.0   \n",
       "3    2020-01-27 00:00:00     0.0    0.0     0.0    0.0    0.0    0.0    0.0   \n",
       "4    2020-01-28 00:00:00     0.0    0.0     0.0    0.0    0.0    0.0    0.0   \n",
       "..                   ...     ...    ...     ...    ...    ...    ...    ...   \n",
       "177  2020-07-19 00:00:00  1458.0  149.0  6933.0  368.0  186.0  166.0   57.0   \n",
       "178  2020-07-20 00:00:00  1476.0  149.0  6933.0  368.0  186.0  166.0   57.0   \n",
       "179  2020-07-21 00:00:00  1492.0  149.0  6933.0  372.0  187.0  166.0   57.0   \n",
       "180  2020-07-22 00:00:00  1503.0  149.0  6933.0  374.0  196.0  166.0   57.0   \n",
       "181  2020-07-23 00:00:00  1522.0  151.0  6933.0  374.0  198.0  166.0   57.0   \n",
       "\n",
       "     세종 누적   경기 누적  ...  충북 누적  충남 누적  전북 누적  전남 누적   경북 누적  경남 누적  제주 누적  \\\n",
       "0      0.0     0.0  ...    0.0    0.0    0.0    0.0     0.0    0.0    0.0   \n",
       "1      0.0     0.0  ...    0.0    0.0    0.0    0.0     0.0    0.0    0.0   \n",
       "2      0.0     0.0  ...    0.0    0.0    0.0    0.0     0.0    0.0    0.0   \n",
       "3      0.0     0.0  ...    0.0    0.0    0.0    0.0     0.0    0.0    0.0   \n",
       "4      0.0     0.0  ...    0.0    0.0    0.0    0.0     0.0    0.0    0.0   \n",
       "..     ...     ...  ...    ...    ...    ...    ...     ...    ...    ...   \n",
       "177   50.0  1422.0  ...   73.0  185.0   37.0   35.0  1407.0  150.0   26.0   \n",
       "178   50.0  1423.0  ...   73.0  185.0   37.0   35.0  1407.0  150.0   27.0   \n",
       "179   50.0  1431.0  ...   73.0  185.0   37.0   35.0  1407.0  150.0   27.0   \n",
       "180   50.0  1448.0  ...   73.0  185.0   37.0   35.0  1407.0  150.0   27.0   \n",
       "181   50.0  1453.0  ...   73.0  185.0   37.0   35.0  1407.0  150.0   27.0   \n",
       "\n",
       "     검역 누적  지역 모름 누적   총누적확진자  \n",
       "0      0.0         1      1.0  \n",
       "1      0.0         1      1.0  \n",
       "2      0.0         2      2.0  \n",
       "3      0.0         3      3.0  \n",
       "4      0.0         3      3.0  \n",
       "..     ...       ...      ...  \n",
       "177  934.0        30  13737.0  \n",
       "178  952.0        30  13775.0  \n",
       "179  971.0        30  13823.0  \n",
       "180  976.0        30  13867.0  \n",
       "181  979.0        30  13898.0  \n",
       "\n",
       "[182 rows x 21 columns]"
      ]
     },
     "execution_count": 9,
     "metadata": {},
     "output_type": "execute_result"
    }
   ],
   "source": [
    "covid_df"
   ]
  },
  {
   "cell_type": "code",
   "execution_count": 10,
   "metadata": {
    "ExecuteTime": {
     "end_time": "2020-09-03T12:02:07.399947Z",
     "start_time": "2020-09-03T12:02:07.389975Z"
    }
   },
   "outputs": [],
   "source": [
    "covid_daily = (covid_df.iloc[:, 1:] - covid_df.iloc[:, 1:].shift().fillna(0))"
   ]
  },
  {
   "cell_type": "code",
   "execution_count": 19,
   "metadata": {
    "ExecuteTime": {
     "end_time": "2020-08-04T09:14:16.592614Z",
     "start_time": "2020-08-04T09:14:16.584585Z"
    }
   },
   "outputs": [
    {
     "data": {
      "text/plain": [
       "'C:\\\\Users\\\\rears\\\\BigCon_2020/Jaewon/csv_files'"
      ]
     },
     "execution_count": 19,
     "metadata": {},
     "output_type": "execute_result"
    }
   ],
   "source": [
    "csv_file_path"
   ]
  },
  {
   "cell_type": "code",
   "execution_count": 20,
   "metadata": {
    "ExecuteTime": {
     "end_time": "2020-08-04T09:14:44.905561Z",
     "start_time": "2020-08-04T09:14:44.897569Z"
    }
   },
   "outputs": [],
   "source": [
    "\"\"\"\n",
    "file_name = \"covid19_누적확진자.csv\"\n",
    "covid_df.to_csv(os.path.join(csv_file_path, file_name), index=False, encoding='utf-8')\n",
    "\"\"\""
   ]
  },
  {
   "cell_type": "code",
   "execution_count": 24,
   "metadata": {
    "ExecuteTime": {
     "end_time": "2020-08-04T09:16:45.003354Z",
     "start_time": "2020-08-04T09:16:44.979371Z"
    }
   },
   "outputs": [
    {
     "data": {
      "text/html": [
       "<div>\n",
       "<style scoped>\n",
       "    .dataframe tbody tr th:only-of-type {\n",
       "        vertical-align: middle;\n",
       "    }\n",
       "\n",
       "    .dataframe tbody tr th {\n",
       "        vertical-align: top;\n",
       "    }\n",
       "\n",
       "    .dataframe thead th {\n",
       "        text-align: right;\n",
       "    }\n",
       "</style>\n",
       "<table border=\"1\" class=\"dataframe\">\n",
       "  <thead>\n",
       "    <tr style=\"text-align: right;\">\n",
       "      <th></th>\n",
       "      <th>서울 누적</th>\n",
       "      <th>부산 누적</th>\n",
       "      <th>대구 누적</th>\n",
       "      <th>인천 누적</th>\n",
       "      <th>광주 누적</th>\n",
       "      <th>대전 누적</th>\n",
       "      <th>울산 누적</th>\n",
       "      <th>세종 누적</th>\n",
       "      <th>경기 누적</th>\n",
       "      <th>강원 누적</th>\n",
       "      <th>충북 누적</th>\n",
       "      <th>충남 누적</th>\n",
       "      <th>전북 누적</th>\n",
       "      <th>전남 누적</th>\n",
       "      <th>경북 누적</th>\n",
       "      <th>경남 누적</th>\n",
       "      <th>제주 누적</th>\n",
       "      <th>검역 누적</th>\n",
       "      <th>지역 모름 누적</th>\n",
       "      <th>총누적확진자</th>\n",
       "    </tr>\n",
       "  </thead>\n",
       "  <tbody>\n",
       "    <tr>\n",
       "      <th>0</th>\n",
       "      <td>0.0</td>\n",
       "      <td>0.0</td>\n",
       "      <td>0.0</td>\n",
       "      <td>0.0</td>\n",
       "      <td>0.0</td>\n",
       "      <td>0.0</td>\n",
       "      <td>0.0</td>\n",
       "      <td>0.0</td>\n",
       "      <td>0.0</td>\n",
       "      <td>0.0</td>\n",
       "      <td>0.0</td>\n",
       "      <td>0.0</td>\n",
       "      <td>0.0</td>\n",
       "      <td>0.0</td>\n",
       "      <td>0.0</td>\n",
       "      <td>0.0</td>\n",
       "      <td>0.0</td>\n",
       "      <td>0.0</td>\n",
       "      <td>1.0</td>\n",
       "      <td>1.0</td>\n",
       "    </tr>\n",
       "    <tr>\n",
       "      <th>1</th>\n",
       "      <td>0.0</td>\n",
       "      <td>0.0</td>\n",
       "      <td>0.0</td>\n",
       "      <td>0.0</td>\n",
       "      <td>0.0</td>\n",
       "      <td>0.0</td>\n",
       "      <td>0.0</td>\n",
       "      <td>0.0</td>\n",
       "      <td>0.0</td>\n",
       "      <td>0.0</td>\n",
       "      <td>0.0</td>\n",
       "      <td>0.0</td>\n",
       "      <td>0.0</td>\n",
       "      <td>0.0</td>\n",
       "      <td>0.0</td>\n",
       "      <td>0.0</td>\n",
       "      <td>0.0</td>\n",
       "      <td>0.0</td>\n",
       "      <td>0.0</td>\n",
       "      <td>0.0</td>\n",
       "    </tr>\n",
       "    <tr>\n",
       "      <th>2</th>\n",
       "      <td>0.0</td>\n",
       "      <td>0.0</td>\n",
       "      <td>0.0</td>\n",
       "      <td>0.0</td>\n",
       "      <td>0.0</td>\n",
       "      <td>0.0</td>\n",
       "      <td>0.0</td>\n",
       "      <td>0.0</td>\n",
       "      <td>0.0</td>\n",
       "      <td>0.0</td>\n",
       "      <td>0.0</td>\n",
       "      <td>0.0</td>\n",
       "      <td>0.0</td>\n",
       "      <td>0.0</td>\n",
       "      <td>0.0</td>\n",
       "      <td>0.0</td>\n",
       "      <td>0.0</td>\n",
       "      <td>0.0</td>\n",
       "      <td>1.0</td>\n",
       "      <td>1.0</td>\n",
       "    </tr>\n",
       "    <tr>\n",
       "      <th>3</th>\n",
       "      <td>0.0</td>\n",
       "      <td>0.0</td>\n",
       "      <td>0.0</td>\n",
       "      <td>0.0</td>\n",
       "      <td>0.0</td>\n",
       "      <td>0.0</td>\n",
       "      <td>0.0</td>\n",
       "      <td>0.0</td>\n",
       "      <td>0.0</td>\n",
       "      <td>0.0</td>\n",
       "      <td>0.0</td>\n",
       "      <td>0.0</td>\n",
       "      <td>0.0</td>\n",
       "      <td>0.0</td>\n",
       "      <td>0.0</td>\n",
       "      <td>0.0</td>\n",
       "      <td>0.0</td>\n",
       "      <td>0.0</td>\n",
       "      <td>1.0</td>\n",
       "      <td>1.0</td>\n",
       "    </tr>\n",
       "    <tr>\n",
       "      <th>4</th>\n",
       "      <td>0.0</td>\n",
       "      <td>0.0</td>\n",
       "      <td>0.0</td>\n",
       "      <td>0.0</td>\n",
       "      <td>0.0</td>\n",
       "      <td>0.0</td>\n",
       "      <td>0.0</td>\n",
       "      <td>0.0</td>\n",
       "      <td>0.0</td>\n",
       "      <td>0.0</td>\n",
       "      <td>0.0</td>\n",
       "      <td>0.0</td>\n",
       "      <td>0.0</td>\n",
       "      <td>0.0</td>\n",
       "      <td>0.0</td>\n",
       "      <td>0.0</td>\n",
       "      <td>0.0</td>\n",
       "      <td>0.0</td>\n",
       "      <td>0.0</td>\n",
       "      <td>0.0</td>\n",
       "    </tr>\n",
       "    <tr>\n",
       "      <th>...</th>\n",
       "      <td>...</td>\n",
       "      <td>...</td>\n",
       "      <td>...</td>\n",
       "      <td>...</td>\n",
       "      <td>...</td>\n",
       "      <td>...</td>\n",
       "      <td>...</td>\n",
       "      <td>...</td>\n",
       "      <td>...</td>\n",
       "      <td>...</td>\n",
       "      <td>...</td>\n",
       "      <td>...</td>\n",
       "      <td>...</td>\n",
       "      <td>...</td>\n",
       "      <td>...</td>\n",
       "      <td>...</td>\n",
       "      <td>...</td>\n",
       "      <td>...</td>\n",
       "      <td>...</td>\n",
       "      <td>...</td>\n",
       "    </tr>\n",
       "    <tr>\n",
       "      <th>177</th>\n",
       "      <td>2.0</td>\n",
       "      <td>0.0</td>\n",
       "      <td>0.0</td>\n",
       "      <td>0.0</td>\n",
       "      <td>1.0</td>\n",
       "      <td>0.0</td>\n",
       "      <td>0.0</td>\n",
       "      <td>0.0</td>\n",
       "      <td>0.0</td>\n",
       "      <td>0.0</td>\n",
       "      <td>0.0</td>\n",
       "      <td>0.0</td>\n",
       "      <td>0.0</td>\n",
       "      <td>1.0</td>\n",
       "      <td>0.0</td>\n",
       "      <td>0.0</td>\n",
       "      <td>0.0</td>\n",
       "      <td>10.0</td>\n",
       "      <td>0.0</td>\n",
       "      <td>14.0</td>\n",
       "    </tr>\n",
       "    <tr>\n",
       "      <th>178</th>\n",
       "      <td>18.0</td>\n",
       "      <td>0.0</td>\n",
       "      <td>0.0</td>\n",
       "      <td>0.0</td>\n",
       "      <td>0.0</td>\n",
       "      <td>0.0</td>\n",
       "      <td>0.0</td>\n",
       "      <td>0.0</td>\n",
       "      <td>1.0</td>\n",
       "      <td>0.0</td>\n",
       "      <td>0.0</td>\n",
       "      <td>0.0</td>\n",
       "      <td>0.0</td>\n",
       "      <td>0.0</td>\n",
       "      <td>0.0</td>\n",
       "      <td>0.0</td>\n",
       "      <td>1.0</td>\n",
       "      <td>18.0</td>\n",
       "      <td>0.0</td>\n",
       "      <td>38.0</td>\n",
       "    </tr>\n",
       "    <tr>\n",
       "      <th>179</th>\n",
       "      <td>16.0</td>\n",
       "      <td>0.0</td>\n",
       "      <td>0.0</td>\n",
       "      <td>4.0</td>\n",
       "      <td>1.0</td>\n",
       "      <td>0.0</td>\n",
       "      <td>0.0</td>\n",
       "      <td>0.0</td>\n",
       "      <td>8.0</td>\n",
       "      <td>0.0</td>\n",
       "      <td>0.0</td>\n",
       "      <td>0.0</td>\n",
       "      <td>0.0</td>\n",
       "      <td>0.0</td>\n",
       "      <td>0.0</td>\n",
       "      <td>0.0</td>\n",
       "      <td>0.0</td>\n",
       "      <td>19.0</td>\n",
       "      <td>0.0</td>\n",
       "      <td>48.0</td>\n",
       "    </tr>\n",
       "    <tr>\n",
       "      <th>180</th>\n",
       "      <td>11.0</td>\n",
       "      <td>0.0</td>\n",
       "      <td>0.0</td>\n",
       "      <td>2.0</td>\n",
       "      <td>9.0</td>\n",
       "      <td>0.0</td>\n",
       "      <td>0.0</td>\n",
       "      <td>0.0</td>\n",
       "      <td>17.0</td>\n",
       "      <td>0.0</td>\n",
       "      <td>0.0</td>\n",
       "      <td>0.0</td>\n",
       "      <td>0.0</td>\n",
       "      <td>0.0</td>\n",
       "      <td>0.0</td>\n",
       "      <td>0.0</td>\n",
       "      <td>0.0</td>\n",
       "      <td>5.0</td>\n",
       "      <td>0.0</td>\n",
       "      <td>44.0</td>\n",
       "    </tr>\n",
       "    <tr>\n",
       "      <th>181</th>\n",
       "      <td>19.0</td>\n",
       "      <td>2.0</td>\n",
       "      <td>0.0</td>\n",
       "      <td>0.0</td>\n",
       "      <td>2.0</td>\n",
       "      <td>0.0</td>\n",
       "      <td>0.0</td>\n",
       "      <td>0.0</td>\n",
       "      <td>5.0</td>\n",
       "      <td>0.0</td>\n",
       "      <td>0.0</td>\n",
       "      <td>0.0</td>\n",
       "      <td>0.0</td>\n",
       "      <td>0.0</td>\n",
       "      <td>0.0</td>\n",
       "      <td>0.0</td>\n",
       "      <td>0.0</td>\n",
       "      <td>3.0</td>\n",
       "      <td>0.0</td>\n",
       "      <td>31.0</td>\n",
       "    </tr>\n",
       "  </tbody>\n",
       "</table>\n",
       "<p>182 rows × 20 columns</p>\n",
       "</div>"
      ],
      "text/plain": [
       "     서울 누적  부산 누적  대구 누적  인천 누적  광주 누적  대전 누적  울산 누적  세종 누적  경기 누적  강원 누적  \\\n",
       "0      0.0    0.0    0.0    0.0    0.0    0.0    0.0    0.0    0.0    0.0   \n",
       "1      0.0    0.0    0.0    0.0    0.0    0.0    0.0    0.0    0.0    0.0   \n",
       "2      0.0    0.0    0.0    0.0    0.0    0.0    0.0    0.0    0.0    0.0   \n",
       "3      0.0    0.0    0.0    0.0    0.0    0.0    0.0    0.0    0.0    0.0   \n",
       "4      0.0    0.0    0.0    0.0    0.0    0.0    0.0    0.0    0.0    0.0   \n",
       "..     ...    ...    ...    ...    ...    ...    ...    ...    ...    ...   \n",
       "177    2.0    0.0    0.0    0.0    1.0    0.0    0.0    0.0    0.0    0.0   \n",
       "178   18.0    0.0    0.0    0.0    0.0    0.0    0.0    0.0    1.0    0.0   \n",
       "179   16.0    0.0    0.0    4.0    1.0    0.0    0.0    0.0    8.0    0.0   \n",
       "180   11.0    0.0    0.0    2.0    9.0    0.0    0.0    0.0   17.0    0.0   \n",
       "181   19.0    2.0    0.0    0.0    2.0    0.0    0.0    0.0    5.0    0.0   \n",
       "\n",
       "     충북 누적  충남 누적  전북 누적  전남 누적  경북 누적  경남 누적  제주 누적  검역 누적  지역 모름 누적  총누적확진자  \n",
       "0      0.0    0.0    0.0    0.0    0.0    0.0    0.0    0.0       1.0     1.0  \n",
       "1      0.0    0.0    0.0    0.0    0.0    0.0    0.0    0.0       0.0     0.0  \n",
       "2      0.0    0.0    0.0    0.0    0.0    0.0    0.0    0.0       1.0     1.0  \n",
       "3      0.0    0.0    0.0    0.0    0.0    0.0    0.0    0.0       1.0     1.0  \n",
       "4      0.0    0.0    0.0    0.0    0.0    0.0    0.0    0.0       0.0     0.0  \n",
       "..     ...    ...    ...    ...    ...    ...    ...    ...       ...     ...  \n",
       "177    0.0    0.0    0.0    1.0    0.0    0.0    0.0   10.0       0.0    14.0  \n",
       "178    0.0    0.0    0.0    0.0    0.0    0.0    1.0   18.0       0.0    38.0  \n",
       "179    0.0    0.0    0.0    0.0    0.0    0.0    0.0   19.0       0.0    48.0  \n",
       "180    0.0    0.0    0.0    0.0    0.0    0.0    0.0    5.0       0.0    44.0  \n",
       "181    0.0    0.0    0.0    0.0    0.0    0.0    0.0    3.0       0.0    31.0  \n",
       "\n",
       "[182 rows x 20 columns]"
      ]
     },
     "execution_count": 24,
     "metadata": {},
     "output_type": "execute_result"
    }
   ],
   "source": [
    "covid_daily"
   ]
  },
  {
   "cell_type": "code",
   "execution_count": 11,
   "metadata": {
    "ExecuteTime": {
     "end_time": "2020-09-03T12:02:11.307513Z",
     "start_time": "2020-09-03T12:02:11.302526Z"
    }
   },
   "outputs": [],
   "source": [
    "covid_daily = pd.concat([covid_df[['날짜']],covid_daily], axis=1)"
   ]
  },
  {
   "cell_type": "code",
   "execution_count": 33,
   "metadata": {
    "ExecuteTime": {
     "end_time": "2020-09-03T12:12:15.098129Z",
     "start_time": "2020-09-03T12:12:14.936562Z"
    }
   },
   "outputs": [
    {
     "data": {
      "text/plain": [
       "<matplotlib.axes._subplots.AxesSubplot at 0x295167104e0>"
      ]
     },
     "execution_count": 33,
     "metadata": {},
     "output_type": "execute_result"
    },
    {
     "data": {
      "image/png": "[encoded data removed]",
      "text/plain": [
       "<Figure size 864x288 with 1 Axes>"
      ]
     },
     "metadata": {
      "needs_background": "light"
     },
     "output_type": "display_data"
    }
   ],
   "source": [
    "covid_daily.iloc[:,:-1].sum(axis=1).plot(figsize=(12,4))"
   ]
  },
  {
   "cell_type": "code",
   "execution_count": 32,
   "metadata": {
    "ExecuteTime": {
     "end_time": "2020-08-04T09:21:24.895334Z",
     "start_time": "2020-08-04T09:21:24.879314Z"
    }
   },
   "outputs": [],
   "source": [
    "file_name = \"covid19_일별확진자.csv\"\n",
    "covid_daily.to_csv(os.path.join(csv_file_path, file_name), index=False, encoding='utf-8')"
   ]
  },
  {
   "cell_type": "code",
   "execution_count": null,
   "metadata": {},
   "outputs": [],
   "source": []
  },
  {
   "cell_type": "code",
   "execution_count": 19,
   "metadata": {
    "ExecuteTime": {
     "end_time": "2020-09-03T12:07:35.577923Z",
     "start_time": "2020-09-03T12:07:34.521754Z"
    }
   },
   "outputs": [
    {
     "name": "stderr",
     "output_type": "stream",
     "text": [
      "c:\\python37\\lib\\site-packages\\ipykernel_launcher.py:23: FutureWarning: Series.dt.weekofyear and Series.dt.week have been deprecated.  Please use Series.dt.isocalendar().week instead.\n",
      "c:\\python37\\lib\\site-packages\\ipykernel_launcher.py:29: FutureWarning: Series.dt.weekofyear and Series.dt.week have been deprecated.  Please use Series.dt.isocalendar().week instead.\n"
     ]
    }
   ],
   "source": [
    "folder_path = os.path.join(raw_file_path, raw_file_folders[0])\n",
    "file_names = [file_name for file_name in os.listdir(folder_path) if file_name.split(sep='.')[-1]=='CSV']\n",
    "# SK 유동인구\n",
    "df_list = []\n",
    "\n",
    "for file_name in file_names:\n",
    "    file_path = os.path.join(folder_path, file_name)\n",
    "    df = pd.read_csv(file_path, sep='|')\n",
    "    df_list.append(df)\n",
    "\n",
    "flow_age = pd.concat(df_list[:8]).reset_index(drop=True)\n",
    "flow_time = pd.concat(df_list[8:]).reset_index(drop=True)\n",
    "\n",
    "melted_flow_age = flow_age.melt(id_vars=['STD_YM','STD_YMD','HDONG_CD','HDONG_NM'], var_name='age', value_name='flow_counts').\\\n",
    "        sort_values(by=['HDONG_CD','STD_YMD','age']).\\\n",
    "        reset_index(drop=True)\n",
    "\n",
    "melted_flow_time = flow_time.melt(id_vars=['STD_YM','STD_YMD','HDONG_CD','HDONG_NM'], var_name='time', value_name='flow_counts').\\\n",
    "        sort_values(by=['HDONG_CD','STD_YMD','time']).\\\n",
    "        reset_index(drop=True)\n",
    "\n",
    "melted_flow_age['STD_YMD'] = pd.to_datetime(melted_flow_age.STD_YMD, format='%Y%m%d')\n",
    "melted_flow_time['STD_YMD'] = pd.to_datetime(melted_flow_time.STD_YMD, format='%Y%m%d')\n",
    "\n",
    "melted_flow_age['year'] = melted_flow_age.STD_YMD.dt.year.values\n",
    "melted_flow_age['month'] = melted_flow_age.STD_YMD.dt.month.values\n",
    "melted_flow_age['weekofyear'] = melted_flow_age.STD_YMD.dt.weekofyear.values\n",
    "melted_flow_age['dayofweek'] = melted_flow_age.STD_YMD.dt.dayofweek.values\n",
    "melted_flow_age['weekday'] = np.where(melted_flow_age.dayofweek<5,\"평일\",'주말')\n",
    "\n",
    "melted_flow_time['year'] = melted_flow_time.STD_YMD.dt.year.values\n",
    "melted_flow_time['month'] = melted_flow_time.STD_YMD.dt.month.values\n",
    "melted_flow_time['weekofyear'] = melted_flow_time.STD_YMD.dt.weekofyear.values\n",
    "melted_flow_time['dayofweek'] = melted_flow_time.STD_YMD.dt.dayofweek.values\n",
    "melted_flow_time['weekday'] = np.where(melted_flow_time.dayofweek<5,\"평일\",'주말')"
   ]
  },
  {
   "cell_type": "code",
   "execution_count": 35,
   "metadata": {
    "ExecuteTime": {
     "end_time": "2020-09-03T12:12:56.935905Z",
     "start_time": "2020-09-03T12:12:56.811239Z"
    }
   },
   "outputs": [
    {
     "data": {
      "text/plain": [
       "<matplotlib.axes._subplots.AxesSubplot at 0x29516736940>"
      ]
     },
     "execution_count": 35,
     "metadata": {},
     "output_type": "execute_result"
    },
    {
     "data": {
      "image/png": "[encoded data removed]",
      "text/plain": [
       "<Figure size 864x288 with 1 Axes>"
      ]
     },
     "metadata": {
      "needs_background": "light"
     },
     "output_type": "display_data"
    }
   ],
   "source": [
    "covid_daily.iloc[:,:-1].sum(axis=1)[8:129].plot(figsize=(12,4))"
   ]
  },
  {
   "cell_type": "code",
   "execution_count": 45,
   "metadata": {
    "ExecuteTime": {
     "end_time": "2020-09-03T12:16:16.909292Z",
     "start_time": "2020-09-03T12:16:16.902279Z"
    }
   },
   "outputs": [
    {
     "data": {
      "text/plain": [
       "0       1.0\n",
       "1       0.0\n",
       "2       1.0\n",
       "3       1.0\n",
       "4       0.0\n",
       "       ... \n",
       "177    14.0\n",
       "178    38.0\n",
       "179    48.0\n",
       "180    44.0\n",
       "181    31.0\n",
       "Length: 182, dtype: float64"
      ]
     },
     "execution_count": 45,
     "metadata": {},
     "output_type": "execute_result"
    }
   ],
   "source": [
    "covid_daily.iloc[:,:-1].sum(axis=1)"
   ]
  },
  {
   "cell_type": "code",
   "execution_count": 52,
   "metadata": {
    "ExecuteTime": {
     "end_time": "2020-09-03T12:17:19.822763Z",
     "start_time": "2020-09-03T12:17:19.816779Z"
    }
   },
   "outputs": [],
   "source": [
    "covid_daily.iloc[0,0]=pd.to_datetime(covid_daily.iloc[0,0])"
   ]
  },
  {
   "cell_type": "code",
   "execution_count": 55,
   "metadata": {
    "ExecuteTime": {
     "end_time": "2020-09-03T12:17:48.552899Z",
     "start_time": "2020-09-03T12:17:48.548920Z"
    }
   },
   "outputs": [],
   "source": [
    "covid_daily['날짜'] = pd.to_datetime(covid_daily['날짜'])"
   ]
  },
  {
   "cell_type": "code",
   "execution_count": 71,
   "metadata": {
    "ExecuteTime": {
     "end_time": "2020-09-03T12:31:28.365645Z",
     "start_time": "2020-09-03T12:31:28.205042Z"
    }
   },
   "outputs": [
    {
     "data": {
      "text/plain": [
       "<matplotlib.axes._subplots.AxesSubplot at 0x2951bdfa978>"
      ]
     },
     "execution_count": 71,
     "metadata": {},
     "output_type": "execute_result"
    },
    {
     "data": {
      "image/png": "[encoded data removed]",
      "text/plain": [
       "<Figure size 864x288 with 1 Axes>"
      ]
     },
     "metadata": {
      "needs_background": "light"
     },
     "output_type": "display_data"
    }
   ],
   "source": [
    "covid_daily.set_index('날짜').iloc[:,:-1].sum(axis=1)[8:129].plot(figsize=(12,4))"
   ]
  },
  {
   "cell_type": "code",
   "execution_count": 85,
   "metadata": {
    "ExecuteTime": {
     "end_time": "2020-09-03T12:41:35.784174Z",
     "start_time": "2020-09-03T12:41:35.528341Z"
    }
   },
   "outputs": [
    {
     "data": {
      "image/png": "[encoded data removed]",
      "text/plain": [
       "<Figure size 864x288 with 2 Axes>"
      ]
     },
     "metadata": {
      "needs_background": "light"
     },
     "output_type": "display_data"
    }
   ],
   "source": [
    "fig, ax = plt.subplots(figsize=(12,4))\n",
    "melted_flow_time.query('year==2020').groupby(['STD_YMD']).flow_counts.sum().rolling(window=7).mean().plot(ax=ax)\n",
    "\n",
    "g = ax.twinx()\n",
    "g = (covid_daily.set_index('날짜').iloc[:,:-1].sum(axis=1).rolling(window=7).mean()[8:129] - covid_daily.set_index('날짜').iloc[:,:-1].sum(axis=1).rolling(window=7).mean()[8:129].shift()).plot(color='red')"
   ]
  },
  {
   "cell_type": "code",
   "execution_count": 69,
   "metadata": {
    "ExecuteTime": {
     "end_time": "2020-09-03T12:20:49.987306Z",
     "start_time": "2020-09-03T12:20:49.718022Z"
    }
   },
   "outputs": [
    {
     "data": {
      "image/png": "[encoded data removed]",
      "text/plain": [
       "<Figure size 864x288 with 2 Axes>"
      ]
     },
     "metadata": {
      "needs_background": "light"
     },
     "output_type": "display_data"
    }
   ],
   "source": [
    "fig, ax = plt.subplots(figsize=(12,4))\n",
    "melted_flow_time.query('year==2020').groupby(['STD_YMD']).flow_counts.sum().rolling(window=7).mean().plot(ax=ax)\n",
    "\n",
    "g = ax.twinx()\n",
    "g = covid_daily.set_index('날짜').iloc[:,:-1].sum(axis=1).ewm(com=5).mean()[8:129].plot(color='red')"
   ]
  },
  {
   "cell_type": "code",
   "execution_count": 66,
   "metadata": {
    "ExecuteTime": {
     "end_time": "2020-09-03T12:20:18.156314Z",
     "start_time": "2020-09-03T12:20:18.149334Z"
    }
   },
   "outputs": [
    {
     "data": {
      "text/plain": [
       "날짜\n",
       "2020-02-01     1.555644\n",
       "2020-02-02     1.842737\n",
       "2020-02-03     1.487851\n",
       "2020-02-04     1.396271\n",
       "2020-02-05     1.691117\n",
       "                ...    \n",
       "2020-05-27    32.501059\n",
       "2020-05-28    36.750883\n",
       "2020-05-29    37.125736\n",
       "2020-05-30    35.438113\n",
       "2020-05-31    35.365094\n",
       "Length: 121, dtype: float64"
      ]
     },
     "execution_count": 66,
     "metadata": {},
     "output_type": "execute_result"
    }
   ],
   "source": [
    "covid_daily.set_index('날짜').iloc[:,:-1].sum(axis=1).ewm(com=5).mean()[8:129]"
   ]
  },
  {
   "cell_type": "code",
   "execution_count": 92,
   "metadata": {
    "ExecuteTime": {
     "end_time": "2020-09-03T12:59:48.072389Z",
     "start_time": "2020-09-03T12:59:48.067401Z"
    }
   },
   "outputs": [],
   "source": [
    "x1=covid_daily.set_index('날짜').iloc[:,:-1].sum(axis=1)[8:129]"
   ]
  },
  {
   "cell_type": "code",
   "execution_count": 87,
   "metadata": {
    "ExecuteTime": {
     "end_time": "2020-09-03T12:59:14.169627Z",
     "start_time": "2020-09-03T12:59:14.159645Z"
    }
   },
   "outputs": [],
   "source": [
    "x2=covid_daily.set_index('날짜').iloc[:,:-1].sum(axis=1).rolling(window=7).mean()[8:129] - covid_daily.set_index('날짜').iloc[:,:-1].sum(axis=1).rolling(window=7).mean()[8:129].shift()"
   ]
  },
  {
   "cell_type": "code",
   "execution_count": 89,
   "metadata": {
    "ExecuteTime": {
     "end_time": "2020-09-03T12:59:29.704741Z",
     "start_time": "2020-09-03T12:59:29.662842Z"
    }
   },
   "outputs": [],
   "source": [
    "y=melted_flow_time.query('year==2020').groupby(['STD_YMD']).flow_counts.sum().rolling(window=7).mean()"
   ]
  },
  {
   "cell_type": "code",
   "execution_count": 96,
   "metadata": {
    "ExecuteTime": {
     "end_time": "2020-09-03T13:00:16.017231Z",
     "start_time": "2020-09-03T13:00:16.013212Z"
    }
   },
   "outputs": [],
   "source": [
    "x1=x1[7:]\n",
    "x2=x2[7:]\n",
    "y=y[7:]"
   ]
  },
  {
   "cell_type": "code",
   "execution_count": 99,
   "metadata": {
    "ExecuteTime": {
     "end_time": "2020-09-03T13:01:26.583617Z",
     "start_time": "2020-09-03T13:01:25.832323Z"
    }
   },
   "outputs": [],
   "source": [
    "import statsmodels.api as sm"
   ]
  },
  {
   "cell_type": "code",
   "execution_count": 134,
   "metadata": {
    "ExecuteTime": {
     "end_time": "2020-09-03T13:13:08.690877Z",
     "start_time": "2020-09-03T13:13:08.687885Z"
    }
   },
   "outputs": [],
   "source": [
    "train_X = pd.DataFrame({'x1':x1,'x2':x2})"
   ]
  },
  {
   "cell_type": "code",
   "execution_count": 135,
   "metadata": {
    "ExecuteTime": {
     "end_time": "2020-09-03T13:13:09.144121Z",
     "start_time": "2020-09-03T13:13:09.139896Z"
    }
   },
   "outputs": [],
   "source": [
    "label = pd.DataFrame({'y':y})"
   ]
  },
  {
   "cell_type": "code",
   "execution_count": 108,
   "metadata": {
    "ExecuteTime": {
     "end_time": "2020-09-03T13:04:12.130898Z",
     "start_time": "2020-09-03T13:04:12.126908Z"
    }
   },
   "outputs": [],
   "source": [
    "\"\"\"model = sm.OLS(label, train_X)\n",
    "\n",
    "result = model.fit()\n",
    "print(result.summary())\"\"\""
   ]
  },
  {
   "cell_type": "code",
   "execution_count": 158,
   "metadata": {
    "ExecuteTime": {
     "end_time": "2020-09-03T13:15:45.862606Z",
     "start_time": "2020-09-03T13:15:45.853669Z"
    }
   },
   "outputs": [
    {
     "data": {
      "text/plain": [
       "LinearRegression(copy_X=True, fit_intercept=True, n_jobs=None, normalize=False)"
      ]
     },
     "execution_count": 158,
     "metadata": {},
     "output_type": "execute_result"
    }
   ],
   "source": [
    "from sklearn.linear_model import LinearRegression\n",
    "\n",
    "mlr = LinearRegression()\n",
    "mlr.fit(train_X, label) "
   ]
  },
  {
   "cell_type": "code",
   "execution_count": 136,
   "metadata": {
    "ExecuteTime": {
     "end_time": "2020-09-03T13:13:10.715978Z",
     "start_time": "2020-09-03T13:13:10.712987Z"
    }
   },
   "outputs": [
    {
     "name": "stdout",
     "output_type": "stream",
     "text": [
      "[[    0.         -2189.03548235  7801.01593124]] [4647211.01144145]\n"
     ]
    }
   ],
   "source": [
    "print(mlr.coef_, mlr.intercept_)"
   ]
  },
  {
   "cell_type": "code",
   "execution_count": 159,
   "metadata": {
    "ExecuteTime": {
     "end_time": "2020-09-03T13:15:48.787197Z",
     "start_time": "2020-09-03T13:15:48.780218Z"
    }
   },
   "outputs": [
    {
     "data": {
      "text/plain": [
       "array([[4646096.58059413]])"
      ]
     },
     "execution_count": 159,
     "metadata": {},
     "output_type": "execute_result"
    }
   ],
   "source": [
    "mlr.predict(train_X.values[0].reshape(1,-1))"
   ]
  },
  {
   "cell_type": "code",
   "execution_count": 177,
   "metadata": {
    "ExecuteTime": {
     "end_time": "2020-09-03T13:17:59.498761Z",
     "start_time": "2020-09-03T13:17:59.367114Z"
    }
   },
   "outputs": [
    {
     "data": {
      "text/plain": [
       "<matplotlib.axes._subplots.AxesSubplot at 0x2951fdd65f8>"
      ]
     },
     "execution_count": 177,
     "metadata": {},
     "output_type": "execute_result"
    },
    {
     "data": {
      "image/png": "[encoded data removed]",
      "text/plain": [
       "<Figure size 864x288 with 1 Axes>"
      ]
     },
     "metadata": {
      "needs_background": "light"
     },
     "output_type": "display_data"
    }
   ],
   "source": [
    "pd.Series(mlr.predict(train_X.values.reshape(114,2)).reshape(114,)).plot(figsize=(12,4))"
   ]
  },
  {
   "cell_type": "code",
   "execution_count": 181,
   "metadata": {
    "ExecuteTime": {
     "end_time": "2020-09-03T13:18:38.112609Z",
     "start_time": "2020-09-03T13:18:37.937081Z"
    }
   },
   "outputs": [
    {
     "data": {
      "text/plain": [
       "<matplotlib.axes._subplots.AxesSubplot at 0x2951ffe3710>"
      ]
     },
     "execution_count": 181,
     "metadata": {},
     "output_type": "execute_result"
    },
    {
     "data": {
      "image/png": "[encoded data removed]",
      "text/plain": [
       "<Figure size 864x288 with 1 Axes>"
      ]
     },
     "metadata": {
      "needs_background": "light"
     },
     "output_type": "display_data"
    }
   ],
   "source": [
    "melted_flow_time.query('year==2020').groupby(['STD_YMD']).flow_counts.sum().rolling(window=7).mean().plot(figsize=(12,4))"
   ]
  },
  {
   "cell_type": "code",
   "execution_count": null,
   "metadata": {},
   "outputs": [],
   "source": []
  }
 ],
 "metadata": {
  "kernelspec": {
   "display_name": "Python 3",
   "language": "python",
   "name": "python3"
  },
  "language_info": {
   "codemirror_mode": {
    "name": "ipython",
    "version": 3
   },
   "file_extension": ".py",
   "mimetype": "text/x-python",
   "name": "python",
   "nbconvert_exporter": "python",
   "pygments_lexer": "ipython3",
   "version": "3.7.2"
  },
  "toc": {
   "base_numbering": 1,
   "nav_menu": {},
   "number_sections": true,
   "sideBar": true,
   "skip_h1_title": false,
   "title_cell": "Table of Contents",
   "title_sidebar": "Contents",
   "toc_cell": false,
   "toc_position": {},
   "toc_section_display": true,
   "toc_window_display": false
  },
  "varInspector": {
   "cols": {
    "lenName": 16,
    "lenType": 16,
    "lenVar": 40
   },
   "kernels_config": {
    "python": {
     "delete_cmd_postfix": "",
     "delete_cmd_prefix": "del ",
     "library": "var_list.py",
     "varRefreshCmd": "print(var_dic_list())"
    },
    "r": {
     "delete_cmd_postfix": ") ",
     "delete_cmd_prefix": "rm(",
     "library": "var_list.r",
     "varRefreshCmd": "cat(var_dic_list()) "
    }
   },
   "types_to_exclude": [
    "module",
    "function",
    "builtin_function_or_method",
    "instance",
    "_Feature"
   ],
   "window_display": false
  }
 },
 "nbformat": 4,
 "nbformat_minor": 2
}
