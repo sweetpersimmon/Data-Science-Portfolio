{
 "cells": [
  {
   "cell_type": "code",
   "execution_count": 1,
   "metadata": {},
   "outputs": [],
   "source": [
    "import pandas as pd"
   ]
  },
  {
   "cell_type": "code",
   "execution_count": 2,
   "metadata": {},
   "outputs": [],
   "source": [
    "card_resident_path = '../data/original_data/raw_data/02_카드매출데이터(신한카드)/CARD_SPENDING_RESIDENT/CARD_SPENDING_RESIDENT.txt'\n",
    "card_define_path   = '../data/original_data/raw_data/02_카드매출데이터(신한카드)/02_혁신아이디어분야_카드소비데이터(신한카드)_데이터정의서.xlsx'"
   ]
  },
  {
   "cell_type": "code",
   "execution_count": 3,
   "metadata": {},
   "outputs": [],
   "source": [
    "# raw card data\n",
    "card = pd.read_table(card_resident_path)"
   ]
  },
  {
   "cell_type": "code",
   "execution_count": 4,
   "metadata": {},
   "outputs": [],
   "source": [
    "# 행정동 코드를 한글으로 바꾸기 위한 딕셔너리 생성\n",
    "region_code = pd.read_excel(card_define_path, sheet_name=1, skiprows=1, usecols=\"B,C,D,E\")\n",
    "region_code['행정동코드'] = region_code['구코드']*1000+region_code[\"행정동코드\"]\n",
    "\n",
    "gu_num_to_kor = {}\n",
    "dong_num_to_kor = {}\n",
    "\n",
    "for code, name in region_code[['구코드', '구명']].values:\n",
    "    gu_num_to_kor[code] = name\n",
    "    \n",
    "for code, name in region_code[['행정동코드', '행정동명']].values:\n",
    "    dong_num_to_kor[code] = name"
   ]
  },
  {
   "cell_type": "code",
   "execution_count": 5,
   "metadata": {},
   "outputs": [],
   "source": [
    "# 카테고리 코드를 한글로 바꾸기 위한 딕셔너리 생성\n",
    "cat_num_to_kor =  {\n",
    "    10 : '숙박',\n",
    "    20 : '레저용품',\n",
    "    21 : '레저업소',\n",
    "    22 : '문화취미',\n",
    "    30 : '가구',\n",
    "    31 : '전기',\n",
    "    32 : '주방용구',\n",
    "    33 : '연료판매',\n",
    "    34 : '광학제품',\n",
    "    35 : '가전',\n",
    "    40 : '유통업',\n",
    "    42 : '의복',\n",
    "    43 : '직물',\n",
    "    44 : '신변잡화',\n",
    "    50 : '서적문구',\n",
    "    52 : '사무통신',\n",
    "    60 : '자동차판매',\n",
    "    62 : '자동차 정비',\n",
    "    70 : '의료기관',\n",
    "    71 : '보건위생',\n",
    "    80 : '요식업소',\n",
    "    81 : '음료식품',\n",
    "    92 : '수리서비스'\n",
    "}"
   ]
  },
  {
   "cell_type": "code",
   "execution_count": 6,
   "metadata": {},
   "outputs": [],
   "source": [
    "# 구, 동, 카테고리 코드를 한글로 변경\n",
    "card['DONG_CD'] = card['GU_CD']*1000 + card['DONG_CD']\n",
    "card['GU_CD'] = card['GU_CD'].apply(lambda x:gu_num_to_kor[x])\n",
    "card['DONG_CD'] = card['DONG_CD'].apply(lambda x:dong_num_to_kor[x])\n",
    "card['MCT_CAT_CD'] = card['MCT_CAT_CD'].apply(lambda x:cat_num_to_kor[x])"
   ]
  },
  {
   "cell_type": "code",
   "execution_count": 7,
   "metadata": {},
   "outputs": [],
   "source": [
    "# 년, 월, 일 정보 추출\n",
    "card['YEAR'] = pd.to_datetime(card['STD_DD'], format='%Y%m%d').dt.year\n",
    "card['MONTH'] = pd.to_datetime(card['STD_DD'], format='%Y%m%d').dt.month\n",
    "card['DAY'] = pd.to_datetime(card['STD_DD'], format='%Y%m%d').dt.day"
   ]
  },
  {
   "cell_type": "code",
   "execution_count": 8,
   "metadata": {},
   "outputs": [],
   "source": [
    "card.to_csv(\"../data/original_data/processed_data/CARD_SPENDING_RESIDENT_KOR.csv\", index=False)"
   ]
  }
 ],
 "metadata": {
  "kernelspec": {
   "display_name": "Python 3",
   "language": "python",
   "name": "python3"
  },
  "language_info": {
   "codemirror_mode": {
    "name": "ipython",
    "version": 3
   },
   "file_extension": ".py",
   "mimetype": "text/x-python",
   "name": "python",
   "nbconvert_exporter": "python",
   "pygments_lexer": "ipython3",
   "version": "3.7.6"
  },
  "toc": {
   "base_numbering": 1,
   "nav_menu": {},
   "number_sections": true,
   "sideBar": true,
   "skip_h1_title": false,
   "title_cell": "Table of Contents",
   "title_sidebar": "Contents",
   "toc_cell": false,
   "toc_position": {},
   "toc_section_display": true,
   "toc_window_display": false
  }
 },
 "nbformat": 4,
 "nbformat_minor": 4
}
