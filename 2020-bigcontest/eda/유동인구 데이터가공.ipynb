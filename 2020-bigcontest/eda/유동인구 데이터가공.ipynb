{
 "cells": [
  {
   "cell_type": "code",
   "execution_count": 1,
   "metadata": {
    "ExecuteTime": {
     "end_time": "2020-09-26T10:55:17.524528Z",
     "start_time": "2020-09-26T10:55:16.127300Z"
    }
   },
   "outputs": [],
   "source": [
    "import pandas as pd\n",
    "import numpy as np\n",
    "import os"
   ]
  },
  {
   "cell_type": "code",
   "execution_count": 2,
   "metadata": {
    "ExecuteTime": {
     "end_time": "2020-09-26T10:55:17.551753Z",
     "start_time": "2020-09-26T10:55:17.526562Z"
    }
   },
   "outputs": [],
   "source": [
    "os.chdir(\"../\")\n",
    "root_path = os.getcwd()\n",
    "\n",
    "# 따옴표 안에 데이터가 있는 폴더의 상위폴더\n",
    "data_folder_path = os.path.join(root_path, 'data')\n",
    "original_file_path = os.path.join(data_folder_path, 'original_data')\n",
    "original_raw_file_path = os.path.join(original_file_path,'raw_data')\n",
    "original_processed_file_path = os.path.join(original_file_path,'processed_data')\n",
    "\n",
    "external_file_path = os.path.join(data_folder_path,'external_data')\n",
    "external_raw_file_path = os.path.join(external_file_path,'raw_data')\n",
    "external_processed_file_path = os.path.join(external_file_path,'processed_data')"
   ]
  },
  {
   "cell_type": "code",
   "execution_count": 3,
   "metadata": {
    "ExecuteTime": {
     "end_time": "2020-09-26T10:55:21.072456Z",
     "start_time": "2020-09-26T10:55:18.177483Z"
    }
   },
   "outputs": [],
   "source": [
    "skflow = pd.read_csv(os.path.join(original_processed_file_path,'SK_melted_flow_age.csv'))\n",
    "skflow['variable'] = skflow['age'].str[-4:].str.replace('_', \"\")"
   ]
  },
  {
   "cell_type": "code",
   "execution_count": 4,
   "metadata": {
    "ExecuteTime": {
     "end_time": "2020-09-21T16:06:44.470400Z",
     "start_time": "2020-09-21T16:06:44.427192Z"
    }
   },
   "outputs": [],
   "source": [
    "skflow['weekday'] = np.where(skflow['weekday'] == '평일',0,1)"
   ]
  },
  {
   "cell_type": "code",
   "execution_count": 5,
   "metadata": {
    "ExecuteTime": {
     "end_time": "2020-09-21T16:06:45.221794Z",
     "start_time": "2020-09-21T16:06:44.673745Z"
    }
   },
   "outputs": [],
   "source": [
    "skflow['variable'] = np.where((skflow['variable'] == '6064') | (skflow['variable'] == '6569') | (skflow['variable'] == '70U'),'60U',skflow['variable'])\n",
    "\n",
    "skflow['variable'] = np.where((skflow['variable'] == '0004') | (skflow['variable'] == '0509') | (skflow['variable'] == '1014') | (skflow['variable'] == '1519') | (skflow['variable'] == '2024') | (skflow['variable'] == '2529'), '30L', skflow['variable'])\n",
    "\n",
    "skflow['variable'] = np.where((skflow['variable'] == '0004') | (skflow['variable'] == '0509') | (skflow['variable'] == '3034') | (skflow['variable'] == '3539') | (skflow['variable'] == '4044') | (skflow['variable'] == '4549') | (skflow['variable'] == '5054') | (skflow['variable'] == '5559'), '3059', skflow['variable'])"
   ]
  },
  {
   "cell_type": "code",
   "execution_count": 6,
   "metadata": {
    "ExecuteTime": {
     "end_time": "2020-09-21T16:06:45.350331Z",
     "start_time": "2020-09-21T16:06:45.311848Z"
    }
   },
   "outputs": [
    {
     "data": {
      "text/html": [
       "<div>\n",
       "<style scoped>\n",
       "    .dataframe tbody tr th:only-of-type {\n",
       "        vertical-align: middle;\n",
       "    }\n",
       "\n",
       "    .dataframe tbody tr th {\n",
       "        vertical-align: top;\n",
       "    }\n",
       "\n",
       "    .dataframe thead th {\n",
       "        text-align: right;\n",
       "    }\n",
       "</style>\n",
       "<table border=\"1\" class=\"dataframe\">\n",
       "  <thead>\n",
       "    <tr style=\"text-align: right;\">\n",
       "      <th></th>\n",
       "      <th>STD_YM</th>\n",
       "      <th>STD_YMD</th>\n",
       "      <th>HDONG_CD</th>\n",
       "      <th>HDONG_NM</th>\n",
       "      <th>age</th>\n",
       "      <th>flow_counts</th>\n",
       "      <th>year</th>\n",
       "      <th>month</th>\n",
       "      <th>weekofyear</th>\n",
       "      <th>dayofweek</th>\n",
       "      <th>weekday</th>\n",
       "      <th>variable</th>\n",
       "    </tr>\n",
       "  </thead>\n",
       "  <tbody>\n",
       "    <tr>\n",
       "      <th>0</th>\n",
       "      <td>201902</td>\n",
       "      <td>2019-02-01</td>\n",
       "      <td>1114052000</td>\n",
       "      <td>소공동</td>\n",
       "      <td>MAN_FLOW_POP_CNT_0004</td>\n",
       "      <td>16.64</td>\n",
       "      <td>2019</td>\n",
       "      <td>2</td>\n",
       "      <td>5</td>\n",
       "      <td>4</td>\n",
       "      <td>0</td>\n",
       "      <td>30L</td>\n",
       "    </tr>\n",
       "    <tr>\n",
       "      <th>1</th>\n",
       "      <td>201902</td>\n",
       "      <td>2019-02-01</td>\n",
       "      <td>1114052000</td>\n",
       "      <td>소공동</td>\n",
       "      <td>MAN_FLOW_POP_CNT_0509</td>\n",
       "      <td>116.18</td>\n",
       "      <td>2019</td>\n",
       "      <td>2</td>\n",
       "      <td>5</td>\n",
       "      <td>4</td>\n",
       "      <td>0</td>\n",
       "      <td>30L</td>\n",
       "    </tr>\n",
       "    <tr>\n",
       "      <th>2</th>\n",
       "      <td>201902</td>\n",
       "      <td>2019-02-01</td>\n",
       "      <td>1114052000</td>\n",
       "      <td>소공동</td>\n",
       "      <td>MAN_FLOW_POP_CNT_1014</td>\n",
       "      <td>419.70</td>\n",
       "      <td>2019</td>\n",
       "      <td>2</td>\n",
       "      <td>5</td>\n",
       "      <td>4</td>\n",
       "      <td>0</td>\n",
       "      <td>30L</td>\n",
       "    </tr>\n",
       "    <tr>\n",
       "      <th>3</th>\n",
       "      <td>201902</td>\n",
       "      <td>2019-02-01</td>\n",
       "      <td>1114052000</td>\n",
       "      <td>소공동</td>\n",
       "      <td>MAN_FLOW_POP_CNT_1519</td>\n",
       "      <td>1553.57</td>\n",
       "      <td>2019</td>\n",
       "      <td>2</td>\n",
       "      <td>5</td>\n",
       "      <td>4</td>\n",
       "      <td>0</td>\n",
       "      <td>30L</td>\n",
       "    </tr>\n",
       "    <tr>\n",
       "      <th>4</th>\n",
       "      <td>201902</td>\n",
       "      <td>2019-02-01</td>\n",
       "      <td>1114052000</td>\n",
       "      <td>소공동</td>\n",
       "      <td>MAN_FLOW_POP_CNT_2024</td>\n",
       "      <td>5196.07</td>\n",
       "      <td>2019</td>\n",
       "      <td>2</td>\n",
       "      <td>5</td>\n",
       "      <td>4</td>\n",
       "      <td>0</td>\n",
       "      <td>30L</td>\n",
       "    </tr>\n",
       "    <tr>\n",
       "      <th>...</th>\n",
       "      <td>...</td>\n",
       "      <td>...</td>\n",
       "      <td>...</td>\n",
       "      <td>...</td>\n",
       "      <td>...</td>\n",
       "      <td>...</td>\n",
       "      <td>...</td>\n",
       "      <td>...</td>\n",
       "      <td>...</td>\n",
       "      <td>...</td>\n",
       "      <td>...</td>\n",
       "      <td>...</td>\n",
       "    </tr>\n",
       "    <tr>\n",
       "      <th>498865</th>\n",
       "      <td>202005</td>\n",
       "      <td>2020-05-31</td>\n",
       "      <td>2726069000</td>\n",
       "      <td>고산3동</td>\n",
       "      <td>WMAN_FLOW_POP_CNT_5054</td>\n",
       "      <td>2544.62</td>\n",
       "      <td>2020</td>\n",
       "      <td>5</td>\n",
       "      <td>22</td>\n",
       "      <td>6</td>\n",
       "      <td>1</td>\n",
       "      <td>3059</td>\n",
       "    </tr>\n",
       "    <tr>\n",
       "      <th>498866</th>\n",
       "      <td>202005</td>\n",
       "      <td>2020-05-31</td>\n",
       "      <td>2726069000</td>\n",
       "      <td>고산3동</td>\n",
       "      <td>WMAN_FLOW_POP_CNT_5559</td>\n",
       "      <td>2074.62</td>\n",
       "      <td>2020</td>\n",
       "      <td>5</td>\n",
       "      <td>22</td>\n",
       "      <td>6</td>\n",
       "      <td>1</td>\n",
       "      <td>3059</td>\n",
       "    </tr>\n",
       "    <tr>\n",
       "      <th>498867</th>\n",
       "      <td>202005</td>\n",
       "      <td>2020-05-31</td>\n",
       "      <td>2726069000</td>\n",
       "      <td>고산3동</td>\n",
       "      <td>WMAN_FLOW_POP_CNT_6064</td>\n",
       "      <td>1529.44</td>\n",
       "      <td>2020</td>\n",
       "      <td>5</td>\n",
       "      <td>22</td>\n",
       "      <td>6</td>\n",
       "      <td>1</td>\n",
       "      <td>60U</td>\n",
       "    </tr>\n",
       "    <tr>\n",
       "      <th>498868</th>\n",
       "      <td>202005</td>\n",
       "      <td>2020-05-31</td>\n",
       "      <td>2726069000</td>\n",
       "      <td>고산3동</td>\n",
       "      <td>WMAN_FLOW_POP_CNT_6569</td>\n",
       "      <td>1034.47</td>\n",
       "      <td>2020</td>\n",
       "      <td>5</td>\n",
       "      <td>22</td>\n",
       "      <td>6</td>\n",
       "      <td>1</td>\n",
       "      <td>60U</td>\n",
       "    </tr>\n",
       "    <tr>\n",
       "      <th>498869</th>\n",
       "      <td>202005</td>\n",
       "      <td>2020-05-31</td>\n",
       "      <td>2726069000</td>\n",
       "      <td>고산3동</td>\n",
       "      <td>WMAN_FLOW_POP_CNT_70U</td>\n",
       "      <td>1142.95</td>\n",
       "      <td>2020</td>\n",
       "      <td>5</td>\n",
       "      <td>22</td>\n",
       "      <td>6</td>\n",
       "      <td>1</td>\n",
       "      <td>60U</td>\n",
       "    </tr>\n",
       "  </tbody>\n",
       "</table>\n",
       "<p>498870 rows × 12 columns</p>\n",
       "</div>"
      ],
      "text/plain": [
       "        STD_YM     STD_YMD    HDONG_CD HDONG_NM                     age  \\\n",
       "0       201902  2019-02-01  1114052000      소공동   MAN_FLOW_POP_CNT_0004   \n",
       "1       201902  2019-02-01  1114052000      소공동   MAN_FLOW_POP_CNT_0509   \n",
       "2       201902  2019-02-01  1114052000      소공동   MAN_FLOW_POP_CNT_1014   \n",
       "3       201902  2019-02-01  1114052000      소공동   MAN_FLOW_POP_CNT_1519   \n",
       "4       201902  2019-02-01  1114052000      소공동   MAN_FLOW_POP_CNT_2024   \n",
       "...        ...         ...         ...      ...                     ...   \n",
       "498865  202005  2020-05-31  2726069000     고산3동  WMAN_FLOW_POP_CNT_5054   \n",
       "498866  202005  2020-05-31  2726069000     고산3동  WMAN_FLOW_POP_CNT_5559   \n",
       "498867  202005  2020-05-31  2726069000     고산3동  WMAN_FLOW_POP_CNT_6064   \n",
       "498868  202005  2020-05-31  2726069000     고산3동  WMAN_FLOW_POP_CNT_6569   \n",
       "498869  202005  2020-05-31  2726069000     고산3동   WMAN_FLOW_POP_CNT_70U   \n",
       "\n",
       "        flow_counts  year  month  weekofyear  dayofweek  weekday variable  \n",
       "0             16.64  2019      2           5          4        0      30L  \n",
       "1            116.18  2019      2           5          4        0      30L  \n",
       "2            419.70  2019      2           5          4        0      30L  \n",
       "3           1553.57  2019      2           5          4        0      30L  \n",
       "4           5196.07  2019      2           5          4        0      30L  \n",
       "...             ...   ...    ...         ...        ...      ...      ...  \n",
       "498865      2544.62  2020      5          22          6        1     3059  \n",
       "498866      2074.62  2020      5          22          6        1     3059  \n",
       "498867      1529.44  2020      5          22          6        1      60U  \n",
       "498868      1034.47  2020      5          22          6        1      60U  \n",
       "498869      1142.95  2020      5          22          6        1      60U  \n",
       "\n",
       "[498870 rows x 12 columns]"
      ]
     },
     "execution_count": 6,
     "metadata": {},
     "output_type": "execute_result"
    }
   ],
   "source": [
    "skflow"
   ]
  },
  {
   "cell_type": "code",
   "execution_count": 7,
   "metadata": {
    "ExecuteTime": {
     "end_time": "2020-09-21T16:06:47.503628Z",
     "start_time": "2020-09-21T16:06:46.927304Z"
    }
   },
   "outputs": [],
   "source": [
    "skflow['Covid_class'] = np.where(skflow['STD_YMD'].str[-5:]<='02-19', 'A', np.where(skflow['STD_YMD'].str[-5:]<='03-21', 'B',np.where(skflow['STD_YMD'].str[-5:]<='04-19', 'C',np.where(skflow['STD_YMD'].str[-5:]<='05-05', 'D','E'))))"
   ]
  },
  {
   "cell_type": "code",
   "execution_count": 9,
   "metadata": {
    "ExecuteTime": {
     "end_time": "2020-09-21T16:07:19.152649Z",
     "start_time": "2020-09-21T16:07:19.143671Z"
    }
   },
   "outputs": [],
   "source": [
    "adres_dict = pd.DataFrame(pd.read_pickle(os.path.join(original_processed_file_path,'card_code_to_name_dict.pickle'))).reset_index(drop=True)\n",
    "adres_dict = adres_dict.rename(columns={'행정동명':'HDNG_NM','구명':'CTGG_NM'})"
   ]
  },
  {
   "cell_type": "code",
   "execution_count": 10,
   "metadata": {
    "ExecuteTime": {
     "end_time": "2020-09-21T16:07:20.949080Z",
     "start_time": "2020-09-21T16:07:20.855016Z"
    }
   },
   "outputs": [],
   "source": [
    "skflow = skflow.rename(columns={'HDONG_NM':'HDNG_NM','weekday':'dayofweeks'})"
   ]
  },
  {
   "cell_type": "code",
   "execution_count": 11,
   "metadata": {
    "ExecuteTime": {
     "end_time": "2020-09-21T16:07:21.856927Z",
     "start_time": "2020-09-21T16:07:21.411561Z"
    }
   },
   "outputs": [],
   "source": [
    "final = pd.merge(skflow,adres_dict,on='HDNG_NM').groupby(['CTGG_NM','HDNG_NM','Covid_class','dayofweeks','variable'])['flow_counts'].mean().reset_index()\n",
    "final = final[final['CTGG_NM'].str.startswith('서울')].reset_index(drop=True)"
   ]
  },
  {
   "cell_type": "code",
   "execution_count": 12,
   "metadata": {
    "ExecuteTime": {
     "end_time": "2020-09-21T16:07:21.862143Z",
     "start_time": "2020-09-21T16:07:21.857889Z"
    }
   },
   "outputs": [],
   "source": [
    "final = final.rename(columns={'dayofweeks':'dayofweek'})"
   ]
  },
  {
   "cell_type": "code",
   "execution_count": 13,
   "metadata": {
    "ExecuteTime": {
     "end_time": "2020-09-21T16:07:23.103175Z",
     "start_time": "2020-09-21T16:07:23.087707Z"
    }
   },
   "outputs": [
    {
     "data": {
      "text/html": [
       "<div>\n",
       "<style scoped>\n",
       "    .dataframe tbody tr th:only-of-type {\n",
       "        vertical-align: middle;\n",
       "    }\n",
       "\n",
       "    .dataframe tbody tr th {\n",
       "        vertical-align: top;\n",
       "    }\n",
       "\n",
       "    .dataframe thead th {\n",
       "        text-align: right;\n",
       "    }\n",
       "</style>\n",
       "<table border=\"1\" class=\"dataframe\">\n",
       "  <thead>\n",
       "    <tr style=\"text-align: right;\">\n",
       "      <th></th>\n",
       "      <th>CTGG_NM</th>\n",
       "      <th>HDNG_NM</th>\n",
       "      <th>Covid_class</th>\n",
       "      <th>dayofweek</th>\n",
       "      <th>variable</th>\n",
       "      <th>flow_counts</th>\n",
       "    </tr>\n",
       "  </thead>\n",
       "  <tbody>\n",
       "    <tr>\n",
       "      <th>0</th>\n",
       "      <td>서울 노원구</td>\n",
       "      <td>공릉1동</td>\n",
       "      <td>A</td>\n",
       "      <td>0</td>\n",
       "      <td>3059</td>\n",
       "      <td>8308.832500</td>\n",
       "    </tr>\n",
       "    <tr>\n",
       "      <th>1</th>\n",
       "      <td>서울 노원구</td>\n",
       "      <td>공릉1동</td>\n",
       "      <td>A</td>\n",
       "      <td>0</td>\n",
       "      <td>30L</td>\n",
       "      <td>2574.804615</td>\n",
       "    </tr>\n",
       "    <tr>\n",
       "      <th>2</th>\n",
       "      <td>서울 노원구</td>\n",
       "      <td>공릉1동</td>\n",
       "      <td>A</td>\n",
       "      <td>0</td>\n",
       "      <td>60U</td>\n",
       "      <td>6182.445064</td>\n",
       "    </tr>\n",
       "    <tr>\n",
       "      <th>3</th>\n",
       "      <td>서울 노원구</td>\n",
       "      <td>공릉1동</td>\n",
       "      <td>A</td>\n",
       "      <td>1</td>\n",
       "      <td>3059</td>\n",
       "      <td>6794.205486</td>\n",
       "    </tr>\n",
       "    <tr>\n",
       "      <th>4</th>\n",
       "      <td>서울 노원구</td>\n",
       "      <td>공릉1동</td>\n",
       "      <td>A</td>\n",
       "      <td>1</td>\n",
       "      <td>30L</td>\n",
       "      <td>2364.847292</td>\n",
       "    </tr>\n",
       "    <tr>\n",
       "      <th>...</th>\n",
       "      <td>...</td>\n",
       "      <td>...</td>\n",
       "      <td>...</td>\n",
       "      <td>...</td>\n",
       "      <td>...</td>\n",
       "      <td>...</td>\n",
       "    </tr>\n",
       "    <tr>\n",
       "      <th>1015</th>\n",
       "      <td>서울 중구</td>\n",
       "      <td>회현동</td>\n",
       "      <td>E</td>\n",
       "      <td>0</td>\n",
       "      <td>30L</td>\n",
       "      <td>3645.005066</td>\n",
       "    </tr>\n",
       "    <tr>\n",
       "      <th>1016</th>\n",
       "      <td>서울 중구</td>\n",
       "      <td>회현동</td>\n",
       "      <td>E</td>\n",
       "      <td>0</td>\n",
       "      <td>60U</td>\n",
       "      <td>9988.302193</td>\n",
       "    </tr>\n",
       "    <tr>\n",
       "      <th>1017</th>\n",
       "      <td>서울 중구</td>\n",
       "      <td>회현동</td>\n",
       "      <td>E</td>\n",
       "      <td>1</td>\n",
       "      <td>3059</td>\n",
       "      <td>7359.796845</td>\n",
       "    </tr>\n",
       "    <tr>\n",
       "      <th>1018</th>\n",
       "      <td>서울 중구</td>\n",
       "      <td>회현동</td>\n",
       "      <td>E</td>\n",
       "      <td>1</td>\n",
       "      <td>30L</td>\n",
       "      <td>2969.959702</td>\n",
       "    </tr>\n",
       "    <tr>\n",
       "      <th>1019</th>\n",
       "      <td>서울 중구</td>\n",
       "      <td>회현동</td>\n",
       "      <td>E</td>\n",
       "      <td>1</td>\n",
       "      <td>60U</td>\n",
       "      <td>7037.859167</td>\n",
       "    </tr>\n",
       "  </tbody>\n",
       "</table>\n",
       "<p>1020 rows × 6 columns</p>\n",
       "</div>"
      ],
      "text/plain": [
       "     CTGG_NM HDNG_NM Covid_class  dayofweek variable  flow_counts\n",
       "0     서울 노원구    공릉1동           A          0     3059  8308.832500\n",
       "1     서울 노원구    공릉1동           A          0      30L  2574.804615\n",
       "2     서울 노원구    공릉1동           A          0      60U  6182.445064\n",
       "3     서울 노원구    공릉1동           A          1     3059  6794.205486\n",
       "4     서울 노원구    공릉1동           A          1      30L  2364.847292\n",
       "...      ...     ...         ...        ...      ...          ...\n",
       "1015   서울 중구     회현동           E          0      30L  3645.005066\n",
       "1016   서울 중구     회현동           E          0      60U  9988.302193\n",
       "1017   서울 중구     회현동           E          1     3059  7359.796845\n",
       "1018   서울 중구     회현동           E          1      30L  2969.959702\n",
       "1019   서울 중구     회현동           E          1      60U  7037.859167\n",
       "\n",
       "[1020 rows x 6 columns]"
      ]
     },
     "execution_count": 13,
     "metadata": {},
     "output_type": "execute_result"
    }
   ],
   "source": [
    "final"
   ]
  },
  {
   "cell_type": "code",
   "execution_count": 112,
   "metadata": {
    "ExecuteTime": {
     "end_time": "2020-09-17T12:09:26.166335Z",
     "start_time": "2020-09-17T12:09:26.153897Z"
    }
   },
   "outputs": [],
   "source": [
    "final.to_csv(os.path.join(original_processed_file_path,'CTGG_HDNG_POP.csv'),index=False)"
   ]
  }
 ],
 "metadata": {
  "kernelspec": {
   "display_name": "Python 3",
   "language": "python",
   "name": "python3"
  },
  "language_info": {
   "codemirror_mode": {
    "name": "ipython",
    "version": 3
   },
   "file_extension": ".py",
   "mimetype": "text/x-python",
   "name": "python",
   "nbconvert_exporter": "python",
   "pygments_lexer": "ipython3",
   "version": "3.7.7"
  },
  "toc": {
   "base_numbering": 1,
   "nav_menu": {},
   "number_sections": true,
   "sideBar": true,
   "skip_h1_title": false,
   "title_cell": "Table of Contents",
   "title_sidebar": "Contents",
   "toc_cell": false,
   "toc_position": {},
   "toc_section_display": true,
   "toc_window_display": false
  }
 },
 "nbformat": 4,
 "nbformat_minor": 4
}
